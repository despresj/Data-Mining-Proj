{
 "cells": [
  {
   "cell_type": "markdown",
   "id": "e0545e4f",
   "metadata": {},
   "source": [
    "# Modeling notebook"
   ]
  },
  {
   "cell_type": "code",
   "execution_count": 1,
   "id": "ad45d1e5",
   "metadata": {},
   "outputs": [],
   "source": [
    "import pandas as pd\n",
    "import numpy as np\n",
    "\n",
    "testing_models = False\n",
    "\n",
    "forecast_horizon = 547\n",
    "\n",
    "from beepy import beep\n",
    "\n",
    "# set benchmark with fourier series."
   ]
  },
  {
   "cell_type": "code",
   "execution_count": 2,
   "id": "9618e50f",
   "metadata": {},
   "outputs": [],
   "source": [
    "%run setup.ipynb"
   ]
  },
  {
   "cell_type": "markdown",
   "id": "8d4e7eda",
   "metadata": {},
   "source": [
    "# tune models on a subset of categories"
   ]
  },
  {
   "cell_type": "code",
   "execution_count": 3,
   "id": "b33cb321",
   "metadata": {},
   "outputs": [],
   "source": [
    "\n",
    "# subset for testing\n",
    "\n",
    "if testing_models:\n",
    "    train = train[train.store_item.isin(['1-1', '1-2', '1-3', '3-5', '6-4'])]\n",
    "    test = test[test.store_item.isin(['1-1', '1-2', '1-3', '3-5', '6-4'])]\n",
    "else: \n",
    "    from warnings import filterwarnings\n",
    "    filterwarnings('ignore')\n",
    "    "
   ]
  },
  {
   "cell_type": "markdown",
   "id": "28477e31",
   "metadata": {},
   "source": [
    "# Create df to populate with predictions"
   ]
  },
  {
   "cell_type": "code",
   "execution_count": 4,
   "id": "cb57803e",
   "metadata": {},
   "outputs": [],
   "source": [
    "from datetime import timedelta\n",
    "\n",
    "date_list = [train.index[-1] + timedelta(days=x+1) for x in range(forecast_horizon)]\n",
    "horizon_end_date = date_list[-1]\n",
    "fcast_begin = date_list[0]"
   ]
  },
  {
   "cell_type": "code",
   "execution_count": 5,
   "id": "c96c1cd6",
   "metadata": {},
   "outputs": [],
   "source": [
    "store_item, dates = [], []\n",
    "for series in train.store_item.unique():\n",
    "    store_item.append(np.repeat(series, len(date_list)))\n",
    "    dates.append(date_list)"
   ]
  },
  {
   "cell_type": "code",
   "execution_count": 6,
   "id": "3d1a615a",
   "metadata": {},
   "outputs": [],
   "source": [
    "predictions = pd.DataFrame(\n",
    "    {\n",
    "        'store_item': [x for sub in store_item for x in sub],\n",
    "        'sales': test.sales\n",
    "    }, index=[x for sub in dates for x in sub]\n",
    "    )"
   ]
  },
  {
   "cell_type": "markdown",
   "id": "2495361f",
   "metadata": {},
   "source": [
    "# Fourier series (benchmark)"
   ]
  },
  {
   "cell_type": "code",
   "execution_count": 7,
   "id": "3a5d8710",
   "metadata": {},
   "outputs": [],
   "source": [
    "\n",
    "# https://notebook.community/statsmodels/statsmodels.github.io/devel/examples/notebooks/generated/deterministics\n",
    "# from statsmodels.tsa.deterministic import Fourier, Seasonality, TimeTrend\n",
    "# from statsmodels.tsa.deterministic import DeterministicProcess\n",
    "\n",
    "# index = temp.index\n",
    "# tt = TimeTrend(constant=True)\n",
    "# four = Fourier(period=365.25, order=2)\n",
    "# seas = Seasonality(period=7)\n",
    "# det_proc = DeterministicProcess(index, additional_terms=[tt, seas, four])\n",
    "# det_proc.in_sample().head(28)"
   ]
  },
  {
   "cell_type": "code",
   "execution_count": 8,
   "id": "29032365",
   "metadata": {},
   "outputs": [
    {
     "data": {
      "text/plain": [
       "date\n",
       "2016-07-03    2.000000\n",
       "2016-07-04    2.706941\n",
       "2016-07-05    1.425936\n",
       "2016-07-06   -0.393719\n",
       "2016-07-07   -1.031247\n",
       "                ...   \n",
       "2017-12-27   -0.393719\n",
       "2017-12-28   -1.031247\n",
       "2017-12-29   -0.377148\n",
       "2017-12-30    0.140669\n",
       "2017-12-31   -0.563104\n",
       "Length: 547, dtype: float64"
      ]
     },
     "execution_count": 8,
     "metadata": {},
     "output_type": "execute_result"
    }
   ],
   "source": [
    "\n",
    "from statsmodels.tsa.deterministic import Fourier\n",
    "\n",
    "fourier_gen = Fourier(11, order=2)\n",
    "\n",
    "temp = test[test.store_item == \"1-1\"]\n",
    "fourier_gen.in_sample(temp.index).sum(axis=1)\n",
    "# fourier_gen.out_of_sample(365, index=temp.index)\n"
   ]
  },
  {
   "cell_type": "markdown",
   "id": "08743ab3",
   "metadata": {},
   "source": [
    "# vector autoreg"
   ]
  },
  {
   "cell_type": "code",
   "execution_count": 9,
   "id": "6f9a52d2",
   "metadata": {},
   "outputs": [],
   "source": [
    "from statsmodels.tsa.ar_model import AutoReg\n",
    "from tqdm import tqdm # progressbar"
   ]
  },
  {
   "cell_type": "code",
   "execution_count": 10,
   "id": "737bf278",
   "metadata": {},
   "outputs": [],
   "source": [
    "def fit_autoreg(df, fcast, horizion_end):\n",
    "    preds_autoreg, trouble_series = [], []\n",
    "    for series in tqdm(df.store_item.unique()):\n",
    "\n",
    "        temp = df[df.store_item == series]\n",
    "        temp.index.freq = \"d\"\n",
    "        \n",
    "        try:\n",
    "            yhat = AutoReg(temp.sales, lags=5, old_names=False, seasonal=True, period=365)\\\n",
    "                .fit()\\\n",
    "                .predict(start = fcast, end = horizion_end)\n",
    "            preds_autoreg.append(yhat)\n",
    "        except np.linalg.LinAlgError:\n",
    "            trouble_series.append(series)\n",
    "            print(f'series {series} error')\n",
    "            \n",
    "    return [x for sub in preds_autoreg for x in sub]  "
   ]
  },
  {
   "cell_type": "code",
   "execution_count": 11,
   "id": "744e9c08",
   "metadata": {},
   "outputs": [
    {
     "name": "stderr",
     "output_type": "stream",
     "text": [
      "100%|██████████| 500/500 [01:24<00:00,  5.93it/s]\n"
     ]
    }
   ],
   "source": [
    "predictions[\"autoreg\"] = fit_autoreg(df=train, fcast=fcast_begin, horizion_end=horizon_end_date)"
   ]
  },
  {
   "cell_type": "markdown",
   "id": "f122f5c5",
   "metadata": {},
   "source": [
    "# exp smoothing"
   ]
  },
  {
   "cell_type": "code",
   "execution_count": 12,
   "id": "1cbb84e9",
   "metadata": {},
   "outputs": [],
   "source": [
    "from statsmodels.tsa.holtwinters import ExponentialSmoothing"
   ]
  },
  {
   "cell_type": "code",
   "execution_count": 13,
   "id": "2289c8be",
   "metadata": {},
   "outputs": [],
   "source": [
    "def exp_smooth_predictor(df, seas, fcast=fcast_begin, horizion_end=horizon_end_date):\n",
    "    exp_smooth_preds = []\n",
    "    trouble_series = []\n",
    "    for series in tqdm(df.store_item.unique()):\n",
    "        temp = df[df.store_item == series]\n",
    "        temp.index.freq = \"d\"\n",
    "        try:\n",
    "            preds = ExponentialSmoothing(temp.sales,     \n",
    "                seasonal_periods=365,\n",
    "                trend=\"add\",\n",
    "                seasonal=seas,\n",
    "                use_boxcox=True,\n",
    "                initialization_method=\"estimated\")\\\n",
    "            .fit()\\\n",
    "            .predict(start = fcast, end = horizion_end)\n",
    "            exp_smooth_preds.append(preds)\n",
    "        except ValueError:\n",
    "            trouble_series.append(series)\n",
    "            print(series)\n",
    "\n",
    "    return [x for sub in exp_smooth_preds for x in sub]  "
   ]
  },
  {
   "cell_type": "code",
   "execution_count": 14,
   "id": "1359145c",
   "metadata": {},
   "outputs": [
    {
     "name": "stderr",
     "output_type": "stream",
     "text": [
      "100%|██████████| 500/500 [15:07<00:00,  1.81s/it]\n"
     ]
    }
   ],
   "source": [
    "predictions[\"exp_smooth\"] = exp_smooth_predictor(df=train, seas=\"add\")\n",
    "# predictions[\"exp_smooth_multi\"] = exp_smooth_predictor(df=train, seas=\"multiplicative\") \n",
    "# multiplicative is slow and inaccurate"
   ]
  },
  {
   "cell_type": "markdown",
   "id": "ad4d328a",
   "metadata": {},
   "source": [
    "# autoregressive distributed lag ARDL"
   ]
  },
  {
   "cell_type": "code",
   "execution_count": 15,
   "id": "11944e66",
   "metadata": {},
   "outputs": [],
   "source": [
    "from statsmodels.tsa.api import ARDL"
   ]
  },
  {
   "cell_type": "code",
   "execution_count": 16,
   "id": "13255233",
   "metadata": {},
   "outputs": [],
   "source": [
    "def ardl_predictor(df, fcast=fcast_begin, horizion_end=horizon_end_date):\n",
    "    ardl_preds = []\n",
    "    for series in df.store_item.unique():\n",
    "        temp = df[df.store_item == series]\n",
    "        temp.index.freq = \"d\"\n",
    "        \n",
    "        ardl_pred = ARDL(temp.sales, 365, period=365, trend=\"t\")\\\n",
    "            .fit()\\\n",
    "            .predict(start = fcast, end = horizion_end)\n",
    "        ardl_preds.append(ardl_pred)\n",
    "    return [x for sub in ardl_preds for x in sub]  "
   ]
  },
  {
   "cell_type": "code",
   "execution_count": 17,
   "id": "b60d1631",
   "metadata": {},
   "outputs": [],
   "source": [
    "predictions[\"ardl\"] = ardl_predictor(train)"
   ]
  },
  {
   "cell_type": "markdown",
   "id": "267edc47",
   "metadata": {},
   "source": [
    "# xgboost\n"
   ]
  },
  {
   "cell_type": "code",
   "execution_count": 18,
   "id": "b17ddc07",
   "metadata": {},
   "outputs": [],
   "source": [
    "from xgboost import XGBRegressor\n",
    "# pip install xgboost==0.80\n",
    "# the latest version kept crashing on me"
   ]
  },
  {
   "cell_type": "code",
   "execution_count": 19,
   "id": "65261423",
   "metadata": {},
   "outputs": [],
   "source": [
    "from helper import create_features"
   ]
  },
  {
   "cell_type": "code",
   "execution_count": 20,
   "id": "5e810b56",
   "metadata": {},
   "outputs": [],
   "source": [
    "def xgb_predictor(df, date_list=date_list):\n",
    "    X_pred = create_features(pd.DataFrame(date_list, columns=[\"date\"]))\n",
    "\n",
    "    reg = XGBRegressor(n_estimators=1000)\n",
    "    xgb_preds = []\n",
    "    for series in tqdm(df.store_item.unique()):\n",
    "        temp = df[df.store_item == series]\n",
    "        X = create_features(pd.DataFrame(temp.index, columns=[\"date\"]))\n",
    "        preds = reg.fit(X, temp.sales)\\\n",
    "            .predict(X_pred)\n",
    "        xgb_preds.append(preds)\n",
    "    return [x for sub in xgb_preds for x in sub] "
   ]
  },
  {
   "cell_type": "code",
   "execution_count": 21,
   "id": "31f96afa",
   "metadata": {},
   "outputs": [
    {
     "name": "stderr",
     "output_type": "stream",
     "text": [
      "100%|██████████| 500/500 [03:16<00:00,  2.54it/s]\n"
     ]
    }
   ],
   "source": [
    "predictions[\"xgb_preds\"] = xgb_predictor(train)"
   ]
  },
  {
   "cell_type": "markdown",
   "id": "710826e4",
   "metadata": {},
   "source": [
    "# prophet model"
   ]
  },
  {
   "cell_type": "code",
   "execution_count": 22,
   "id": "7aca792f",
   "metadata": {},
   "outputs": [
    {
     "name": "stderr",
     "output_type": "stream",
     "text": [
      "Importing plotly failed. Interactive plots will not work.\n"
     ]
    }
   ],
   "source": [
    "from prophet import Prophet\n",
    "# https://www.youtube.com/watch?v=pOYAXv15r3A"
   ]
  },
  {
   "cell_type": "code",
   "execution_count": 23,
   "id": "4b3d474e",
   "metadata": {},
   "outputs": [],
   "source": [
    "def strict_inputs(df):\n",
    "    df = df.drop(\"store_item\", axis=1)\\\n",
    "        .reset_index()\n",
    "    df[\"unique_id\"] = series\n",
    "    df = df.rename(columns={\"sales\":\"y\", \"date\":\"ds\"})\n",
    "    return df[[\"ds\", \"y\", \"unique_id\"]]"
   ]
  },
  {
   "cell_type": "code",
   "execution_count": 24,
   "id": "d7c8c77d",
   "metadata": {},
   "outputs": [],
   "source": [
    "def prophet_predictor(df, date_list=date_list):\n",
    "    prophet_preds = []\n",
    "    for series in tqdm(df.store_item.unique()):  \n",
    "        temp = df[df.store_item == series]\n",
    "        temp = strict_inputs(temp)\n",
    "        model = Prophet(daily_seasonality=True)\n",
    "        model.fit(temp)\n",
    "        pred_frame = model.make_future_dataframe(periods=len(date_list), include_history=False)\n",
    "        preds = model.predict(pred_frame)\n",
    "        prophet_preds.append(preds.yhat)\n",
    "    return [x for sub in prophet_preds for x in sub] "
   ]
  },
  {
   "cell_type": "code",
   "execution_count": 25,
   "id": "d475290d",
   "metadata": {},
   "outputs": [
    {
     "name": "stderr",
     "output_type": "stream",
     "text": [
      "  0%|          | 0/500 [00:00<?, ?it/s]"
     ]
    },
    {
     "name": "stdout",
     "output_type": "stream",
     "text": [
      "Initial log joint probability = -23.8441\n",
      "    Iter      log prob        ||dx||      ||grad||       alpha      alpha0  # evals  Notes \n",
      "      94       2304.99    0.00059656       212.127    4.31e-06       0.001      145  LS failed, Hessian reset \n",
      "      99       2305.17   0.000825136       89.4793      0.9746      0.9746      150   \n",
      "    Iter      log prob        ||dx||      ||grad||       alpha      alpha0  # evals  Notes \n",
      "     193        2305.9    0.00037808       161.031   2.206e-06       0.001      316  LS failed, Hessian reset \n",
      "     199       2306.19    0.00069264       73.7016      0.3052           1      323   \n",
      "    Iter      log prob        ||dx||      ||grad||       alpha      alpha0  # evals  Notes \n",
      "     243       2306.29   4.25779e-05       86.2633   5.088e-07       0.001      415  LS failed, Hessian reset \n",
      "     271       2306.29   1.51602e-07       79.5501           1           1      452   \n",
      "Optimization terminated normally: \n",
      "  Convergence detected: relative gradient magnitude is below tolerance\n"
     ]
    },
    {
     "name": "stderr",
     "output_type": "stream",
     "text": [
      "  0%|          | 1/500 [00:03<25:22,  3.05s/it]"
     ]
    },
    {
     "name": "stdout",
     "output_type": "stream",
     "text": [
      "Initial log joint probability = -18.6992\n",
      "    Iter      log prob        ||dx||      ||grad||       alpha      alpha0  # evals  Notes \n",
      "      68       2444.39   0.000214905       116.282   1.437e-06       0.001      122  LS failed, Hessian reset \n",
      "      99       2445.36     0.0038422       106.857      0.3613           1      158   \n",
      "    Iter      log prob        ||dx||      ||grad||       alpha      alpha0  # evals  Notes \n",
      "     169       2446.64    0.00095417       278.711   9.362e-06       0.001      296  LS failed, Hessian reset \n",
      "     199       2446.85   2.85198e-05       75.9557      0.9289      0.9289      335   \n",
      "    Iter      log prob        ||dx||      ||grad||       alpha      alpha0  # evals  Notes \n",
      "     246       2446.87   1.16206e-07       92.8068      0.5815      0.5815      397   \n",
      "Optimization terminated normally: \n",
      "  Convergence detected: relative gradient magnitude is below tolerance\n"
     ]
    },
    {
     "name": "stderr",
     "output_type": "stream",
     "text": [
      "  0%|          | 2/500 [00:04<19:27,  2.34s/it]"
     ]
    },
    {
     "name": "stdout",
     "output_type": "stream",
     "text": [
      "Initial log joint probability = -22.2721\n",
      "    Iter      log prob        ||dx||      ||grad||       alpha      alpha0  # evals  Notes \n",
      "      89       2348.96   0.000292746       137.158    2.88e-06       0.001      154  LS failed, Hessian reset \n",
      "      99       2349.21   0.000564068       89.7297      0.5985      0.5985      164   \n",
      "    Iter      log prob        ||dx||      ||grad||       alpha      alpha0  # evals  Notes \n",
      "     151       2349.74     0.0018536       86.2564   1.729e-05       0.001      273  LS failed, Hessian reset \n",
      "     199       2350.05   0.000101364       71.1323      0.6416      0.6416      330   \n",
      "    Iter      log prob        ||dx||      ||grad||       alpha      alpha0  # evals  Notes \n",
      "     237       2350.06   1.79522e-07       70.2992      0.6728      0.6728      376   \n",
      "Optimization terminated normally: \n",
      "  Convergence detected: relative gradient magnitude is below tolerance\n"
     ]
    },
    {
     "name": "stderr",
     "output_type": "stream",
     "text": [
      "  1%|          | 3/500 [00:06<17:54,  2.16s/it]"
     ]
    },
    {
     "name": "stdout",
     "output_type": "stream",
     "text": [
      "Initial log joint probability = -37.5959\n",
      "    Iter      log prob        ||dx||      ||grad||       alpha      alpha0  # evals  Notes \n",
      "      99       2255.94    0.00281751       97.8855      0.5368           1      127   \n",
      "    Iter      log prob        ||dx||      ||grad||       alpha      alpha0  # evals  Notes \n",
      "     185       2259.24   0.000307468        127.14   2.043e-06       0.001      279  LS failed, Hessian reset \n",
      "     199       2259.57   0.000661832       82.1798           1           1      297   \n",
      "    Iter      log prob        ||dx||      ||grad||       alpha      alpha0  # evals  Notes \n",
      "     230       2259.63   0.000117404       89.9541   1.669e-06       0.001      383  LS failed, Hessian reset \n",
      "     268       2259.65    9.3232e-08       73.5347      0.3464           1      438   \n",
      "Optimization terminated normally: \n",
      "  Convergence detected: relative gradient magnitude is below tolerance\n"
     ]
    },
    {
     "name": "stderr",
     "output_type": "stream",
     "text": [
      "  1%|          | 4/500 [00:08<16:58,  2.05s/it]"
     ]
    },
    {
     "name": "stdout",
     "output_type": "stream",
     "text": [
      "Initial log joint probability = -14.1209\n",
      "    Iter      log prob        ||dx||      ||grad||       alpha      alpha0  # evals  Notes \n",
      "      99       2297.43   1.11454e-05        76.276           1           1      122   \n",
      "    Iter      log prob        ||dx||      ||grad||       alpha      alpha0  # evals  Notes \n",
      "     124       2297.44   7.58762e-08       74.1162      0.2398           1      158   \n",
      "Optimization terminated normally: \n",
      "  Convergence detected: relative gradient magnitude is below tolerance\n"
     ]
    },
    {
     "name": "stderr",
     "output_type": "stream",
     "text": [
      "  1%|          | 5/500 [00:10<16:13,  1.97s/it]"
     ]
    },
    {
     "name": "stdout",
     "output_type": "stream",
     "text": [
      "Initial log joint probability = -39.0428\n",
      "    Iter      log prob        ||dx||      ||grad||       alpha      alpha0  # evals  Notes \n",
      "      99        2192.8   1.07946e-05       67.7032           1           1      141   \n",
      "    Iter      log prob        ||dx||      ||grad||       alpha      alpha0  # evals  Notes \n",
      "     117        2192.8   5.23274e-06       82.6177   6.933e-08       0.001      200  LS failed, Hessian reset \n",
      "     131        2192.8   2.04517e-07       54.9558     0.06456           1      219   \n",
      "Optimization terminated normally: \n",
      "  Convergence detected: relative gradient magnitude is below tolerance\n"
     ]
    },
    {
     "name": "stderr",
     "output_type": "stream",
     "text": [
      "  1%|          | 6/500 [00:12<15:32,  1.89s/it]"
     ]
    },
    {
     "name": "stdout",
     "output_type": "stream",
     "text": [
      "Initial log joint probability = -25.6129\n",
      "    Iter      log prob        ||dx||      ||grad||       alpha      alpha0  # evals  Notes \n",
      "      99       2336.14    0.00487703       154.702           1           1      132   \n",
      "    Iter      log prob        ||dx||      ||grad||       alpha      alpha0  # evals  Notes \n",
      "     123       2337.45    0.00143459       267.377   1.177e-05       0.001      200  LS failed, Hessian reset \n",
      "     190       2339.25   0.000520581       202.916   4.567e-06       0.001      310  LS failed, Hessian reset \n",
      "     199       2339.47   0.000636434       70.9905      0.3558           1      321   \n",
      "    Iter      log prob        ||dx||      ||grad||       alpha      alpha0  # evals  Notes \n",
      "     299       2339.61   0.000101474       92.4022           1           1      457   \n",
      "    Iter      log prob        ||dx||      ||grad||       alpha      alpha0  # evals  Notes \n",
      "     359       2339.65   2.78714e-05       73.5385   3.646e-07       0.001      593  LS failed, Hessian reset \n",
      "     399       2339.65   4.96746e-08       68.5068        0.34        0.34      642   \n",
      "    Iter      log prob        ||dx||      ||grad||       alpha      alpha0  # evals  Notes \n",
      "     401       2339.65    2.8901e-07       82.8059           1           1      644   \n",
      "Optimization terminated normally: \n",
      "  Convergence detected: relative gradient magnitude is below tolerance\n"
     ]
    },
    {
     "name": "stderr",
     "output_type": "stream",
     "text": [
      "  1%|▏         | 7/500 [00:14<15:41,  1.91s/it]"
     ]
    },
    {
     "name": "stdout",
     "output_type": "stream",
     "text": [
      "Initial log joint probability = -22.3772\n",
      "    Iter      log prob        ||dx||      ||grad||       alpha      alpha0  # evals  Notes \n",
      "      74        2250.1    0.00140572       242.927   1.214e-05       0.001      134  LS failed, Hessian reset \n",
      "      99       2250.41   0.000377888       75.4632           1           1      163   \n",
      "    Iter      log prob        ||dx||      ||grad||       alpha      alpha0  # evals  Notes \n",
      "     123       2250.97     0.0031865       295.106   2.683e-05       0.001      227  LS failed, Hessian reset \n",
      "     199        2251.2   6.47041e-05       75.2878       1.879      0.1879      331   \n",
      "    Iter      log prob        ||dx||      ||grad||       alpha      alpha0  # evals  Notes \n",
      "     224        2251.2   4.63477e-08       66.1968       0.448       0.448      364   \n",
      "Optimization terminated normally: \n",
      "  Convergence detected: relative gradient magnitude is below tolerance\n"
     ]
    },
    {
     "name": "stderr",
     "output_type": "stream",
     "text": [
      "  2%|▏         | 8/500 [00:16<15:39,  1.91s/it]"
     ]
    },
    {
     "name": "stdout",
     "output_type": "stream",
     "text": [
      "Initial log joint probability = -20.6207\n",
      "    Iter      log prob        ||dx||      ||grad||       alpha      alpha0  # evals  Notes \n",
      "      99       2339.36   0.000726669       116.016           1           1      121   \n",
      "    Iter      log prob        ||dx||      ||grad||       alpha      alpha0  # evals  Notes \n",
      "     137       2340.39    0.00036908       111.283   1.198e-06       0.001      215  LS failed, Hessian reset \n",
      "     199       2340.84   3.36277e-05       83.6841      0.4184           1      292   \n",
      "    Iter      log prob        ||dx||      ||grad||       alpha      alpha0  # evals  Notes \n",
      "     261       2340.87   4.64003e-05       77.2921    5.19e-07       0.001      421  LS failed, Hessian reset \n",
      "     294       2340.88   8.19366e-08        76.405      0.5618      0.5618      466   \n",
      "Optimization terminated normally: \n",
      "  Convergence detected: relative gradient magnitude is below tolerance\n"
     ]
    },
    {
     "name": "stderr",
     "output_type": "stream",
     "text": [
      "  2%|▏         | 9/500 [00:18<15:49,  1.93s/it]"
     ]
    },
    {
     "name": "stdout",
     "output_type": "stream",
     "text": [
      "Initial log joint probability = -32.6322\n",
      "    Iter      log prob        ||dx||      ||grad||       alpha      alpha0  # evals  Notes \n",
      "      98          2289    0.00406769       188.477   3.427e-05       0.001      148  LS failed, Hessian reset \n",
      "      99       2289.09    0.00245884       463.763           1           1      149   \n",
      "    Iter      log prob        ||dx||      ||grad||       alpha      alpha0  # evals  Notes \n",
      "     199       2291.15   4.40645e-05       67.0625      0.2472           1      287   \n",
      "    Iter      log prob        ||dx||      ||grad||       alpha      alpha0  # evals  Notes \n",
      "     229       2291.28   0.000264188       118.083   3.541e-06       0.001      369  LS failed, Hessian reset \n",
      "     277        2291.3   1.28967e-07       56.9838           1           1      440   \n",
      "Optimization terminated normally: \n",
      "  Convergence detected: relative gradient magnitude is below tolerance\n"
     ]
    },
    {
     "name": "stderr",
     "output_type": "stream",
     "text": [
      "  2%|▏         | 10/500 [00:20<15:46,  1.93s/it]"
     ]
    },
    {
     "name": "stdout",
     "output_type": "stream",
     "text": [
      "Initial log joint probability = -34.5062\n",
      "    Iter      log prob        ||dx||      ||grad||       alpha      alpha0  # evals  Notes \n",
      "      99       2717.63   0.000201329       78.4211      0.7713      0.7713      130   \n",
      "    Iter      log prob        ||dx||      ||grad||       alpha      alpha0  # evals  Notes \n",
      "     199       2721.23   0.000657679       64.9873      0.4638           1      262   \n",
      "    Iter      log prob        ||dx||      ||grad||       alpha      alpha0  # evals  Notes \n",
      "     266       2721.27   2.03817e-05       61.8377   4.043e-07       0.001      393  LS failed, Hessian reset \n",
      "     299       2721.27   6.35448e-06       61.8897       1.593      0.4364      432   \n",
      "    Iter      log prob        ||dx||      ||grad||       alpha      alpha0  # evals  Notes \n",
      "     365       2721.28   1.48875e-07       76.8861      0.3067           1      514   \n",
      "Optimization terminated normally: \n",
      "  Convergence detected: relative gradient magnitude is below tolerance\n"
     ]
    },
    {
     "name": "stderr",
     "output_type": "stream",
     "text": [
      "  2%|▏         | 11/500 [00:22<16:13,  1.99s/it]"
     ]
    },
    {
     "name": "stdout",
     "output_type": "stream",
     "text": [
      "Initial log joint probability = -17.5478\n",
      "    Iter      log prob        ||dx||      ||grad||       alpha      alpha0  # evals  Notes \n",
      "      99       2833.22    0.00126309       108.347     0.03042           1      130   \n",
      "    Iter      log prob        ||dx||      ||grad||       alpha      alpha0  # evals  Notes \n",
      "     156       2834.73   0.000340527       288.443   1.375e-06       0.001      251  LS failed, Hessian reset \n",
      "     199       2835.23   0.000129438       82.4559       1.195      0.1195      304   \n",
      "    Iter      log prob        ||dx||      ||grad||       alpha      alpha0  # evals  Notes \n",
      "     282       2835.27    7.5524e-07       66.8496      0.3402           1      407   \n",
      "Optimization terminated normally: \n",
      "  Convergence detected: relative gradient magnitude is below tolerance\n"
     ]
    },
    {
     "name": "stderr",
     "output_type": "stream",
     "text": [
      "  2%|▏         | 12/500 [00:24<15:48,  1.94s/it]"
     ]
    },
    {
     "name": "stdout",
     "output_type": "stream",
     "text": [
      "Initial log joint probability = -36.8516\n",
      "    Iter      log prob        ||dx||      ||grad||       alpha      alpha0  # evals  Notes \n",
      "      99       2685.09    0.00282519        372.31     0.05943     0.05943      140   \n",
      "    Iter      log prob        ||dx||      ||grad||       alpha      alpha0  # evals  Notes \n",
      "     150       2687.97   0.000426972       320.991   1.396e-06       0.001      240  LS failed, Hessian reset \n",
      "     199       2689.03   0.000284389       79.8023      0.5671      0.5671      304   \n",
      "    Iter      log prob        ||dx||      ||grad||       alpha      alpha0  # evals  Notes \n",
      "     237        2689.2   0.000238971       150.924   2.764e-06       0.001      394  LS failed, Hessian reset \n",
      "     299       2689.29   4.04048e-05       72.3893      0.2186           1      479   \n",
      "    Iter      log prob        ||dx||      ||grad||       alpha      alpha0  # evals  Notes \n",
      "     317       2689.29   2.60139e-07        51.735      0.1776           1      508   \n",
      "Optimization terminated normally: \n",
      "  Convergence detected: relative gradient magnitude is below tolerance\n"
     ]
    },
    {
     "name": "stderr",
     "output_type": "stream",
     "text": [
      "  3%|▎         | 13/500 [00:25<15:48,  1.95s/it]"
     ]
    },
    {
     "name": "stdout",
     "output_type": "stream",
     "text": [
      "Initial log joint probability = -31.1827\n",
      "    Iter      log prob        ||dx||      ||grad||       alpha      alpha0  # evals  Notes \n",
      "      57       2625.89   0.000206502       133.978   8.893e-07       0.001      117  LS failed, Hessian reset \n",
      "      99       2629.76   0.000467804       189.008      0.5061      0.5061      169   \n",
      "    Iter      log prob        ||dx||      ||grad||       alpha      alpha0  # evals  Notes \n",
      "     133       2632.09     0.0017399       367.621   9.414e-06       0.001      259  LS failed, Hessian reset \n",
      "     197       2633.99    0.00021159       149.587    9.33e-07       0.001      387  LS failed, Hessian reset \n",
      "     199       2634.19    0.00271986       161.608           1           1      390   \n",
      "    Iter      log prob        ||dx||      ||grad||       alpha      alpha0  # evals  Notes \n",
      "     299        2635.3   1.46296e-05       87.9357    0.005579           1      516   \n",
      "    Iter      log prob        ||dx||      ||grad||       alpha      alpha0  # evals  Notes \n",
      "     369       2635.31   7.17054e-08       79.5105      0.1427      0.5749      610   \n",
      "Optimization terminated normally: \n",
      "  Convergence detected: relative gradient magnitude is below tolerance\n"
     ]
    },
    {
     "name": "stderr",
     "output_type": "stream",
     "text": [
      "  3%|▎         | 14/500 [00:27<15:51,  1.96s/it]"
     ]
    },
    {
     "name": "stdout",
     "output_type": "stream",
     "text": [
      "Initial log joint probability = -14.699\n",
      "    Iter      log prob        ||dx||      ||grad||       alpha      alpha0  # evals  Notes \n",
      "      99       2618.99    0.00237013       146.742      0.2257      0.2257      124   \n",
      "    Iter      log prob        ||dx||      ||grad||       alpha      alpha0  # evals  Notes \n",
      "     143       2619.36   9.75364e-05       77.0608   1.289e-06       0.001      220  LS failed, Hessian reset \n",
      "     168       2619.37   5.79485e-06       59.3302   7.443e-08       0.001      295  LS failed, Hessian reset \n",
      "     179       2619.37   1.33685e-07       59.0844      0.7715      0.7715      312   \n",
      "Optimization terminated normally: \n",
      "  Convergence detected: relative gradient magnitude is below tolerance\n"
     ]
    },
    {
     "name": "stderr",
     "output_type": "stream",
     "text": [
      "  3%|▎         | 15/500 [00:29<15:38,  1.93s/it]"
     ]
    },
    {
     "name": "stdout",
     "output_type": "stream",
     "text": [
      "Initial log joint probability = -19.3336\n",
      "    Iter      log prob        ||dx||      ||grad||       alpha      alpha0  # evals  Notes \n",
      "      99       2539.85    0.00116488       72.4826           1           1      132   \n",
      "    Iter      log prob        ||dx||      ||grad||       alpha      alpha0  # evals  Notes \n",
      "     129       2540.56   0.000243265       153.433   1.719e-06       0.001      207  LS failed, Hessian reset \n",
      "     199       2541.04   3.16411e-05       69.3978      0.5722      0.5722      297   \n",
      "    Iter      log prob        ||dx||      ||grad||       alpha      alpha0  # evals  Notes \n",
      "     230       2541.05   1.72432e-05       52.0159   3.034e-07       0.001      385  LS failed, Hessian reset \n",
      "     254       2541.06   1.25941e-07       46.3293      0.2055       0.727      419   \n",
      "Optimization terminated normally: \n",
      "  Convergence detected: relative gradient magnitude is below tolerance\n"
     ]
    },
    {
     "name": "stderr",
     "output_type": "stream",
     "text": [
      "  3%|▎         | 16/500 [00:31<15:49,  1.96s/it]"
     ]
    },
    {
     "name": "stdout",
     "output_type": "stream",
     "text": [
      "Initial log joint probability = -25.4038\n",
      "    Iter      log prob        ||dx||      ||grad||       alpha      alpha0  # evals  Notes \n",
      "      99       2493.83   0.000816863       100.891           1           1      126   \n",
      "    Iter      log prob        ||dx||      ||grad||       alpha      alpha0  # evals  Notes \n",
      "     147       2495.88   0.000500381       201.774   4.683e-06       0.001      226  LS failed, Hessian reset \n",
      "     199       2496.39   2.11148e-05       66.4537      0.6323      0.6323      289   \n",
      "    Iter      log prob        ||dx||      ||grad||       alpha      alpha0  # evals  Notes \n",
      "     225       2496.39   1.56071e-07       69.3186      0.1106           1      328   \n",
      "Optimization terminated normally: \n",
      "  Convergence detected: relative gradient magnitude is below tolerance\n"
     ]
    },
    {
     "name": "stderr",
     "output_type": "stream",
     "text": [
      "  3%|▎         | 17/500 [00:33<15:49,  1.96s/it]"
     ]
    },
    {
     "name": "stdout",
     "output_type": "stream",
     "text": [
      "Initial log joint probability = -30.2125\n",
      "    Iter      log prob        ||dx||      ||grad||       alpha      alpha0  # evals  Notes \n",
      "      99       2754.81    0.00768518       105.934           1           1      129   \n",
      "    Iter      log prob        ||dx||      ||grad||       alpha      alpha0  # evals  Notes \n",
      "     189       2759.19   0.000121265       110.183   1.184e-06       0.001      284  LS failed, Hessian reset \n",
      "     199       2759.59   0.000161058       123.358      0.6089      0.6089      301   \n",
      "    Iter      log prob        ||dx||      ||grad||       alpha      alpha0  # evals  Notes \n",
      "     221       2759.74   0.000155966       121.518   2.502e-06       0.001      370  LS failed, Hessian reset \n",
      "     270       2759.86   7.94205e-05       62.9883     1.3e-06       0.001      469  LS failed, Hessian reset \n",
      "     294       2759.87   2.10209e-05       56.6889   3.199e-07       0.001      533  LS failed, Hessian reset \n",
      "     299       2759.87   5.33576e-06       45.6816       0.173           1      539   \n",
      "    Iter      log prob        ||dx||      ||grad||       alpha      alpha0  # evals  Notes \n",
      "     323       2759.87   2.36542e-06       68.4659   3.986e-08       0.001      619  LS failed, Hessian reset \n",
      "     344       2759.87   8.07725e-07       50.7772   1.318e-08       0.001      683  LS failed, Hessian reset \n",
      "     347       2759.87   1.11808e-07       60.0217       0.215           1      689   \n",
      "Optimization terminated normally: \n",
      "  Convergence detected: relative gradient magnitude is below tolerance\n"
     ]
    },
    {
     "name": "stderr",
     "output_type": "stream",
     "text": [
      "  4%|▎         | 18/500 [00:35<16:00,  1.99s/it]"
     ]
    },
    {
     "name": "stdout",
     "output_type": "stream",
     "text": [
      "Initial log joint probability = -19.487\n",
      "    Iter      log prob        ||dx||      ||grad||       alpha      alpha0  # evals  Notes \n",
      "      99       2682.92    0.00179946       100.326      0.3098           1      137   \n",
      "    Iter      log prob        ||dx||      ||grad||       alpha      alpha0  # evals  Notes \n",
      "     120       2683.92    0.00106533       359.754    1.13e-05       0.001      192  LS failed, Hessian reset \n",
      "     180       2685.38   0.000156612       108.658    7.95e-07       0.001      316  LS failed, Hessian reset \n",
      "     199       2685.76   0.000418288       89.5547           1           1      341   \n",
      "    Iter      log prob        ||dx||      ||grad||       alpha      alpha0  # evals  Notes \n",
      "     269       2685.94   4.76665e-05       95.9216   6.356e-07       0.001      475  LS failed, Hessian reset \n",
      "     297       2685.94   5.70836e-08       48.5588      0.2148      0.2148      516   \n",
      "Optimization terminated normally: \n",
      "  Convergence detected: relative gradient magnitude is below tolerance\n"
     ]
    },
    {
     "name": "stderr",
     "output_type": "stream",
     "text": [
      "  4%|▍         | 19/500 [00:37<16:05,  2.01s/it]"
     ]
    },
    {
     "name": "stdout",
     "output_type": "stream",
     "text": [
      "Initial log joint probability = -18.9179\n",
      "    Iter      log prob        ||dx||      ||grad||       alpha      alpha0  # evals  Notes \n",
      "      99       2810.37     0.0036062       81.8595      0.5836           1      126   \n",
      "    Iter      log prob        ||dx||      ||grad||       alpha      alpha0  # evals  Notes \n",
      "     146       2812.06    0.00212016       276.063   2.077e-05       0.001      239  LS failed, Hessian reset \n",
      "     199       2812.84   1.95894e-05       46.8285           1           1      310   \n",
      "    Iter      log prob        ||dx||      ||grad||       alpha      alpha0  # evals  Notes \n",
      "     218       2812.84   8.18086e-05       98.9433   1.013e-06       0.001      374  LS failed, Hessian reset \n",
      "     295       2812.86   4.62951e-05       64.3854   4.183e-07       0.001      514  LS failed, Hessian reset \n",
      "     299       2812.86   1.75947e-05       83.3138      0.2181           1      519   \n",
      "    Iter      log prob        ||dx||      ||grad||       alpha      alpha0  # evals  Notes \n",
      "     330       2812.86   1.30895e-07        47.483      0.7737     0.07737      558   \n",
      "Optimization terminated normally: \n",
      "  Convergence detected: relative gradient magnitude is below tolerance\n"
     ]
    },
    {
     "name": "stderr",
     "output_type": "stream",
     "text": [
      "  4%|▍         | 20/500 [00:39<15:56,  1.99s/it]"
     ]
    },
    {
     "name": "stdout",
     "output_type": "stream",
     "text": [
      "Initial log joint probability = -20.7053\n",
      "    Iter      log prob        ||dx||      ||grad||       alpha      alpha0  # evals  Notes \n",
      "      98       2482.26   0.000209279       112.769   1.462e-06       0.001      192  LS failed, Hessian reset \n",
      "      99       2482.31    0.00124962       83.2433          10           1      194   \n",
      "    Iter      log prob        ||dx||      ||grad||       alpha      alpha0  # evals  Notes \n",
      "     114        2482.4   9.02554e-05       51.7204   1.639e-06       0.001      247  LS failed, Hessian reset \n",
      "     136       2482.41   2.62744e-05        85.761   3.638e-07       0.001      312  LS failed, Hessian reset \n",
      "     159       2482.41   1.24874e-07       61.4959      0.8433      0.8433      349   \n",
      "Optimization terminated normally: \n",
      "  Convergence detected: relative gradient magnitude is below tolerance\n"
     ]
    },
    {
     "name": "stderr",
     "output_type": "stream",
     "text": [
      "  4%|▍         | 21/500 [00:41<15:48,  1.98s/it]"
     ]
    },
    {
     "name": "stdout",
     "output_type": "stream",
     "text": [
      "Initial log joint probability = -45.8507\n",
      "    Iter      log prob        ||dx||      ||grad||       alpha      alpha0  # evals  Notes \n",
      "      99       2668.74     0.0113317       174.312       0.754           1      131   \n",
      "    Iter      log prob        ||dx||      ||grad||       alpha      alpha0  # evals  Notes \n",
      "     194       2674.51   0.000162636       126.753    1.28e-06       0.001      302  LS failed, Hessian reset \n",
      "     199       2675.04    0.00167878       105.375      0.4941      0.4941      308   \n",
      "    Iter      log prob        ||dx||      ||grad||       alpha      alpha0  # evals  Notes \n",
      "     299       2675.46   0.000157333       72.0744      0.3302           1      454   \n",
      "    Iter      log prob        ||dx||      ||grad||       alpha      alpha0  # evals  Notes \n",
      "     316       2675.54   0.000465666       103.308   5.785e-06       0.001      520  LS failed, Hessian reset \n",
      "     399       2675.57   9.19399e-07       60.2232           1           1      649   \n",
      "    Iter      log prob        ||dx||      ||grad||       alpha      alpha0  # evals  Notes \n",
      "     403       2675.57   7.13039e-07       65.7064   1.198e-08       0.001      691  LS failed, Hessian reset \n",
      "     406       2675.57   1.49477e-07       44.4801      0.5777      0.5777      694   \n",
      "Optimization terminated normally: \n",
      "  Convergence detected: relative gradient magnitude is below tolerance\n"
     ]
    },
    {
     "name": "stderr",
     "output_type": "stream",
     "text": [
      "  4%|▍         | 22/500 [00:43<15:48,  1.98s/it]"
     ]
    },
    {
     "name": "stdout",
     "output_type": "stream",
     "text": [
      "Initial log joint probability = -27.2644\n",
      "    Iter      log prob        ||dx||      ||grad||       alpha      alpha0  # evals  Notes \n",
      "      99       2514.18    0.00632292       220.465           1           1      127   \n",
      "    Iter      log prob        ||dx||      ||grad||       alpha      alpha0  # evals  Notes \n",
      "     152       2516.09   0.000798114       259.298   6.564e-06       0.001      252  LS failed, Hessian reset \n",
      "     199       2516.84   0.000122496       74.0113           1           1      311   \n",
      "    Iter      log prob        ||dx||      ||grad||       alpha      alpha0  # evals  Notes \n",
      "     214       2516.87   0.000123065       58.5529   1.628e-06       0.001      371  LS failed, Hessian reset \n",
      "     277       2516.88   1.42151e-07       45.6878      0.4006           1      466   \n",
      "Optimization terminated normally: \n",
      "  Convergence detected: relative gradient magnitude is below tolerance\n"
     ]
    },
    {
     "name": "stderr",
     "output_type": "stream",
     "text": [
      "  5%|▍         | 23/500 [00:45<15:33,  1.96s/it]"
     ]
    },
    {
     "name": "stdout",
     "output_type": "stream",
     "text": [
      "Initial log joint probability = -18.5307\n",
      "    Iter      log prob        ||dx||      ||grad||       alpha      alpha0  # evals  Notes \n",
      "      94       2540.79   0.000503117       268.022   2.394e-06       0.001      151  LS failed, Hessian reset \n",
      "      99       2541.02   0.000962941        87.022           1           1      157   \n",
      "    Iter      log prob        ||dx||      ||grad||       alpha      alpha0  # evals  Notes \n",
      "     199       2542.29   6.47086e-05       69.8765      0.8162      0.8162      281   \n",
      "    Iter      log prob        ||dx||      ||grad||       alpha      alpha0  # evals  Notes \n",
      "     252       2542.29   7.68921e-08       67.3375      0.4228           1      363   \n",
      "Optimization terminated normally: \n",
      "  Convergence detected: relative gradient magnitude is below tolerance\n"
     ]
    },
    {
     "name": "stderr",
     "output_type": "stream",
     "text": [
      "  5%|▍         | 24/500 [00:47<14:58,  1.89s/it]"
     ]
    },
    {
     "name": "stdout",
     "output_type": "stream",
     "text": [
      "Initial log joint probability = -19.44\n",
      "    Iter      log prob        ||dx||      ||grad||       alpha      alpha0  # evals  Notes \n",
      "      99       2376.92    0.00617988       341.663      0.2197      0.7359      124   \n",
      "    Iter      log prob        ||dx||      ||grad||       alpha      alpha0  # evals  Notes \n",
      "     199       2379.04   3.24455e-05       93.6909           1           1      249   \n",
      "    Iter      log prob        ||dx||      ||grad||       alpha      alpha0  # evals  Notes \n",
      "     205       2379.06   9.52943e-05       75.1201   1.103e-06       0.001      288  LS failed, Hessian reset \n",
      "     238       2379.06    4.8335e-06       80.0862   5.528e-08       0.001      375  LS failed, Hessian reset \n",
      "     263       2379.06   5.58309e-08       80.1693      0.1763           1      410   \n",
      "Optimization terminated normally: \n",
      "  Convergence detected: relative gradient magnitude is below tolerance\n"
     ]
    },
    {
     "name": "stderr",
     "output_type": "stream",
     "text": [
      "  5%|▌         | 25/500 [00:49<15:00,  1.90s/it]"
     ]
    },
    {
     "name": "stdout",
     "output_type": "stream",
     "text": [
      "Initial log joint probability = -16.3394\n",
      "    Iter      log prob        ||dx||      ||grad||       alpha      alpha0  # evals  Notes \n",
      "      99       2490.47   0.000244066       137.785    2.08e-06       0.001      162  LS failed, Hessian reset \n",
      "    Iter      log prob        ||dx||      ||grad||       alpha      alpha0  # evals  Notes \n",
      "     164       2491.36    0.00197681       125.772   1.856e-05       0.001      298  LS failed, Hessian reset \n",
      "     199        2491.7   5.57524e-05       87.4257           1           1      343   \n",
      "    Iter      log prob        ||dx||      ||grad||       alpha      alpha0  # evals  Notes \n",
      "     238       2491.72   5.35462e-05        93.744   5.213e-07       0.001      432  LS failed, Hessian reset \n",
      "     272       2491.72   6.03637e-08        72.156      0.3643           1      474   \n",
      "Optimization terminated normally: \n",
      "  Convergence detected: relative gradient magnitude is below tolerance\n"
     ]
    },
    {
     "name": "stderr",
     "output_type": "stream",
     "text": [
      "  5%|▌         | 26/500 [00:51<14:58,  1.90s/it]"
     ]
    },
    {
     "name": "stdout",
     "output_type": "stream",
     "text": [
      "Initial log joint probability = -42.5165\n",
      "    Iter      log prob        ||dx||      ||grad||       alpha      alpha0  # evals  Notes \n",
      "      99       2349.99    0.00211238       218.666      0.7354      0.7354      123   \n",
      "    Iter      log prob        ||dx||      ||grad||       alpha      alpha0  # evals  Notes \n",
      "     127       2351.85   0.000257526       120.777   1.698e-06       0.001      206  LS failed, Hessian reset \n",
      "     199       2354.78   0.000259498       108.549   1.324e-06       0.001      350  LS failed, Hessian reset \n",
      "    Iter      log prob        ||dx||      ||grad||       alpha      alpha0  # evals  Notes \n",
      "     254       2356.05   0.000199873       96.6317   2.414e-06       0.001      448  LS failed, Hessian reset \n",
      "     299       2356.06   9.68287e-07       84.1168           1           1      502   \n",
      "    Iter      log prob        ||dx||      ||grad||       alpha      alpha0  # evals  Notes \n",
      "     346       2356.06   8.23006e-06       73.9347   9.735e-08       0.001      611  LS failed, Hessian reset \n",
      "     368       2356.06   5.23593e-08       95.0333      0.3831      0.3831      640   \n",
      "Optimization terminated normally: \n",
      "  Convergence detected: relative gradient magnitude is below tolerance\n"
     ]
    },
    {
     "name": "stderr",
     "output_type": "stream",
     "text": [
      "  5%|▌         | 27/500 [00:53<14:53,  1.89s/it]"
     ]
    },
    {
     "name": "stdout",
     "output_type": "stream",
     "text": [
      "Initial log joint probability = -34.6455\n",
      "    Iter      log prob        ||dx||      ||grad||       alpha      alpha0  # evals  Notes \n",
      "      99       2512.02    0.00826998       166.206      0.2928           1      135   \n",
      "    Iter      log prob        ||dx||      ||grad||       alpha      alpha0  # evals  Notes \n",
      "     116       2513.35    0.00026105       148.717    2.03e-06       0.001      204  LS failed, Hessian reset \n",
      "     181       2515.83   0.000247304        107.93   9.681e-07       0.001      358  LS failed, Hessian reset \n",
      "     199       2517.05   0.000978041       80.5498      0.6328     0.06328      382   \n",
      "    Iter      log prob        ||dx||      ||grad||       alpha      alpha0  # evals  Notes \n",
      "     269       2517.38   0.000182562       110.536   1.871e-06       0.001      516  LS failed, Hessian reset \n",
      "     299       2517.41   6.20194e-05       76.7171     0.09536           1      552   \n",
      "    Iter      log prob        ||dx||      ||grad||       alpha      alpha0  # evals  Notes \n",
      "     333       2517.41   1.11783e-07       54.9642      0.3599      0.3599      601   \n",
      "Optimization terminated normally: \n",
      "  Convergence detected: relative gradient magnitude is below tolerance\n"
     ]
    },
    {
     "name": "stderr",
     "output_type": "stream",
     "text": [
      "  6%|▌         | 28/500 [00:55<14:58,  1.90s/it]"
     ]
    },
    {
     "name": "stdout",
     "output_type": "stream",
     "text": [
      "Initial log joint probability = -23.7892\n",
      "    Iter      log prob        ||dx||      ||grad||       alpha      alpha0  # evals  Notes \n",
      "      76       2428.98     0.0012398       244.659   7.938e-06       0.001      135  LS failed, Hessian reset \n",
      "      99       2429.78    0.00327572       141.349           1           1      162   \n",
      "    Iter      log prob        ||dx||      ||grad||       alpha      alpha0  # evals  Notes \n",
      "     124       2430.79   0.000710499       249.417   5.998e-06       0.001      230  LS failed, Hessian reset \n",
      "     184       2432.36   0.000351202       153.715    2.85e-06       0.001      355  LS failed, Hessian reset \n",
      "     199       2432.58   0.000467886       60.1526           1           1      372   \n",
      "    Iter      log prob        ||dx||      ||grad||       alpha      alpha0  # evals  Notes \n",
      "     256       2432.79   1.04062e-05        70.388   1.092e-07       0.001      489  LS failed, Hessian reset \n",
      "     273       2432.79    5.9837e-08       63.5224      0.2597      0.2597      517   \n",
      "Optimization terminated normally: \n",
      "  Convergence detected: relative gradient magnitude is below tolerance\n"
     ]
    },
    {
     "name": "stderr",
     "output_type": "stream",
     "text": [
      "  6%|▌         | 29/500 [00:57<14:59,  1.91s/it]"
     ]
    },
    {
     "name": "stdout",
     "output_type": "stream",
     "text": [
      "Initial log joint probability = -23.0078\n",
      "    Iter      log prob        ||dx||      ||grad||       alpha      alpha0  # evals  Notes \n",
      "      99          2497     0.0031259       166.877      0.4361           1      120   \n",
      "    Iter      log prob        ||dx||      ||grad||       alpha      alpha0  # evals  Notes \n",
      "     162       2499.24   0.000640897         247.8   4.811e-06       0.001      242  LS failed, Hessian reset \n",
      "     199       2499.93   1.60513e-05       86.1568      0.5034      0.5034      286   \n",
      "    Iter      log prob        ||dx||      ||grad||       alpha      alpha0  # evals  Notes \n",
      "     278       2499.95   5.96647e-05       88.3011   7.745e-07       0.001      441  LS failed, Hessian reset \n",
      "     299       2499.96   1.88432e-06       90.2889      0.2218      0.8913      469   \n",
      "    Iter      log prob        ||dx||      ||grad||       alpha      alpha0  # evals  Notes \n",
      "     367       2499.96   3.00906e-07       70.8351      0.2896           1      555   \n",
      "Optimization terminated normally: \n",
      "  Convergence detected: relative gradient magnitude is below tolerance\n"
     ]
    },
    {
     "name": "stderr",
     "output_type": "stream",
     "text": [
      "  6%|▌         | 30/500 [00:58<14:51,  1.90s/it]"
     ]
    },
    {
     "name": "stdout",
     "output_type": "stream",
     "text": [
      "Initial log joint probability = -21.4448\n",
      "    Iter      log prob        ||dx||      ||grad||       alpha      alpha0  # evals  Notes \n",
      "      99       2190.79    0.00030119       73.1041      0.1908           1      126   \n",
      "    Iter      log prob        ||dx||      ||grad||       alpha      alpha0  # evals  Notes \n",
      "     157       2191.38   0.000602471       193.437   4.603e-06       0.001      241  LS failed, Hessian reset \n",
      "     199       2191.56   0.000192888       80.0734      0.6387      0.6387      291   \n",
      "    Iter      log prob        ||dx||      ||grad||       alpha      alpha0  # evals  Notes \n",
      "     252       2191.61   1.19067e-05       82.8064   1.433e-07       0.001      394  LS failed, Hessian reset \n",
      "     281       2191.61   4.77923e-08       77.1585      0.2009           1      430   \n",
      "Optimization terminated normally: \n",
      "  Convergence detected: relative gradient magnitude is below tolerance\n"
     ]
    },
    {
     "name": "stderr",
     "output_type": "stream",
     "text": [
      "  6%|▌         | 31/500 [01:00<14:42,  1.88s/it]"
     ]
    },
    {
     "name": "stdout",
     "output_type": "stream",
     "text": [
      "Initial log joint probability = -33.2144\n",
      "    Iter      log prob        ||dx||      ||grad||       alpha      alpha0  # evals  Notes \n",
      "      72       2612.56   0.000276502       175.986   2.772e-06       0.001      133  LS failed, Hessian reset \n",
      "      99       2613.39    0.00119042       113.028      0.4017           1      164   \n",
      "    Iter      log prob        ||dx||      ||grad||       alpha      alpha0  # evals  Notes \n",
      "     114       2614.14    0.00109834       275.099   1.175e-05       0.001      220  LS failed, Hessian reset \n",
      "     195       2616.08    0.00138543       308.358   1.211e-05       0.001      357  LS failed, Hessian reset \n",
      "     199       2616.14   0.000205596       95.6721           1           1      361   \n",
      "    Iter      log prob        ||dx||      ||grad||       alpha      alpha0  # evals  Notes \n",
      "     299       2616.35   1.93777e-06       81.5954      0.3692           1      495   \n",
      "    Iter      log prob        ||dx||      ||grad||       alpha      alpha0  # evals  Notes \n",
      "     315       2616.35   2.44878e-07       83.7274       0.301           1      516   \n",
      "Optimization terminated normally: \n",
      "  Convergence detected: relative gradient magnitude is below tolerance\n"
     ]
    },
    {
     "name": "stderr",
     "output_type": "stream",
     "text": [
      "  6%|▋         | 32/500 [01:02<14:44,  1.89s/it]"
     ]
    },
    {
     "name": "stdout",
     "output_type": "stream",
     "text": [
      "Initial log joint probability = -24.7652\n",
      "    Iter      log prob        ||dx||      ||grad||       alpha      alpha0  # evals  Notes \n",
      "      99       2351.74    0.00374543       90.8886           1           1      155   \n",
      "    Iter      log prob        ||dx||      ||grad||       alpha      alpha0  # evals  Notes \n",
      "     173       2352.33   0.000525419        91.292   5.927e-06       0.001      309  LS failed, Hessian reset \n",
      "     199       2352.35   2.35007e-05       66.1751       1.655      0.5767      342   \n",
      "    Iter      log prob        ||dx||      ||grad||       alpha      alpha0  # evals  Notes \n",
      "     241       2352.35   4.72833e-08       70.8639      0.2843           1      405   \n",
      "Optimization terminated normally: \n",
      "  Convergence detected: relative gradient magnitude is below tolerance\n"
     ]
    },
    {
     "name": "stderr",
     "output_type": "stream",
     "text": [
      "  7%|▋         | 33/500 [01:04<14:14,  1.83s/it]"
     ]
    },
    {
     "name": "stdout",
     "output_type": "stream",
     "text": [
      "Initial log joint probability = -13.9421\n",
      "    Iter      log prob        ||dx||      ||grad||       alpha      alpha0  # evals  Notes \n",
      "      67       2466.38     0.0011786       227.422   1.022e-05       0.001      119  LS failed, Hessian reset \n",
      "      99       2466.57    2.8507e-05       80.9112      0.2329           1      157   \n",
      "    Iter      log prob        ||dx||      ||grad||       alpha      alpha0  # evals  Notes \n",
      "     175       2467.04   1.81409e-07       75.4444           1           1      257   \n",
      "Optimization terminated normally: \n",
      "  Convergence detected: relative gradient magnitude is below tolerance\n"
     ]
    },
    {
     "name": "stderr",
     "output_type": "stream",
     "text": [
      "  7%|▋         | 34/500 [01:06<14:04,  1.81s/it]"
     ]
    },
    {
     "name": "stdout",
     "output_type": "stream",
     "text": [
      "Initial log joint probability = -23.236\n",
      "    Iter      log prob        ||dx||      ||grad||       alpha      alpha0  # evals  Notes \n",
      "      99       2293.61    0.00182138       115.034      0.2997           1      125   \n",
      "    Iter      log prob        ||dx||      ||grad||       alpha      alpha0  # evals  Notes \n",
      "     161       2294.55   0.000356614       94.9114   4.672e-06       0.001      242  LS failed, Hessian reset \n",
      "     199       2294.77   8.22076e-05       73.6505      0.4932      0.4932      288   \n",
      "    Iter      log prob        ||dx||      ||grad||       alpha      alpha0  # evals  Notes \n",
      "     299       2294.82   7.74997e-06       97.9333      0.5185      0.5185      412   \n",
      "    Iter      log prob        ||dx||      ||grad||       alpha      alpha0  # evals  Notes \n",
      "     338       2294.83    1.7532e-07       76.6025      0.4855      0.4855      462   \n",
      "Optimization terminated normally: \n",
      "  Convergence detected: relative gradient magnitude is below tolerance\n"
     ]
    },
    {
     "name": "stderr",
     "output_type": "stream",
     "text": [
      "  7%|▋         | 35/500 [01:07<14:03,  1.81s/it]"
     ]
    },
    {
     "name": "stdout",
     "output_type": "stream",
     "text": [
      "Initial log joint probability = -31.3194\n",
      "    Iter      log prob        ||dx||      ||grad||       alpha      alpha0  # evals  Notes \n",
      "      99       2183.42    0.00301576       166.397           1           1      120   \n",
      "    Iter      log prob        ||dx||      ||grad||       alpha      alpha0  # evals  Notes \n",
      "     150       2185.59   0.000842076       121.559   1.067e-05       0.001      240  LS failed, Hessian reset \n",
      "     199       2186.15   2.85771e-05       72.1154           1           1      305   \n",
      "    Iter      log prob        ||dx||      ||grad||       alpha      alpha0  # evals  Notes \n",
      "     265       2186.18   0.000178036       84.1751   2.163e-06       0.001      427  LS failed, Hessian reset \n",
      "     299       2186.21   2.64698e-06       62.9735      0.2269           1      472   \n",
      "    Iter      log prob        ||dx||      ||grad||       alpha      alpha0  # evals  Notes \n",
      "     328       2186.21    1.2895e-07       57.2724      0.5866      0.5866      510   \n",
      "Optimization terminated normally: \n",
      "  Convergence detected: relative gradient magnitude is below tolerance\n"
     ]
    },
    {
     "name": "stderr",
     "output_type": "stream",
     "text": [
      "  7%|▋         | 36/500 [01:09<13:57,  1.80s/it]"
     ]
    },
    {
     "name": "stdout",
     "output_type": "stream",
     "text": [
      "Initial log joint probability = -21.7201\n",
      "    Iter      log prob        ||dx||      ||grad||       alpha      alpha0  # evals  Notes \n",
      "      98        2186.1   0.000356113       116.046   1.745e-06       0.001      157  LS failed, Hessian reset \n",
      "      99       2186.25    0.00174413       115.257          10           1      159   \n",
      "    Iter      log prob        ||dx||      ||grad||       alpha      alpha0  # evals  Notes \n",
      "     199       2187.82   0.000137644       81.0235      0.5905      0.5905      275   \n",
      "    Iter      log prob        ||dx||      ||grad||       alpha      alpha0  # evals  Notes \n",
      "     255       2187.88   1.50041e-07       80.1037           1           1      349   \n",
      "Optimization terminated normally: \n",
      "  Convergence detected: relative gradient magnitude is below tolerance\n"
     ]
    },
    {
     "name": "stderr",
     "output_type": "stream",
     "text": [
      "  7%|▋         | 37/500 [01:11<13:43,  1.78s/it]"
     ]
    },
    {
     "name": "stdout",
     "output_type": "stream",
     "text": [
      "Initial log joint probability = -35.0792\n",
      "    Iter      log prob        ||dx||      ||grad||       alpha      alpha0  # evals  Notes \n",
      "      99       2385.84    0.00185469       78.0393           1           1      130   \n",
      "    Iter      log prob        ||dx||      ||grad||       alpha      alpha0  # evals  Notes \n",
      "     131       2387.52     0.0008724       297.154   5.457e-06       0.001      199  LS failed, Hessian reset \n",
      "     199       2389.44     0.0225215       117.476           1           1      281   \n",
      "    Iter      log prob        ||dx||      ||grad||       alpha      alpha0  # evals  Notes \n",
      "     201       2389.62   0.000442774       187.998   4.314e-06       0.001      328  LS failed, Hessian reset \n",
      "     299       2390.21   5.24855e-07       75.7849           1           1      461   \n",
      "    Iter      log prob        ||dx||      ||grad||       alpha      alpha0  # evals  Notes \n",
      "     325       2390.21   1.51662e-07       79.1167      0.2067           1      493   \n",
      "Optimization terminated normally: \n",
      "  Convergence detected: relative gradient magnitude is below tolerance\n"
     ]
    },
    {
     "name": "stderr",
     "output_type": "stream",
     "text": [
      "  8%|▊         | 38/500 [01:13<13:44,  1.79s/it]"
     ]
    },
    {
     "name": "stdout",
     "output_type": "stream",
     "text": [
      "Initial log joint probability = -24.2716\n",
      "    Iter      log prob        ||dx||      ||grad||       alpha      alpha0  # evals  Notes \n",
      "      99       2182.98    0.00167785        108.99      0.7757      0.7757      129   \n",
      "    Iter      log prob        ||dx||      ||grad||       alpha      alpha0  # evals  Notes \n",
      "     115       2183.54   0.000315738       120.625   2.251e-06       0.001      182  LS failed, Hessian reset \n",
      "     199       2183.75   2.71095e-06       69.4444     0.09217      0.3585      285   \n",
      "    Iter      log prob        ||dx||      ||grad||       alpha      alpha0  # evals  Notes \n",
      "     262       2183.75   6.82652e-06       84.1774   8.518e-08       0.001      398  LS failed, Hessian reset \n",
      "     293       2183.76   4.10048e-07       74.6642      0.5986      0.5986      438   \n",
      "Optimization terminated normally: \n",
      "  Convergence detected: relative gradient magnitude is below tolerance\n"
     ]
    },
    {
     "name": "stderr",
     "output_type": "stream",
     "text": [
      "  8%|▊         | 39/500 [01:15<13:49,  1.80s/it]"
     ]
    },
    {
     "name": "stdout",
     "output_type": "stream",
     "text": [
      "Initial log joint probability = -24.7757\n",
      "    Iter      log prob        ||dx||      ||grad||       alpha      alpha0  # evals  Notes \n",
      "      99       2333.94   0.000171819       67.5207      0.4904      0.4904      129   \n",
      "    Iter      log prob        ||dx||      ||grad||       alpha      alpha0  # evals  Notes \n",
      "     118       2334.13     0.0011734       96.9956   1.364e-05       0.001      196  LS failed, Hessian reset \n",
      "     172        2334.2   1.98344e-07       78.5105           1           1      269   \n",
      "Optimization terminated normally: \n",
      "  Convergence detected: relative gradient magnitude is below tolerance\n"
     ]
    },
    {
     "name": "stderr",
     "output_type": "stream",
     "text": [
      "  8%|▊         | 40/500 [01:16<13:33,  1.77s/it]"
     ]
    },
    {
     "name": "stdout",
     "output_type": "stream",
     "text": [
      "Initial log joint probability = -34.8339\n",
      "    Iter      log prob        ||dx||      ||grad||       alpha      alpha0  # evals  Notes \n",
      "      99        2180.2    0.00175521       80.1503           1           1      133   \n",
      "    Iter      log prob        ||dx||      ||grad||       alpha      alpha0  # evals  Notes \n",
      "     199        2180.9   2.41391e-07       67.8316           1           1      273   \n",
      "    Iter      log prob        ||dx||      ||grad||       alpha      alpha0  # evals  Notes \n",
      "     209        2180.9   1.72984e-06        78.692   2.511e-08       0.001      328  LS failed, Hessian reset \n",
      "     216        2180.9    2.7837e-08       69.9189     0.05848           1      339   \n",
      "Optimization terminated normally: \n",
      "  Convergence detected: relative gradient magnitude is below tolerance\n"
     ]
    },
    {
     "name": "stderr",
     "output_type": "stream",
     "text": [
      "  8%|▊         | 41/500 [01:18<13:12,  1.73s/it]"
     ]
    },
    {
     "name": "stdout",
     "output_type": "stream",
     "text": [
      "Initial log joint probability = -33.5877\n",
      "    Iter      log prob        ||dx||      ||grad||       alpha      alpha0  # evals  Notes \n",
      "      69       2262.37   0.000266897       89.9633   1.496e-06       0.001      121  LS failed, Hessian reset \n",
      "      99       2264.71    0.00338872       184.158      0.7551      0.7551      154   \n",
      "    Iter      log prob        ||dx||      ||grad||       alpha      alpha0  # evals  Notes \n",
      "     134       2267.96   0.000502761       181.326   4.825e-06       0.001      235  LS failed, Hessian reset \n",
      "     195       2270.01    0.00284213       144.989   1.994e-05       0.001      342  LS failed, Hessian reset \n",
      "     199       2270.26    0.00247954       108.579           1           1      347   \n",
      "    Iter      log prob        ||dx||      ||grad||       alpha      alpha0  # evals  Notes \n",
      "     243       2270.48   5.84012e-06       81.8139    8.08e-08       0.001      440  LS failed, Hessian reset \n",
      "     261       2270.48   1.39437e-07       71.2804           1           1      466   \n",
      "Optimization terminated normally: \n",
      "  Convergence detected: relative gradient magnitude is below tolerance\n"
     ]
    },
    {
     "name": "stderr",
     "output_type": "stream",
     "text": [
      "  8%|▊         | 42/500 [01:20<13:17,  1.74s/it]"
     ]
    },
    {
     "name": "stdout",
     "output_type": "stream",
     "text": [
      "Initial log joint probability = -20.2419\n",
      "    Iter      log prob        ||dx||      ||grad||       alpha      alpha0  # evals  Notes \n",
      "      90       2185.31    0.00243635       240.077    2.03e-05       0.001      151  LS failed, Hessian reset \n",
      "      99       2185.43   0.000117324        88.201      0.5176      0.5176      162   \n",
      "    Iter      log prob        ||dx||      ||grad||       alpha      alpha0  # evals  Notes \n",
      "     129       2185.45   1.56974e-07       61.6273      0.4624      0.4624      206   \n",
      "Optimization terminated normally: \n",
      "  Convergence detected: relative gradient magnitude is below tolerance\n"
     ]
    },
    {
     "name": "stderr",
     "output_type": "stream",
     "text": [
      "  9%|▊         | 43/500 [01:21<13:01,  1.71s/it]"
     ]
    },
    {
     "name": "stdout",
     "output_type": "stream",
     "text": [
      "Initial log joint probability = -49.8379\n",
      "    Iter      log prob        ||dx||      ||grad||       alpha      alpha0  # evals  Notes \n",
      "      99       2198.66    0.00136088       159.154           1           1      139   \n",
      "    Iter      log prob        ||dx||      ||grad||       alpha      alpha0  # evals  Notes \n",
      "     136       2200.33   0.000462544       141.372   1.731e-06       0.001      235  LS failed, Hessian reset \n",
      "     199       2202.23   0.000829627       202.743      0.7601      0.7601      305   \n",
      "    Iter      log prob        ||dx||      ||grad||       alpha      alpha0  # evals  Notes \n",
      "     216       2202.98   0.000386334       138.186   3.559e-06       0.001      356  LS failed, Hessian reset \n",
      "     297        2203.2   1.35055e-07        81.391           1           1      466   \n",
      "Optimization terminated normally: \n",
      "  Convergence detected: relative gradient magnitude is below tolerance\n"
     ]
    },
    {
     "name": "stderr",
     "output_type": "stream",
     "text": [
      "  9%|▉         | 44/500 [01:23<13:00,  1.71s/it]"
     ]
    },
    {
     "name": "stdout",
     "output_type": "stream",
     "text": [
      "Initial log joint probability = -18.9477\n",
      "    Iter      log prob        ||dx||      ||grad||       alpha      alpha0  # evals  Notes \n",
      "      99        2175.9   0.000573561       100.559           1           1      121   \n",
      "    Iter      log prob        ||dx||      ||grad||       alpha      alpha0  # evals  Notes \n",
      "     141       2176.43   0.000344435       118.778   1.931e-06       0.001      214  LS failed, Hessian reset \n",
      "     188        2176.7   0.000294321       123.173   2.228e-06       0.001      307  LS failed, Hessian reset \n",
      "     199       2176.71   3.90547e-06       63.3129      0.4762      0.4762      322   \n",
      "    Iter      log prob        ||dx||      ||grad||       alpha      alpha0  # evals  Notes \n",
      "     271       2176.72   3.72511e-05       88.5232   3.662e-07       0.001      446  LS failed, Hessian reset \n",
      "     299       2176.72   4.70192e-06       92.9591           1           1      477   \n",
      "    Iter      log prob        ||dx||      ||grad||       alpha      alpha0  # evals  Notes \n",
      "     314       2176.72    1.1573e-07       80.3398           1           1      497   \n",
      "Optimization terminated normally: \n",
      "  Convergence detected: relative gradient magnitude is below tolerance\n"
     ]
    },
    {
     "name": "stderr",
     "output_type": "stream",
     "text": [
      "  9%|▉         | 45/500 [01:25<13:11,  1.74s/it]"
     ]
    },
    {
     "name": "stdout",
     "output_type": "stream",
     "text": [
      "Initial log joint probability = -34.117\n",
      "    Iter      log prob        ||dx||      ||grad||       alpha      alpha0  # evals  Notes \n",
      "      99       2016.41    0.00211187       78.7925      0.8262      0.8262      128   \n",
      "    Iter      log prob        ||dx||      ||grad||       alpha      alpha0  # evals  Notes \n",
      "     111       2016.61   0.000285374       76.8511   3.024e-06       0.001      189  LS failed, Hessian reset \n",
      "     199       2016.74   5.21547e-06       77.8021      0.1867      0.1867      291   \n",
      "    Iter      log prob        ||dx||      ||grad||       alpha      alpha0  # evals  Notes \n",
      "     223       2016.74   1.78409e-07       82.7356      0.3701           1      323   \n",
      "Optimization terminated normally: \n",
      "  Convergence detected: relative gradient magnitude is below tolerance\n"
     ]
    },
    {
     "name": "stderr",
     "output_type": "stream",
     "text": [
      "  9%|▉         | 46/500 [01:27<13:05,  1.73s/it]"
     ]
    },
    {
     "name": "stdout",
     "output_type": "stream",
     "text": [
      "Initial log joint probability = -33.0898\n",
      "    Iter      log prob        ||dx||      ||grad||       alpha      alpha0  # evals  Notes \n",
      "      99       2128.46   1.79888e-06       76.5119           1           1      143   \n",
      "    Iter      log prob        ||dx||      ||grad||       alpha      alpha0  # evals  Notes \n",
      "     103       2128.47   1.78185e-05       83.6367   2.125e-07       0.001      189  LS failed, Hessian reset \n",
      "     134       2128.47   1.40148e-07       71.7045           1           1      235   \n",
      "Optimization terminated normally: \n",
      "  Convergence detected: relative gradient magnitude is below tolerance\n"
     ]
    },
    {
     "name": "stderr",
     "output_type": "stream",
     "text": [
      "  9%|▉         | 47/500 [01:28<12:57,  1.72s/it]"
     ]
    },
    {
     "name": "stdout",
     "output_type": "stream",
     "text": [
      "Initial log joint probability = -40.8026\n",
      "    Iter      log prob        ||dx||      ||grad||       alpha      alpha0  # evals  Notes \n",
      "      71       2236.94   0.000309075       120.032   2.339e-06       0.001      125  LS failed, Hessian reset \n",
      "      99       2238.68    0.00229393       119.606           1           1      163   \n",
      "    Iter      log prob        ||dx||      ||grad||       alpha      alpha0  # evals  Notes \n",
      "     179       2241.82   0.000301745       102.669   2.053e-06       0.001      333  LS failed, Hessian reset \n",
      "     199       2242.03   0.000139515       69.2228       0.243           1      358   \n",
      "    Iter      log prob        ||dx||      ||grad||       alpha      alpha0  # evals  Notes \n",
      "     261       2242.38   0.000539649        83.755   7.213e-06       0.001      496  LS failed, Hessian reset \n",
      "     299       2242.44   0.000415105       78.4006      0.2893           1      553   \n",
      "    Iter      log prob        ||dx||      ||grad||       alpha      alpha0  # evals  Notes \n",
      "     302       2242.45   3.71497e-05       79.7147   5.234e-07       0.001      607  LS failed, Hessian reset \n",
      "     346       2242.45   9.14965e-07       94.4061   1.323e-08       0.001      709  LS failed, Hessian reset \n",
      "     355       2242.45   1.35718e-07       60.4864           1           1      719   \n",
      "Optimization terminated normally: \n",
      "  Convergence detected: relative gradient magnitude is below tolerance\n"
     ]
    },
    {
     "name": "stderr",
     "output_type": "stream",
     "text": [
      " 10%|▉         | 48/500 [01:30<13:32,  1.80s/it]"
     ]
    },
    {
     "name": "stdout",
     "output_type": "stream",
     "text": [
      "Initial log joint probability = -19.1528\n",
      "    Iter      log prob        ||dx||      ||grad||       alpha      alpha0  # evals  Notes \n",
      "      99       2258.06    0.00045391       85.0264      0.5763      0.5763      122   \n",
      "    Iter      log prob        ||dx||      ||grad||       alpha      alpha0  # evals  Notes \n",
      "     141       2258.59   0.000811294       158.342   8.416e-06       0.001      217  LS failed, Hessian reset \n",
      "     199       2258.89    1.6064e-05       74.2495      0.3338      0.3338      292   \n",
      "    Iter      log prob        ||dx||      ||grad||       alpha      alpha0  # evals  Notes \n",
      "     228       2258.89   5.54583e-08       80.8611      0.2973           1      333   \n",
      "Optimization terminated normally: \n",
      "  Convergence detected: relative gradient magnitude is below tolerance\n"
     ]
    },
    {
     "name": "stderr",
     "output_type": "stream",
     "text": [
      " 10%|▉         | 49/500 [01:32<13:24,  1.78s/it]"
     ]
    },
    {
     "name": "stdout",
     "output_type": "stream",
     "text": [
      "Initial log joint probability = -41.0122\n",
      "    Iter      log prob        ||dx||      ||grad||       alpha      alpha0  # evals  Notes \n",
      "      99       2182.56   0.000948397       166.292     0.00624      0.5495      138   \n",
      "    Iter      log prob        ||dx||      ||grad||       alpha      alpha0  # evals  Notes \n",
      "     199       2186.82   0.000210343       76.9858           1           1      261   \n",
      "    Iter      log prob        ||dx||      ||grad||       alpha      alpha0  # evals  Notes \n",
      "     212        2187.4   0.000912083       232.209    8.47e-06       0.001      310  LS failed, Hessian reset \n",
      "     283       2187.93   2.30555e-07       70.7552       1.692      0.1692      403   \n",
      "Optimization terminated normally: \n",
      "  Convergence detected: relative gradient magnitude is below tolerance\n"
     ]
    },
    {
     "name": "stderr",
     "output_type": "stream",
     "text": [
      " 10%|█         | 50/500 [01:34<13:19,  1.78s/it]"
     ]
    },
    {
     "name": "stdout",
     "output_type": "stream",
     "text": [
      "Initial log joint probability = -23.6766\n",
      "    Iter      log prob        ||dx||      ||grad||       alpha      alpha0  # evals  Notes \n",
      "      99       2684.46     0.0024486       96.2059           1           1      131   \n",
      "    Iter      log prob        ||dx||      ||grad||       alpha      alpha0  # evals  Notes \n",
      "     113       2685.49   0.000187917       116.054   2.586e-06       0.001      188  LS failed, Hessian reset \n",
      "     162       2686.27    0.00188873       136.671   1.692e-05       0.001      278  LS failed, Hessian reset \n",
      "     199       2686.77   0.000179218       76.5665           1           1      324   \n",
      "    Iter      log prob        ||dx||      ||grad||       alpha      alpha0  # evals  Notes \n",
      "     212       2686.79   4.03489e-05       84.0349   5.446e-07       0.001      390  LS failed, Hessian reset \n",
      "     236       2686.79    9.5134e-08       50.7304      0.2708           1      423   \n",
      "Optimization terminated normally: \n",
      "  Convergence detected: relative gradient magnitude is below tolerance\n"
     ]
    },
    {
     "name": "stderr",
     "output_type": "stream",
     "text": [
      " 10%|█         | 51/500 [01:36<13:29,  1.80s/it]"
     ]
    },
    {
     "name": "stdout",
     "output_type": "stream",
     "text": [
      "Initial log joint probability = -27.2286\n",
      "    Iter      log prob        ||dx||      ||grad||       alpha      alpha0  # evals  Notes \n",
      "      99       2834.17    0.00125015       143.008      0.7177      0.7177      129   \n",
      "    Iter      log prob        ||dx||      ||grad||       alpha      alpha0  # evals  Notes \n",
      "     117       2835.52   0.000144721       130.753   6.505e-07       0.001      199  LS failed, Hessian reset \n",
      "     199       2838.52   0.000834915       120.011           1           1      304   \n",
      "    Iter      log prob        ||dx||      ||grad||       alpha      alpha0  # evals  Notes \n",
      "     298       2839.04   2.28477e-06       61.7826   3.042e-08       0.001      463  LS failed, Hessian reset \n",
      "     299       2839.04   9.88373e-07       54.3039           1           1      464   \n",
      "    Iter      log prob        ||dx||      ||grad||       alpha      alpha0  # evals  Notes \n",
      "     306       2839.04   1.57781e-07       65.9741      0.5326      0.5326      472   \n",
      "Optimization terminated normally: \n",
      "  Convergence detected: relative gradient magnitude is below tolerance\n"
     ]
    },
    {
     "name": "stderr",
     "output_type": "stream",
     "text": [
      " 10%|█         | 52/500 [01:37<13:19,  1.79s/it]"
     ]
    },
    {
     "name": "stdout",
     "output_type": "stream",
     "text": [
      "Initial log joint probability = -28.2147\n",
      "    Iter      log prob        ||dx||      ||grad||       alpha      alpha0  # evals  Notes \n",
      "      99       2779.58    0.00210586       168.451           1           1      128   \n",
      "    Iter      log prob        ||dx||      ||grad||       alpha      alpha0  # evals  Notes \n",
      "     161       2781.22   0.000304348        165.55   5.823e-07       0.001      231  LS failed, Hessian reset \n",
      "     199       2782.16    0.00303139       194.544      0.5094      0.5094      279   \n",
      "    Iter      log prob        ||dx||      ||grad||       alpha      alpha0  # evals  Notes \n",
      "     218        2782.5   0.000142024       128.716    9.01e-07       0.001      357  LS failed, Hessian reset \n",
      "     299       2782.84   6.69887e-05       65.0555       0.919       0.919      461   \n",
      "    Iter      log prob        ||dx||      ||grad||       alpha      alpha0  # evals  Notes \n",
      "     302       2782.84   2.70209e-05       67.8643   4.191e-07       0.001      508  LS failed, Hessian reset \n",
      "     322       2782.84   1.99613e-07       62.9019       0.651           1      535   \n",
      "Optimization terminated normally: \n",
      "  Convergence detected: relative gradient magnitude is below tolerance\n"
     ]
    },
    {
     "name": "stderr",
     "output_type": "stream",
     "text": [
      " 11%|█         | 53/500 [01:39<13:18,  1.79s/it]"
     ]
    },
    {
     "name": "stdout",
     "output_type": "stream",
     "text": [
      "Initial log joint probability = -24.7744\n",
      "    Iter      log prob        ||dx||      ||grad||       alpha      alpha0  # evals  Notes \n",
      "      99       2737.68    0.00195509       88.1154      0.3866           1      113   \n",
      "    Iter      log prob        ||dx||      ||grad||       alpha      alpha0  # evals  Notes \n",
      "     183       2742.73    0.00021913       162.501   1.887e-06       0.001      287  LS failed, Hessian reset \n",
      "     193       2743.19   0.000140243       115.214   1.637e-06       0.001      335  LS failed, Hessian reset \n",
      "     199       2743.36    0.00117082        136.32           1           1      343   \n",
      "    Iter      log prob        ||dx||      ||grad||       alpha      alpha0  # evals  Notes \n",
      "     299        2743.5   4.75266e-06       69.2659           1           1      492   \n",
      "    Iter      log prob        ||dx||      ||grad||       alpha      alpha0  # evals  Notes \n",
      "     331       2743.55   0.000381779       64.7794   4.368e-06       0.001      575  LS failed, Hessian reset \n",
      "     354       2743.56   1.45566e-07       44.4169       0.437           1      614   \n",
      "Optimization terminated normally: \n",
      "  Convergence detected: relative gradient magnitude is below tolerance\n"
     ]
    },
    {
     "name": "stderr",
     "output_type": "stream",
     "text": [
      " 11%|█         | 54/500 [01:41<13:33,  1.82s/it]"
     ]
    },
    {
     "name": "stdout",
     "output_type": "stream",
     "text": [
      "Initial log joint probability = -22.3252\n",
      "    Iter      log prob        ||dx||      ||grad||       alpha      alpha0  # evals  Notes \n",
      "      99       2477.69   0.000327289       132.879      0.5964      0.5964      117   \n",
      "    Iter      log prob        ||dx||      ||grad||       alpha      alpha0  # evals  Notes \n",
      "     134       2478.48   0.000577392       155.102   6.845e-06       0.001      208  LS failed, Hessian reset \n",
      "     199       2478.68   0.000149326       83.5595      0.2378      0.8924      281   \n",
      "    Iter      log prob        ||dx||      ||grad||       alpha      alpha0  # evals  Notes \n",
      "     236       2478.68   1.85375e-07       86.8088      0.3178           1      330   \n",
      "Optimization terminated normally: \n",
      "  Convergence detected: relative gradient magnitude is below tolerance\n"
     ]
    },
    {
     "name": "stderr",
     "output_type": "stream",
     "text": [
      " 11%|█         | 55/500 [01:43<13:07,  1.77s/it]"
     ]
    },
    {
     "name": "stdout",
     "output_type": "stream",
     "text": [
      "Initial log joint probability = -19.3645\n",
      "    Iter      log prob        ||dx||      ||grad||       alpha      alpha0  # evals  Notes \n",
      "      88       2514.13   0.000296905       167.713   2.781e-06       0.001      140  LS failed, Hessian reset \n",
      "      99       2514.42   0.000316055       110.273           1           1      152   \n",
      "    Iter      log prob        ||dx||      ||grad||       alpha      alpha0  # evals  Notes \n",
      "     159        2515.1    0.00019607       99.8588   9.767e-07       0.001      264  LS failed, Hessian reset \n",
      "     199       2515.23   1.75338e-06       72.0497      0.5508      0.5508      317   \n",
      "    Iter      log prob        ||dx||      ||grad||       alpha      alpha0  # evals  Notes \n",
      "     211       2515.23   1.62167e-07       76.8561      0.2335           1      334   \n",
      "Optimization terminated normally: \n",
      "  Convergence detected: relative gradient magnitude is below tolerance\n"
     ]
    },
    {
     "name": "stderr",
     "output_type": "stream",
     "text": [
      " 11%|█         | 56/500 [01:44<12:55,  1.75s/it]"
     ]
    },
    {
     "name": "stdout",
     "output_type": "stream",
     "text": [
      "Initial log joint probability = -29.5669\n",
      "    Iter      log prob        ||dx||      ||grad||       alpha      alpha0  # evals  Notes \n",
      "      99       2507.82    0.00169835       190.909       0.227       0.227      130   \n",
      "    Iter      log prob        ||dx||      ||grad||       alpha      alpha0  # evals  Notes \n",
      "     140       2510.23    0.00038191       208.834   1.928e-06       0.001      206  LS failed, Hessian reset \n",
      "     199       2511.22   0.000820725        110.94           1           1      272   \n",
      "    Iter      log prob        ||dx||      ||grad||       alpha      alpha0  # evals  Notes \n",
      "     205       2511.93   0.000383402       225.109   1.609e-06       0.001      323  LS failed, Hessian reset \n",
      "     299       2512.72   4.62852e-07       76.4105      0.4132      0.4132      434   \n",
      "    Iter      log prob        ||dx||      ||grad||       alpha      alpha0  # evals  Notes \n",
      "     305       2512.72   1.37831e-07       79.6543      0.1133      0.3295      444   \n",
      "Optimization terminated normally: \n",
      "  Convergence detected: relative gradient magnitude is below tolerance\n"
     ]
    },
    {
     "name": "stderr",
     "output_type": "stream",
     "text": [
      " 11%|█▏        | 57/500 [01:46<12:57,  1.76s/it]"
     ]
    },
    {
     "name": "stdout",
     "output_type": "stream",
     "text": [
      "Initial log joint probability = -33.6716\n",
      "    Iter      log prob        ||dx||      ||grad||       alpha      alpha0  # evals  Notes \n",
      "      84       2739.77   0.000186355       155.617   1.078e-06       0.001      151  LS failed, Hessian reset \n",
      "      99       2740.93    0.00137889        136.99           1           1      168   \n",
      "    Iter      log prob        ||dx||      ||grad||       alpha      alpha0  # evals  Notes \n",
      "     129       2742.94   0.000260618       212.947   1.411e-06       0.001      238  LS failed, Hessian reset \n",
      "     194       2745.38   0.000244071       110.847   6.017e-07       0.001      365  LS failed, Hessian reset \n",
      "     199       2746.23    0.00228302       113.373      0.7041      0.7041      372   \n",
      "    Iter      log prob        ||dx||      ||grad||       alpha      alpha0  # evals  Notes \n",
      "     248       2746.93   0.000101844       69.5324   1.395e-06       0.001      464  LS failed, Hessian reset \n",
      "     299       2747.01   0.000904564         119.8           1           1      529   \n",
      "    Iter      log prob        ||dx||      ||grad||       alpha      alpha0  # evals  Notes \n",
      "     338       2747.22    0.00129112       342.297   1.441e-05       0.001      614  LS failed, Hessian reset \n",
      "     399       2747.31   3.42983e-06        44.108      0.6675      0.6675      699   \n",
      "    Iter      log prob        ||dx||      ||grad||       alpha      alpha0  # evals  Notes \n",
      "     430       2747.31   1.56152e-07       74.5703      0.2762           1      744   \n",
      "Optimization terminated normally: \n",
      "  Convergence detected: relative gradient magnitude is below tolerance\n"
     ]
    },
    {
     "name": "stderr",
     "output_type": "stream",
     "text": [
      " 12%|█▏        | 58/500 [01:48<13:29,  1.83s/it]"
     ]
    },
    {
     "name": "stdout",
     "output_type": "stream",
     "text": [
      "Initial log joint probability = -36.23\n",
      "    Iter      log prob        ||dx||      ||grad||       alpha      alpha0  # evals  Notes \n",
      "      99       2652.17    0.00647138       169.949      0.8113      0.8113      124   \n",
      "    Iter      log prob        ||dx||      ||grad||       alpha      alpha0  # evals  Notes \n",
      "     167       2656.04   0.000157729       108.059   9.163e-07       0.001      267  LS failed, Hessian reset \n",
      "     199       2656.81   0.000263141       71.7212      0.6528      0.6528      305   \n",
      "    Iter      log prob        ||dx||      ||grad||       alpha      alpha0  # evals  Notes \n",
      "     228       2656.85    7.2622e-05       62.9476   1.052e-06       0.001      376  LS failed, Hessian reset \n",
      "     278       2656.85   8.31431e-08       53.9902      0.2465           1      442   \n",
      "Optimization terminated normally: \n",
      "  Convergence detected: relative gradient magnitude is below tolerance\n"
     ]
    },
    {
     "name": "stderr",
     "output_type": "stream",
     "text": [
      " 12%|█▏        | 59/500 [01:50<13:57,  1.90s/it]"
     ]
    },
    {
     "name": "stdout",
     "output_type": "stream",
     "text": [
      "Initial log joint probability = -22.0003\n",
      "    Iter      log prob        ||dx||      ||grad||       alpha      alpha0  # evals  Notes \n",
      "      99       2859.65    0.00253583       180.293      0.7465      0.7465      125   \n",
      "    Iter      log prob        ||dx||      ||grad||       alpha      alpha0  # evals  Notes \n",
      "     161       2862.56   0.000903513        210.89   6.543e-06       0.001      244  LS failed, Hessian reset \n",
      "     199       2863.46    0.00011672       67.6708       5.379           1      301   \n",
      "    Iter      log prob        ||dx||      ||grad||       alpha      alpha0  # evals  Notes \n",
      "     252       2863.47   8.26906e-05       90.4418   7.525e-07       0.001      417  LS failed, Hessian reset \n",
      "     288       2863.48    4.8054e-08       71.0354      0.3124      0.3124      464   \n",
      "Optimization terminated normally: \n",
      "  Convergence detected: relative gradient magnitude is below tolerance\n"
     ]
    },
    {
     "name": "stderr",
     "output_type": "stream",
     "text": [
      " 12%|█▏        | 60/500 [01:52<13:53,  1.89s/it]"
     ]
    },
    {
     "name": "stdout",
     "output_type": "stream",
     "text": [
      "Initial log joint probability = -35.836\n",
      "    Iter      log prob        ||dx||      ||grad||       alpha      alpha0  # evals  Notes \n",
      "      99        2695.8    0.00128104        118.69      0.6859      0.6859      121   \n",
      "    Iter      log prob        ||dx||      ||grad||       alpha      alpha0  # evals  Notes \n",
      "     113       2697.41    0.00127667       239.969   7.001e-06       0.001      180  LS failed, Hessian reset \n",
      "     198       2700.92   0.000292535       194.743   2.279e-06       0.001      344  LS failed, Hessian reset \n",
      "     199       2700.94   0.000256951       164.858           1           1      345   \n",
      "    Iter      log prob        ||dx||      ||grad||       alpha      alpha0  # evals  Notes \n",
      "     299          2702   3.02541e-06       87.4539      0.3448           1      473   \n",
      "    Iter      log prob        ||dx||      ||grad||       alpha      alpha0  # evals  Notes \n",
      "     302       2702.01   8.97658e-06       76.3347   1.242e-07       0.001      521  LS failed, Hessian reset \n",
      "     318       2702.01   1.59481e-07       77.7649       1.158      0.3567      541   \n",
      "Optimization terminated normally: \n",
      "  Convergence detected: relative gradient magnitude is below tolerance\n"
     ]
    },
    {
     "name": "stderr",
     "output_type": "stream",
     "text": [
      " 12%|█▏        | 61/500 [01:54<14:23,  1.97s/it]"
     ]
    },
    {
     "name": "stdout",
     "output_type": "stream",
     "text": [
      "Initial log joint probability = -35.0334\n",
      "    Iter      log prob        ||dx||      ||grad||       alpha      alpha0  # evals  Notes \n",
      "      99       2791.08    0.00285856       193.331      0.9751      0.9751      122   \n",
      "    Iter      log prob        ||dx||      ||grad||       alpha      alpha0  # evals  Notes \n",
      "     191       2797.11   0.000368132        264.17   2.809e-06       0.001      295  LS failed, Hessian reset \n",
      "     199       2797.95    0.00421433       83.6281      0.2839           1      304   \n",
      "    Iter      log prob        ||dx||      ||grad||       alpha      alpha0  # evals  Notes \n",
      "     245       2798.59   4.21459e-05       63.2128   7.515e-07       0.001      404  LS failed, Hessian reset \n",
      "     275       2798.59   1.59854e-07       53.1257      0.2964           1      450   \n",
      "Optimization terminated normally: \n",
      "  Convergence detected: relative gradient magnitude is below tolerance\n"
     ]
    },
    {
     "name": "stderr",
     "output_type": "stream",
     "text": [
      " 12%|█▏        | 62/500 [01:56<13:58,  1.91s/it]"
     ]
    },
    {
     "name": "stdout",
     "output_type": "stream",
     "text": [
      "Initial log joint probability = -19.9781\n",
      "    Iter      log prob        ||dx||      ||grad||       alpha      alpha0  # evals  Notes \n",
      "      99       2729.61    0.00254407       150.464           1           1      139   \n",
      "    Iter      log prob        ||dx||      ||grad||       alpha      alpha0  # evals  Notes \n",
      "     160       2730.44   2.18726e-05       63.1144   3.041e-07       0.001      272  LS failed, Hessian reset \n",
      "     199       2730.44   9.58251e-07       67.0351           1           1      327   \n",
      "    Iter      log prob        ||dx||      ||grad||       alpha      alpha0  # evals  Notes \n",
      "     217       2730.45   3.07956e-07       71.1728      0.3624           1      363   \n",
      "Optimization terminated normally: \n",
      "  Convergence detected: relative gradient magnitude is below tolerance\n"
     ]
    },
    {
     "name": "stderr",
     "output_type": "stream",
     "text": [
      " 13%|█▎        | 63/500 [01:58<13:33,  1.86s/it]"
     ]
    },
    {
     "name": "stdout",
     "output_type": "stream",
     "text": [
      "Initial log joint probability = -22.8325\n",
      "    Iter      log prob        ||dx||      ||grad||       alpha      alpha0  # evals  Notes \n",
      "      80        2701.4   0.000116938       94.3565   9.312e-07       0.001      139  LS failed, Hessian reset \n",
      "      99       2702.35    0.00275646       148.137        1.74       0.174      163   \n",
      "    Iter      log prob        ||dx||      ||grad||       alpha      alpha0  # evals  Notes \n",
      "     179       2704.44   0.000337064       217.088   2.693e-06       0.001      316  LS failed, Hessian reset \n",
      "     199       2705.07     0.0003195       112.276           1           1      340   \n",
      "    Iter      log prob        ||dx||      ||grad||       alpha      alpha0  # evals  Notes \n",
      "     289       2705.12   2.10426e-07       54.8477      0.2826      0.2826      479   \n",
      "Optimization terminated normally: \n",
      "  Convergence detected: relative gradient magnitude is below tolerance\n"
     ]
    },
    {
     "name": "stderr",
     "output_type": "stream",
     "text": [
      " 13%|█▎        | 64/500 [01:59<13:19,  1.83s/it]"
     ]
    },
    {
     "name": "stdout",
     "output_type": "stream",
     "text": [
      "Initial log joint probability = -17.4032\n",
      "    Iter      log prob        ||dx||      ||grad||       alpha      alpha0  # evals  Notes \n",
      "      99       2674.86    0.00342333       443.917     0.03378      0.6163      124   \n",
      "    Iter      log prob        ||dx||      ||grad||       alpha      alpha0  # evals  Notes \n",
      "     173       2676.97   0.000187675        146.64   1.934e-06       0.001      248  LS failed, Hessian reset \n",
      "     199       2677.16   6.94102e-05       86.0529      0.3879      0.3879      278   \n",
      "    Iter      log prob        ||dx||      ||grad||       alpha      alpha0  # evals  Notes \n",
      "     270        2677.2   6.35125e-05       74.2679   8.004e-07       0.001      413  LS failed, Hessian reset \n",
      "     299       2677.21   7.95465e-07       72.3609      0.3831           1      449   \n",
      "    Iter      log prob        ||dx||      ||grad||       alpha      alpha0  # evals  Notes \n",
      "     306       2677.21   1.18531e-07        66.468       0.349           1      459   \n",
      "Optimization terminated normally: \n",
      "  Convergence detected: relative gradient magnitude is below tolerance\n"
     ]
    },
    {
     "name": "stderr",
     "output_type": "stream",
     "text": [
      " 13%|█▎        | 65/500 [02:01<13:23,  1.85s/it]"
     ]
    },
    {
     "name": "stdout",
     "output_type": "stream",
     "text": [
      "Initial log joint probability = -25.9564\n",
      "    Iter      log prob        ||dx||      ||grad||       alpha      alpha0  # evals  Notes \n",
      "      99       2559.25    0.00039515       171.339      0.4614      0.4614      133   \n",
      "    Iter      log prob        ||dx||      ||grad||       alpha      alpha0  # evals  Notes \n",
      "     148       2560.67   0.000251317       138.567   9.728e-07       0.001      242  LS failed, Hessian reset \n",
      "     199        2561.7    0.00188394       92.7197      0.2805           1      305   \n",
      "    Iter      log prob        ||dx||      ||grad||       alpha      alpha0  # evals  Notes \n",
      "     255       2562.11    0.00036982       214.867   1.076e-06       0.001      439  LS failed, Hessian reset \n",
      "     299       2562.81   1.68705e-05       76.5709      0.8608      0.8608      495   \n",
      "    Iter      log prob        ||dx||      ||grad||       alpha      alpha0  # evals  Notes \n",
      "     334       2562.99   0.000168025       105.247   1.105e-06       0.001      585  LS failed, Hessian reset \n",
      "     399       2563.14    5.4322e-06       82.4424      0.9056      0.9056      673   \n",
      "    Iter      log prob        ||dx||      ||grad||       alpha      alpha0  # evals  Notes \n",
      "     499       2563.15   2.49575e-06       60.4994           1           1      798   \n",
      "    Iter      log prob        ||dx||      ||grad||       alpha      alpha0  # evals  Notes \n",
      "     544       2563.16   1.06755e-07       62.5011        0.31        0.31      857   \n",
      "Optimization terminated normally: \n",
      "  Convergence detected: relative gradient magnitude is below tolerance\n"
     ]
    },
    {
     "name": "stderr",
     "output_type": "stream",
     "text": [
      " 13%|█▎        | 66/500 [02:03<13:46,  1.91s/it]"
     ]
    },
    {
     "name": "stdout",
     "output_type": "stream",
     "text": [
      "Initial log joint probability = -21.0431\n",
      "    Iter      log prob        ||dx||      ||grad||       alpha      alpha0  # evals  Notes \n",
      "      86       2534.25   0.000293997       149.099   9.664e-07       0.001      149  LS failed, Hessian reset \n",
      "      99       2534.93   0.000555142       81.3272      0.2345      0.9777      165   \n",
      "    Iter      log prob        ||dx||      ||grad||       alpha      alpha0  # evals  Notes \n",
      "     133       2535.63   0.000756976       269.757   6.793e-06       0.001      246  LS failed, Hessian reset \n",
      "     199       2536.59   2.54814e-05       77.6674      0.5862      0.5862      333   \n",
      "    Iter      log prob        ||dx||      ||grad||       alpha      alpha0  # evals  Notes \n",
      "     217        2536.6   4.38295e-06       65.4724   5.915e-08       0.001      396  LS failed, Hessian reset \n",
      "     232        2536.6   2.18672e-07       66.1218           1           1      416   \n",
      "Optimization terminated normally: \n",
      "  Convergence detected: relative gradient magnitude is below tolerance\n"
     ]
    },
    {
     "name": "stderr",
     "output_type": "stream",
     "text": [
      " 13%|█▎        | 67/500 [02:05<13:37,  1.89s/it]"
     ]
    },
    {
     "name": "stdout",
     "output_type": "stream",
     "text": [
      "Initial log joint probability = -36.2479\n",
      "    Iter      log prob        ||dx||      ||grad||       alpha      alpha0  # evals  Notes \n",
      "      99       2757.29    0.00302696       77.1029       0.768       0.768      127   \n",
      "    Iter      log prob        ||dx||      ||grad||       alpha      alpha0  # evals  Notes \n",
      "     132       2759.36   0.000281558       211.244   1.905e-06       0.001      219  LS failed, Hessian reset \n",
      "     199       2761.51   0.000347892       91.0501      0.3947           1      297   \n",
      "    Iter      log prob        ||dx||      ||grad||       alpha      alpha0  # evals  Notes \n",
      "     217       2762.98    0.00192251       229.216   9.322e-06       0.001      360  LS failed, Hessian reset \n",
      "     287        2763.6   0.000303348       103.676    4.43e-06       0.001      489  LS failed, Hessian reset \n",
      "     299       2763.61   8.97653e-06        53.039      0.7727      0.7727      507   \n",
      "    Iter      log prob        ||dx||      ||grad||       alpha      alpha0  # evals  Notes \n",
      "     323       2763.62    0.00013301       107.238   2.311e-06       0.001      576  LS failed, Hessian reset \n",
      "     342       2763.63   7.64089e-07       57.5188   1.513e-08       0.001      637  LS failed, Hessian reset \n",
      "     355       2763.63   3.07024e-07       53.7744      0.3165      0.3165      654   \n",
      "Optimization terminated normally: \n",
      "  Convergence detected: relative gradient magnitude is below tolerance\n"
     ]
    },
    {
     "name": "stderr",
     "output_type": "stream",
     "text": [
      " 14%|█▎        | 68/500 [02:07<13:46,  1.91s/it]"
     ]
    },
    {
     "name": "stdout",
     "output_type": "stream",
     "text": [
      "Initial log joint probability = -19.5188\n",
      "    Iter      log prob        ||dx||      ||grad||       alpha      alpha0  # evals  Notes \n",
      "      88       2693.29   0.000180746       102.742   6.967e-07       0.001      154  LS failed, Hessian reset \n",
      "      99       2693.77    0.00101108       163.013       0.911       0.911      168   \n",
      "    Iter      log prob        ||dx||      ||grad||       alpha      alpha0  # evals  Notes \n",
      "     186       2695.09   0.000308419       98.6449    3.25e-06       0.001      319  LS failed, Hessian reset \n",
      "     199       2695.13   2.18987e-05        77.672      0.3506           1      334   \n",
      "    Iter      log prob        ||dx||      ||grad||       alpha      alpha0  # evals  Notes \n",
      "     247       2695.13   6.32244e-06       73.1789   6.546e-08       0.001      434  LS failed, Hessian reset \n",
      "     260       2695.13   1.06845e-07       64.0016      0.1779           1      454   \n",
      "Optimization terminated normally: \n",
      "  Convergence detected: relative gradient magnitude is below tolerance\n"
     ]
    },
    {
     "name": "stderr",
     "output_type": "stream",
     "text": [
      " 14%|█▍        | 69/500 [02:09<13:33,  1.89s/it]"
     ]
    },
    {
     "name": "stdout",
     "output_type": "stream",
     "text": [
      "Initial log joint probability = -18.8213\n",
      "    Iter      log prob        ||dx||      ||grad||       alpha      alpha0  # evals  Notes \n",
      "      99        2834.1    0.00247934       184.732           1           1      114   \n",
      "    Iter      log prob        ||dx||      ||grad||       alpha      alpha0  # evals  Notes \n",
      "     135       2835.48   0.000115081       119.403    8.17e-07       0.001      197  LS failed, Hessian reset \n",
      "     199       2836.28   0.000778431       148.811           1           1      271   \n",
      "    Iter      log prob        ||dx||      ||grad||       alpha      alpha0  # evals  Notes \n",
      "     216       2836.81   0.000272567       228.104   2.202e-06       0.001      338  LS failed, Hessian reset \n",
      "     299       2837.68    4.8479e-06       91.5234       0.563       0.563      437   \n",
      "    Iter      log prob        ||dx||      ||grad||       alpha      alpha0  # evals  Notes \n",
      "     347       2837.72   3.30686e-07       66.6748      0.2112           1      498   \n",
      "Optimization terminated normally: \n",
      "  Convergence detected: relative gradient magnitude is below tolerance\n"
     ]
    },
    {
     "name": "stderr",
     "output_type": "stream",
     "text": [
      " 14%|█▍        | 70/500 [02:11<13:28,  1.88s/it]"
     ]
    },
    {
     "name": "stdout",
     "output_type": "stream",
     "text": [
      "Initial log joint probability = -23.7803\n",
      "    Iter      log prob        ||dx||      ||grad||       alpha      alpha0  # evals  Notes \n",
      "      73       2746.47   0.000192609        165.75   8.547e-07       0.001      136  LS failed, Hessian reset \n",
      "      99       2748.34    0.00137061        100.35           1           1      168   \n",
      "    Iter      log prob        ||dx||      ||grad||       alpha      alpha0  # evals  Notes \n",
      "     174       2752.09   0.000173968       136.939   8.159e-07       0.001      311  LS failed, Hessian reset \n",
      "     199       2752.93   0.000277082       75.6508           1           1      342   \n",
      "    Iter      log prob        ||dx||      ||grad||       alpha      alpha0  # evals  Notes \n",
      "     279       2752.98   3.24297e-05       72.7481   4.308e-07       0.001      495  LS failed, Hessian reset \n",
      "     299       2752.98   3.63423e-07       48.1088      0.3121           1      523   \n",
      "    Iter      log prob        ||dx||      ||grad||       alpha      alpha0  # evals  Notes \n",
      "     300       2752.98   1.18618e-08       51.7117     0.00674           1      527   \n",
      "Optimization terminated normally: \n",
      "  Convergence detected: relative gradient magnitude is below tolerance\n"
     ]
    },
    {
     "name": "stderr",
     "output_type": "stream",
     "text": [
      " 14%|█▍        | 71/500 [02:13<13:42,  1.92s/it]"
     ]
    },
    {
     "name": "stdout",
     "output_type": "stream",
     "text": [
      "Initial log joint probability = -21.3415\n",
      "    Iter      log prob        ||dx||      ||grad||       alpha      alpha0  # evals  Notes \n",
      "      99       2926.76     0.0069778       86.6648           1           1      119   \n",
      "    Iter      log prob        ||dx||      ||grad||       alpha      alpha0  # evals  Notes \n",
      "     199       2930.01   0.000357759       56.2465      0.8735      0.8735      248   \n",
      "    Iter      log prob        ||dx||      ||grad||       alpha      alpha0  # evals  Notes \n",
      "     209       2930.08   0.000277914       86.2096   3.461e-06       0.001      306  LS failed, Hessian reset \n",
      "     256       2930.12   5.24614e-05       51.1537   1.094e-06       0.001      419  LS failed, Hessian reset \n",
      "     289       2930.13   4.89135e-05       70.6912   8.962e-07       0.001      507  LS failed, Hessian reset \n",
      "     299       2930.13   1.04081e-05       58.2702       1.114      0.1114      521   \n",
      "    Iter      log prob        ||dx||      ||grad||       alpha      alpha0  # evals  Notes \n",
      "     318       2930.13   3.73888e-07       52.7114      0.8007      0.8007      548   \n",
      "Optimization terminated normally: \n",
      "  Convergence detected: relative gradient magnitude is below tolerance\n"
     ]
    },
    {
     "name": "stderr",
     "output_type": "stream",
     "text": [
      " 14%|█▍        | 72/500 [02:15<14:01,  1.97s/it]"
     ]
    },
    {
     "name": "stdout",
     "output_type": "stream",
     "text": [
      "Initial log joint probability = -33.3916\n",
      "    Iter      log prob        ||dx||      ||grad||       alpha      alpha0  # evals  Notes \n",
      "      99       2809.44    0.00617821       112.622           1           1      135   \n",
      "    Iter      log prob        ||dx||      ||grad||       alpha      alpha0  # evals  Notes \n",
      "     199        2813.5   0.000208035       59.3344           1           1      259   \n",
      "    Iter      log prob        ||dx||      ||grad||       alpha      alpha0  # evals  Notes \n",
      "     231        2813.6   0.000133537       135.051   1.279e-06       0.001      346  LS failed, Hessian reset \n",
      "     269       2813.65   9.87691e-05       73.2842   1.224e-06       0.001      426  LS failed, Hessian reset \n",
      "     297       2813.66   1.72799e-06       55.0018    2.71e-08       0.001      493  LS failed, Hessian reset \n",
      "     299       2813.66   1.09038e-06       57.0695       3.945           1      498   \n",
      "    Iter      log prob        ||dx||      ||grad||       alpha      alpha0  # evals  Notes \n",
      "     318       2813.66   1.02853e-07       58.5252      0.3232           1      525   \n",
      "Optimization terminated normally: \n",
      "  Convergence detected: relative gradient magnitude is below tolerance\n"
     ]
    },
    {
     "name": "stderr",
     "output_type": "stream",
     "text": [
      " 15%|█▍        | 73/500 [02:17<13:38,  1.92s/it]"
     ]
    },
    {
     "name": "stdout",
     "output_type": "stream",
     "text": [
      "Initial log joint probability = -26.0026\n",
      "    Iter      log prob        ||dx||      ||grad||       alpha      alpha0  # evals  Notes \n",
      "      99       2805.82    0.00290655       156.148           1           1      124   \n",
      "    Iter      log prob        ||dx||      ||grad||       alpha      alpha0  # evals  Notes \n",
      "     112       2806.86   0.000220595       213.633   1.039e-06       0.001      184  LS failed, Hessian reset \n",
      "     189       2810.24   0.000146517       132.407   7.642e-07       0.001      325  LS failed, Hessian reset \n",
      "     199        2810.8   0.000452956       79.7883           1           1      336   \n",
      "    Iter      log prob        ||dx||      ||grad||       alpha      alpha0  # evals  Notes \n",
      "     271       2811.21   1.51944e-07       79.3408      0.6174      0.6174      427   \n",
      "Optimization terminated normally: \n",
      "  Convergence detected: relative gradient magnitude is below tolerance\n"
     ]
    },
    {
     "name": "stderr",
     "output_type": "stream",
     "text": [
      " 15%|█▍        | 74/500 [02:19<13:51,  1.95s/it]"
     ]
    },
    {
     "name": "stdout",
     "output_type": "stream",
     "text": [
      "Initial log joint probability = -34.3418\n",
      "    Iter      log prob        ||dx||      ||grad||       alpha      alpha0  # evals  Notes \n",
      "      99       2726.24   0.000772941       101.514           1           1      135   \n",
      "    Iter      log prob        ||dx||      ||grad||       alpha      alpha0  # evals  Notes \n",
      "     134       2727.26   0.000176714       151.574   1.395e-06       0.001      230  LS failed, Hessian reset \n",
      "     199       2729.56    0.00643835       142.916           1           1      310   \n",
      "    Iter      log prob        ||dx||      ||grad||       alpha      alpha0  # evals  Notes \n",
      "     205       2730.29   0.000398848       265.159   2.887e-06       0.001      418  LS failed, Hessian reset \n",
      "     250       2731.67   0.000140501       77.4954   1.672e-06       0.001      518  LS failed, Hessian reset \n",
      "     289       2731.69    1.3865e-07       61.8347      0.1779           1      571   \n",
      "Optimization terminated normally: \n",
      "  Convergence detected: relative gradient magnitude is below tolerance\n"
     ]
    },
    {
     "name": "stderr",
     "output_type": "stream",
     "text": [
      " 15%|█▌        | 75/500 [02:21<13:58,  1.97s/it]"
     ]
    },
    {
     "name": "stdout",
     "output_type": "stream",
     "text": [
      "Initial log joint probability = -23.7464\n",
      "    Iter      log prob        ||dx||      ||grad||       alpha      alpha0  # evals  Notes \n",
      "      99       2612.04    0.00164216       143.133      0.3254           1      132   \n",
      "    Iter      log prob        ||dx||      ||grad||       alpha      alpha0  # evals  Notes \n",
      "     115       2612.58   0.000965939       179.244   7.113e-06       0.001      199  LS failed, Hessian reset \n",
      "     199       2613.31   0.000201189       67.6925           1           1      331   \n",
      "    Iter      log prob        ||dx||      ||grad||       alpha      alpha0  # evals  Notes \n",
      "     290        2613.5   0.000413981       105.986   4.986e-06       0.001      502  LS failed, Hessian reset \n",
      "     299       2613.53   4.60996e-05        75.728      0.8438      0.8438      512   \n",
      "    Iter      log prob        ||dx||      ||grad||       alpha      alpha0  # evals  Notes \n",
      "     395       2613.61   3.03715e-05       63.8497   5.043e-07       0.001      676  LS failed, Hessian reset \n",
      "     399       2613.61   2.21699e-05       58.5665       0.349           1      681   \n",
      "    Iter      log prob        ||dx||      ||grad||       alpha      alpha0  # evals  Notes \n",
      "     441       2613.61   4.44731e-06       79.2481   6.135e-08       0.001      785  LS failed, Hessian reset \n",
      "     490       2613.62   1.13897e-07        69.237      0.2057           1      856   \n",
      "Optimization terminated normally: \n",
      "  Convergence detected: relative gradient magnitude is below tolerance\n"
     ]
    },
    {
     "name": "stderr",
     "output_type": "stream",
     "text": [
      " 15%|█▌        | 76/500 [02:23<14:01,  1.98s/it]"
     ]
    },
    {
     "name": "stdout",
     "output_type": "stream",
     "text": [
      "Initial log joint probability = -36.111\n",
      "    Iter      log prob        ||dx||      ||grad||       alpha      alpha0  # evals  Notes \n",
      "      99        2600.7    0.00166328       90.3228       2.432      0.2432      127   \n",
      "    Iter      log prob        ||dx||      ||grad||       alpha      alpha0  # evals  Notes \n",
      "     166       2603.99   0.000258768       169.467   1.585e-06       0.001      257  LS failed, Hessian reset \n",
      "     199       2604.81    0.00297936       95.8087       4.893      0.4893      297   \n",
      "    Iter      log prob        ||dx||      ||grad||       alpha      alpha0  # evals  Notes \n",
      "     254       2604.96   6.99086e-08       66.2572      0.2204      0.2204      369   \n",
      "Optimization terminated normally: \n",
      "  Convergence detected: relative gradient magnitude is below tolerance\n"
     ]
    },
    {
     "name": "stderr",
     "output_type": "stream",
     "text": [
      " 15%|█▌        | 77/500 [02:25<13:28,  1.91s/it]"
     ]
    },
    {
     "name": "stdout",
     "output_type": "stream",
     "text": [
      "Initial log joint probability = -37.5744\n",
      "    Iter      log prob        ||dx||      ||grad||       alpha      alpha0  # evals  Notes \n",
      "      99       2948.58    0.00997089       414.336           1           1      127   \n",
      "    Iter      log prob        ||dx||      ||grad||       alpha      alpha0  # evals  Notes \n",
      "     148       2951.44   0.000502855       302.651   3.444e-06       0.001      223  LS failed, Hessian reset \n",
      "     199       2953.33    0.00155841       273.806      0.2966      0.2966      287   \n",
      "    Iter      log prob        ||dx||      ||grad||       alpha      alpha0  # evals  Notes \n",
      "     229       2955.95   9.64586e-05       102.439   5.251e-07       0.001      370  LS failed, Hessian reset \n",
      "     299       2957.63    0.00160642       129.698           1           1      453   \n",
      "    Iter      log prob        ||dx||      ||grad||       alpha      alpha0  # evals  Notes \n",
      "     337       2957.67   1.14509e-07       57.6976      0.4432           1      509   \n",
      "Optimization terminated normally: \n",
      "  Convergence detected: relative gradient magnitude is below tolerance\n"
     ]
    },
    {
     "name": "stderr",
     "output_type": "stream",
     "text": [
      " 16%|█▌        | 78/500 [02:26<13:17,  1.89s/it]"
     ]
    },
    {
     "name": "stdout",
     "output_type": "stream",
     "text": [
      "Initial log joint probability = -26.8577\n",
      "    Iter      log prob        ||dx||      ||grad||       alpha      alpha0  # evals  Notes \n",
      "      83       2782.74   0.000168595       158.781   8.479e-07       0.001      153  LS failed, Hessian reset \n",
      "      99       2784.45    0.00162822       111.293       0.488       0.488      172   \n",
      "    Iter      log prob        ||dx||      ||grad||       alpha      alpha0  # evals  Notes \n",
      "     167       2787.05   0.000154337        101.32   5.941e-07       0.001      288  LS failed, Hessian reset \n",
      "     199       2787.64   9.48015e-05       91.1829      0.6858      0.6858      329   \n",
      "    Iter      log prob        ||dx||      ||grad||       alpha      alpha0  # evals  Notes \n",
      "     262       2787.82   7.43386e-05       66.3634    1.03e-06       0.001      446  LS failed, Hessian reset \n",
      "     299       2787.82   1.59116e-06       65.6806      0.9666      0.9666      497   \n",
      "    Iter      log prob        ||dx||      ||grad||       alpha      alpha0  # evals  Notes \n",
      "     323       2787.82   2.70796e-06       62.2807   6.343e-08       0.001      570  LS failed, Hessian reset \n",
      "     365       2787.83   5.62369e-07       47.1657      0.7839      0.7839      630   \n",
      "Optimization terminated normally: \n",
      "  Convergence detected: relative gradient magnitude is below tolerance\n"
     ]
    },
    {
     "name": "stderr",
     "output_type": "stream",
     "text": [
      " 16%|█▌        | 79/500 [02:28<13:07,  1.87s/it]"
     ]
    },
    {
     "name": "stdout",
     "output_type": "stream",
     "text": [
      "Initial log joint probability = -28.0841\n",
      "    Iter      log prob        ||dx||      ||grad||       alpha      alpha0  # evals  Notes \n",
      "      99       3012.15    0.00109093       118.664      0.5931      0.5931      121   \n",
      "    Iter      log prob        ||dx||      ||grad||       alpha      alpha0  # evals  Notes \n",
      "     109       3012.49   0.000117412       90.6938   4.027e-07       0.001      175  LS failed, Hessian reset \n",
      "     140       3014.26   0.000146951       167.645   1.255e-06       0.001      243  LS failed, Hessian reset \n",
      "     199       3015.92    0.00194235       203.594      0.2702           1      315   \n",
      "    Iter      log prob        ||dx||      ||grad||       alpha      alpha0  # evals  Notes \n",
      "     299       3017.93    0.00108795       110.851      0.6909      0.6909      444   \n",
      "    Iter      log prob        ||dx||      ||grad||       alpha      alpha0  # evals  Notes \n",
      "     312       3017.96   3.79642e-05        57.457   6.604e-07       0.001      519  LS failed, Hessian reset \n",
      "     359          3018   1.36671e-06       49.2299   2.297e-08       0.001      619  LS failed, Hessian reset \n",
      "     364          3018   2.75583e-07       41.1491      0.2402           1      625   \n",
      "Optimization terminated normally: \n",
      "  Convergence detected: relative gradient magnitude is below tolerance\n"
     ]
    },
    {
     "name": "stderr",
     "output_type": "stream",
     "text": [
      " 16%|█▌        | 80/500 [02:30<13:12,  1.89s/it]"
     ]
    },
    {
     "name": "stdout",
     "output_type": "stream",
     "text": [
      "Initial log joint probability = -36.957\n",
      "    Iter      log prob        ||dx||      ||grad||       alpha      alpha0  # evals  Notes \n",
      "      99       2510.43    0.00347211       104.034       1.297      0.3189      124   \n",
      "    Iter      log prob        ||dx||      ||grad||       alpha      alpha0  # evals  Notes \n",
      "     126       2512.12   0.000295751       163.283   1.266e-06       0.001      202  LS failed, Hessian reset \n",
      "     199       2515.17    0.00186784       83.2246           1           1      288   \n",
      "    Iter      log prob        ||dx||      ||grad||       alpha      alpha0  # evals  Notes \n",
      "     221       2515.84   0.000284047       173.909    1.92e-06       0.001      351  LS failed, Hessian reset \n",
      "     299       2516.42   1.44584e-06       75.9271      0.3932           1      447   \n",
      "    Iter      log prob        ||dx||      ||grad||       alpha      alpha0  # evals  Notes \n",
      "     317       2516.42   7.22044e-08       72.5745      0.1832      0.7293      470   \n",
      "Optimization terminated normally: \n",
      "  Convergence detected: relative gradient magnitude is below tolerance\n"
     ]
    },
    {
     "name": "stderr",
     "output_type": "stream",
     "text": [
      " 16%|█▌        | 81/500 [02:32<12:54,  1.85s/it]"
     ]
    },
    {
     "name": "stdout",
     "output_type": "stream",
     "text": [
      "Initial log joint probability = -24.1708\n",
      "    Iter      log prob        ||dx||      ||grad||       alpha      alpha0  # evals  Notes \n",
      "      99       2781.68   0.000698075       93.9843           1           1      125   \n",
      "    Iter      log prob        ||dx||      ||grad||       alpha      alpha0  # evals  Notes \n",
      "     168       2784.99   0.000411829       270.417   2.548e-06       0.001      281  LS failed, Hessian reset \n",
      "     199       2786.28   0.000672874       91.2913           1           1      319   \n",
      "    Iter      log prob        ||dx||      ||grad||       alpha      alpha0  # evals  Notes \n",
      "     289       2786.47   0.000148574       92.3329   1.817e-06       0.001      482  LS failed, Hessian reset \n",
      "     299       2786.47    6.2112e-06       63.6535           1           1      494   \n",
      "    Iter      log prob        ||dx||      ||grad||       alpha      alpha0  # evals  Notes \n",
      "     330       2786.48   2.46457e-05       61.0607   2.724e-07       0.001      571  LS failed, Hessian reset \n",
      "     370       2786.48   5.85185e-07       77.8757   9.597e-09       0.001      655  LS failed, Hessian reset \n",
      "     373       2786.48   2.24933e-07       49.7402           1           1      659   \n",
      "Optimization terminated normally: \n",
      "  Convergence detected: relative gradient magnitude is below tolerance\n"
     ]
    },
    {
     "name": "stderr",
     "output_type": "stream",
     "text": [
      " 16%|█▋        | 82/500 [02:34<13:12,  1.89s/it]"
     ]
    },
    {
     "name": "stdout",
     "output_type": "stream",
     "text": [
      "Initial log joint probability = -19.4425\n",
      "    Iter      log prob        ||dx||      ||grad||       alpha      alpha0  # evals  Notes \n",
      "      99       2708.58    0.00174964       182.374      0.8687      0.8687      120   \n",
      "    Iter      log prob        ||dx||      ||grad||       alpha      alpha0  # evals  Notes \n",
      "     180       2711.56   0.000345818       204.325   3.796e-06       0.001      263  LS failed, Hessian reset \n",
      "     199        2711.8   0.000356774       125.879           1           1      287   \n",
      "    Iter      log prob        ||dx||      ||grad||       alpha      alpha0  # evals  Notes \n",
      "     255       2711.99   1.01267e-06       66.1004   1.432e-08       0.001      397  LS failed, Hessian reset \n",
      "     264       2711.99   1.82428e-07       79.7731      0.5922           1      411   \n",
      "Optimization terminated normally: \n",
      "  Convergence detected: relative gradient magnitude is below tolerance\n"
     ]
    },
    {
     "name": "stderr",
     "output_type": "stream",
     "text": [
      " 17%|█▋        | 83/500 [02:36<12:52,  1.85s/it]"
     ]
    },
    {
     "name": "stdout",
     "output_type": "stream",
     "text": [
      "Initial log joint probability = -35.5472\n",
      "    Iter      log prob        ||dx||      ||grad||       alpha      alpha0  # evals  Notes \n",
      "      99       2626.78      0.005975       250.758       3.249      0.3249      130   \n",
      "    Iter      log prob        ||dx||      ||grad||       alpha      alpha0  # evals  Notes \n",
      "     199       2631.61   0.000332382       115.009      0.4756      0.4756      262   \n",
      "    Iter      log prob        ||dx||      ||grad||       alpha      alpha0  # evals  Notes \n",
      "     214       2633.46    0.00018066        136.59   1.339e-06       0.001      337  LS failed, Hessian reset \n",
      "     283       2634.72   0.000226434       84.8733   2.765e-06       0.001      464  LS failed, Hessian reset \n",
      "     299       2634.74   4.65783e-06       73.6873      0.7614      0.7614      483   \n",
      "    Iter      log prob        ||dx||      ||grad||       alpha      alpha0  # evals  Notes \n",
      "     315       2634.74   1.62587e-07       68.5485      0.3552           1      506   \n",
      "Optimization terminated normally: \n",
      "  Convergence detected: relative gradient magnitude is below tolerance\n"
     ]
    },
    {
     "name": "stderr",
     "output_type": "stream",
     "text": [
      " 17%|█▋        | 84/500 [02:38<12:57,  1.87s/it]"
     ]
    },
    {
     "name": "stdout",
     "output_type": "stream",
     "text": [
      "Initial log joint probability = -17.9076\n",
      "    Iter      log prob        ||dx||      ||grad||       alpha      alpha0  # evals  Notes \n",
      "      99       2635.74    0.00359194       104.203           1           1      130   \n",
      "    Iter      log prob        ||dx||      ||grad||       alpha      alpha0  # evals  Notes \n",
      "     144       2636.93   0.000272607       164.722   8.387e-07       0.001      234  LS failed, Hessian reset \n",
      "     199       2637.45   4.18039e-06       70.9299      0.2899           1      304   \n",
      "    Iter      log prob        ||dx||      ||grad||       alpha      alpha0  # evals  Notes \n",
      "     232       2637.46   3.04584e-05       90.8628    3.31e-07       0.001      384  LS failed, Hessian reset \n",
      "     264       2637.46   1.04161e-07       68.5402      0.7639      0.7639      423   \n",
      "Optimization terminated normally: \n",
      "  Convergence detected: relative gradient magnitude is below tolerance\n"
     ]
    },
    {
     "name": "stderr",
     "output_type": "stream",
     "text": [
      " 17%|█▋        | 85/500 [02:39<12:49,  1.85s/it]"
     ]
    },
    {
     "name": "stdout",
     "output_type": "stream",
     "text": [
      "Initial log joint probability = -26.7177\n",
      "    Iter      log prob        ||dx||      ||grad||       alpha      alpha0  # evals  Notes \n",
      "      99       2453.66    0.00182622       70.5733           1           1      135   \n",
      "    Iter      log prob        ||dx||      ||grad||       alpha      alpha0  # evals  Notes \n",
      "     135       2455.02   0.000259337       111.763   1.069e-06       0.001      236  LS failed, Hessian reset \n",
      "     195        2455.7   0.000115595       59.3879   1.142e-06       0.001      371  LS failed, Hessian reset \n",
      "     199       2455.71   2.38241e-05       44.3976           1           1      377   \n",
      "    Iter      log prob        ||dx||      ||grad||       alpha      alpha0  # evals  Notes \n",
      "     223       2455.71   4.19862e-07       58.9545   1.165e-08       0.001      446  LS failed, Hessian reset \n",
      "     227       2455.71   1.45421e-07       50.8269      0.2641      0.2641      450   \n",
      "Optimization terminated normally: \n",
      "  Convergence detected: relative gradient magnitude is below tolerance\n"
     ]
    },
    {
     "name": "stderr",
     "output_type": "stream",
     "text": [
      " 17%|█▋        | 86/500 [02:41<12:35,  1.82s/it]"
     ]
    },
    {
     "name": "stdout",
     "output_type": "stream",
     "text": [
      "Initial log joint probability = -16.1589\n",
      "    Iter      log prob        ||dx||      ||grad||       alpha      alpha0  # evals  Notes \n",
      "      99       2480.71   0.000364997        80.501      0.2821           1      133   \n",
      "    Iter      log prob        ||dx||      ||grad||       alpha      alpha0  # evals  Notes \n",
      "     122       2481.09   0.000552487       189.671   6.377e-06       0.001      206  LS failed, Hessian reset \n",
      "     195       2481.21   1.13512e-07       65.8962       0.873       0.873      310   \n",
      "Optimization terminated normally: \n",
      "  Convergence detected: relative gradient magnitude is below tolerance\n"
     ]
    },
    {
     "name": "stderr",
     "output_type": "stream",
     "text": [
      " 17%|█▋        | 87/500 [02:43<12:27,  1.81s/it]"
     ]
    },
    {
     "name": "stdout",
     "output_type": "stream",
     "text": [
      "Initial log joint probability = -24.461\n",
      "    Iter      log prob        ||dx||      ||grad||       alpha      alpha0  # evals  Notes \n",
      "      99       2742.64   0.000690104        193.66           1           1      135   \n",
      "    Iter      log prob        ||dx||      ||grad||       alpha      alpha0  # evals  Notes \n",
      "     134       2744.01   0.000398215       320.684   1.024e-06       0.001      212  LS failed, Hessian reset \n",
      "     199       2745.27   0.000467221       96.6481           1           1      290   \n",
      "    Iter      log prob        ||dx||      ||grad||       alpha      alpha0  # evals  Notes \n",
      "     299       2747.18   7.64702e-05       91.2479           1           1      421   \n",
      "    Iter      log prob        ||dx||      ||grad||       alpha      alpha0  # evals  Notes \n",
      "     351       2747.19   6.50228e-08       72.0034        0.62        0.62      489   \n",
      "Optimization terminated normally: \n",
      "  Convergence detected: relative gradient magnitude is below tolerance\n"
     ]
    },
    {
     "name": "stderr",
     "output_type": "stream",
     "text": [
      " 18%|█▊        | 88/500 [02:45<12:42,  1.85s/it]"
     ]
    },
    {
     "name": "stdout",
     "output_type": "stream",
     "text": [
      "Initial log joint probability = -23.3692\n",
      "    Iter      log prob        ||dx||      ||grad||       alpha      alpha0  # evals  Notes \n",
      "      99       2662.28    0.00399091       308.306      0.9302      0.9302      132   \n",
      "    Iter      log prob        ||dx||      ||grad||       alpha      alpha0  # evals  Notes \n",
      "     155       2663.91   0.000249913       178.629    1.65e-06       0.001      253  LS failed, Hessian reset \n",
      "     199       2664.77   0.000240897       97.5549      0.2473           1      310   \n",
      "    Iter      log prob        ||dx||      ||grad||       alpha      alpha0  # evals  Notes \n",
      "     299       2664.81   0.000188913        100.66   2.145e-06       0.001      470  LS failed, Hessian reset \n",
      "    Iter      log prob        ||dx||      ||grad||       alpha      alpha0  # evals  Notes \n",
      "     330       2664.82   2.63713e-07       49.1115      0.3358           1      514   \n",
      "Optimization terminated normally: \n",
      "  Convergence detected: relative gradient magnitude is below tolerance\n"
     ]
    },
    {
     "name": "stderr",
     "output_type": "stream",
     "text": [
      " 18%|█▊        | 89/500 [02:47<12:33,  1.83s/it]"
     ]
    },
    {
     "name": "stdout",
     "output_type": "stream",
     "text": [
      "Initial log joint probability = -24.62\n",
      "    Iter      log prob        ||dx||      ||grad||       alpha      alpha0  # evals  Notes \n",
      "      99        2767.2     0.0176661       257.996           1           1      123   \n",
      "    Iter      log prob        ||dx||      ||grad||       alpha      alpha0  # evals  Notes \n",
      "     180       2771.34   0.000322712        232.95   2.024e-06       0.001      283  LS failed, Hessian reset \n",
      "     199       2772.61   0.000883687       210.317      0.8833      0.8833      309   \n",
      "    Iter      log prob        ||dx||      ||grad||       alpha      alpha0  # evals  Notes \n",
      "     248       2772.82   2.08363e-05       51.8377   2.885e-07       0.001      416  LS failed, Hessian reset \n",
      "     278       2772.82    1.4675e-06       57.2805   2.542e-08       0.001      498  LS failed, Hessian reset \n",
      "     292       2772.82   1.82778e-07       62.3804      0.2033      0.8878      516   \n",
      "Optimization terminated normally: \n",
      "  Convergence detected: relative gradient magnitude is below tolerance\n"
     ]
    },
    {
     "name": "stderr",
     "output_type": "stream",
     "text": [
      " 18%|█▊        | 90/500 [02:49<12:27,  1.82s/it]"
     ]
    },
    {
     "name": "stdout",
     "output_type": "stream",
     "text": [
      "Initial log joint probability = -24.7683\n",
      "    Iter      log prob        ||dx||      ||grad||       alpha      alpha0  # evals  Notes \n",
      "      99       2743.88   0.000995192       237.739      0.6488      0.6488      131   \n",
      "    Iter      log prob        ||dx||      ||grad||       alpha      alpha0  # evals  Notes \n",
      "     162       2746.72   0.000181046       110.096   6.632e-07       0.001      252  LS failed, Hessian reset \n",
      "     199       2747.28    0.00027056       72.2701      0.5016      0.7788      302   \n",
      "    Iter      log prob        ||dx||      ||grad||       alpha      alpha0  # evals  Notes \n",
      "     221       2747.31   7.33015e-05       69.4783   8.899e-07       0.001      372  LS failed, Hessian reset \n",
      "     262       2747.32   4.56085e-06       73.4953   6.884e-08       0.001      472  LS failed, Hessian reset \n",
      "     284       2747.32   8.36094e-08       63.2603      0.2922           1      500   \n",
      "Optimization terminated normally: \n",
      "  Convergence detected: relative gradient magnitude is below tolerance\n"
     ]
    },
    {
     "name": "stderr",
     "output_type": "stream",
     "text": [
      " 18%|█▊        | 91/500 [02:50<12:22,  1.81s/it]"
     ]
    },
    {
     "name": "stdout",
     "output_type": "stream",
     "text": [
      "Initial log joint probability = -16.3038\n",
      "    Iter      log prob        ||dx||      ||grad||       alpha      alpha0  # evals  Notes \n",
      "      99       2957.74    0.00044412       121.318      0.2483      0.9822      124   \n",
      "    Iter      log prob        ||dx||      ||grad||       alpha      alpha0  # evals  Notes \n",
      "     199       2962.37   0.000753703       152.892       4.223      0.4223      248   \n",
      "    Iter      log prob        ||dx||      ||grad||       alpha      alpha0  # evals  Notes \n",
      "     283       2962.72   9.33666e-05       120.111   8.599e-07       0.001      399  LS failed, Hessian reset \n",
      "     299       2962.74    1.8437e-06       58.0446      0.2213      0.2213      418   \n",
      "    Iter      log prob        ||dx||      ||grad||       alpha      alpha0  # evals  Notes \n",
      "     393       2962.81   5.05607e-05       54.4969   7.057e-07       0.001      584  LS failed, Hessian reset \n",
      "     399       2962.81   1.59721e-05       60.4175       2.373      0.5765      593   \n",
      "    Iter      log prob        ||dx||      ||grad||       alpha      alpha0  # evals  Notes \n",
      "     439       2962.81   2.89535e-07       48.6269           1           1      645   \n",
      "Optimization terminated normally: \n",
      "  Convergence detected: relative gradient magnitude is below tolerance\n"
     ]
    },
    {
     "name": "stderr",
     "output_type": "stream",
     "text": [
      " 18%|█▊        | 92/500 [02:52<12:25,  1.83s/it]"
     ]
    },
    {
     "name": "stdout",
     "output_type": "stream",
     "text": [
      "Initial log joint probability = -28.5653\n",
      "    Iter      log prob        ||dx||      ||grad||       alpha      alpha0  # evals  Notes \n",
      "      99       2893.21    0.00107038       128.777      0.5699      0.5699      117   \n",
      "    Iter      log prob        ||dx||      ||grad||       alpha      alpha0  # evals  Notes \n",
      "     136       2895.59   9.70681e-05       93.7788   1.659e-06       0.001      205  LS failed, Hessian reset \n",
      "     144       2895.87   6.24142e-05       62.2431    5.92e-07       0.001      256  LS failed, Hessian reset \n",
      "     199       2896.59    0.00134682       94.4082           1           1      331   \n",
      "    Iter      log prob        ||dx||      ||grad||       alpha      alpha0  # evals  Notes \n",
      "     216       2897.67   0.000260883       267.433   8.471e-07       0.001      395  LS failed, Hessian reset \n",
      "     284       2898.61   8.62223e-05        77.325   1.103e-06       0.001      532  LS failed, Hessian reset \n",
      "     299       2898.62   2.98418e-06       61.9069           1           1      560   \n",
      "    Iter      log prob        ||dx||      ||grad||       alpha      alpha0  # evals  Notes \n",
      "     329       2898.64   5.97385e-05       69.0036   8.022e-07       0.001      638  LS failed, Hessian reset \n",
      "     362       2898.65   8.04457e-08       49.1082      0.1915           1      687   \n",
      "Optimization terminated normally: \n",
      "  Convergence detected: relative gradient magnitude is below tolerance\n"
     ]
    },
    {
     "name": "stderr",
     "output_type": "stream",
     "text": [
      " 19%|█▊        | 93/500 [02:54<12:29,  1.84s/it]"
     ]
    },
    {
     "name": "stdout",
     "output_type": "stream",
     "text": [
      "Initial log joint probability = -25.5206\n",
      "    Iter      log prob        ||dx||      ||grad||       alpha      alpha0  # evals  Notes \n",
      "      99       2784.66    0.00207621       97.8341           1           1      124   \n",
      "    Iter      log prob        ||dx||      ||grad||       alpha      alpha0  # evals  Notes \n",
      "     124        2785.9   0.000103793       88.7099   7.088e-07       0.001      193  LS failed, Hessian reset \n",
      "     166       2787.63   0.000247305       193.162   2.211e-06       0.001      285  LS failed, Hessian reset \n",
      "     199       2788.39   8.56784e-05       76.8545       0.199       0.199      329   \n",
      "    Iter      log prob        ||dx||      ||grad||       alpha      alpha0  # evals  Notes \n",
      "     289       2788.45   6.26364e-05       64.6449   1.153e-06       0.001      536  LS failed, Hessian reset \n",
      "     299       2788.45   3.24304e-06       56.7338      0.4101      0.4101      549   \n",
      "    Iter      log prob        ||dx||      ||grad||       alpha      alpha0  # evals  Notes \n",
      "     324       2788.45   8.72401e-08       48.7397      0.3076           1      589   \n",
      "Optimization terminated normally: \n",
      "  Convergence detected: relative gradient magnitude is below tolerance\n"
     ]
    },
    {
     "name": "stderr",
     "output_type": "stream",
     "text": [
      " 19%|█▉        | 94/500 [02:56<12:34,  1.86s/it]"
     ]
    },
    {
     "name": "stdout",
     "output_type": "stream",
     "text": [
      "Initial log joint probability = -19.8103\n",
      "    Iter      log prob        ||dx||      ||grad||       alpha      alpha0  # evals  Notes \n",
      "      99       2710.91    0.00227873       230.329      0.4204           1      148   \n",
      "    Iter      log prob        ||dx||      ||grad||       alpha      alpha0  # evals  Notes \n",
      "     157       2712.32   0.000334369       207.505   2.889e-06       0.001      276  LS failed, Hessian reset \n",
      "     199       2713.02   0.000131159       96.1976      0.2445           1      327   \n",
      "    Iter      log prob        ||dx||      ||grad||       alpha      alpha0  # evals  Notes \n",
      "     259       2713.03   2.18117e-06       61.6574   3.326e-08       0.001      444  LS failed, Hessian reset \n",
      "     275       2713.03   3.40967e-07       60.5819           1           1      465   \n",
      "Optimization terminated normally: \n",
      "  Convergence detected: relative gradient magnitude is below tolerance\n"
     ]
    },
    {
     "name": "stderr",
     "output_type": "stream",
     "text": [
      " 19%|█▉        | 95/500 [02:58<12:26,  1.84s/it]"
     ]
    },
    {
     "name": "stdout",
     "output_type": "stream",
     "text": [
      "Initial log joint probability = -43.6883\n",
      "    Iter      log prob        ||dx||      ||grad||       alpha      alpha0  # evals  Notes \n",
      "      99       2745.27    0.00597717       145.357       2.033      0.2033      130   \n",
      "    Iter      log prob        ||dx||      ||grad||       alpha      alpha0  # evals  Notes \n",
      "     134       2747.86    0.00019982       120.967   6.455e-07       0.001      227  LS failed, Hessian reset \n",
      "     173       2749.73   0.000151854       78.5504   6.064e-07       0.001      311  LS failed, Hessian reset \n",
      "     199       2750.07   0.000974213       98.0827           1           1      343   \n",
      "    Iter      log prob        ||dx||      ||grad||       alpha      alpha0  # evals  Notes \n",
      "     227       2750.76   0.000361908       232.586   2.802e-06       0.001      423  LS failed, Hessian reset \n",
      "     290       2752.14   0.000753635       105.224   6.211e-06       0.001      542  LS failed, Hessian reset \n",
      "     299       2752.24   0.000106029       74.9103      0.2932      0.2932      554   \n",
      "    Iter      log prob        ||dx||      ||grad||       alpha      alpha0  # evals  Notes \n",
      "     347       2752.34   0.000138792       71.6959   1.335e-06       0.001      652  LS failed, Hessian reset \n",
      "     379       2752.35   5.17852e-06       86.4587   6.905e-08       0.001      733  LS failed, Hessian reset \n",
      "     399       2752.35   4.85338e-08       66.2537      0.3203      0.3203      758   \n",
      "    Iter      log prob        ||dx||      ||grad||       alpha      alpha0  # evals  Notes \n",
      "     401       2752.35   1.20015e-07       81.8099       0.372       0.372      761   \n",
      "Optimization terminated normally: \n",
      "  Convergence detected: relative gradient magnitude is below tolerance\n"
     ]
    },
    {
     "name": "stderr",
     "output_type": "stream",
     "text": [
      " 19%|█▉        | 96/500 [03:00<12:38,  1.88s/it]"
     ]
    },
    {
     "name": "stdout",
     "output_type": "stream",
     "text": [
      "Initial log joint probability = -25.011\n",
      "    Iter      log prob        ||dx||      ||grad||       alpha      alpha0  # evals  Notes \n",
      "      99       2588.28    0.00528835       162.678           1           1      135   \n",
      "    Iter      log prob        ||dx||      ||grad||       alpha      alpha0  # evals  Notes \n",
      "     177       2591.27   0.000209764       109.461   8.556e-07       0.001      285  LS failed, Hessian reset \n",
      "     199       2591.77    0.00129726       149.482           1           1      314   \n",
      "    Iter      log prob        ||dx||      ||grad||       alpha      alpha0  # evals  Notes \n",
      "     267        2592.1   5.28311e-05       80.6546   1.026e-06       0.001      470  LS failed, Hessian reset \n",
      "     299        2592.1   6.50705e-07       49.5425      0.3572      0.3572      511   \n",
      "    Iter      log prob        ||dx||      ||grad||       alpha      alpha0  # evals  Notes \n",
      "     313        2592.1   9.71969e-06       48.8185   1.139e-07       0.001      573  LS failed, Hessian reset \n",
      "     330        2592.1   3.36396e-08       56.3146     0.01564      0.2877      600   \n",
      "Optimization terminated normally: \n",
      "  Convergence detected: relative gradient magnitude is below tolerance\n"
     ]
    },
    {
     "name": "stderr",
     "output_type": "stream",
     "text": [
      " 19%|█▉        | 97/500 [03:02<12:46,  1.90s/it]"
     ]
    },
    {
     "name": "stdout",
     "output_type": "stream",
     "text": [
      "Initial log joint probability = -25.1585\n",
      "    Iter      log prob        ||dx||      ||grad||       alpha      alpha0  # evals  Notes \n",
      "      99       2931.02    0.00111857       131.681           1           1      127   \n",
      "    Iter      log prob        ||dx||      ||grad||       alpha      alpha0  # evals  Notes \n",
      "     177       2935.94   0.000724475        237.97   4.491e-06       0.001      265  LS failed, Hessian reset \n",
      "     199       2936.86   0.000845208       81.7075      0.4834      0.4834      295   \n",
      "    Iter      log prob        ||dx||      ||grad||       alpha      alpha0  # evals  Notes \n",
      "     299        2937.1   8.36436e-06       70.7331      0.3868      0.3868      446   \n",
      "    Iter      log prob        ||dx||      ||grad||       alpha      alpha0  # evals  Notes \n",
      "     343       2937.12   2.23836e-05       54.1495   3.212e-07       0.001      574  LS failed, Hessian reset \n",
      "     399       2937.14   0.000580961       41.9332      0.8801      0.8801      652   \n",
      "    Iter      log prob        ||dx||      ||grad||       alpha      alpha0  # evals  Notes \n",
      "     417       2937.15   1.33536e-05       60.3622   2.153e-07       0.001      713  LS failed, Hessian reset \n",
      "     473       2937.16   8.45761e-06       68.1143    1.92e-07       0.001      827  LS failed, Hessian reset \n",
      "     486       2937.16   6.92528e-09       50.5658    0.009114      0.2466      852   \n",
      "Optimization terminated normally: \n",
      "  Convergence detected: absolute parameter change was below tolerance\n"
     ]
    },
    {
     "name": "stderr",
     "output_type": "stream",
     "text": [
      " 20%|█▉        | 98/500 [03:04<12:52,  1.92s/it]"
     ]
    },
    {
     "name": "stdout",
     "output_type": "stream",
     "text": [
      "Initial log joint probability = -21.3442\n",
      "    Iter      log prob        ||dx||      ||grad||       alpha      alpha0  # evals  Notes \n",
      "      99       2893.63    0.00154114       188.592      0.9238      0.9238      131   \n",
      "    Iter      log prob        ||dx||      ||grad||       alpha      alpha0  # evals  Notes \n",
      "     199        2895.9   6.33147e-05       64.3965      0.5019      0.5019      262   \n",
      "    Iter      log prob        ||dx||      ||grad||       alpha      alpha0  # evals  Notes \n",
      "     241       2895.91   8.34453e-06       74.8064   1.124e-07       0.001      353  LS failed, Hessian reset \n",
      "     262       2895.92   1.92323e-07       55.1489           1           1      380   \n",
      "Optimization terminated normally: \n",
      "  Convergence detected: relative gradient magnitude is below tolerance\n"
     ]
    },
    {
     "name": "stderr",
     "output_type": "stream",
     "text": [
      " 20%|█▉        | 99/500 [03:05<12:36,  1.89s/it]"
     ]
    },
    {
     "name": "stdout",
     "output_type": "stream",
     "text": [
      "Initial log joint probability = -27.589\n",
      "    Iter      log prob        ||dx||      ||grad||       alpha      alpha0  # evals  Notes \n",
      "      99       2822.18   0.000874506       292.132      0.2247           1      135   \n",
      "    Iter      log prob        ||dx||      ||grad||       alpha      alpha0  # evals  Notes \n",
      "     199       2829.02    0.00240349       108.872           1           1      261   \n",
      "    Iter      log prob        ||dx||      ||grad||       alpha      alpha0  # evals  Notes \n",
      "     241       2829.46   0.000255111       104.016   3.087e-06       0.001      354  LS failed, Hessian reset \n",
      "     267       2829.47   1.51258e-07       48.1303       0.441       0.441      392   \n",
      "Optimization terminated normally: \n",
      "  Convergence detected: relative gradient magnitude is below tolerance\n"
     ]
    },
    {
     "name": "stderr",
     "output_type": "stream",
     "text": [
      " 20%|██        | 100/500 [03:07<12:27,  1.87s/it]"
     ]
    },
    {
     "name": "stdout",
     "output_type": "stream",
     "text": [
      "Initial log joint probability = -38.7518\n",
      "    Iter      log prob        ||dx||      ||grad||       alpha      alpha0  # evals  Notes \n",
      "      99       2781.15     0.0010232       119.301       0.343       0.343      129   \n",
      "    Iter      log prob        ||dx||      ||grad||       alpha      alpha0  # evals  Notes \n",
      "     131       2783.09   0.000238111        215.08   1.042e-06       0.001      205  LS failed, Hessian reset \n",
      "     172       2784.21   0.000126051       90.2057   6.398e-07       0.001      294  LS failed, Hessian reset \n",
      "     199       2784.48   3.40362e-05       63.7243       0.665       0.665      328   \n",
      "    Iter      log prob        ||dx||      ||grad||       alpha      alpha0  # evals  Notes \n",
      "     249        2785.5    0.00107276       177.815   9.447e-06       0.001      435  LS failed, Hessian reset \n",
      "     299       2786.39   8.68255e-05       62.4531           1           1      501   \n",
      "    Iter      log prob        ||dx||      ||grad||       alpha      alpha0  # evals  Notes \n",
      "     325       2786.47   8.31826e-05       98.7871   9.401e-07       0.001      587  LS failed, Hessian reset \n",
      "     399       2786.49   3.49726e-05       82.7393      0.4149           1      681   \n",
      "    Iter      log prob        ||dx||      ||grad||       alpha      alpha0  # evals  Notes \n",
      "     410        2786.5    0.00011172       87.2687   1.239e-06       0.001      756  LS failed, Hessian reset \n",
      "     445       2786.51   4.80117e-06       78.4993   8.125e-08       0.001      843  LS failed, Hessian reset \n",
      "     460       2786.51   1.71316e-07       55.1282           1           1      862   \n",
      "Optimization terminated normally: \n",
      "  Convergence detected: relative gradient magnitude is below tolerance\n"
     ]
    },
    {
     "name": "stderr",
     "output_type": "stream",
     "text": [
      " 20%|██        | 101/500 [03:09<12:37,  1.90s/it]"
     ]
    },
    {
     "name": "stdout",
     "output_type": "stream",
     "text": [
      "Initial log joint probability = -26.3645\n",
      "    Iter      log prob        ||dx||      ||grad||       alpha      alpha0  # evals  Notes \n",
      "      99       2943.87    0.00863889       313.046     0.09719           1      134   \n",
      "    Iter      log prob        ||dx||      ||grad||       alpha      alpha0  # evals  Notes \n",
      "     199       2949.02    0.00243575       179.361       0.316           1      261   \n",
      "    Iter      log prob        ||dx||      ||grad||       alpha      alpha0  # evals  Notes \n",
      "     299       2949.56   0.000788951       84.1188           1           1      391   \n",
      "    Iter      log prob        ||dx||      ||grad||       alpha      alpha0  # evals  Notes \n",
      "     378       2949.94   6.68877e-05       75.3867    9.38e-07       0.001      539  LS failed, Hessian reset \n",
      "     399       2949.95   1.48936e-06       48.6496       1.668           1      572   \n",
      "    Iter      log prob        ||dx||      ||grad||       alpha      alpha0  # evals  Notes \n",
      "     400       2949.95   2.52279e-07       52.5022      0.3221           1      574   \n",
      "Optimization terminated normally: \n",
      "  Convergence detected: relative gradient magnitude is below tolerance\n"
     ]
    },
    {
     "name": "stderr",
     "output_type": "stream",
     "text": [
      " 20%|██        | 102/500 [03:11<12:29,  1.88s/it]"
     ]
    },
    {
     "name": "stdout",
     "output_type": "stream",
     "text": [
      "Initial log joint probability = -22.8769\n",
      "    Iter      log prob        ||dx||      ||grad||       alpha      alpha0  # evals  Notes \n",
      "      99       2829.37    0.00284424       154.094      0.5468      0.5468      126   \n",
      "    Iter      log prob        ||dx||      ||grad||       alpha      alpha0  # evals  Notes \n",
      "     199       2833.61   0.000518511       115.077      0.8654      0.8654      260   \n",
      "    Iter      log prob        ||dx||      ||grad||       alpha      alpha0  # evals  Notes \n",
      "     278       2834.05     7.909e-05       51.8954   9.587e-07       0.001      404  LS failed, Hessian reset \n",
      "     299       2834.05     6.362e-06       63.9726       2.359      0.5047      432   \n",
      "    Iter      log prob        ||dx||      ||grad||       alpha      alpha0  # evals  Notes \n",
      "     333       2834.05   1.12289e-06       47.8869   1.633e-08       0.001      524  LS failed, Hessian reset \n",
      "     337       2834.05    1.1774e-07       54.3451      0.7924      0.7924      531   \n",
      "Optimization terminated normally: \n",
      "  Convergence detected: relative gradient magnitude is below tolerance\n"
     ]
    },
    {
     "name": "stderr",
     "output_type": "stream",
     "text": [
      " 21%|██        | 103/500 [03:13<12:18,  1.86s/it]"
     ]
    },
    {
     "name": "stdout",
     "output_type": "stream",
     "text": [
      "Initial log joint probability = -19.1896\n",
      "    Iter      log prob        ||dx||      ||grad||       alpha      alpha0  # evals  Notes \n",
      "      99       2826.34    0.00157721       94.3546       0.489       0.489      138   \n",
      "    Iter      log prob        ||dx||      ||grad||       alpha      alpha0  # evals  Notes \n",
      "     199       2828.73    0.00186603       110.895           1           1      256   \n",
      "    Iter      log prob        ||dx||      ||grad||       alpha      alpha0  # evals  Notes \n",
      "     202       2828.78   0.000111742        92.458   6.184e-07       0.001      311  LS failed, Hessian reset \n",
      "     236       2828.81   2.80118e-05        65.658   4.425e-07       0.001      393  LS failed, Hessian reset \n",
      "     259       2828.82   1.53257e-07       40.0221       0.396           1      429   \n",
      "Optimization terminated normally: \n",
      "  Convergence detected: relative gradient magnitude is below tolerance\n"
     ]
    },
    {
     "name": "stderr",
     "output_type": "stream",
     "text": [
      " 21%|██        | 104/500 [03:15<12:03,  1.83s/it]"
     ]
    },
    {
     "name": "stdout",
     "output_type": "stream",
     "text": [
      "Initial log joint probability = -19.9279\n",
      "    Iter      log prob        ||dx||      ||grad||       alpha      alpha0  # evals  Notes \n",
      "      99       2602.53    0.00152805       94.6762      0.3062      0.3062      130   \n",
      "    Iter      log prob        ||dx||      ||grad||       alpha      alpha0  # evals  Notes \n",
      "     163       2604.49   0.000207961       141.113   1.788e-06       0.001      271  LS failed, Hessian reset \n",
      "     199       2604.97   9.20083e-06       67.6741      0.2817           1      325   \n",
      "    Iter      log prob        ||dx||      ||grad||       alpha      alpha0  # evals  Notes \n",
      "     233          2605   4.53013e-05       61.7315   6.773e-07       0.001      404  LS failed, Hessian reset \n",
      "     258          2605    1.5439e-07       68.5341       0.228           1      440   \n",
      "Optimization terminated normally: \n",
      "  Convergence detected: relative gradient magnitude is below tolerance\n"
     ]
    },
    {
     "name": "stderr",
     "output_type": "stream",
     "text": [
      " 21%|██        | 105/500 [03:17<12:08,  1.84s/it]"
     ]
    },
    {
     "name": "stdout",
     "output_type": "stream",
     "text": [
      "Initial log joint probability = -26.0778\n",
      "    Iter      log prob        ||dx||      ||grad||       alpha      alpha0  # evals  Notes \n",
      "      96       2794.84    0.00015848       146.601   1.155e-06       0.001      157  LS failed, Hessian reset \n",
      "      99        2795.2    0.00499239       164.772           1           1      161   \n",
      "    Iter      log prob        ||dx||      ||grad||       alpha      alpha0  # evals  Notes \n",
      "     175       2797.54    0.00032527        137.33   5.441e-07       0.001      293  LS failed, Hessian reset \n",
      "     199       2798.24    0.00144204       75.9544      0.9939      0.9939      319   \n",
      "    Iter      log prob        ||dx||      ||grad||       alpha      alpha0  # evals  Notes \n",
      "     258        2798.4    1.2071e-07       62.5374     0.08567           1      403   \n",
      "Optimization terminated normally: \n",
      "  Convergence detected: relative gradient magnitude is below tolerance\n"
     ]
    },
    {
     "name": "stderr",
     "output_type": "stream",
     "text": [
      " 21%|██        | 106/500 [03:18<11:51,  1.81s/it]"
     ]
    },
    {
     "name": "stdout",
     "output_type": "stream",
     "text": [
      "Initial log joint probability = -30.9888\n",
      "    Iter      log prob        ||dx||      ||grad||       alpha      alpha0  # evals  Notes \n",
      "      99       2660.25    0.00139373       118.312      0.4444      0.4444      135   \n",
      "    Iter      log prob        ||dx||      ||grad||       alpha      alpha0  # evals  Notes \n",
      "     160       2662.44   0.000302942       198.113   2.096e-06       0.001      246  LS failed, Hessian reset \n",
      "     199       2663.23   4.20857e-05       50.8193           1           1      298   \n",
      "    Iter      log prob        ||dx||      ||grad||       alpha      alpha0  # evals  Notes \n",
      "     230       2663.25   2.56351e-05       67.1352   3.849e-07       0.001      375  LS failed, Hessian reset \n",
      "     299       2663.26   6.46735e-06       82.3155           1           1      468   \n",
      "    Iter      log prob        ||dx||      ||grad||       alpha      alpha0  # evals  Notes \n",
      "     316       2663.26   5.86635e-06       53.8111    8.91e-08       0.001      528  LS failed, Hessian reset \n",
      "     349       2663.26   1.72504e-07       70.2289      0.1941           1      573   \n",
      "Optimization terminated normally: \n",
      "  Convergence detected: relative gradient magnitude is below tolerance\n"
     ]
    },
    {
     "name": "stderr",
     "output_type": "stream",
     "text": [
      " 21%|██▏       | 107/500 [03:20<12:03,  1.84s/it]"
     ]
    },
    {
     "name": "stdout",
     "output_type": "stream",
     "text": [
      "Initial log joint probability = -22.6849\n",
      "    Iter      log prob        ||dx||      ||grad||       alpha      alpha0  # evals  Notes \n",
      "      99       2885.93    0.00839182        267.22           1           1      122   \n",
      "    Iter      log prob        ||dx||      ||grad||       alpha      alpha0  # evals  Notes \n",
      "     175       2890.29   0.000276158        297.14   7.671e-07       0.001      267  LS failed, Hessian reset \n",
      "     199       2891.36   0.000254283       152.736      0.6656      0.6656      296   \n",
      "    Iter      log prob        ||dx||      ||grad||       alpha      alpha0  # evals  Notes \n",
      "     299        2892.1    0.00013649       67.5474      0.9839      0.9839      430   \n",
      "    Iter      log prob        ||dx||      ||grad||       alpha      alpha0  # evals  Notes \n",
      "     344       2892.12    7.9503e-05       79.9638   1.084e-06       0.001      530  LS failed, Hessian reset \n",
      "     380       2892.13   7.65641e-07       66.4362   1.091e-08       0.001      610  LS failed, Hessian reset \n",
      "     384       2892.13   1.87703e-07       59.8385      0.2543           1      615   \n",
      "Optimization terminated normally: \n",
      "  Convergence detected: relative gradient magnitude is below tolerance\n"
     ]
    },
    {
     "name": "stderr",
     "output_type": "stream",
     "text": [
      " 22%|██▏       | 108/500 [03:22<12:04,  1.85s/it]"
     ]
    },
    {
     "name": "stdout",
     "output_type": "stream",
     "text": [
      "Initial log joint probability = -22.5145\n",
      "    Iter      log prob        ||dx||      ||grad||       alpha      alpha0  # evals  Notes \n",
      "      99       2816.61     0.0163209       587.298           1           1      124   \n",
      "    Iter      log prob        ||dx||      ||grad||       alpha      alpha0  # evals  Notes \n",
      "     104       2817.35    0.00159456        196.58   1.023e-05       0.001      160  LS failed, Hessian reset \n",
      "     199       2820.14   0.000168347        71.305      0.2572           1      287   \n",
      "    Iter      log prob        ||dx||      ||grad||       alpha      alpha0  # evals  Notes \n",
      "     227       2820.16   3.26704e-05        64.118   4.207e-07       0.001      370  LS failed, Hessian reset \n",
      "     281       2820.16   1.22144e-05       68.4503   1.683e-07       0.001      489  LS failed, Hessian reset \n",
      "     290       2820.16   2.86703e-08       62.6679      0.1132       0.379      507   \n",
      "Optimization terminated normally: \n",
      "  Convergence detected: relative gradient magnitude is below tolerance\n"
     ]
    },
    {
     "name": "stderr",
     "output_type": "stream",
     "text": [
      " 22%|██▏       | 109/500 [03:24<11:50,  1.82s/it]"
     ]
    },
    {
     "name": "stdout",
     "output_type": "stream",
     "text": [
      "Initial log joint probability = -40.2232\n",
      "    Iter      log prob        ||dx||      ||grad||       alpha      alpha0  # evals  Notes \n",
      "      99       2848.32    0.00248751       123.106      0.7671      0.7671      131   \n",
      "    Iter      log prob        ||dx||      ||grad||       alpha      alpha0  # evals  Notes \n",
      "     176       2852.46   0.000284331       268.113    1.18e-06       0.001      268  LS failed, Hessian reset \n",
      "     199       2853.43    0.00201458       105.883           1           1      291   \n",
      "    Iter      log prob        ||dx||      ||grad||       alpha      alpha0  # evals  Notes \n",
      "     228       2853.88   5.59381e-05       51.1726   8.888e-07       0.001      369  LS failed, Hessian reset \n",
      "     299       2853.96    0.00020309       65.7053      0.2297           1      463   \n",
      "    Iter      log prob        ||dx||      ||grad||       alpha      alpha0  # evals  Notes \n",
      "     394       2854.36   9.54294e-06       60.0898   1.255e-07       0.001      620  LS failed, Hessian reset \n",
      "     399       2854.36   1.24402e-06        56.257      0.9121      0.9121      625   \n",
      "    Iter      log prob        ||dx||      ||grad||       alpha      alpha0  # evals  Notes \n",
      "     419       2854.36   3.23842e-06       73.5629   5.789e-08       0.001      697  LS failed, Hessian reset \n",
      "     427       2854.36   2.20801e-07        51.853           1           1      709   \n",
      "Optimization terminated normally: \n",
      "  Convergence detected: relative gradient magnitude is below tolerance\n"
     ]
    },
    {
     "name": "stderr",
     "output_type": "stream",
     "text": [
      " 22%|██▏       | 110/500 [03:26<12:02,  1.85s/it]"
     ]
    },
    {
     "name": "stdout",
     "output_type": "stream",
     "text": [
      "Initial log joint probability = -20.8355\n",
      "    Iter      log prob        ||dx||      ||grad||       alpha      alpha0  # evals  Notes \n",
      "      99       2686.25    0.00202827       109.209           1           1      113   \n",
      "    Iter      log prob        ||dx||      ||grad||       alpha      alpha0  # evals  Notes \n",
      "     163       2688.53   0.000382936       197.167   3.519e-06       0.001      240  LS failed, Hessian reset \n",
      "     199       2689.11   6.42149e-05       57.4513       1.332      0.1332      286   \n",
      "    Iter      log prob        ||dx||      ||grad||       alpha      alpha0  # evals  Notes \n",
      "     247       2689.15   5.69773e-07       46.1039      0.8826      0.8826      361   \n",
      "Optimization terminated normally: \n",
      "  Convergence detected: relative gradient magnitude is below tolerance\n"
     ]
    },
    {
     "name": "stderr",
     "output_type": "stream",
     "text": [
      " 22%|██▏       | 111/500 [03:27<11:49,  1.82s/it]"
     ]
    },
    {
     "name": "stdout",
     "output_type": "stream",
     "text": [
      "Initial log joint probability = -36.9721\n",
      "    Iter      log prob        ||dx||      ||grad||       alpha      alpha0  # evals  Notes \n",
      "      99       2874.76     0.0104998       364.258      0.3739           1      129   \n",
      "    Iter      log prob        ||dx||      ||grad||       alpha      alpha0  # evals  Notes \n",
      "     118       2875.79    0.00016501       175.084   1.006e-06       0.001      188  LS failed, Hessian reset \n",
      "     177       2879.35    0.00146697       184.245   1.135e-05       0.001      294  LS failed, Hessian reset \n",
      "     199        2880.6    0.00118737       75.5029           1           1      323   \n",
      "    Iter      log prob        ||dx||      ||grad||       alpha      alpha0  # evals  Notes \n",
      "     245       2880.94   8.22654e-05       80.5152   6.089e-07       0.001      433  LS failed, Hessian reset \n",
      "     299       2881.13   0.000346511        45.886           1           1      507   \n",
      "    Iter      log prob        ||dx||      ||grad||       alpha      alpha0  # evals  Notes \n",
      "     362       2881.26   0.000736382       128.962   1.078e-05       0.001      631  LS failed, Hessian reset \n",
      "     399       2881.29   1.01717e-05       65.4273      0.3117           1      686   \n",
      "    Iter      log prob        ||dx||      ||grad||       alpha      alpha0  # evals  Notes \n",
      "     475       2881.39   1.50164e-05       58.3609   2.523e-07       0.001      818  LS failed, Hessian reset \n",
      "     499        2881.4   0.000198869       59.3817           1           1      848   \n",
      "    Iter      log prob        ||dx||      ||grad||       alpha      alpha0  # evals  Notes \n",
      "     501        2881.4   6.10945e-05       81.9362   8.668e-07       0.001      884  LS failed, Hessian reset \n",
      "     554       2881.41   2.77393e-05       65.7085   3.248e-07       0.001      995  LS failed, Hessian reset \n",
      "     573       2881.41    1.8616e-07       58.8632      0.1617      0.1617     1026   \n",
      "Optimization terminated normally: \n",
      "  Convergence detected: relative gradient magnitude is below tolerance\n"
     ]
    },
    {
     "name": "stderr",
     "output_type": "stream",
     "text": [
      " 22%|██▏       | 112/500 [03:30<12:19,  1.91s/it]"
     ]
    },
    {
     "name": "stdout",
     "output_type": "stream",
     "text": [
      "Initial log joint probability = -18.9285\n",
      "    Iter      log prob        ||dx||      ||grad||       alpha      alpha0  # evals  Notes \n",
      "      99       2858.69    0.00421501       103.448           1           1      128   \n",
      "    Iter      log prob        ||dx||      ||grad||       alpha      alpha0  # evals  Notes \n",
      "     126       2859.74    0.00260889       600.903   2.661e-05       0.001      191  LS failed, Hessian reset \n",
      "     188       2861.28   0.000212937       208.362   7.891e-07       0.001      318  LS failed, Hessian reset \n",
      "     199       2861.73   0.000687817        140.48      0.3529           1      331   \n",
      "    Iter      log prob        ||dx||      ||grad||       alpha      alpha0  # evals  Notes \n",
      "     292       2862.08   2.08131e-07       53.8933      0.3276      0.8766      465   \n",
      "Optimization terminated normally: \n",
      "  Convergence detected: relative gradient magnitude is below tolerance\n"
     ]
    },
    {
     "name": "stderr",
     "output_type": "stream",
     "text": [
      " 23%|██▎       | 113/500 [03:31<12:02,  1.87s/it]"
     ]
    },
    {
     "name": "stdout",
     "output_type": "stream",
     "text": [
      "Initial log joint probability = -28.0125\n",
      "    Iter      log prob        ||dx||      ||grad||       alpha      alpha0  # evals  Notes \n",
      "      71       2749.85   0.000274044        152.44   4.686e-06       0.001      136  LS failed, Hessian reset \n",
      "      99       2751.46    0.00334531       300.325           1           1      170   \n",
      "    Iter      log prob        ||dx||      ||grad||       alpha      alpha0  # evals  Notes \n",
      "     132       2753.34   7.62287e-05       64.4202   8.117e-07       0.001      251  LS failed, Hessian reset \n",
      "     190       2755.88   0.000263509       174.714    6.59e-07       0.001      363  LS failed, Hessian reset \n",
      "     199       2756.38   0.000803496        64.032      0.8347      0.8347      373   \n",
      "    Iter      log prob        ||dx||      ||grad||       alpha      alpha0  # evals  Notes \n",
      "     299       2756.72   0.000265667       84.4354           1           1      512   \n",
      "    Iter      log prob        ||dx||      ||grad||       alpha      alpha0  # evals  Notes \n",
      "     330       2756.79   5.83974e-10       69.2841   2.047e-06      0.2018      576   \n",
      "Optimization terminated normally: \n",
      "  Convergence detected: absolute parameter change was below tolerance\n"
     ]
    },
    {
     "name": "stderr",
     "output_type": "stream",
     "text": [
      " 23%|██▎       | 114/500 [03:33<11:57,  1.86s/it]"
     ]
    },
    {
     "name": "stdout",
     "output_type": "stream",
     "text": [
      "Initial log joint probability = -23.4574\n",
      "    Iter      log prob        ||dx||      ||grad||       alpha      alpha0  # evals  Notes \n",
      "      99        2654.8   0.000723087       92.2053           1           1      122   \n",
      "    Iter      log prob        ||dx||      ||grad||       alpha      alpha0  # evals  Notes \n",
      "     104       2655.33   0.000545889       266.582   4.265e-06       0.001      165  LS failed, Hessian reset \n",
      "     199       2658.05   0.000751231        91.591           1           1      284   \n",
      "    Iter      log prob        ||dx||      ||grad||       alpha      alpha0  # evals  Notes \n",
      "     215       2658.15    0.00010562       69.3634    1.83e-06       0.001      345  LS failed, Hessian reset \n",
      "     299        2658.2   2.05134e-06       73.1828      0.2356      0.2356      454   \n",
      "    Iter      log prob        ||dx||      ||grad||       alpha      alpha0  # evals  Notes \n",
      "     355       2658.27   1.05639e-05       42.3115   1.409e-07       0.001      581  LS failed, Hessian reset \n",
      "     368       2658.27   1.11806e-08       49.1278     0.01477           1      601   \n",
      "Optimization terminated normally: \n",
      "  Convergence detected: relative gradient magnitude is below tolerance\n"
     ]
    },
    {
     "name": "stderr",
     "output_type": "stream",
     "text": [
      " 23%|██▎       | 115/500 [03:35<11:51,  1.85s/it]"
     ]
    },
    {
     "name": "stdout",
     "output_type": "stream",
     "text": [
      "Initial log joint probability = -22.0253\n",
      "    Iter      log prob        ||dx||      ||grad||       alpha      alpha0  # evals  Notes \n",
      "      99       2692.52    0.00532728       142.562      0.1404      0.4417      126   \n",
      "    Iter      log prob        ||dx||      ||grad||       alpha      alpha0  # evals  Notes \n",
      "     160       2694.75   0.000162671       136.607    1.02e-06       0.001      240  LS failed, Hessian reset \n",
      "     199       2695.59   0.000201028       74.2332      0.9284      0.9284      291   \n",
      "    Iter      log prob        ||dx||      ||grad||       alpha      alpha0  # evals  Notes \n",
      "     238        2695.6   6.32503e-07       68.2136   8.296e-09       0.001      386  LS failed, Hessian reset \n",
      "     241        2695.6   1.94308e-07       60.2544      0.8219      0.8219      389   \n",
      "Optimization terminated normally: \n",
      "  Convergence detected: relative gradient magnitude is below tolerance\n"
     ]
    },
    {
     "name": "stderr",
     "output_type": "stream",
     "text": [
      " 23%|██▎       | 116/500 [03:37<11:37,  1.82s/it]"
     ]
    },
    {
     "name": "stdout",
     "output_type": "stream",
     "text": [
      "Initial log joint probability = -21.2463\n",
      "    Iter      log prob        ||dx||      ||grad||       alpha      alpha0  # evals  Notes \n",
      "      99       2657.07     0.0064814       193.227           1           1      138   \n",
      "    Iter      log prob        ||dx||      ||grad||       alpha      alpha0  # evals  Notes \n",
      "     111       2657.86   0.000532235       288.914    2.98e-06       0.001      180  LS failed, Hessian reset \n",
      "     199        2659.4    0.00176886       140.206           1           1      288   \n",
      "    Iter      log prob        ||dx||      ||grad||       alpha      alpha0  # evals  Notes \n",
      "     218          2660    0.00014945       113.171   1.096e-06       0.001      359  LS failed, Hessian reset \n",
      "     299       2660.32   1.02702e-06       90.2003           1           1      467   \n",
      "    Iter      log prob        ||dx||      ||grad||       alpha      alpha0  # evals  Notes \n",
      "     362       2660.33   1.17471e-07       80.7348      0.2295       0.987      546   \n",
      "Optimization terminated normally: \n",
      "  Convergence detected: relative gradient magnitude is below tolerance\n"
     ]
    },
    {
     "name": "stderr",
     "output_type": "stream",
     "text": [
      " 23%|██▎       | 117/500 [03:39<11:34,  1.81s/it]"
     ]
    },
    {
     "name": "stdout",
     "output_type": "stream",
     "text": [
      "Initial log joint probability = -26.9853\n",
      "    Iter      log prob        ||dx||      ||grad||       alpha      alpha0  # evals  Notes \n",
      "      99       2903.74    0.00503197       157.011           1           1      126   \n",
      "    Iter      log prob        ||dx||      ||grad||       alpha      alpha0  # evals  Notes \n",
      "     199       2909.39    0.00072927       73.7248      0.4739      0.4739      250   \n",
      "    Iter      log prob        ||dx||      ||grad||       alpha      alpha0  # evals  Notes \n",
      "     299       2910.27   0.000118724       72.6929      0.3717           1      392   \n",
      "    Iter      log prob        ||dx||      ||grad||       alpha      alpha0  # evals  Notes \n",
      "     399       2910.43   2.41219e-06       51.9453      0.2434           1      521   \n",
      "    Iter      log prob        ||dx||      ||grad||       alpha      alpha0  # evals  Notes \n",
      "     411       2910.43   2.07049e-07       55.0213      0.2011           1      540   \n",
      "Optimization terminated normally: \n",
      "  Convergence detected: relative gradient magnitude is below tolerance\n"
     ]
    },
    {
     "name": "stderr",
     "output_type": "stream",
     "text": [
      " 24%|██▎       | 118/500 [03:40<11:34,  1.82s/it]"
     ]
    },
    {
     "name": "stdout",
     "output_type": "stream",
     "text": [
      "Initial log joint probability = -35.6232\n",
      "    Iter      log prob        ||dx||      ||grad||       alpha      alpha0  # evals  Notes \n",
      "      99       2825.23     0.0200215       254.177           1           1      125   \n",
      "    Iter      log prob        ||dx||      ||grad||       alpha      alpha0  # evals  Notes \n",
      "     106       2826.14    0.00200148       381.424   2.266e-05       0.001      179  LS failed, Hessian reset \n",
      "     199       2830.17     0.0024672        328.72           1           1      289   \n",
      "    Iter      log prob        ||dx||      ||grad||       alpha      alpha0  # evals  Notes \n",
      "     213       2830.68   0.000132327       125.449   1.292e-06       0.001      343  LS failed, Hessian reset \n",
      "     286       2831.08   2.95824e-05       77.4675   2.983e-07       0.001      475  LS failed, Hessian reset \n",
      "     299       2831.08   3.86211e-07       54.4274      0.2661           1      494   \n",
      "    Iter      log prob        ||dx||      ||grad||       alpha      alpha0  # evals  Notes \n",
      "     318       2831.08   5.04952e-08       69.3956      0.3326      0.3326      519   \n",
      "Optimization terminated normally: \n",
      "  Convergence detected: relative gradient magnitude is below tolerance\n"
     ]
    },
    {
     "name": "stderr",
     "output_type": "stream",
     "text": [
      " 24%|██▍       | 119/500 [03:42<11:33,  1.82s/it]"
     ]
    },
    {
     "name": "stdout",
     "output_type": "stream",
     "text": [
      "Initial log joint probability = -22.8687\n",
      "    Iter      log prob        ||dx||      ||grad||       alpha      alpha0  # evals  Notes \n",
      "      87        2832.8   0.000333914       229.261   2.237e-06       0.001      152  LS failed, Hessian reset \n",
      "      99       2833.43     0.0003495       125.268           1           1      165   \n",
      "    Iter      log prob        ||dx||      ||grad||       alpha      alpha0  # evals  Notes \n",
      "     160       2835.22   0.000214839       202.296   7.384e-07       0.001      294  LS failed, Hessian reset \n",
      "     199       2835.96   5.11343e-05       79.9603      0.2062      0.2062      347   \n",
      "    Iter      log prob        ||dx||      ||grad||       alpha      alpha0  # evals  Notes \n",
      "     231       2836.04   8.24686e-05        93.026    9.46e-07       0.001      430  LS failed, Hessian reset \n",
      "     299       2836.15   0.000783427       52.8923      0.7153      0.7153      509   \n",
      "    Iter      log prob        ||dx||      ||grad||       alpha      alpha0  # evals  Notes \n",
      "     399       2836.68   0.000501179       61.9418           1           1      629   \n",
      "    Iter      log prob        ||dx||      ||grad||       alpha      alpha0  # evals  Notes \n",
      "     445       2836.78    1.5856e-05         52.52   2.742e-07       0.001      738  LS failed, Hessian reset \n",
      "     463       2836.78   4.90734e-08       39.9893     0.02777           1      770   \n",
      "Optimization terminated normally: \n",
      "  Convergence detected: relative gradient magnitude is below tolerance\n"
     ]
    },
    {
     "name": "stderr",
     "output_type": "stream",
     "text": [
      " 24%|██▍       | 120/500 [03:44<11:53,  1.88s/it]"
     ]
    },
    {
     "name": "stdout",
     "output_type": "stream",
     "text": [
      "Initial log joint probability = -19.0273\n",
      "    Iter      log prob        ||dx||      ||grad||       alpha      alpha0  # evals  Notes \n",
      "      99       2804.77       0.02302       273.472           1           1      118   \n",
      "    Iter      log prob        ||dx||      ||grad||       alpha      alpha0  # evals  Notes \n",
      "     101       2805.03   0.000324226       285.826   9.058e-07       0.001      160  LS failed, Hessian reset \n",
      "     199       2808.81    0.00134677       140.886      0.2458           1      289   \n",
      "    Iter      log prob        ||dx||      ||grad||       alpha      alpha0  # evals  Notes \n",
      "     208       2808.91   0.000202855       92.1938   2.925e-06       0.001      342  LS failed, Hessian reset \n",
      "     299       2809.31   9.97881e-05       54.0703           1           1      464   \n",
      "    Iter      log prob        ||dx||      ||grad||       alpha      alpha0  # evals  Notes \n",
      "     399        2809.8   0.000239777       81.7219           1           1      596   \n",
      "    Iter      log prob        ||dx||      ||grad||       alpha      alpha0  # evals  Notes \n",
      "     430       2809.85   2.07727e-05       80.8084   3.121e-07       0.001      686  LS failed, Hessian reset \n",
      "     459       2809.85   1.45518e-07       43.5353     0.05234           1      729   \n",
      "Optimization terminated normally: \n",
      "  Convergence detected: relative gradient magnitude is below tolerance\n"
     ]
    },
    {
     "name": "stderr",
     "output_type": "stream",
     "text": [
      " 24%|██▍       | 121/500 [03:46<11:57,  1.89s/it]"
     ]
    },
    {
     "name": "stdout",
     "output_type": "stream",
     "text": [
      "Initial log joint probability = -32.0464\n",
      "    Iter      log prob        ||dx||      ||grad||       alpha      alpha0  # evals  Notes \n",
      "      99       3013.66     0.0024141       94.5303           1           1      132   \n",
      "    Iter      log prob        ||dx||      ||grad||       alpha      alpha0  # evals  Notes \n",
      "     113       3015.25   0.000162043        179.92   1.685e-06       0.001      199  LS failed, Hessian reset \n",
      "     149       3017.93   0.000114501       136.748   1.304e-06       0.001      282  LS failed, Hessian reset \n",
      "     199       3019.51    0.00641425       163.716      0.3343           1      355   \n",
      "    Iter      log prob        ||dx||      ||grad||       alpha      alpha0  # evals  Notes \n",
      "     233       3020.72   0.000166585       202.682   9.987e-07       0.001      446  LS failed, Hessian reset \n",
      "     299       3021.36   5.92857e-05       56.1158      0.2654           1      534   \n",
      "    Iter      log prob        ||dx||      ||grad||       alpha      alpha0  # evals  Notes \n",
      "     326       3021.46   6.85608e-05       67.8064   1.047e-06       0.001      603  LS failed, Hessian reset \n",
      "     351       3021.46   7.54316e-06       52.8268   1.201e-07       0.001      673  LS failed, Hessian reset \n",
      "     378       3021.47   1.34314e-07       60.2101       0.288           1      718   \n",
      "Optimization terminated normally: \n",
      "  Convergence detected: relative gradient magnitude is below tolerance\n"
     ]
    },
    {
     "name": "stderr",
     "output_type": "stream",
     "text": [
      " 24%|██▍       | 122/500 [03:48<11:59,  1.90s/it]"
     ]
    },
    {
     "name": "stdout",
     "output_type": "stream",
     "text": [
      "Initial log joint probability = -19.5457\n",
      "    Iter      log prob        ||dx||      ||grad||       alpha      alpha0  # evals  Notes \n",
      "      99       2957.09    0.00422728       495.879      0.3248      0.3248      120   \n",
      "    Iter      log prob        ||dx||      ||grad||       alpha      alpha0  # evals  Notes \n",
      "     155        2959.3   0.000210648       234.224   1.134e-06       0.001      262  LS failed, Hessian reset \n",
      "     199       2960.17   0.000314821       71.6981      0.9929      0.9929      314   \n",
      "    Iter      log prob        ||dx||      ||grad||       alpha      alpha0  # evals  Notes \n",
      "     206       2960.23   0.000190005       167.792   1.774e-06       0.001      364  LS failed, Hessian reset \n",
      "     232       2960.25   0.000106731       79.6851   1.463e-06       0.001      436  LS failed, Hessian reset \n",
      "     253       2960.26   2.36391e-07       48.1289   3.938e-09       0.001      504  LS failed, Hessian reset \n",
      "Optimization terminated normally: \n",
      "  Convergence detected: relative gradient magnitude is below tolerance\n"
     ]
    },
    {
     "name": "stderr",
     "output_type": "stream",
     "text": [
      " 25%|██▍       | 123/500 [03:50<11:50,  1.88s/it]"
     ]
    },
    {
     "name": "stdout",
     "output_type": "stream",
     "text": [
      "Initial log joint probability = -35.1311\n",
      "    Iter      log prob        ||dx||      ||grad||       alpha      alpha0  # evals  Notes \n",
      "      99       2934.35    0.00130073       152.333           1           1      124   \n",
      "    Iter      log prob        ||dx||      ||grad||       alpha      alpha0  # evals  Notes \n",
      "     199       2938.11    0.00541919        86.969       1.829      0.4891      253   \n",
      "    Iter      log prob        ||dx||      ||grad||       alpha      alpha0  # evals  Notes \n",
      "     213       2939.45   0.000191412       215.408   8.412e-07       0.001      324  LS failed, Hessian reset \n",
      "     298       2940.48   1.59399e-05       68.3676   3.262e-07       0.001      477  LS failed, Hessian reset \n",
      "     299       2940.48   7.12014e-06        60.826           1           1      478   \n",
      "    Iter      log prob        ||dx||      ||grad||       alpha      alpha0  # evals  Notes \n",
      "     399       2940.53   4.17449e-06       61.1519      0.8881      0.8881      599   \n",
      "    Iter      log prob        ||dx||      ||grad||       alpha      alpha0  # evals  Notes \n",
      "     411       2940.53   1.98955e-05       58.1664   2.429e-07       0.001      650  LS failed, Hessian reset \n",
      "     447       2940.54   2.67614e-06       44.8793   5.997e-08       0.001      737  LS failed, Hessian reset \n",
      "     499       2940.54   2.36995e-06       63.5064           1           1      809   \n",
      "    Iter      log prob        ||dx||      ||grad||       alpha      alpha0  # evals  Notes \n",
      "     517       2940.54    5.5303e-05       82.7485   8.522e-07       0.001      882  LS failed, Hessian reset \n",
      "     542       2940.55   5.62728e-07       69.7085           1           1      922   \n",
      "Optimization terminated normally: \n",
      "  Convergence detected: relative gradient magnitude is below tolerance\n"
     ]
    },
    {
     "name": "stderr",
     "output_type": "stream",
     "text": [
      " 25%|██▍       | 124/500 [03:52<12:00,  1.92s/it]"
     ]
    },
    {
     "name": "stdout",
     "output_type": "stream",
     "text": [
      "Initial log joint probability = -24.355\n",
      "    Iter      log prob        ||dx||      ||grad||       alpha      alpha0  # evals  Notes \n",
      "      99       2687.41    0.00177195       119.848           1           1      124   \n",
      "    Iter      log prob        ||dx||      ||grad||       alpha      alpha0  # evals  Notes \n",
      "     116       2688.69   0.000659716       283.502   4.213e-06       0.001      180  LS failed, Hessian reset \n",
      "     181        2689.8   0.000134601       103.809   8.643e-07       0.001      307  LS failed, Hessian reset \n",
      "     192       2690.27     0.0011385       75.7093   1.972e-05       0.001      371  LS failed, Hessian reset \n",
      "     199       2690.38    0.00108889       59.1768           1           1      381   \n",
      "    Iter      log prob        ||dx||      ||grad||       alpha      alpha0  # evals  Notes \n",
      "     233       2691.12   0.000153029       122.206   1.086e-06       0.001      469  LS failed, Hessian reset \n",
      "     292       2691.44   1.81016e-05       56.1501   2.291e-07       0.001      578  LS failed, Hessian reset \n",
      "     299       2691.44   2.96484e-07       58.5406     0.03044           1      590   \n",
      "    Iter      log prob        ||dx||      ||grad||       alpha      alpha0  # evals  Notes \n",
      "     312       2691.44   1.11443e-07       59.8005     0.08175           1      616   \n",
      "Optimization terminated normally: \n",
      "  Convergence detected: relative gradient magnitude is below tolerance\n"
     ]
    },
    {
     "name": "stderr",
     "output_type": "stream",
     "text": [
      " 25%|██▌       | 125/500 [03:54<11:57,  1.91s/it]"
     ]
    },
    {
     "name": "stdout",
     "output_type": "stream",
     "text": [
      "Initial log joint probability = -26.0293\n",
      "    Iter      log prob        ||dx||      ||grad||       alpha      alpha0  # evals  Notes \n",
      "      99       2769.62   0.000509211       99.0133      0.9099      0.9099      128   \n",
      "    Iter      log prob        ||dx||      ||grad||       alpha      alpha0  # evals  Notes \n",
      "     199       2773.09   0.000209865       58.5182           1           1      266   \n",
      "    Iter      log prob        ||dx||      ||grad||       alpha      alpha0  # evals  Notes \n",
      "     285       2773.12   1.59472e-05       62.2895   2.397e-07       0.001      423  LS failed, Hessian reset \n",
      "     299       2773.12   3.10745e-07       66.9563      0.3539           1      447   \n",
      "    Iter      log prob        ||dx||      ||grad||       alpha      alpha0  # evals  Notes \n",
      "     300       2773.12    1.2074e-07       55.2496       0.297       0.297      448   \n",
      "Optimization terminated normally: \n",
      "  Convergence detected: relative gradient magnitude is below tolerance\n"
     ]
    },
    {
     "name": "stderr",
     "output_type": "stream",
     "text": [
      " 25%|██▌       | 126/500 [03:56<11:48,  1.89s/it]"
     ]
    },
    {
     "name": "stdout",
     "output_type": "stream",
     "text": [
      "Initial log joint probability = -17.463\n",
      "    Iter      log prob        ||dx||      ||grad||       alpha      alpha0  # evals  Notes \n",
      "      85       2659.31   0.000390505       224.219   2.965e-06       0.001      147  LS failed, Hessian reset \n",
      "      99       2659.66   0.000672695         85.64           1           1      163   \n",
      "    Iter      log prob        ||dx||      ||grad||       alpha      alpha0  # evals  Notes \n",
      "     155       2660.09    0.00020146       156.324   1.346e-06       0.001      305  LS failed, Hessian reset \n",
      "     199       2660.43   2.28813e-05       79.5351      0.8169      0.8169      360   \n",
      "    Iter      log prob        ||dx||      ||grad||       alpha      alpha0  # evals  Notes \n",
      "     257       2660.44   9.53547e-08       90.3707       0.645       0.645      434   \n",
      "Optimization terminated normally: \n",
      "  Convergence detected: relative gradient magnitude is below tolerance\n"
     ]
    },
    {
     "name": "stderr",
     "output_type": "stream",
     "text": [
      " 25%|██▌       | 127/500 [03:58<12:00,  1.93s/it]"
     ]
    },
    {
     "name": "stdout",
     "output_type": "stream",
     "text": [
      "Initial log joint probability = -26.937\n",
      "    Iter      log prob        ||dx||      ||grad||       alpha      alpha0  # evals  Notes \n",
      "      99       2983.51    0.00415377       257.307      0.8908      0.8908      125   \n",
      "    Iter      log prob        ||dx||      ||grad||       alpha      alpha0  # evals  Notes \n",
      "     199       2989.02     0.0079803       587.145      0.3364      0.3364      244   \n",
      "    Iter      log prob        ||dx||      ||grad||       alpha      alpha0  # evals  Notes \n",
      "     210       2990.35   0.000211906       194.734   2.164e-06       0.001      291  LS failed, Hessian reset \n",
      "     296       2991.84   2.34056e-07       65.3745      0.2849           1      406   \n",
      "Optimization terminated normally: \n",
      "  Convergence detected: relative gradient magnitude is below tolerance\n"
     ]
    },
    {
     "name": "stderr",
     "output_type": "stream",
     "text": [
      " 26%|██▌       | 128/500 [04:00<12:15,  1.98s/it]"
     ]
    },
    {
     "name": "stdout",
     "output_type": "stream",
     "text": [
      "Initial log joint probability = -26.2391\n",
      "    Iter      log prob        ||dx||      ||grad||       alpha      alpha0  # evals  Notes \n",
      "      72       2828.39   0.000115389       103.461   1.496e-06       0.001      128  LS failed, Hessian reset \n",
      "      99        2831.2    0.00144446        138.03           1           1      163   \n",
      "    Iter      log prob        ||dx||      ||grad||       alpha      alpha0  # evals  Notes \n",
      "     155       2834.88   0.000962591       347.726   6.795e-06       0.001      279  LS failed, Hessian reset \n",
      "     199       2835.76   0.000162792        85.439           1           1      334   \n",
      "    Iter      log prob        ||dx||      ||grad||       alpha      alpha0  # evals  Notes \n",
      "     299       2836.04    0.00175543       41.9097           1           1      475   \n",
      "    Iter      log prob        ||dx||      ||grad||       alpha      alpha0  # evals  Notes \n",
      "     360       2836.19   2.15426e-05       49.5269   3.095e-07       0.001      589  LS failed, Hessian reset \n",
      "     399       2836.19   2.51671e-05        69.226      0.9427      0.9427      645   \n",
      "    Iter      log prob        ||dx||      ||grad||       alpha      alpha0  # evals  Notes \n",
      "     416       2836.23   0.000358631       160.049   4.394e-06       0.001      704  LS failed, Hessian reset \n",
      "     464       2836.25   1.39623e-07       58.3215      0.3667           1      769   \n",
      "Optimization terminated normally: \n",
      "  Convergence detected: relative gradient magnitude is below tolerance\n"
     ]
    },
    {
     "name": "stderr",
     "output_type": "stream",
     "text": [
      " 26%|██▌       | 129/500 [04:02<12:33,  2.03s/it]"
     ]
    },
    {
     "name": "stdout",
     "output_type": "stream",
     "text": [
      "Initial log joint probability = -35.8066\n",
      "    Iter      log prob        ||dx||      ||grad||       alpha      alpha0  # evals  Notes \n",
      "      99       2913.77   0.000718406        130.73      0.4106      0.4106      121   \n",
      "    Iter      log prob        ||dx||      ||grad||       alpha      alpha0  # evals  Notes \n",
      "     199       2918.83    0.00100132       138.614      0.4545      0.4545      244   \n",
      "    Iter      log prob        ||dx||      ||grad||       alpha      alpha0  # evals  Notes \n",
      "     216       2921.17   0.000217313       218.102    1.31e-06       0.001      299  LS failed, Hessian reset \n",
      "     299       2922.01   1.82957e-05       63.1733           1           1      410   \n",
      "    Iter      log prob        ||dx||      ||grad||       alpha      alpha0  # evals  Notes \n",
      "     326       2922.09   5.90246e-05       82.2485   8.177e-07       0.001      502  LS failed, Hessian reset \n",
      "     380       2922.15   9.68194e-07        47.579     2.2e-08       0.001      617  LS failed, Hessian reset \n",
      "     387       2922.15   5.08028e-08       48.3545      0.2221      0.2221      626   \n",
      "Optimization terminated normally: \n",
      "  Convergence detected: relative gradient magnitude is below tolerance\n"
     ]
    },
    {
     "name": "stderr",
     "output_type": "stream",
     "text": [
      " 26%|██▌       | 130/500 [04:04<12:30,  2.03s/it]"
     ]
    },
    {
     "name": "stdout",
     "output_type": "stream",
     "text": [
      "Initial log joint probability = -17.7305\n",
      "    Iter      log prob        ||dx||      ||grad||       alpha      alpha0  # evals  Notes \n",
      "      99       2752.89    0.00480004       179.002           1           1      123   \n",
      "    Iter      log prob        ||dx||      ||grad||       alpha      alpha0  # evals  Notes \n",
      "     165       2755.01   0.000833274       307.582   4.754e-06       0.001      258  LS failed, Hessian reset \n",
      "     199       2755.68   3.63153e-05       84.4787      0.1811           1      298   \n",
      "    Iter      log prob        ||dx||      ||grad||       alpha      alpha0  # evals  Notes \n",
      "     232       2755.68   9.14305e-08       78.1807      0.4657      0.4657      344   \n",
      "Optimization terminated normally: \n",
      "  Convergence detected: relative gradient magnitude is below tolerance\n"
     ]
    },
    {
     "name": "stderr",
     "output_type": "stream",
     "text": [
      " 26%|██▌       | 131/500 [04:06<12:18,  2.00s/it]"
     ]
    },
    {
     "name": "stdout",
     "output_type": "stream",
     "text": [
      "Initial log joint probability = -18.5707\n",
      "    Iter      log prob        ||dx||      ||grad||       alpha      alpha0  # evals  Notes \n",
      "      99       2963.94    0.00841906       187.937      0.6616      0.6616      120   \n",
      "    Iter      log prob        ||dx||      ||grad||       alpha      alpha0  # evals  Notes \n",
      "     130       2965.26   0.000141947       149.023    1.59e-06       0.001      199  LS failed, Hessian reset \n",
      "     177       2966.71   0.000291806       232.151    2.73e-06       0.001      314  LS failed, Hessian reset \n",
      "     199       2967.48   0.000387077       77.8948           1           1      341   \n",
      "    Iter      log prob        ||dx||      ||grad||       alpha      alpha0  # evals  Notes \n",
      "     240       2967.66   9.99286e-05       104.411    1.05e-06       0.001      447  LS failed, Hessian reset \n",
      "     282       2967.69   1.42345e-05       72.2771   2.047e-07       0.001      543  LS failed, Hessian reset \n",
      "     299       2967.69   1.14799e-07       66.8069      0.4833      0.4833      563   \n",
      "    Iter      log prob        ||dx||      ||grad||       alpha      alpha0  # evals  Notes \n",
      "     301       2967.69   3.66923e-07       56.2258           1           1      566   \n",
      "Optimization terminated normally: \n",
      "  Convergence detected: relative gradient magnitude is below tolerance\n"
     ]
    },
    {
     "name": "stderr",
     "output_type": "stream",
     "text": [
      " 26%|██▋       | 132/500 [04:08<12:25,  2.03s/it]"
     ]
    },
    {
     "name": "stdout",
     "output_type": "stream",
     "text": [
      "Initial log joint probability = -28.0995\n",
      "    Iter      log prob        ||dx||      ||grad||       alpha      alpha0  # evals  Notes \n",
      "      99       2764.12    0.00247963        83.662           1           1      124   \n",
      "    Iter      log prob        ||dx||      ||grad||       alpha      alpha0  # evals  Notes \n",
      "     151       2766.16   0.000240082       185.496   7.166e-07       0.001      240  LS failed, Hessian reset \n",
      "     199       2766.95   1.67946e-05        44.358           1           1      303   \n",
      "    Iter      log prob        ||dx||      ||grad||       alpha      alpha0  # evals  Notes \n",
      "     227       2766.96   5.32286e-05       66.3594   7.385e-07       0.001      378  LS failed, Hessian reset \n",
      "     240       2766.96   3.51598e-10       49.2793   4.178e-05           1      405   \n",
      "Optimization terminated normally: \n",
      "  Convergence detected: absolute parameter change was below tolerance\n"
     ]
    },
    {
     "name": "stderr",
     "output_type": "stream",
     "text": [
      " 27%|██▋       | 133/500 [04:10<12:24,  2.03s/it]"
     ]
    },
    {
     "name": "stdout",
     "output_type": "stream",
     "text": [
      "Initial log joint probability = -28.3563\n",
      "    Iter      log prob        ||dx||      ||grad||       alpha      alpha0  # evals  Notes \n",
      "      99       2728.02      0.014784       143.811           1           1      116   \n",
      "    Iter      log prob        ||dx||      ||grad||       alpha      alpha0  # evals  Notes \n",
      "     141       2729.58   0.000269587       128.322   6.326e-07       0.001      207  LS failed, Hessian reset \n",
      "     199       2730.07   0.000540175       68.0521       2.438      0.5129      281   \n",
      "    Iter      log prob        ||dx||      ||grad||       alpha      alpha0  # evals  Notes \n",
      "     236       2730.07   3.01021e-07       64.2248      0.6743      0.6743      331   \n",
      "Optimization terminated normally: \n",
      "  Convergence detected: relative gradient magnitude is below tolerance\n"
     ]
    },
    {
     "name": "stderr",
     "output_type": "stream",
     "text": [
      " 27%|██▋       | 134/500 [04:12<12:24,  2.03s/it]"
     ]
    },
    {
     "name": "stdout",
     "output_type": "stream",
     "text": [
      "Initial log joint probability = -20.3564\n",
      "    Iter      log prob        ||dx||      ||grad||       alpha      alpha0  # evals  Notes \n",
      "      99       2562.74   0.000835373       98.0902      0.4364      0.4364      118   \n",
      "    Iter      log prob        ||dx||      ||grad||       alpha      alpha0  # evals  Notes \n",
      "     139       2563.34    0.00107097       222.795    1.31e-05       0.001      215  LS failed, Hessian reset \n",
      "     199          2564   1.62195e-05       70.7953       0.692       0.692      288   \n",
      "    Iter      log prob        ||dx||      ||grad||       alpha      alpha0  # evals  Notes \n",
      "     217          2564   1.18412e-05       82.9341   1.625e-07       0.001      344  LS failed, Hessian reset \n",
      "     243          2564   2.18791e-07       73.3693      0.3177           1      378   \n",
      "Optimization terminated normally: \n",
      "  Convergence detected: relative gradient magnitude is below tolerance\n"
     ]
    },
    {
     "name": "stderr",
     "output_type": "stream",
     "text": [
      " 27%|██▋       | 135/500 [04:14<12:31,  2.06s/it]"
     ]
    },
    {
     "name": "stdout",
     "output_type": "stream",
     "text": [
      "Initial log joint probability = -25.3538\n",
      "    Iter      log prob        ||dx||      ||grad||       alpha      alpha0  # evals  Notes \n",
      "      99       2543.62   0.000661533       92.5591           1           1      135   \n",
      "    Iter      log prob        ||dx||      ||grad||       alpha      alpha0  # evals  Notes \n",
      "     185       2545.97    0.00080924       305.577   7.423e-06       0.001      289  LS failed, Hessian reset \n",
      "     199       2546.38   0.000490383       90.3895           1           1      305   \n",
      "    Iter      log prob        ||dx||      ||grad||       alpha      alpha0  # evals  Notes \n",
      "     279       2546.68   9.38464e-08       69.4272      0.3505           1      409   \n",
      "Optimization terminated normally: \n",
      "  Convergence detected: relative gradient magnitude is below tolerance\n"
     ]
    },
    {
     "name": "stderr",
     "output_type": "stream",
     "text": [
      " 27%|██▋       | 136/500 [04:16<12:35,  2.07s/it]"
     ]
    },
    {
     "name": "stdout",
     "output_type": "stream",
     "text": [
      "Initial log joint probability = -30.0536\n",
      "    Iter      log prob        ||dx||      ||grad||       alpha      alpha0  # evals  Notes \n",
      "      98       2567.93   0.000280164        176.81   1.267e-06       0.001      164  LS failed, Hessian reset \n",
      "      99       2568.07     0.0017262       132.798          10           1      166   \n",
      "    Iter      log prob        ||dx||      ||grad||       alpha      alpha0  # evals  Notes \n",
      "     199       2571.11    0.00152318       97.7829           1           1      283   \n",
      "    Iter      log prob        ||dx||      ||grad||       alpha      alpha0  # evals  Notes \n",
      "     209       2571.74   0.000301592       187.866   1.254e-06       0.001      353  LS failed, Hessian reset \n",
      "     273       2572.59   7.31702e-06       90.7339   1.038e-07       0.001      473  LS failed, Hessian reset \n",
      "     289       2572.59   1.85497e-07       69.8697      0.1843      0.9634      496   \n",
      "Optimization terminated normally: \n",
      "  Convergence detected: relative gradient magnitude is below tolerance\n"
     ]
    },
    {
     "name": "stderr",
     "output_type": "stream",
     "text": [
      " 27%|██▋       | 137/500 [04:18<12:41,  2.10s/it]"
     ]
    },
    {
     "name": "stdout",
     "output_type": "stream",
     "text": [
      "Initial log joint probability = -16.8388\n",
      "    Iter      log prob        ||dx||      ||grad||       alpha      alpha0  # evals  Notes \n",
      "      71       2751.69   0.000161668       124.795   1.964e-06       0.001      120  LS failed, Hessian reset \n",
      "      99       2752.36   0.000195066       82.5893      0.6815      0.6815      159   \n",
      "    Iter      log prob        ||dx||      ||grad||       alpha      alpha0  # evals  Notes \n",
      "     134       2753.22   0.000227376       190.032   1.406e-06       0.001      247  LS failed, Hessian reset \n",
      "     199       2753.63   6.61602e-06       59.8581      0.3904      0.3904      335   \n",
      "    Iter      log prob        ||dx||      ||grad||       alpha      alpha0  # evals  Notes \n",
      "     222       2753.68    0.00065542       237.489   6.391e-06       0.001      398  LS failed, Hessian reset \n",
      "     299       2753.73   4.41269e-06       65.7848     0.07273      0.8697      516   \n",
      "    Iter      log prob        ||dx||      ||grad||       alpha      alpha0  # evals  Notes \n",
      "     399       2754.09    0.00148032       65.7962      0.5262      0.5262      648   \n",
      "    Iter      log prob        ||dx||      ||grad||       alpha      alpha0  # evals  Notes \n",
      "     499       2754.26   1.80396e-07       67.6301      0.1825      0.4576      766   \n",
      "    Iter      log prob        ||dx||      ||grad||       alpha      alpha0  # evals  Notes \n",
      "     520       2754.26    1.4488e-05       84.1705   2.091e-07       0.001      825  LS failed, Hessian reset \n",
      "     599        2754.3   2.32782e-05       71.4165           1           1      919   \n",
      "    Iter      log prob        ||dx||      ||grad||       alpha      alpha0  # evals  Notes \n",
      "     632       2754.31   7.74423e-05         72.18   1.073e-06       0.001     1000  LS failed, Hessian reset \n",
      "     678       2754.32   1.87747e-07       63.2155      0.2967      0.2967     1057   \n",
      "Optimization terminated normally: \n",
      "  Convergence detected: relative gradient magnitude is below tolerance\n"
     ]
    },
    {
     "name": "stderr",
     "output_type": "stream",
     "text": [
      " 28%|██▊       | 138/500 [04:21<13:00,  2.16s/it]"
     ]
    },
    {
     "name": "stdout",
     "output_type": "stream",
     "text": [
      "Initial log joint probability = -21.4032\n",
      "    Iter      log prob        ||dx||      ||grad||       alpha      alpha0  # evals  Notes \n",
      "      99       2735.03   0.000304136       116.884      0.1608      0.1608      128   \n",
      "    Iter      log prob        ||dx||      ||grad||       alpha      alpha0  # evals  Notes \n",
      "     120       2736.54    0.00036907        222.86   3.911e-06       0.001      188  LS failed, Hessian reset \n",
      "     199       2738.58   0.000164251       74.4957      0.2152           1      283   \n",
      "    Iter      log prob        ||dx||      ||grad||       alpha      alpha0  # evals  Notes \n",
      "     289       2738.69   1.06242e-05       64.1059    1.48e-07       0.001      450  LS failed, Hessian reset \n",
      "     299       2738.69   5.23968e-07       63.5414       0.183       0.183      465   \n",
      "    Iter      log prob        ||dx||      ||grad||       alpha      alpha0  # evals  Notes \n",
      "     376       2738.76   1.41913e-07        68.693           1           1      570   \n",
      "Optimization terminated normally: \n",
      "  Convergence detected: relative gradient magnitude is below tolerance\n"
     ]
    },
    {
     "name": "stderr",
     "output_type": "stream",
     "text": [
      " 28%|██▊       | 139/500 [04:23<13:23,  2.23s/it]"
     ]
    },
    {
     "name": "stdout",
     "output_type": "stream",
     "text": [
      "Initial log joint probability = -19.3821\n",
      "    Iter      log prob        ||dx||      ||grad||       alpha      alpha0  # evals  Notes \n",
      "      99       2725.88    0.00129497       178.941      0.7701      0.7701      120   \n",
      "    Iter      log prob        ||dx||      ||grad||       alpha      alpha0  # evals  Notes \n",
      "     155       2727.64   0.000241074       112.635   6.268e-07       0.001      226  LS failed, Hessian reset \n",
      "     199        2728.2   9.19466e-05       57.7764           1           1      288   \n",
      "    Iter      log prob        ||dx||      ||grad||       alpha      alpha0  # evals  Notes \n",
      "     241       2728.23    2.3805e-07       62.7328      0.7525      0.7525      355   \n",
      "Optimization terminated normally: \n",
      "  Convergence detected: relative gradient magnitude is below tolerance\n"
     ]
    },
    {
     "name": "stderr",
     "output_type": "stream",
     "text": [
      " 28%|██▊       | 140/500 [04:25<13:26,  2.24s/it]"
     ]
    },
    {
     "name": "stdout",
     "output_type": "stream",
     "text": [
      "Initial log joint probability = -18.4761\n",
      "    Iter      log prob        ||dx||      ||grad||       alpha      alpha0  # evals  Notes \n",
      "      80       2853.53   8.93438e-05       93.9593   8.928e-07       0.001      141  LS failed, Hessian reset \n",
      "      99       2854.44    0.00298033       97.7073           1           1      164   \n",
      "    Iter      log prob        ||dx||      ||grad||       alpha      alpha0  # evals  Notes \n",
      "     180       2856.83   0.000139795       93.8691   5.234e-07       0.001      319  LS failed, Hessian reset \n",
      "     199        2857.2   7.13656e-05       77.1834           1           1      343   \n",
      "    Iter      log prob        ||dx||      ||grad||       alpha      alpha0  # evals  Notes \n",
      "     299       2857.27   3.55616e-06       69.7804      0.5236      0.5236      478   \n",
      "    Iter      log prob        ||dx||      ||grad||       alpha      alpha0  # evals  Notes \n",
      "     319       2857.28   7.68916e-05       73.6058   8.216e-07       0.001      554  LS failed, Hessian reset \n",
      "     351       2857.28   1.49432e-07       68.7578           1           1      599   \n",
      "Optimization terminated normally: \n",
      "  Convergence detected: relative gradient magnitude is below tolerance\n"
     ]
    },
    {
     "name": "stderr",
     "output_type": "stream",
     "text": [
      " 28%|██▊       | 141/500 [04:28<13:34,  2.27s/it]"
     ]
    },
    {
     "name": "stdout",
     "output_type": "stream",
     "text": [
      "Initial log joint probability = -22.8905\n",
      "    Iter      log prob        ||dx||      ||grad||       alpha      alpha0  # evals  Notes \n",
      "      99       2991.81    0.00106358       75.2547      0.9662      0.9662      123   \n",
      "    Iter      log prob        ||dx||      ||grad||       alpha      alpha0  # evals  Notes \n",
      "     144       2994.16   0.000663113       103.616   8.053e-06       0.001      221  LS failed, Hessian reset \n",
      "     199       2995.56    0.00367952       179.436      0.3198      0.3198      289   \n",
      "    Iter      log prob        ||dx||      ||grad||       alpha      alpha0  # evals  Notes \n",
      "     299       2997.03   4.29517e-06       63.2479     0.09704           1      434   \n",
      "    Iter      log prob        ||dx||      ||grad||       alpha      alpha0  # evals  Notes \n",
      "     399       2997.31   0.000140955       72.9582      0.6219      0.6219      554   \n",
      "    Iter      log prob        ||dx||      ||grad||       alpha      alpha0  # evals  Notes \n",
      "     426       2997.32   1.39375e-05       66.1625   2.278e-07       0.001      633  LS failed, Hessian reset \n",
      "     445       2997.32   5.84096e-07       65.8714      0.3193           1      665   \n",
      "Optimization terminated normally: \n",
      "  Convergence detected: relative gradient magnitude is below tolerance\n"
     ]
    },
    {
     "name": "stderr",
     "output_type": "stream",
     "text": [
      " 28%|██▊       | 142/500 [04:30<13:26,  2.25s/it]"
     ]
    },
    {
     "name": "stdout",
     "output_type": "stream",
     "text": [
      "Initial log joint probability = -22.2197\n",
      "    Iter      log prob        ||dx||      ||grad||       alpha      alpha0  # evals  Notes \n",
      "      99       2996.23    0.00050477       91.5437           1           1      133   \n",
      "    Iter      log prob        ||dx||      ||grad||       alpha      alpha0  # evals  Notes \n",
      "     199       3003.07   0.000486196       172.181      0.7326      0.7326      268   \n",
      "    Iter      log prob        ||dx||      ||grad||       alpha      alpha0  # evals  Notes \n",
      "     234       3003.65   0.000201523       221.742   1.118e-06       0.001      352  LS failed, Hessian reset \n",
      "     284        3003.8   2.45075e-07       64.3128     0.05609           1      418   \n",
      "Optimization terminated normally: \n",
      "  Convergence detected: relative gradient magnitude is below tolerance\n"
     ]
    },
    {
     "name": "stderr",
     "output_type": "stream",
     "text": [
      " 29%|██▊       | 143/500 [04:32<12:45,  2.14s/it]"
     ]
    },
    {
     "name": "stdout",
     "output_type": "stream",
     "text": [
      "Initial log joint probability = -22.0075\n",
      "    Iter      log prob        ||dx||      ||grad||       alpha      alpha0  # evals  Notes \n",
      "      99       2987.17    0.00687178       190.265           1           1      127   \n",
      "    Iter      log prob        ||dx||      ||grad||       alpha      alpha0  # evals  Notes \n",
      "     199       2992.32     0.0018542       181.819           1           1      250   \n",
      "    Iter      log prob        ||dx||      ||grad||       alpha      alpha0  # evals  Notes \n",
      "     216       2993.49   8.98676e-05        102.46   4.948e-07       0.001      303  LS failed, Hessian reset \n",
      "     299        2994.8   2.59358e-05       56.4125           1           1      429   \n",
      "    Iter      log prob        ||dx||      ||grad||       alpha      alpha0  # evals  Notes \n",
      "     325        2994.9   8.45261e-05       90.7585   1.175e-06       0.001      503  LS failed, Hessian reset \n",
      "     399       2994.93    2.0369e-06       51.3402      0.4338      0.4338      592   \n",
      "    Iter      log prob        ||dx||      ||grad||       alpha      alpha0  # evals  Notes \n",
      "     499       2995.25   0.000120913       64.6836           1           1      727   \n",
      "    Iter      log prob        ||dx||      ||grad||       alpha      alpha0  # evals  Notes \n",
      "     599       2995.31   6.60653e-05       77.9539           1           1      862   \n",
      "    Iter      log prob        ||dx||      ||grad||       alpha      alpha0  # evals  Notes \n",
      "     659       2995.32   2.73334e-06       43.1954           1           1      936   \n",
      "Optimization terminated normally: \n",
      "  Convergence detected: relative gradient magnitude is below tolerance\n"
     ]
    },
    {
     "name": "stderr",
     "output_type": "stream",
     "text": [
      " 29%|██▉       | 144/500 [04:34<13:23,  2.26s/it]"
     ]
    },
    {
     "name": "stdout",
     "output_type": "stream",
     "text": [
      "Initial log joint probability = -19.3908\n",
      "    Iter      log prob        ||dx||      ||grad||       alpha      alpha0  # evals  Notes \n",
      "      99       2831.26     0.0031606       99.3321           1           1      130   \n",
      "    Iter      log prob        ||dx||      ||grad||       alpha      alpha0  # evals  Notes \n",
      "     148       2832.46    0.00014673       140.758    8.72e-07       0.001      261  LS failed, Hessian reset \n",
      "     199       2833.04   0.000258453       61.8804           1           1      330   \n",
      "    Iter      log prob        ||dx||      ||grad||       alpha      alpha0  # evals  Notes \n",
      "     203       2833.05   4.68076e-05       71.0396   7.544e-07       0.001      373  LS failed, Hessian reset \n",
      "     262       2833.07   0.000118148       114.944   1.118e-06       0.001      487  LS failed, Hessian reset \n",
      "     299       2833.08   1.14182e-07       62.2227      0.2822      0.9874      539   \n",
      "Optimization terminated normally: \n",
      "  Convergence detected: relative gradient magnitude is below tolerance\n"
     ]
    },
    {
     "name": "stderr",
     "output_type": "stream",
     "text": [
      " 29%|██▉       | 145/500 [04:37<13:49,  2.34s/it]"
     ]
    },
    {
     "name": "stdout",
     "output_type": "stream",
     "text": [
      "Initial log joint probability = -23.4207\n",
      "    Iter      log prob        ||dx||      ||grad||       alpha      alpha0  # evals  Notes \n",
      "      99       2695.27    0.00601421       420.195           1           1      132   \n",
      "    Iter      log prob        ||dx||      ||grad||       alpha      alpha0  # evals  Notes \n",
      "     146       2697.38   0.000379247       241.233   2.203e-06       0.001      238  LS failed, Hessian reset \n",
      "     180       2698.07   9.03476e-05       64.7332   1.356e-06       0.001      320  LS failed, Hessian reset \n",
      "     199       2698.08   6.91588e-06       53.6642      0.3799           1      347   \n",
      "    Iter      log prob        ||dx||      ||grad||       alpha      alpha0  # evals  Notes \n",
      "     237       2698.08    1.2649e-07       52.9597      0.3732      0.3732      396   \n",
      "Optimization terminated normally: \n",
      "  Convergence detected: relative gradient magnitude is below tolerance\n"
     ]
    },
    {
     "name": "stderr",
     "output_type": "stream",
     "text": [
      " 29%|██▉       | 146/500 [04:39<13:03,  2.21s/it]"
     ]
    },
    {
     "name": "stdout",
     "output_type": "stream",
     "text": [
      "Initial log joint probability = -25.8309\n",
      "    Iter      log prob        ||dx||      ||grad||       alpha      alpha0  # evals  Notes \n",
      "      86       2645.97    0.00100903       326.644   5.388e-06       0.001      154  LS failed, Hessian reset \n",
      "      99       2646.85    0.00159796       217.948           1           1      170   \n",
      "    Iter      log prob        ||dx||      ||grad||       alpha      alpha0  # evals  Notes \n",
      "     141       2647.84   0.000160632       116.161   1.508e-06       0.001      260  LS failed, Hessian reset \n",
      "     178       2648.98   0.000241463       138.268   7.948e-07       0.001      358  LS failed, Hessian reset \n",
      "     199       2649.65   0.000190137        69.389      0.3871           1      391   \n",
      "    Iter      log prob        ||dx||      ||grad||       alpha      alpha0  # evals  Notes \n",
      "     260       2649.71   5.45285e-05       62.6614   7.108e-07       0.001      515  LS failed, Hessian reset \n",
      "     299       2649.71   3.50447e-05       67.0573           1           1      572   \n",
      "    Iter      log prob        ||dx||      ||grad||       alpha      alpha0  # evals  Notes \n",
      "     322       2649.71   1.71006e-07       46.0917           1           1      601   \n",
      "Optimization terminated normally: \n",
      "  Convergence detected: relative gradient magnitude is below tolerance\n"
     ]
    },
    {
     "name": "stderr",
     "output_type": "stream",
     "text": [
      " 29%|██▉       | 147/500 [04:41<12:38,  2.15s/it]"
     ]
    },
    {
     "name": "stdout",
     "output_type": "stream",
     "text": [
      "Initial log joint probability = -31.827\n",
      "    Iter      log prob        ||dx||      ||grad||       alpha      alpha0  # evals  Notes \n",
      "      99       2994.85    0.00201113        451.25           1           1      120   \n",
      "    Iter      log prob        ||dx||      ||grad||       alpha      alpha0  # evals  Notes \n",
      "     124       2997.54   0.000414188       428.443   1.512e-06       0.001      182  LS failed, Hessian reset \n",
      "     199       3000.37   0.000904504       109.521       2.726      0.2726      274   \n",
      "    Iter      log prob        ||dx||      ||grad||       alpha      alpha0  # evals  Notes \n",
      "     227        3002.3   0.000115124        131.72   4.963e-07       0.001      353  LS failed, Hessian reset \n",
      "     299       3003.81   2.92345e-06       81.9341      0.6488      0.6488      442   \n",
      "    Iter      log prob        ||dx||      ||grad||       alpha      alpha0  # evals  Notes \n",
      "     308       3003.81   7.40403e-08       72.5396      0.2147      0.2147      458   \n",
      "Optimization terminated normally: \n",
      "  Convergence detected: relative gradient magnitude is below tolerance\n"
     ]
    },
    {
     "name": "stderr",
     "output_type": "stream",
     "text": [
      " 30%|██▉       | 148/500 [04:43<12:28,  2.13s/it]"
     ]
    },
    {
     "name": "stdout",
     "output_type": "stream",
     "text": [
      "Initial log joint probability = -18.0134\n",
      "    Iter      log prob        ||dx||      ||grad||       alpha      alpha0  # evals  Notes \n",
      "      99       2934.65   0.000352112       309.815      0.4563      0.4563      125   \n",
      "    Iter      log prob        ||dx||      ||grad||       alpha      alpha0  # evals  Notes \n",
      "     194       2936.78   4.87011e-05       82.5041   6.273e-07       0.001      287  LS failed, Hessian reset \n",
      "     199       2936.78   2.40819e-05       70.6758       0.285      0.8882      293   \n",
      "    Iter      log prob        ||dx||      ||grad||       alpha      alpha0  # evals  Notes \n",
      "     232       2936.78   6.15949e-06        62.875    8.73e-08       0.001      382  LS failed, Hessian reset \n",
      "     269       2936.79   2.29729e-07       60.2122       1.568      0.1568      429   \n",
      "Optimization terminated normally: \n",
      "  Convergence detected: relative gradient magnitude is below tolerance\n"
     ]
    },
    {
     "name": "stderr",
     "output_type": "stream",
     "text": [
      " 30%|██▉       | 149/500 [04:45<12:14,  2.09s/it]"
     ]
    },
    {
     "name": "stdout",
     "output_type": "stream",
     "text": [
      "Initial log joint probability = -27.5476\n",
      "    Iter      log prob        ||dx||      ||grad||       alpha      alpha0  # evals  Notes \n",
      "      99       2874.31     0.0251927       561.055           1           1      126   \n",
      "    Iter      log prob        ||dx||      ||grad||       alpha      alpha0  # evals  Notes \n",
      "     171        2877.4   0.000936359       268.349   6.749e-06       0.001      266  LS failed, Hessian reset \n",
      "     199       2878.74   0.000294011       47.8927      0.9157      0.9157      302   \n",
      "    Iter      log prob        ||dx||      ||grad||       alpha      alpha0  # evals  Notes \n",
      "     241       2878.91   0.000123493       106.286   2.223e-06       0.001      409  LS failed, Hessian reset \n",
      "     255       2878.92   8.36909e-05       54.5019   1.671e-06       0.001      453  LS failed, Hessian reset \n",
      "     299       2878.93   6.79281e-05       50.4798           1           1      526   \n",
      "    Iter      log prob        ||dx||      ||grad||       alpha      alpha0  # evals  Notes \n",
      "     307       2878.98   0.000633372       83.2075   1.001e-05       0.001      573  LS failed, Hessian reset \n",
      "     351       2879.01   1.83057e-05       64.1486   2.701e-07       0.001      674  LS failed, Hessian reset \n",
      "     367       2879.02   1.36398e-07       62.9279      0.3563           1      699   \n",
      "Optimization terminated normally: \n",
      "  Convergence detected: relative gradient magnitude is below tolerance\n"
     ]
    },
    {
     "name": "stderr",
     "output_type": "stream",
     "text": [
      " 30%|███       | 150/500 [04:47<12:43,  2.18s/it]"
     ]
    },
    {
     "name": "stdout",
     "output_type": "stream",
     "text": [
      "Initial log joint probability = -25.2739\n",
      "    Iter      log prob        ||dx||      ||grad||       alpha      alpha0  # evals  Notes \n",
      "      73       2276.17   0.000271859       109.659   1.684e-06       0.001      120  LS failed, Hessian reset \n",
      "      99       2277.29    0.00125044       96.7591           1           1      151   \n",
      "    Iter      log prob        ||dx||      ||grad||       alpha      alpha0  # evals  Notes \n",
      "     108       2277.78   0.000428144       186.257    1.96e-06       0.001      197  LS failed, Hessian reset \n",
      "     197       2278.86   0.000786871       220.234   6.603e-06       0.001      359  LS failed, Hessian reset \n",
      "     199       2278.94   0.000845506       116.494           1           1      361   \n",
      "    Iter      log prob        ||dx||      ||grad||       alpha      alpha0  # evals  Notes \n",
      "     249       2279.22   6.09019e-06       78.3657   6.581e-08       0.001      469  LS failed, Hessian reset \n",
      "     269       2279.22   2.61896e-08       84.3099     0.03419           1      495   \n",
      "Optimization terminated normally: \n",
      "  Convergence detected: relative gradient magnitude is below tolerance\n"
     ]
    },
    {
     "name": "stderr",
     "output_type": "stream",
     "text": [
      " 30%|███       | 151/500 [04:50<13:49,  2.38s/it]"
     ]
    },
    {
     "name": "stdout",
     "output_type": "stream",
     "text": [
      "Initial log joint probability = -21.1439\n",
      "    Iter      log prob        ||dx||      ||grad||       alpha      alpha0  # evals  Notes \n",
      "      99       2458.39    0.00621415       89.4383           1           1      128   \n",
      "    Iter      log prob        ||dx||      ||grad||       alpha      alpha0  # evals  Notes \n",
      "     106       2459.02    0.00076458       263.927   4.425e-06       0.001      169  LS failed, Hessian reset \n",
      "     171       2460.21   0.000414225       181.262   3.874e-06       0.001      322  LS failed, Hessian reset \n",
      "     199       2460.64    0.00564045       147.199           1           1      355   \n",
      "    Iter      log prob        ||dx||      ||grad||       alpha      alpha0  # evals  Notes \n",
      "     251       2460.73    7.4798e-06       92.7088   9.703e-08       0.001      459  LS failed, Hessian reset \n",
      "     271       2460.73   1.28651e-07        65.935      0.2231           1      488   \n",
      "Optimization terminated normally: \n",
      "  Convergence detected: relative gradient magnitude is below tolerance\n"
     ]
    },
    {
     "name": "stderr",
     "output_type": "stream",
     "text": [
      " 30%|███       | 152/500 [04:53<14:14,  2.46s/it]"
     ]
    },
    {
     "name": "stdout",
     "output_type": "stream",
     "text": [
      "Initial log joint probability = -18.5373\n",
      "    Iter      log prob        ||dx||      ||grad||       alpha      alpha0  # evals  Notes \n",
      "      99       2425.53   0.000347317       94.1871      0.7626      0.7626      135   \n",
      "    Iter      log prob        ||dx||      ||grad||       alpha      alpha0  # evals  Notes \n",
      "     118       2425.88    0.00125051       142.916   1.321e-05       0.001      196  LS failed, Hessian reset \n",
      "     129       2426.03   0.000303658       79.9958   5.319e-06       0.001      243  LS failed, Hessian reset \n",
      "     198       2426.07    2.6222e-05       77.7773   3.529e-07       0.001      383  LS failed, Hessian reset \n",
      "     199       2426.07   7.97578e-06       79.8618      0.9048      0.9048      384   \n",
      "    Iter      log prob        ||dx||      ||grad||       alpha      alpha0  # evals  Notes \n",
      "     223       2426.07     1.323e-07       59.6146           1           1      417   \n",
      "Optimization terminated normally: \n",
      "  Convergence detected: relative gradient magnitude is below tolerance\n"
     ]
    },
    {
     "name": "stderr",
     "output_type": "stream",
     "text": [
      " 31%|███       | 153/500 [04:55<13:54,  2.41s/it]"
     ]
    },
    {
     "name": "stdout",
     "output_type": "stream",
     "text": [
      "Initial log joint probability = -29.6442\n",
      "    Iter      log prob        ||dx||      ||grad||       alpha      alpha0  # evals  Notes \n",
      "      99       2338.28    0.00430727       136.465       0.988       0.988      125   \n",
      "    Iter      log prob        ||dx||      ||grad||       alpha      alpha0  # evals  Notes \n",
      "     145       2340.41    0.00299651       172.703    2.71e-05       0.001      218  LS failed, Hessian reset \n",
      "     199       2340.71   0.000182972       87.4271      0.6602           1      292   \n",
      "    Iter      log prob        ||dx||      ||grad||       alpha      alpha0  # evals  Notes \n",
      "     224       2340.75   9.33733e-05       61.5156   1.481e-06       0.001      365  LS failed, Hessian reset \n",
      "     262       2340.77   1.67932e-07       62.6868           1           1      416   \n",
      "Optimization terminated normally: \n",
      "  Convergence detected: relative gradient magnitude is below tolerance\n"
     ]
    },
    {
     "name": "stderr",
     "output_type": "stream",
     "text": [
      " 31%|███       | 154/500 [04:57<12:57,  2.25s/it]"
     ]
    },
    {
     "name": "stdout",
     "output_type": "stream",
     "text": [
      "Initial log joint probability = -28.3519\n",
      "    Iter      log prob        ||dx||      ||grad||       alpha      alpha0  # evals  Notes \n",
      "      99       2295.49     0.0042054       219.838      0.2355           1      131   \n",
      "    Iter      log prob        ||dx||      ||grad||       alpha      alpha0  # evals  Notes \n",
      "     102       2295.67   0.000277446       116.187   1.767e-06       0.001      170  LS failed, Hessian reset \n",
      "     162       2297.39    0.00109846       312.824   8.005e-06       0.001      291  LS failed, Hessian reset \n",
      "     199       2298.06   4.73259e-05       63.7592           1           1      343   \n",
      "    Iter      log prob        ||dx||      ||grad||       alpha      alpha0  # evals  Notes \n",
      "     274        2298.1   5.55598e-06       85.3941   6.266e-08       0.001      480  LS failed, Hessian reset \n",
      "     284        2298.1   5.71253e-08       77.4361      0.1392      0.9713      497   \n",
      "Optimization terminated normally: \n",
      "  Convergence detected: relative gradient magnitude is below tolerance\n"
     ]
    },
    {
     "name": "stderr",
     "output_type": "stream",
     "text": [
      " 31%|███       | 155/500 [04:59<12:09,  2.11s/it]"
     ]
    },
    {
     "name": "stdout",
     "output_type": "stream",
     "text": [
      "Initial log joint probability = -19.5054\n",
      "    Iter      log prob        ||dx||      ||grad||       alpha      alpha0  # evals  Notes \n",
      "      83       2359.99   0.000252156       100.153   1.275e-06       0.001      142  LS failed, Hessian reset \n",
      "      99       2360.56   0.000116923       96.8046      0.2836     0.02836      165   \n",
      "    Iter      log prob        ||dx||      ||grad||       alpha      alpha0  # evals  Notes \n",
      "     156       2360.88   0.000460584       180.921   5.122e-06       0.001      268  LS failed, Hessian reset \n",
      "     199       2361.04   9.34596e-08        90.715      0.3073      0.3073      326   \n",
      "    Iter      log prob        ||dx||      ||grad||       alpha      alpha0  # evals  Notes \n",
      "     251       2361.04   1.35726e-07       87.7082           1           1      386   \n",
      "Optimization terminated normally: \n",
      "  Convergence detected: relative gradient magnitude is below tolerance\n"
     ]
    },
    {
     "name": "stderr",
     "output_type": "stream",
     "text": [
      " 31%|███       | 156/500 [05:01<11:47,  2.06s/it]"
     ]
    },
    {
     "name": "stdout",
     "output_type": "stream",
     "text": [
      "Initial log joint probability = -19.3353\n",
      "    Iter      log prob        ||dx||      ||grad||       alpha      alpha0  # evals  Notes \n",
      "      90       2300.03     0.0024042        113.45   2.656e-05       0.001      146  LS failed, Hessian reset \n",
      "      99       2300.23     0.0031972       68.0241      0.2014           1      157   \n",
      "    Iter      log prob        ||dx||      ||grad||       alpha      alpha0  # evals  Notes \n",
      "     140       2300.88    0.00191618       135.424   1.808e-05       0.001      247  LS failed, Hessian reset \n",
      "     199       2300.99    7.1423e-06       67.3227      0.5392      0.5392      324   \n",
      "    Iter      log prob        ||dx||      ||grad||       alpha      alpha0  # evals  Notes \n",
      "     205       2300.99   9.46485e-06       73.6968   1.262e-07       0.001      364  LS failed, Hessian reset \n",
      "     260       2300.99    7.3841e-08       71.0573      0.1893           1      434   \n",
      "Optimization terminated normally: \n",
      "  Convergence detected: relative gradient magnitude is below tolerance\n"
     ]
    },
    {
     "name": "stderr",
     "output_type": "stream",
     "text": [
      " 31%|███▏      | 157/500 [05:02<11:22,  1.99s/it]"
     ]
    },
    {
     "name": "stdout",
     "output_type": "stream",
     "text": [
      "Initial log joint probability = -20.9394\n",
      "    Iter      log prob        ||dx||      ||grad||       alpha      alpha0  # evals  Notes \n",
      "      99       2449.44     0.0470498       123.621      0.6927           1      130   \n",
      "    Iter      log prob        ||dx||      ||grad||       alpha      alpha0  # evals  Notes \n",
      "     100       2449.47    0.00056675       226.416   4.585e-06       0.001      163  LS failed, Hessian reset \n",
      "     178        2451.2   0.000554586       247.615   2.982e-06       0.001      310  LS failed, Hessian reset \n",
      "     199       2451.64   0.000460666        79.912      0.4555           1      333   \n",
      "    Iter      log prob        ||dx||      ||grad||       alpha      alpha0  # evals  Notes \n",
      "     297       2451.82    5.1839e-05       80.0315   6.148e-07       0.001      488  LS failed, Hessian reset \n",
      "     299       2451.82    2.3553e-05       75.2327           1           1      490   \n",
      "    Iter      log prob        ||dx||      ||grad||       alpha      alpha0  # evals  Notes \n",
      "     361       2451.82   2.87652e-07       78.0094   3.497e-09       0.001      609  LS failed, Hessian reset \n",
      "     365       2451.82   1.11572e-07       60.0841       0.539       0.539      613   \n",
      "Optimization terminated normally: \n",
      "  Convergence detected: relative gradient magnitude is below tolerance\n"
     ]
    },
    {
     "name": "stderr",
     "output_type": "stream",
     "text": [
      " 32%|███▏      | 158/500 [05:04<11:16,  1.98s/it]"
     ]
    },
    {
     "name": "stdout",
     "output_type": "stream",
     "text": [
      "Initial log joint probability = -40.4834\n",
      "    Iter      log prob        ||dx||      ||grad||       alpha      alpha0  # evals  Notes \n",
      "      99       2381.09      0.017137       139.117       2.891           1      138   \n",
      "    Iter      log prob        ||dx||      ||grad||       alpha      alpha0  # evals  Notes \n",
      "     165        2382.8     0.0002601       130.721   1.933e-06       0.001      299  LS failed, Hessian reset \n",
      "     199        2383.9   0.000519077       91.1169           1           1      344   \n",
      "    Iter      log prob        ||dx||      ||grad||       alpha      alpha0  # evals  Notes \n",
      "     299       2384.03   6.51053e-06       74.3415      0.3648           1      488   \n",
      "    Iter      log prob        ||dx||      ||grad||       alpha      alpha0  # evals  Notes \n",
      "     339       2384.04   2.17529e-05       74.6235    2.61e-07       0.001      577  LS failed, Hessian reset \n",
      "     392       2384.04   1.62784e-07       59.5062           1           1      649   \n",
      "Optimization terminated normally: \n",
      "  Convergence detected: relative gradient magnitude is below tolerance\n"
     ]
    },
    {
     "name": "stderr",
     "output_type": "stream",
     "text": [
      " 32%|███▏      | 159/500 [05:06<11:19,  1.99s/it]"
     ]
    },
    {
     "name": "stdout",
     "output_type": "stream",
     "text": [
      "Initial log joint probability = -25.3935\n",
      "    Iter      log prob        ||dx||      ||grad||       alpha      alpha0  # evals  Notes \n",
      "      99       2427.93    0.00535576       142.796           1           1      117   \n",
      "    Iter      log prob        ||dx||      ||grad||       alpha      alpha0  # evals  Notes \n",
      "     150       2428.88   0.000216261       116.965    1.99e-06       0.001      222  LS failed, Hessian reset \n",
      "     199       2429.18   1.89506e-05       80.1138      0.5565      0.5565      281   \n",
      "    Iter      log prob        ||dx||      ||grad||       alpha      alpha0  # evals  Notes \n",
      "     254       2429.24   0.000107754       87.4427   1.303e-06       0.001      385  LS failed, Hessian reset \n",
      "     299       2429.24   2.50699e-07       68.0329       0.709       0.709      447   \n",
      "    Iter      log prob        ||dx||      ||grad||       alpha      alpha0  # evals  Notes \n",
      "     305       2429.24   1.42457e-07       72.0244      0.5041      0.5041      458   \n",
      "Optimization terminated normally: \n",
      "  Convergence detected: relative gradient magnitude is below tolerance\n"
     ]
    },
    {
     "name": "stderr",
     "output_type": "stream",
     "text": [
      " 32%|███▏      | 160/500 [05:08<11:10,  1.97s/it]"
     ]
    },
    {
     "name": "stdout",
     "output_type": "stream",
     "text": [
      "Initial log joint probability = -36.7921\n",
      "    Iter      log prob        ||dx||      ||grad||       alpha      alpha0  # evals  Notes \n",
      "      99        2352.4    0.00326052       139.276           1           1      119   \n",
      "    Iter      log prob        ||dx||      ||grad||       alpha      alpha0  # evals  Notes \n",
      "     106       2353.33   0.000368377       160.917   1.477e-06       0.001      170  LS failed, Hessian reset \n",
      "     137       2355.14   0.000297352       138.553   2.155e-06       0.001      253  LS failed, Hessian reset \n",
      "     192       2356.37   0.000746222       262.552   5.246e-06       0.001      361  LS failed, Hessian reset \n",
      "     199       2356.63   0.000658222       139.769           1           1      368   \n",
      "    Iter      log prob        ||dx||      ||grad||       alpha      alpha0  # evals  Notes \n",
      "     281       2357.15   0.000322614       97.7232   3.921e-06       0.001      527  LS failed, Hessian reset \n",
      "     299       2357.16   3.64979e-06       65.1625      0.7826      0.7826      554   \n",
      "    Iter      log prob        ||dx||      ||grad||       alpha      alpha0  # evals  Notes \n",
      "     357       2357.17   4.06279e-08       64.7065     0.05726           1      635   \n",
      "Optimization terminated normally: \n",
      "  Convergence detected: relative gradient magnitude is below tolerance\n"
     ]
    },
    {
     "name": "stderr",
     "output_type": "stream",
     "text": [
      " 32%|███▏      | 161/500 [05:10<11:09,  1.97s/it]"
     ]
    },
    {
     "name": "stdout",
     "output_type": "stream",
     "text": [
      "Initial log joint probability = -44.3419\n",
      "    Iter      log prob        ||dx||      ||grad||       alpha      alpha0  # evals  Notes \n",
      "      99       2570.74   0.000739513       104.648      0.4624      0.4624      124   \n",
      "    Iter      log prob        ||dx||      ||grad||       alpha      alpha0  # evals  Notes \n",
      "     136       2572.86   0.000190118        126.46   1.269e-06       0.001      201  LS failed, Hessian reset \n",
      "     175       2574.49   0.000189487       118.138   1.645e-06       0.001      287  LS failed, Hessian reset \n",
      "     199       2574.68   0.000430749       80.7022      0.7243      0.7243      318   \n",
      "    Iter      log prob        ||dx||      ||grad||       alpha      alpha0  # evals  Notes \n",
      "     223       2575.86    0.00023084       155.183   1.429e-06       0.001      391  LS failed, Hessian reset \n",
      "     274       2577.51    0.00028206       180.644   3.093e-06       0.001      493  LS failed, Hessian reset \n",
      "     299       2577.56   1.41557e-06       69.7725      0.4615      0.4615      528   \n",
      "    Iter      log prob        ||dx||      ||grad||       alpha      alpha0  # evals  Notes \n",
      "     318       2577.56   5.39414e-09       68.8286    0.001262           1      556   \n",
      "Optimization terminated normally: \n",
      "  Convergence detected: absolute parameter change was below tolerance\n"
     ]
    },
    {
     "name": "stderr",
     "output_type": "stream",
     "text": [
      " 32%|███▏      | 162/500 [05:12<10:59,  1.95s/it]"
     ]
    },
    {
     "name": "stdout",
     "output_type": "stream",
     "text": [
      "Initial log joint probability = -32.8315\n",
      "    Iter      log prob        ||dx||      ||grad||       alpha      alpha0  # evals  Notes \n",
      "      99       2459.06     0.0349644       163.916       4.751      0.4751      139   \n",
      "    Iter      log prob        ||dx||      ||grad||       alpha      alpha0  # evals  Notes \n",
      "     101        2459.3    0.00135015       270.913   1.051e-05       0.001      174  LS failed, Hessian reset \n",
      "     172       2461.04   0.000217943       117.996   1.296e-06       0.001      295  LS failed, Hessian reset \n",
      "     199        2461.3    1.9627e-05       63.8235      0.1779           1      331   \n",
      "    Iter      log prob        ||dx||      ||grad||       alpha      alpha0  # evals  Notes \n",
      "     218       2461.35   0.000368956       96.2212   4.865e-06       0.001      395  LS failed, Hessian reset \n",
      "     253       2461.37   5.79388e-08       67.6764     0.06094           1      451   \n",
      "Optimization terminated normally: \n",
      "  Convergence detected: relative gradient magnitude is below tolerance\n"
     ]
    },
    {
     "name": "stderr",
     "output_type": "stream",
     "text": [
      " 33%|███▎      | 163/500 [05:14<10:44,  1.91s/it]"
     ]
    },
    {
     "name": "stdout",
     "output_type": "stream",
     "text": [
      "Initial log joint probability = -29.2952\n",
      "    Iter      log prob        ||dx||      ||grad||       alpha      alpha0  # evals  Notes \n",
      "      99       2506.11    0.00105138       264.843      0.3223      0.3223      125   \n",
      "    Iter      log prob        ||dx||      ||grad||       alpha      alpha0  # evals  Notes \n",
      "     120       2506.82   0.000345645       195.197   1.305e-06       0.001      191  LS failed, Hessian reset \n",
      "     193       2508.48    0.00262247       441.517   2.713e-05       0.001      327  LS failed, Hessian reset \n",
      "     199       2508.77   0.000748621       118.358      0.8563      0.8563      333   \n",
      "    Iter      log prob        ||dx||      ||grad||       alpha      alpha0  # evals  Notes \n",
      "     268       2508.94   5.87398e-08       68.9349       0.251           1      428   \n",
      "Optimization terminated normally: \n",
      "  Convergence detected: relative gradient magnitude is below tolerance\n"
     ]
    },
    {
     "name": "stderr",
     "output_type": "stream",
     "text": [
      " 33%|███▎      | 164/500 [05:16<10:40,  1.91s/it]"
     ]
    },
    {
     "name": "stdout",
     "output_type": "stream",
     "text": [
      "Initial log joint probability = -24.2873\n",
      "    Iter      log prob        ||dx||      ||grad||       alpha      alpha0  # evals  Notes \n",
      "      99       2389.41    0.00299486       65.9436           1           1      136   \n",
      "    Iter      log prob        ||dx||      ||grad||       alpha      alpha0  # evals  Notes \n",
      "     141       2389.58   0.000376995       103.197   4.075e-06       0.001      238  LS failed, Hessian reset \n",
      "     174       2389.61   4.07252e-06        79.593   5.713e-08       0.001      314  LS failed, Hessian reset \n",
      "     188       2389.61   1.26603e-07       75.2858      0.6043      0.6043      337   \n",
      "Optimization terminated normally: \n",
      "  Convergence detected: relative gradient magnitude is below tolerance\n"
     ]
    },
    {
     "name": "stderr",
     "output_type": "stream",
     "text": [
      " 33%|███▎      | 165/500 [05:18<10:57,  1.96s/it]"
     ]
    },
    {
     "name": "stdout",
     "output_type": "stream",
     "text": [
      "Initial log joint probability = -15.0199\n",
      "    Iter      log prob        ||dx||      ||grad||       alpha      alpha0  # evals  Notes \n",
      "      70       2306.53   0.000339934       145.687   3.216e-06       0.001      127  LS failed, Hessian reset \n",
      "      99       2306.55   9.20614e-07          71.1      0.5122      0.5122      168   \n",
      "    Iter      log prob        ||dx||      ||grad||       alpha      alpha0  # evals  Notes \n",
      "     150       2306.56   4.37056e-08       78.3846      0.3267      0.3267      229   \n",
      "Optimization terminated normally: \n",
      "  Convergence detected: relative gradient magnitude is below tolerance\n"
     ]
    },
    {
     "name": "stderr",
     "output_type": "stream",
     "text": [
      " 33%|███▎      | 166/500 [05:20<10:48,  1.94s/it]"
     ]
    },
    {
     "name": "stdout",
     "output_type": "stream",
     "text": [
      "Initial log joint probability = -39.2149\n",
      "    Iter      log prob        ||dx||      ||grad||       alpha      alpha0  # evals  Notes \n",
      "      80       2220.98   0.000338986       96.5768   1.478e-06       0.001      136  LS failed, Hessian reset \n",
      "      99       2222.08   0.000626887       68.4284      0.2931           1      159   \n",
      "    Iter      log prob        ||dx||      ||grad||       alpha      alpha0  # evals  Notes \n",
      "     182       2224.82    0.00205373       307.047   1.902e-05       0.001      312  LS failed, Hessian reset \n",
      "     199       2225.13   0.000107754       64.1937      0.8007      0.8007      333   \n",
      "    Iter      log prob        ||dx||      ||grad||       alpha      alpha0  # evals  Notes \n",
      "     299       2225.36   2.35283e-05       67.7995           1           1      457   \n",
      "    Iter      log prob        ||dx||      ||grad||       alpha      alpha0  # evals  Notes \n",
      "     329       2225.36   2.62278e-07       77.1858       0.146           1      500   \n",
      "Optimization terminated normally: \n",
      "  Convergence detected: relative gradient magnitude is below tolerance\n"
     ]
    },
    {
     "name": "stderr",
     "output_type": "stream",
     "text": [
      " 33%|███▎      | 167/500 [05:22<11:12,  2.02s/it]"
     ]
    },
    {
     "name": "stdout",
     "output_type": "stream",
     "text": [
      "Initial log joint probability = -37.2984\n",
      "    Iter      log prob        ||dx||      ||grad||       alpha      alpha0  # evals  Notes \n",
      "      99       2584.87    0.00452978       165.473      0.2578       0.693      126   \n",
      "    Iter      log prob        ||dx||      ||grad||       alpha      alpha0  # evals  Notes \n",
      "     199       2590.03     0.0615812       347.533           1           1      252   \n",
      "    Iter      log prob        ||dx||      ||grad||       alpha      alpha0  # evals  Notes \n",
      "     209       2590.81   0.000182765       127.067   1.295e-06       0.001      310  LS failed, Hessian reset \n",
      "     285       2591.79   0.000280719       101.035    3.08e-06       0.001      444  LS failed, Hessian reset \n",
      "     299       2591.81   3.22624e-05       63.0906      0.7022      0.7022      461   \n",
      "    Iter      log prob        ||dx||      ||grad||       alpha      alpha0  # evals  Notes \n",
      "     341       2591.84   0.000206516       107.555    2.11e-06       0.001      565  LS failed, Hessian reset \n",
      "     379       2591.86   9.72475e-06       79.7681   1.232e-07       0.001      655  LS failed, Hessian reset \n",
      "     399       2591.86   2.50841e-07       76.1578      0.3328           1      680   \n",
      "    Iter      log prob        ||dx||      ||grad||       alpha      alpha0  # evals  Notes \n",
      "     450       2591.86   2.00945e-07       56.5284      0.5584      0.5584      746   \n",
      "Optimization terminated normally: \n",
      "  Convergence detected: relative gradient magnitude is below tolerance\n"
     ]
    },
    {
     "name": "stderr",
     "output_type": "stream",
     "text": [
      " 34%|███▎      | 168/500 [05:25<11:46,  2.13s/it]"
     ]
    },
    {
     "name": "stdout",
     "output_type": "stream",
     "text": [
      "Initial log joint probability = -19.6132\n",
      "    Iter      log prob        ||dx||      ||grad||       alpha      alpha0  # evals  Notes \n",
      "      99       2523.41   0.000302033       87.7761           1           1      129   \n",
      "    Iter      log prob        ||dx||      ||grad||       alpha      alpha0  # evals  Notes \n",
      "     134       2524.21   0.000394489       211.874   2.668e-06       0.001      214  LS failed, Hessian reset \n",
      "     199       2525.27   0.000168154       102.645      0.5525      0.5525      294   \n",
      "    Iter      log prob        ||dx||      ||grad||       alpha      alpha0  # evals  Notes \n",
      "     212        2525.6    0.00105172       223.093   8.516e-06       0.001      370  LS failed, Hessian reset \n",
      "     292       2526.01   6.88051e-08       82.1103      0.3522           1      464   \n",
      "Optimization terminated normally: \n",
      "  Convergence detected: relative gradient magnitude is below tolerance\n"
     ]
    },
    {
     "name": "stderr",
     "output_type": "stream",
     "text": [
      " 34%|███▍      | 169/500 [05:27<11:37,  2.11s/it]"
     ]
    },
    {
     "name": "stdout",
     "output_type": "stream",
     "text": [
      "Initial log joint probability = -22.0167\n",
      "    Iter      log prob        ||dx||      ||grad||       alpha      alpha0  # evals  Notes \n",
      "      92       2470.14   0.000299311       164.066   2.046e-06       0.001      164  LS failed, Hessian reset \n",
      "      99       2470.55    0.00196066       176.428      0.5644           1      172   \n",
      "    Iter      log prob        ||dx||      ||grad||       alpha      alpha0  # evals  Notes \n",
      "     162        2472.1   0.000881686       226.077   8.419e-06       0.001      288  LS failed, Hessian reset \n",
      "     199       2472.21   2.31381e-05       67.9564       0.562       0.562      335   \n",
      "    Iter      log prob        ||dx||      ||grad||       alpha      alpha0  # evals  Notes \n",
      "     222       2472.21   1.48822e-07       80.9256      0.4846      0.4846      370   \n",
      "Optimization terminated normally: \n",
      "  Convergence detected: relative gradient magnitude is below tolerance\n"
     ]
    },
    {
     "name": "stderr",
     "output_type": "stream",
     "text": [
      " 34%|███▍      | 170/500 [05:29<11:32,  2.10s/it]"
     ]
    },
    {
     "name": "stdout",
     "output_type": "stream",
     "text": [
      "Initial log joint probability = -25.2144\n",
      "    Iter      log prob        ||dx||      ||grad||       alpha      alpha0  # evals  Notes \n",
      "      99       2808.43    0.00165741       254.505           1           1      130   \n",
      "    Iter      log prob        ||dx||      ||grad||       alpha      alpha0  # evals  Notes \n",
      "     184        2811.5   0.000191651       162.136   6.969e-07       0.001      297  LS failed, Hessian reset \n",
      "     199       2812.39   0.000271377       162.188      0.1742       0.101      319   \n",
      "    Iter      log prob        ||dx||      ||grad||       alpha      alpha0  # evals  Notes \n",
      "     256       2812.73   0.000154881       120.867   1.455e-06       0.001      433  LS failed, Hessian reset \n",
      "     299       2812.75   6.48252e-07       45.2116      0.2816      0.2816      497   \n",
      "    Iter      log prob        ||dx||      ||grad||       alpha      alpha0  # evals  Notes \n",
      "     330       2812.75   5.55709e-06       70.2339   7.426e-08       0.001      593  LS failed, Hessian reset \n",
      "     339       2812.75   6.41945e-08       60.7427      0.3285           1      606   \n",
      "Optimization terminated normally: \n",
      "  Convergence detected: relative gradient magnitude is below tolerance\n"
     ]
    },
    {
     "name": "stderr",
     "output_type": "stream",
     "text": [
      " 34%|███▍      | 171/500 [05:31<11:47,  2.15s/it]"
     ]
    },
    {
     "name": "stdout",
     "output_type": "stream",
     "text": [
      "Initial log joint probability = -28.7095\n",
      "    Iter      log prob        ||dx||      ||grad||       alpha      alpha0  # evals  Notes \n",
      "      99       2937.02   0.000425593       119.588      0.6724      0.6724      121   \n",
      "    Iter      log prob        ||dx||      ||grad||       alpha      alpha0  # evals  Notes \n",
      "     199       2941.27    0.00278403        317.06           1           1      254   \n",
      "    Iter      log prob        ||dx||      ||grad||       alpha      alpha0  # evals  Notes \n",
      "     218       2942.42   0.000345221       373.906   7.601e-07       0.001      321  LS failed, Hessian reset \n",
      "     299       2943.76   4.83832e-07         61.79       0.218       0.218      428   \n",
      "    Iter      log prob        ||dx||      ||grad||       alpha      alpha0  # evals  Notes \n",
      "     321       2943.76   2.72312e-06       76.8183   3.258e-08       0.001      492  LS failed, Hessian reset \n",
      "     332       2943.76   2.58231e-08       62.5196      0.1509      0.4774      511   \n",
      "Optimization terminated normally: \n",
      "  Convergence detected: relative gradient magnitude is below tolerance\n"
     ]
    },
    {
     "name": "stderr",
     "output_type": "stream",
     "text": [
      " 34%|███▍      | 172/500 [05:33<11:31,  2.11s/it]"
     ]
    },
    {
     "name": "stdout",
     "output_type": "stream",
     "text": [
      "Initial log joint probability = -28.1053\n",
      "    Iter      log prob        ||dx||      ||grad||       alpha      alpha0  # evals  Notes \n",
      "      99       2916.72   0.000899444        127.57           1           1      123   \n",
      "    Iter      log prob        ||dx||      ||grad||       alpha      alpha0  # evals  Notes \n",
      "     199        2920.7    0.00936665       90.5851      0.3631           1      248   \n",
      "    Iter      log prob        ||dx||      ||grad||       alpha      alpha0  # evals  Notes \n",
      "     220       2921.96   7.58616e-05       85.1789   7.128e-07       0.001      312  LS failed, Hessian reset \n",
      "     299       2922.94   6.01215e-07       50.6332      0.2791      0.2791      420   \n",
      "    Iter      log prob        ||dx||      ||grad||       alpha      alpha0  # evals  Notes \n",
      "     331       2923.05   0.000114184       119.639   1.395e-06       0.001      524  LS failed, Hessian reset \n",
      "     375        2923.1   0.000137157       57.6671   2.223e-06       0.001      618  LS failed, Hessian reset \n",
      "     399        2923.1     4.938e-07       48.5329           1           1      657   \n",
      "    Iter      log prob        ||dx||      ||grad||       alpha      alpha0  # evals  Notes \n",
      "     429       2923.14   0.000130846       129.267   1.342e-06       0.001      735  LS failed, Hessian reset \n",
      "     451       2923.16   3.42258e-06       63.0098   6.429e-08       0.001      797  LS failed, Hessian reset \n",
      "     464       2923.16    3.4195e-07       64.0795      0.8335      0.8335      817   \n",
      "Optimization terminated normally: \n",
      "  Convergence detected: relative gradient magnitude is below tolerance\n"
     ]
    },
    {
     "name": "stderr",
     "output_type": "stream",
     "text": [
      " 35%|███▍      | 173/500 [05:35<11:23,  2.09s/it]"
     ]
    },
    {
     "name": "stdout",
     "output_type": "stream",
     "text": [
      "Initial log joint probability = -26.4239\n",
      "    Iter      log prob        ||dx||      ||grad||       alpha      alpha0  # evals  Notes \n",
      "      99       2930.37    0.00265267       113.003       0.381           1      129   \n",
      "    Iter      log prob        ||dx||      ||grad||       alpha      alpha0  # evals  Notes \n",
      "     199       2934.46     0.0112468       170.936           1           1      260   \n",
      "    Iter      log prob        ||dx||      ||grad||       alpha      alpha0  # evals  Notes \n",
      "     273       2935.33   4.58862e-05       72.2711   7.323e-07       0.001      399  LS failed, Hessian reset \n",
      "     299       2935.33   4.91191e-06       64.4862       6.811      0.6811      435   \n",
      "    Iter      log prob        ||dx||      ||grad||       alpha      alpha0  # evals  Notes \n",
      "     312       2935.33    5.6191e-06       62.1126   9.913e-08       0.001      499  LS failed, Hessian reset \n",
      "     346       2935.34   1.89628e-07       47.5968       0.618      0.0618      552   \n",
      "Optimization terminated normally: \n",
      "  Convergence detected: relative gradient magnitude is below tolerance\n"
     ]
    },
    {
     "name": "stderr",
     "output_type": "stream",
     "text": [
      " 35%|███▍      | 174/500 [05:37<11:05,  2.04s/it]"
     ]
    },
    {
     "name": "stdout",
     "output_type": "stream",
     "text": [
      "Initial log joint probability = -29.6234\n",
      "    Iter      log prob        ||dx||      ||grad||       alpha      alpha0  # evals  Notes \n",
      "      99       2764.45    0.00352557        190.11      0.8434      0.8434      126   \n",
      "    Iter      log prob        ||dx||      ||grad||       alpha      alpha0  # evals  Notes \n",
      "     199       2769.13   6.04638e-05       67.9906           1           1      256   \n",
      "    Iter      log prob        ||dx||      ||grad||       alpha      alpha0  # evals  Notes \n",
      "     267       2769.15   6.58092e-06       75.4758    1.22e-07       0.001      372  LS failed, Hessian reset \n",
      "     299       2769.15   1.08847e-05       62.2578       0.299           1      418   \n",
      "    Iter      log prob        ||dx||      ||grad||       alpha      alpha0  # evals  Notes \n",
      "     319       2769.15   8.50327e-08       60.0155       0.572       0.572      445   \n",
      "Optimization terminated normally: \n",
      "  Convergence detected: relative gradient magnitude is below tolerance\n"
     ]
    },
    {
     "name": "stderr",
     "output_type": "stream",
     "text": [
      " 35%|███▌      | 175/500 [05:39<10:56,  2.02s/it]"
     ]
    },
    {
     "name": "stdout",
     "output_type": "stream",
     "text": [
      "Initial log joint probability = -33.2545\n",
      "    Iter      log prob        ||dx||      ||grad||       alpha      alpha0  # evals  Notes \n",
      "      99       2706.17    0.00113809       115.105      0.1921      0.5438      133   \n",
      "    Iter      log prob        ||dx||      ||grad||       alpha      alpha0  # evals  Notes \n",
      "     133       2707.91   0.000181635       154.611    1.02e-06       0.001      218  LS failed, Hessian reset \n",
      "     199       2712.12     0.0208071       127.215      0.5505      0.5505      302   \n",
      "    Iter      log prob        ||dx||      ||grad||       alpha      alpha0  # evals  Notes \n",
      "     268       2713.01   0.000749713       249.322   8.609e-06       0.001      442  LS failed, Hessian reset \n",
      "     298       2713.04   6.25479e-06       67.8331   1.404e-07       0.001      518  LS failed, Hessian reset \n",
      "     299       2713.04   2.45234e-06       53.0894           1           1      519   \n",
      "    Iter      log prob        ||dx||      ||grad||       alpha      alpha0  # evals  Notes \n",
      "     324       2713.04   4.62285e-06        83.428   7.787e-08       0.001      608  LS failed, Hessian reset \n",
      "     338       2713.04   2.46231e-07       47.3579           1           1      631   \n",
      "Optimization terminated normally: \n",
      "  Convergence detected: relative gradient magnitude is below tolerance\n"
     ]
    },
    {
     "name": "stderr",
     "output_type": "stream",
     "text": [
      " 35%|███▌      | 176/500 [05:41<10:54,  2.02s/it]"
     ]
    },
    {
     "name": "stdout",
     "output_type": "stream",
     "text": [
      "Initial log joint probability = -32.6702\n",
      "    Iter      log prob        ||dx||      ||grad||       alpha      alpha0  # evals  Notes \n",
      "      99       2655.38    0.00675343       99.7018           1           1      133   \n",
      "    Iter      log prob        ||dx||      ||grad||       alpha      alpha0  # evals  Notes \n",
      "     199       2660.63   0.000830213       77.9346           1           1      260   \n",
      "    Iter      log prob        ||dx||      ||grad||       alpha      alpha0  # evals  Notes \n",
      "     254       2660.78   0.000121133       68.0307   2.024e-06       0.001      393  LS failed, Hessian reset \n",
      "     280       2660.78   5.66842e-08       58.2318     0.02275      0.4981      431   \n",
      "Optimization terminated normally: \n",
      "  Convergence detected: relative gradient magnitude is below tolerance\n"
     ]
    },
    {
     "name": "stderr",
     "output_type": "stream",
     "text": [
      " 35%|███▌      | 177/500 [05:43<10:49,  2.01s/it]"
     ]
    },
    {
     "name": "stdout",
     "output_type": "stream",
     "text": [
      "Initial log joint probability = -25.4775\n",
      "    Iter      log prob        ||dx||      ||grad||       alpha      alpha0  # evals  Notes \n",
      "      99        3025.4    0.00388737       233.563      0.5676           1      125   \n",
      "    Iter      log prob        ||dx||      ||grad||       alpha      alpha0  # evals  Notes \n",
      "     199       3030.44    0.00106326       200.477      0.7138      0.7138      253   \n",
      "    Iter      log prob        ||dx||      ||grad||       alpha      alpha0  # evals  Notes \n",
      "     299       3031.61   0.000403271       82.0422      0.5548      0.5548      380   \n",
      "    Iter      log prob        ||dx||      ||grad||       alpha      alpha0  # evals  Notes \n",
      "     399       3031.85   0.000351543       72.1325      0.2413           1      510   \n",
      "    Iter      log prob        ||dx||      ||grad||       alpha      alpha0  # evals  Notes \n",
      "     499       3031.86   8.09782e-06        64.358           1           1      637   \n",
      "    Iter      log prob        ||dx||      ||grad||       alpha      alpha0  # evals  Notes \n",
      "     501       3031.86   6.14399e-07       61.6448   9.083e-09       0.001      675  LS failed, Hessian reset \n",
      "     505       3031.86   1.25226e-07       63.8737           1           1      680   \n",
      "Optimization terminated normally: \n",
      "  Convergence detected: relative gradient magnitude is below tolerance\n"
     ]
    },
    {
     "name": "stderr",
     "output_type": "stream",
     "text": [
      " 36%|███▌      | 178/500 [05:45<10:56,  2.04s/it]"
     ]
    },
    {
     "name": "stdout",
     "output_type": "stream",
     "text": [
      "Initial log joint probability = -26.6897\n",
      "    Iter      log prob        ||dx||      ||grad||       alpha      alpha0  # evals  Notes \n",
      "      99       2943.51    0.00031619       93.7053       0.732       0.732      126   \n",
      "    Iter      log prob        ||dx||      ||grad||       alpha      alpha0  # evals  Notes \n",
      "     191       2948.18   0.000410575       275.705   3.443e-06       0.001      324  LS failed, Hessian reset \n",
      "     199       2948.58   0.000645869       96.5994      0.5891      0.5891      332   \n",
      "    Iter      log prob        ||dx||      ||grad||       alpha      alpha0  # evals  Notes \n",
      "     299        2949.1    0.00033557       75.6072        1.59       0.159      469   \n",
      "    Iter      log prob        ||dx||      ||grad||       alpha      alpha0  # evals  Notes \n",
      "     309       2949.15   0.000194243         104.1   2.528e-06       0.001      518  LS failed, Hessian reset \n",
      "     351       2949.16   1.94262e-05       75.8062   2.933e-07       0.001      618  LS failed, Hessian reset \n",
      "     376       2949.17    6.2946e-07       41.4364     0.06975           1      655   \n",
      "Optimization terminated normally: \n",
      "  Convergence detected: relative gradient magnitude is below tolerance\n"
     ]
    },
    {
     "name": "stderr",
     "output_type": "stream",
     "text": [
      " 36%|███▌      | 179/500 [05:47<11:32,  2.16s/it]"
     ]
    },
    {
     "name": "stdout",
     "output_type": "stream",
     "text": [
      "Initial log joint probability = -19.9218\n",
      "    Iter      log prob        ||dx||      ||grad||       alpha      alpha0  # evals  Notes \n",
      "      99        2912.9    0.00410784       319.926           1           1      134   \n",
      "    Iter      log prob        ||dx||      ||grad||       alpha      alpha0  # evals  Notes \n",
      "     199        2916.3    0.00292622       89.7338           1           1      264   \n",
      "    Iter      log prob        ||dx||      ||grad||       alpha      alpha0  # evals  Notes \n",
      "     294       2916.69   0.000305173       86.2412   2.989e-06       0.001      421  LS failed, Hessian reset \n",
      "     299       2916.69    5.3132e-05       66.2141      0.2457           1      428   \n",
      "    Iter      log prob        ||dx||      ||grad||       alpha      alpha0  # evals  Notes \n",
      "     340        2916.7   1.03481e-05       77.0065   1.342e-07       0.001      524  LS failed, Hessian reset \n",
      "     361        2916.7   9.16592e-08       59.9725      0.3896           1      556   \n",
      "Optimization terminated normally: \n",
      "  Convergence detected: relative gradient magnitude is below tolerance\n"
     ]
    },
    {
     "name": "stderr",
     "output_type": "stream",
     "text": [
      " 36%|███▌      | 180/500 [05:50<11:37,  2.18s/it]"
     ]
    },
    {
     "name": "stdout",
     "output_type": "stream",
     "text": [
      "Initial log joint probability = -31.5874\n",
      "    Iter      log prob        ||dx||      ||grad||       alpha      alpha0  # evals  Notes \n",
      "      99       2398.45     0.0058131       130.529           1           1      129   \n",
      "    Iter      log prob        ||dx||      ||grad||       alpha      alpha0  # evals  Notes \n",
      "     188       2401.75   0.000316695       135.183   1.306e-06       0.001      298  LS failed, Hessian reset \n",
      "     199       2402.37    0.00193267       73.1899           1           1      311   \n",
      "    Iter      log prob        ||dx||      ||grad||       alpha      alpha0  # evals  Notes \n",
      "     299       2402.61    2.0723e-05       61.5184           1           1      447   \n",
      "    Iter      log prob        ||dx||      ||grad||       alpha      alpha0  # evals  Notes \n",
      "     324       2402.61   1.30189e-08       57.4824     0.07718     0.07718      476   \n",
      "Optimization terminated normally: \n",
      "  Convergence detected: relative gradient magnitude is below tolerance\n"
     ]
    },
    {
     "name": "stderr",
     "output_type": "stream",
     "text": [
      " 36%|███▌      | 181/500 [05:52<11:31,  2.17s/it]"
     ]
    },
    {
     "name": "stdout",
     "output_type": "stream",
     "text": [
      "Initial log joint probability = -28.5183\n",
      "    Iter      log prob        ||dx||      ||grad||       alpha      alpha0  # evals  Notes \n",
      "      99        2594.9    0.00283234       317.947       0.962       0.962      130   \n",
      "    Iter      log prob        ||dx||      ||grad||       alpha      alpha0  # evals  Notes \n",
      "     150       2596.44   0.000607478       283.167   3.564e-06       0.001      243  LS failed, Hessian reset \n",
      "     194       2596.92   8.73981e-05        83.458   1.032e-06       0.001      346  LS failed, Hessian reset \n",
      "     199       2596.92   4.51853e-05       81.6252      0.5476      0.5476      351   \n",
      "    Iter      log prob        ||dx||      ||grad||       alpha      alpha0  # evals  Notes \n",
      "     241       2596.94    1.1614e-05       75.2229   1.487e-07       0.001      441  LS failed, Hessian reset \n",
      "     297       2596.96   0.000147798       91.0416   1.404e-06       0.001      555  LS failed, Hessian reset \n",
      "     299       2596.97   0.000149017       67.0386           1           1      557   \n",
      "    Iter      log prob        ||dx||      ||grad||       alpha      alpha0  # evals  Notes \n",
      "     354       2596.98   8.82977e-07       84.3064   1.291e-08       0.001      676  LS failed, Hessian reset \n",
      "     359       2596.98   6.70356e-08       64.1834      0.4006           1      682   \n",
      "Optimization terminated normally: \n",
      "  Convergence detected: relative gradient magnitude is below tolerance\n"
     ]
    },
    {
     "name": "stderr",
     "output_type": "stream",
     "text": [
      " 36%|███▋      | 182/500 [05:54<11:26,  2.16s/it]"
     ]
    },
    {
     "name": "stdout",
     "output_type": "stream",
     "text": [
      "Initial log joint probability = -18.8321\n",
      "    Iter      log prob        ||dx||      ||grad||       alpha      alpha0  # evals  Notes \n",
      "      99       2486.16   0.000100985       84.2666      0.4829      0.4829      133   \n",
      "    Iter      log prob        ||dx||      ||grad||       alpha      alpha0  # evals  Notes \n",
      "     122       2486.18   5.08311e-05       80.4377   7.012e-07       0.001      198  LS failed, Hessian reset \n",
      "     159       2486.19   2.16355e-08       82.1621     0.07642           1      252   \n",
      "Optimization terminated normally: \n",
      "  Convergence detected: relative gradient magnitude is below tolerance\n"
     ]
    },
    {
     "name": "stderr",
     "output_type": "stream",
     "text": [
      " 37%|███▋      | 183/500 [05:56<10:58,  2.08s/it]"
     ]
    },
    {
     "name": "stdout",
     "output_type": "stream",
     "text": [
      "Initial log joint probability = -33.0178\n",
      "    Iter      log prob        ||dx||      ||grad||       alpha      alpha0  # evals  Notes \n",
      "      99       2484.58    0.00231872       263.729           1           1      124   \n",
      "    Iter      log prob        ||dx||      ||grad||       alpha      alpha0  # evals  Notes \n",
      "     124       2486.14   0.000429996       219.847    2.35e-06       0.001      195  LS failed, Hessian reset \n",
      "     199       2487.62    0.00231311        165.43      0.7563      0.7563      284   \n",
      "    Iter      log prob        ||dx||      ||grad||       alpha      alpha0  # evals  Notes \n",
      "     207       2488.09   0.000215801       124.841   1.552e-06       0.001      334  LS failed, Hessian reset \n",
      "     299       2488.92   1.60727e-05       73.8973      0.3491           1      449   \n",
      "    Iter      log prob        ||dx||      ||grad||       alpha      alpha0  # evals  Notes \n",
      "     394       2488.95   0.000184332       69.4601   2.281e-06       0.001      596  LS failed, Hessian reset \n",
      "     399       2488.95   4.54968e-05        62.624           1           1      602   \n",
      "    Iter      log prob        ||dx||      ||grad||       alpha      alpha0  # evals  Notes \n",
      "     451       2488.96   3.33555e-06       65.2309   4.236e-08       0.001      711  LS failed, Hessian reset \n",
      "     461       2488.96   1.32564e-07        59.633      0.7388      0.7388      725   \n",
      "Optimization terminated normally: \n",
      "  Convergence detected: relative gradient magnitude is below tolerance\n"
     ]
    },
    {
     "name": "stderr",
     "output_type": "stream",
     "text": [
      " 37%|███▋      | 184/500 [05:58<11:24,  2.17s/it]"
     ]
    },
    {
     "name": "stdout",
     "output_type": "stream",
     "text": [
      "Initial log joint probability = -25.8328\n",
      "    Iter      log prob        ||dx||      ||grad||       alpha      alpha0  # evals  Notes \n",
      "      99       2427.94   0.000194029       63.4218      0.4353      0.4353      135   \n",
      "    Iter      log prob        ||dx||      ||grad||       alpha      alpha0  # evals  Notes \n",
      "     199       2428.88   1.59498e-05       81.1923      0.5696      0.5696      257   \n",
      "    Iter      log prob        ||dx||      ||grad||       alpha      alpha0  # evals  Notes \n",
      "     299       2428.89   3.95471e-05       66.3351      0.5258      0.5258      382   \n",
      "    Iter      log prob        ||dx||      ||grad||       alpha      alpha0  # evals  Notes \n",
      "     311       2428.89     9.295e-07       67.6238      0.3955           1      399   \n",
      "Optimization terminated normally: \n",
      "  Convergence detected: relative gradient magnitude is below tolerance\n"
     ]
    },
    {
     "name": "stderr",
     "output_type": "stream",
     "text": [
      " 37%|███▋      | 185/500 [06:00<11:30,  2.19s/it]"
     ]
    },
    {
     "name": "stdout",
     "output_type": "stream",
     "text": [
      "Initial log joint probability = -17.2665\n",
      "    Iter      log prob        ||dx||      ||grad||       alpha      alpha0  # evals  Notes \n",
      "      99       2427.11   0.000129631       77.6715      0.7641      0.7641      125   \n",
      "    Iter      log prob        ||dx||      ||grad||       alpha      alpha0  # evals  Notes \n",
      "     144       2427.12   5.70038e-08       71.1088      0.2713           1      186   \n",
      "Optimization terminated normally: \n",
      "  Convergence detected: relative gradient magnitude is below tolerance\n"
     ]
    },
    {
     "name": "stderr",
     "output_type": "stream",
     "text": [
      " 37%|███▋      | 186/500 [06:02<10:45,  2.06s/it]"
     ]
    },
    {
     "name": "stdout",
     "output_type": "stream",
     "text": [
      "Initial log joint probability = -26.264\n",
      "    Iter      log prob        ||dx||      ||grad||       alpha      alpha0  # evals  Notes \n",
      "      99       2484.65   0.000599693       115.294      0.8649      0.8649      133   \n",
      "    Iter      log prob        ||dx||      ||grad||       alpha      alpha0  # evals  Notes \n",
      "     196       2486.02   0.000482686       263.276   1.872e-06       0.001      292  LS failed, Hessian reset \n",
      "     199        2486.2   0.000323094       96.9929      0.7298      0.7298      295   \n",
      "    Iter      log prob        ||dx||      ||grad||       alpha      alpha0  # evals  Notes \n",
      "     268       2486.47   3.96374e-08       84.5837      0.2644      0.2644      386   \n",
      "Optimization terminated normally: \n",
      "  Convergence detected: relative gradient magnitude is below tolerance\n"
     ]
    },
    {
     "name": "stderr",
     "output_type": "stream",
     "text": [
      " 37%|███▋      | 187/500 [06:04<10:30,  2.02s/it]"
     ]
    },
    {
     "name": "stdout",
     "output_type": "stream",
     "text": [
      "Initial log joint probability = -36.9927\n",
      "    Iter      log prob        ||dx||      ||grad||       alpha      alpha0  # evals  Notes \n",
      "      99       2602.33    0.00100131       204.262           1           1      124   \n",
      "    Iter      log prob        ||dx||      ||grad||       alpha      alpha0  # evals  Notes \n",
      "     120       2604.07   0.000421606       239.284    2.36e-06       0.001      188  LS failed, Hessian reset \n",
      "     197       2606.72   0.000262967       147.935   8.987e-07       0.001      340  LS failed, Hessian reset \n",
      "     199       2606.88    0.00123593       100.144           1           1      343   \n",
      "    Iter      log prob        ||dx||      ||grad||       alpha      alpha0  # evals  Notes \n",
      "     299       2608.06   3.40141e-05       84.7618      0.6433           1      477   \n",
      "    Iter      log prob        ||dx||      ||grad||       alpha      alpha0  # evals  Notes \n",
      "     326       2608.06   1.45638e-07       74.7625       0.589       0.589      514   \n",
      "Optimization terminated normally: \n",
      "  Convergence detected: relative gradient magnitude is below tolerance\n"
     ]
    },
    {
     "name": "stderr",
     "output_type": "stream",
     "text": [
      " 38%|███▊      | 188/500 [06:06<10:49,  2.08s/it]"
     ]
    },
    {
     "name": "stdout",
     "output_type": "stream",
     "text": [
      "Initial log joint probability = -15.8619\n",
      "    Iter      log prob        ||dx||      ||grad||       alpha      alpha0  # evals  Notes \n",
      "      99       2583.68   0.000835874       110.039           1           1      126   \n",
      "    Iter      log prob        ||dx||      ||grad||       alpha      alpha0  # evals  Notes \n",
      "     199       2585.03   0.000272706       70.4347      0.7129           1      254   \n",
      "    Iter      log prob        ||dx||      ||grad||       alpha      alpha0  # evals  Notes \n",
      "     201       2585.03   2.06789e-05       73.1702   2.906e-07       0.001      299  LS failed, Hessian reset \n",
      "     248       2585.03   1.12917e-07       71.1089      0.2323           1      368   \n",
      "Optimization terminated normally: \n",
      "  Convergence detected: relative gradient magnitude is below tolerance\n"
     ]
    },
    {
     "name": "stderr",
     "output_type": "stream",
     "text": [
      " 38%|███▊      | 189/500 [06:08<10:41,  2.06s/it]"
     ]
    },
    {
     "name": "stdout",
     "output_type": "stream",
     "text": [
      "Initial log joint probability = -20.4592\n",
      "    Iter      log prob        ||dx||      ||grad||       alpha      alpha0  # evals  Notes \n",
      "      99       2616.78   0.000449368       76.4591       0.785       0.785      124   \n",
      "    Iter      log prob        ||dx||      ||grad||       alpha      alpha0  # evals  Notes \n",
      "     141       2617.95   0.000183559       101.037   8.983e-07       0.001      228  LS failed, Hessian reset \n",
      "     199        2618.6   6.86446e-05       93.5599      0.2212      0.2212      295   \n",
      "    Iter      log prob        ||dx||      ||grad||       alpha      alpha0  # evals  Notes \n",
      "     269       2618.65   0.000106488       64.2207   1.492e-06       0.001      422  LS failed, Hessian reset \n",
      "     299       2618.66   1.12899e-06       55.9181           1           1      457   \n",
      "    Iter      log prob        ||dx||      ||grad||       alpha      alpha0  # evals  Notes \n",
      "     390       2618.68   3.84507e-08       50.2847     0.04472           1      575   \n",
      "Optimization terminated normally: \n",
      "  Convergence detected: relative gradient magnitude is below tolerance\n"
     ]
    },
    {
     "name": "stderr",
     "output_type": "stream",
     "text": [
      " 38%|███▊      | 190/500 [06:11<10:48,  2.09s/it]"
     ]
    },
    {
     "name": "stdout",
     "output_type": "stream",
     "text": [
      "Initial log joint probability = -31.9278\n",
      "    Iter      log prob        ||dx||      ||grad||       alpha      alpha0  # evals  Notes \n",
      "      99       2591.11   0.000760071       144.708      0.4623      0.4623      125   \n",
      "    Iter      log prob        ||dx||      ||grad||       alpha      alpha0  # evals  Notes \n",
      "     125       2592.89   0.000472962       192.578   7.816e-07       0.001      194  LS failed, Hessian reset \n",
      "     195       2594.98   0.000930842       322.717    9.61e-06       0.001      330  LS failed, Hessian reset \n",
      "     199       2595.11    0.00164775       194.545      0.3373           1      335   \n",
      "    Iter      log prob        ||dx||      ||grad||       alpha      alpha0  # evals  Notes \n",
      "     298       2595.99   1.22367e-05       83.0406   1.545e-07       0.001      507  LS failed, Hessian reset \n",
      "     299       2595.99   3.68587e-06       82.4408      0.9062      0.9062      508   \n",
      "    Iter      log prob        ||dx||      ||grad||       alpha      alpha0  # evals  Notes \n",
      "     316       2595.99    7.4324e-08       77.0981      0.2924      0.2924      532   \n",
      "Optimization terminated normally: \n",
      "  Convergence detected: relative gradient magnitude is below tolerance\n"
     ]
    },
    {
     "name": "stderr",
     "output_type": "stream",
     "text": [
      " 38%|███▊      | 191/500 [06:13<11:02,  2.14s/it]"
     ]
    },
    {
     "name": "stdout",
     "output_type": "stream",
     "text": [
      "Initial log joint probability = -28.4693\n",
      "    Iter      log prob        ||dx||      ||grad||       alpha      alpha0  # evals  Notes \n",
      "      99       2821.68     0.0046742        245.85           1           1      125   \n",
      "    Iter      log prob        ||dx||      ||grad||       alpha      alpha0  # evals  Notes \n",
      "     199       2825.59    0.00304725       279.874           1           1      252   \n",
      "    Iter      log prob        ||dx||      ||grad||       alpha      alpha0  # evals  Notes \n",
      "     220       2826.36   0.000135328        135.17   1.212e-06       0.001      329  LS failed, Hessian reset \n",
      "     299       2826.79   2.07191e-07       74.1048      0.8439      0.8439      434   \n",
      "    Iter      log prob        ||dx||      ||grad||       alpha      alpha0  # evals  Notes \n",
      "     324       2826.79   1.10788e-07       74.9897      0.2186           1      463   \n",
      "Optimization terminated normally: \n",
      "  Convergence detected: relative gradient magnitude is below tolerance\n"
     ]
    },
    {
     "name": "stderr",
     "output_type": "stream",
     "text": [
      " 38%|███▊      | 192/500 [06:15<10:54,  2.13s/it]"
     ]
    },
    {
     "name": "stdout",
     "output_type": "stream",
     "text": [
      "Initial log joint probability = -25.6693\n",
      "    Iter      log prob        ||dx||      ||grad||       alpha      alpha0  # evals  Notes \n",
      "      99       2612.38   0.000349295       77.9101      0.5319      0.5319      130   \n",
      "    Iter      log prob        ||dx||      ||grad||       alpha      alpha0  # evals  Notes \n",
      "     177       2614.96   0.000174816       120.317   1.112e-06       0.001      300  LS failed, Hessian reset \n",
      "     199        2615.7   0.000213595       103.131           1           1      327   \n",
      "    Iter      log prob        ||dx||      ||grad||       alpha      alpha0  # evals  Notes \n",
      "     264       2615.77   1.40147e-07        70.093      0.4579           1      409   \n",
      "Optimization terminated normally: \n",
      "  Convergence detected: relative gradient magnitude is below tolerance\n"
     ]
    },
    {
     "name": "stderr",
     "output_type": "stream",
     "text": [
      " 39%|███▊      | 193/500 [06:17<10:42,  2.09s/it]"
     ]
    },
    {
     "name": "stdout",
     "output_type": "stream",
     "text": [
      "Initial log joint probability = -40.0492\n",
      "    Iter      log prob        ||dx||      ||grad||       alpha      alpha0  # evals  Notes \n",
      "      55       2692.26   0.000291077       190.719   2.179e-06       0.001      113  LS failed, Hessian reset \n",
      "      99       2695.47    0.00179309       301.045           1           1      164   \n",
      "    Iter      log prob        ||dx||      ||grad||       alpha      alpha0  # evals  Notes \n",
      "     166       2698.02   0.000495675       267.492   3.757e-06       0.001      296  LS failed, Hessian reset \n",
      "     199       2698.63   6.18679e-05       64.9143      0.5849      0.5849      331   \n",
      "    Iter      log prob        ||dx||      ||grad||       alpha      alpha0  # evals  Notes \n",
      "     299       2698.84   4.71385e-06       70.1273           1           1      469   \n",
      "    Iter      log prob        ||dx||      ||grad||       alpha      alpha0  # evals  Notes \n",
      "     325       2698.85   1.64811e-06       70.2284   2.318e-08       0.001      537  LS failed, Hessian reset \n",
      "     333       2698.85   7.87557e-08       59.5781      0.3483           1      549   \n",
      "Optimization terminated normally: \n",
      "  Convergence detected: relative gradient magnitude is below tolerance\n"
     ]
    },
    {
     "name": "stderr",
     "output_type": "stream",
     "text": [
      " 39%|███▉      | 194/500 [06:19<10:35,  2.08s/it]"
     ]
    },
    {
     "name": "stdout",
     "output_type": "stream",
     "text": [
      "Initial log joint probability = -19.1639\n",
      "    Iter      log prob        ||dx||      ||grad||       alpha      alpha0  # evals  Notes \n",
      "      99        2477.2    0.00058358       63.1843      0.2268           1      129   \n",
      "    Iter      log prob        ||dx||      ||grad||       alpha      alpha0  # evals  Notes \n",
      "     137       2478.04   0.000958358       235.215   6.236e-06       0.001      223  LS failed, Hessian reset \n",
      "     199       2478.39   2.19434e-06       78.0112       0.982      0.0982      299   \n",
      "    Iter      log prob        ||dx||      ||grad||       alpha      alpha0  # evals  Notes \n",
      "     214       2478.39    1.8568e-05       82.5213   2.404e-07       0.001      353  LS failed, Hessian reset \n",
      "     236       2478.39   1.20331e-07       65.8553      0.4164      0.4164      381   \n",
      "Optimization terminated normally: \n",
      "  Convergence detected: relative gradient magnitude is below tolerance\n"
     ]
    },
    {
     "name": "stderr",
     "output_type": "stream",
     "text": [
      " 39%|███▉      | 195/500 [06:21<10:09,  2.00s/it]"
     ]
    },
    {
     "name": "stdout",
     "output_type": "stream",
     "text": [
      "Initial log joint probability = -21.0025\n",
      "    Iter      log prob        ||dx||      ||grad||       alpha      alpha0  # evals  Notes \n",
      "      99       2460.31   2.13293e-05       85.4785           1           1      134   \n",
      "    Iter      log prob        ||dx||      ||grad||       alpha      alpha0  # evals  Notes \n",
      "     145       2460.38   0.000450576       73.3024   6.175e-06       0.001      237  LS failed, Hessian reset \n",
      "     173        2460.4   2.02134e-07       56.7926       1.287      0.3187      276   \n",
      "Optimization terminated normally: \n",
      "  Convergence detected: relative gradient magnitude is below tolerance\n"
     ]
    },
    {
     "name": "stderr",
     "output_type": "stream",
     "text": [
      " 39%|███▉      | 196/500 [06:23<10:02,  1.98s/it]"
     ]
    },
    {
     "name": "stdout",
     "output_type": "stream",
     "text": [
      "Initial log joint probability = -34.7125\n",
      "    Iter      log prob        ||dx||      ||grad||       alpha      alpha0  # evals  Notes \n",
      "      94       2380.98   0.000476895       224.211   1.691e-06       0.001      163  LS failed, Hessian reset \n",
      "      99       2381.81     0.0044044       127.375        0.96        0.96      168   \n",
      "    Iter      log prob        ||dx||      ||grad||       alpha      alpha0  # evals  Notes \n",
      "     164       2384.21   0.000539018       144.798    6.19e-06       0.001      294  LS failed, Hessian reset \n",
      "     199       2384.74   0.000143789       84.1106      0.3534     0.03534      337   \n",
      "    Iter      log prob        ||dx||      ||grad||       alpha      alpha0  # evals  Notes \n",
      "     299       2384.85   7.66814e-06       105.126           1           1      465   \n",
      "    Iter      log prob        ||dx||      ||grad||       alpha      alpha0  # evals  Notes \n",
      "     399        2384.9   4.51717e-06       74.8854           1           1      583   \n",
      "    Iter      log prob        ||dx||      ||grad||       alpha      alpha0  # evals  Notes \n",
      "     430        2384.9   2.59288e-06       85.2066   3.101e-08       0.001      679  LS failed, Hessian reset \n",
      "     444        2384.9   4.75102e-08       61.5604      0.5221      0.5221      698   \n",
      "Optimization terminated normally: \n",
      "  Convergence detected: relative gradient magnitude is below tolerance\n"
     ]
    },
    {
     "name": "stderr",
     "output_type": "stream",
     "text": [
      " 39%|███▉      | 197/500 [06:25<10:21,  2.05s/it]"
     ]
    },
    {
     "name": "stdout",
     "output_type": "stream",
     "text": [
      "Initial log joint probability = -23.126\n",
      "    Iter      log prob        ||dx||      ||grad||       alpha      alpha0  # evals  Notes \n",
      "      65       2781.81   0.000378995       233.097   2.579e-06       0.001      119  LS failed, Hessian reset \n",
      "      99       2783.94    0.00103074       124.562       2.719      0.2719      163   \n",
      "    Iter      log prob        ||dx||      ||grad||       alpha      alpha0  # evals  Notes \n",
      "     118       2785.12   0.000213897       122.192   5.931e-07       0.001      224  LS failed, Hessian reset \n",
      "     199       2788.38    0.00174557       153.417       0.296           1      330   \n",
      "    Iter      log prob        ||dx||      ||grad||       alpha      alpha0  # evals  Notes \n",
      "     299        2788.6   5.72367e-05        57.362      0.3365           1      483   \n",
      "    Iter      log prob        ||dx||      ||grad||       alpha      alpha0  # evals  Notes \n",
      "     315       2788.61   6.40336e-05       63.4343   9.048e-07       0.001      537  LS failed, Hessian reset \n",
      "     333       2788.62   3.48675e-05       58.9876   8.019e-07       0.001      594  LS failed, Hessian reset \n",
      "     379       2788.63   5.68747e-05       52.9284   9.133e-07       0.001      690  LS failed, Hessian reset \n",
      "     399       2788.64   5.30539e-07       53.3696           1           1      718   \n",
      "    Iter      log prob        ||dx||      ||grad||       alpha      alpha0  # evals  Notes \n",
      "     414       2788.64   7.00284e-07       58.8812      0.3968           1      742   \n",
      "Optimization terminated normally: \n",
      "  Convergence detected: relative gradient magnitude is below tolerance\n"
     ]
    },
    {
     "name": "stderr",
     "output_type": "stream",
     "text": [
      " 40%|███▉      | 198/500 [06:27<10:43,  2.13s/it]"
     ]
    },
    {
     "name": "stdout",
     "output_type": "stream",
     "text": [
      "Initial log joint probability = -42.7289\n",
      "    Iter      log prob        ||dx||      ||grad||       alpha      alpha0  # evals  Notes \n",
      "      99       2646.23    0.00993901       214.728      0.1501           1      133   \n",
      "    Iter      log prob        ||dx||      ||grad||       alpha      alpha0  # evals  Notes \n",
      "     100       2646.25   0.000210974       153.193   9.825e-07       0.001      167  LS failed, Hessian reset \n",
      "     142       2648.05   0.000278283       147.015   7.885e-07       0.001      263  LS failed, Hessian reset \n",
      "     199       2650.17    0.00818512       213.596           1           1      333   \n",
      "    Iter      log prob        ||dx||      ||grad||       alpha      alpha0  # evals  Notes \n",
      "     224       2651.07   0.000501784       293.206   2.752e-06       0.001      395  LS failed, Hessian reset \n",
      "     299       2651.75   9.41168e-06       77.2104           1           1      490   \n",
      "    Iter      log prob        ||dx||      ||grad||       alpha      alpha0  # evals  Notes \n",
      "     316       2651.76   3.06088e-05       85.1307   4.046e-07       0.001      546  LS failed, Hessian reset \n",
      "     343       2651.76   1.45054e-07       76.9536      0.3128           1      581   \n",
      "Optimization terminated normally: \n",
      "  Convergence detected: relative gradient magnitude is below tolerance\n"
     ]
    },
    {
     "name": "stderr",
     "output_type": "stream",
     "text": [
      " 40%|███▉      | 199/500 [06:29<10:41,  2.13s/it]"
     ]
    },
    {
     "name": "stdout",
     "output_type": "stream",
     "text": [
      "Initial log joint probability = -33.6419\n",
      "    Iter      log prob        ||dx||      ||grad||       alpha      alpha0  # evals  Notes \n",
      "      99       2607.71    0.00752023       132.068           1           1      123   \n",
      "    Iter      log prob        ||dx||      ||grad||       alpha      alpha0  # evals  Notes \n",
      "     103       2607.99   0.000205529       130.547   8.974e-07       0.001      173  LS failed, Hessian reset \n",
      "     148       2610.13   0.000262586       174.352   1.286e-06       0.001      307  LS failed, Hessian reset \n",
      "     199       2612.02   0.000152053       74.3402      0.2586           1      380   \n",
      "    Iter      log prob        ||dx||      ||grad||       alpha      alpha0  # evals  Notes \n",
      "     224        2612.1   0.000336991       77.0784   4.957e-06       0.001      474  LS failed, Hessian reset \n",
      "     265       2612.14   8.44992e-05       69.0947   1.089e-06       0.001      569  LS failed, Hessian reset \n",
      "     299       2612.15   8.65144e-06       78.6671      0.5951      0.5951      610   \n",
      "    Iter      log prob        ||dx||      ||grad||       alpha      alpha0  # evals  Notes \n",
      "     362       2612.15   1.16181e-07       55.0151      0.3447      0.3447      692   \n",
      "Optimization terminated normally: \n",
      "  Convergence detected: relative gradient magnitude is below tolerance\n"
     ]
    },
    {
     "name": "stderr",
     "output_type": "stream",
     "text": [
      " 40%|████      | 200/500 [06:31<10:35,  2.12s/it]"
     ]
    },
    {
     "name": "stdout",
     "output_type": "stream",
     "text": [
      "Initial log joint probability = -25.2722\n",
      "    Iter      log prob        ||dx||      ||grad||       alpha      alpha0  # evals  Notes \n",
      "      80       2401.28   0.000549911       254.001   2.317e-06       0.001      136  LS failed, Hessian reset \n",
      "      99       2401.84    0.00159962         109.4           1           1      159   \n",
      "    Iter      log prob        ||dx||      ||grad||       alpha      alpha0  # evals  Notes \n",
      "     199       2403.74   1.78535e-06        82.391      0.4363      0.4363      286   \n",
      "    Iter      log prob        ||dx||      ||grad||       alpha      alpha0  # evals  Notes \n",
      "     231       2403.76    3.7345e-05       67.4928   4.072e-07       0.001      364  LS failed, Hessian reset \n",
      "     270       2403.76   8.76097e-08       59.8935       0.303           1      421   \n",
      "Optimization terminated normally: \n",
      "  Convergence detected: relative gradient magnitude is below tolerance\n"
     ]
    },
    {
     "name": "stderr",
     "output_type": "stream",
     "text": [
      " 40%|████      | 201/500 [06:33<10:07,  2.03s/it]"
     ]
    },
    {
     "name": "stdout",
     "output_type": "stream",
     "text": [
      "Initial log joint probability = -35.8734\n",
      "    Iter      log prob        ||dx||      ||grad||       alpha      alpha0  # evals  Notes \n",
      "      99       2645.91   0.000584212       138.777      0.6163      0.6163      135   \n",
      "    Iter      log prob        ||dx||      ||grad||       alpha      alpha0  # evals  Notes \n",
      "     175       2649.03   0.000184264        135.18    1.36e-06       0.001      272  LS failed, Hessian reset \n",
      "     199       2649.94   0.000168704       53.9966        1.82      0.5604      306   \n",
      "    Iter      log prob        ||dx||      ||grad||       alpha      alpha0  # evals  Notes \n",
      "     223       2649.98   0.000236061        82.813   2.791e-06       0.001      382  LS failed, Hessian reset \n",
      "     299          2650   2.94016e-05       72.7387           1           1      490   \n",
      "    Iter      log prob        ||dx||      ||grad||       alpha      alpha0  # evals  Notes \n",
      "     314       2650.03   0.000106798       92.7465   1.321e-06       0.001      550  LS failed, Hessian reset \n",
      "     352       2650.03   8.94413e-08       80.4043     0.09763      0.3528      605   \n",
      "Optimization terminated normally: \n",
      "  Convergence detected: relative gradient magnitude is below tolerance\n"
     ]
    },
    {
     "name": "stderr",
     "output_type": "stream",
     "text": [
      " 40%|████      | 202/500 [06:35<09:58,  2.01s/it]"
     ]
    },
    {
     "name": "stdout",
     "output_type": "stream",
     "text": [
      "Initial log joint probability = -43.2018\n",
      "    Iter      log prob        ||dx||      ||grad||       alpha      alpha0  # evals  Notes \n",
      "      99       2601.95     0.0017641       140.447           1           1      130   \n",
      "    Iter      log prob        ||dx||      ||grad||       alpha      alpha0  # evals  Notes \n",
      "     199       2607.08    0.00648902       137.814      0.2212           1      256   \n",
      "    Iter      log prob        ||dx||      ||grad||       alpha      alpha0  # evals  Notes \n",
      "     206       2607.46   0.000227553       120.124   8.889e-07       0.001      307  LS failed, Hessian reset \n",
      "     283        2608.7   1.87736e-07       62.2947      0.3822           1      406   \n",
      "Optimization terminated normally: \n",
      "  Convergence detected: relative gradient magnitude is below tolerance\n"
     ]
    },
    {
     "name": "stderr",
     "output_type": "stream",
     "text": [
      " 41%|████      | 203/500 [06:37<09:33,  1.93s/it]"
     ]
    },
    {
     "name": "stdout",
     "output_type": "stream",
     "text": [
      "Initial log joint probability = -19.1969\n",
      "    Iter      log prob        ||dx||      ||grad||       alpha      alpha0  # evals  Notes \n",
      "      99       2575.62     0.0058724       115.815           1           1      134   \n",
      "    Iter      log prob        ||dx||      ||grad||       alpha      alpha0  # evals  Notes \n",
      "     141       2576.81    0.00117263       313.145   1.407e-05       0.001      230  LS failed, Hessian reset \n",
      "     194       2577.36   7.62191e-05        64.465   1.012e-06       0.001      338  LS failed, Hessian reset \n",
      "     199       2577.36   3.72383e-06       57.4595     0.03649           1      346   \n",
      "    Iter      log prob        ||dx||      ||grad||       alpha      alpha0  # evals  Notes \n",
      "     218       2577.36   2.46149e-07       57.9554      0.3024           1      380   \n",
      "Optimization terminated normally: \n",
      "  Convergence detected: relative gradient magnitude is below tolerance\n"
     ]
    },
    {
     "name": "stderr",
     "output_type": "stream",
     "text": [
      " 41%|████      | 204/500 [06:39<09:12,  1.87s/it]"
     ]
    },
    {
     "name": "stdout",
     "output_type": "stream",
     "text": [
      "Initial log joint probability = -20.2282\n",
      "    Iter      log prob        ||dx||      ||grad||       alpha      alpha0  # evals  Notes \n",
      "      99       2385.72   0.000184016       65.0846           1           1      126   \n",
      "    Iter      log prob        ||dx||      ||grad||       alpha      alpha0  # evals  Notes \n",
      "     110       2385.94   0.000607099       138.121   7.466e-06       0.001      193  LS failed, Hessian reset \n",
      "     199       2386.12   3.80196e-07       74.2365      0.7034      0.7034      312   \n",
      "    Iter      log prob        ||dx||      ||grad||       alpha      alpha0  # evals  Notes \n",
      "     242       2386.12   1.56416e-07       72.0178           1           1      361   \n",
      "Optimization terminated normally: \n",
      "  Convergence detected: relative gradient magnitude is below tolerance\n"
     ]
    },
    {
     "name": "stderr",
     "output_type": "stream",
     "text": [
      " 41%|████      | 205/500 [06:41<09:08,  1.86s/it]"
     ]
    },
    {
     "name": "stdout",
     "output_type": "stream",
     "text": [
      "Initial log joint probability = -21.0499\n",
      "    Iter      log prob        ||dx||      ||grad||       alpha      alpha0  # evals  Notes \n",
      "      99        2447.2    0.00601154       132.168           1           1      114   \n",
      "    Iter      log prob        ||dx||      ||grad||       alpha      alpha0  # evals  Notes \n",
      "     136       2448.73   0.000790505        250.91   6.473e-06       0.001      195  LS failed, Hessian reset \n",
      "     168       2449.42   0.000254569       136.316   2.544e-06       0.001      265  LS failed, Hessian reset \n",
      "     199       2449.55   8.31641e-06       83.4638       1.933      0.1933      308   \n",
      "    Iter      log prob        ||dx||      ||grad||       alpha      alpha0  # evals  Notes \n",
      "     230       2449.95   0.000409614       194.265   3.636e-06       0.001      404  LS failed, Hessian reset \n",
      "     278        2450.6   0.000172335       70.4771   2.251e-06       0.001      509  LS failed, Hessian reset \n",
      "     299       2450.62   3.01446e-06       74.2172       0.792       0.792      535   \n",
      "    Iter      log prob        ||dx||      ||grad||       alpha      alpha0  # evals  Notes \n",
      "     357       2450.64   8.99966e-08       79.7073      0.2873           1      614   \n",
      "Optimization terminated normally: \n",
      "  Convergence detected: relative gradient magnitude is below tolerance\n"
     ]
    },
    {
     "name": "stderr",
     "output_type": "stream",
     "text": [
      " 41%|████      | 206/500 [06:42<09:04,  1.85s/it]"
     ]
    },
    {
     "name": "stdout",
     "output_type": "stream",
     "text": [
      "Initial log joint probability = -19.2409\n",
      "    Iter      log prob        ||dx||      ||grad||       alpha      alpha0  # evals  Notes \n",
      "      99       2369.62   0.000134247       140.764      0.4794      0.4794      120   \n",
      "    Iter      log prob        ||dx||      ||grad||       alpha      alpha0  # evals  Notes \n",
      "     122       2370.16   0.000306502       124.022   3.301e-06       0.001      188  LS failed, Hessian reset \n",
      "     194       2370.53    1.1565e-07       60.7577      0.2839           1      281   \n",
      "Optimization terminated normally: \n",
      "  Convergence detected: relative gradient magnitude is below tolerance\n"
     ]
    },
    {
     "name": "stderr",
     "output_type": "stream",
     "text": [
      " 41%|████▏     | 207/500 [06:44<08:54,  1.83s/it]"
     ]
    },
    {
     "name": "stdout",
     "output_type": "stream",
     "text": [
      "Initial log joint probability = -23.9525\n",
      "    Iter      log prob        ||dx||      ||grad||       alpha      alpha0  # evals  Notes \n",
      "      99       2586.06    0.00287479       191.625           1           1      122   \n",
      "    Iter      log prob        ||dx||      ||grad||       alpha      alpha0  # evals  Notes \n",
      "     127       2587.41    0.00031286        193.31   1.114e-06       0.001      192  LS failed, Hessian reset \n",
      "     199       2589.49    0.00292564       144.364      0.8786      0.8786      288   \n",
      "    Iter      log prob        ||dx||      ||grad||       alpha      alpha0  # evals  Notes \n",
      "     203        2589.8   0.000165261       116.952   1.139e-06       0.001      337  LS failed, Hessian reset \n",
      "     263       2590.05   5.00299e-05       77.9177   6.996e-07       0.001      466  LS failed, Hessian reset \n",
      "     299       2590.06   4.53063e-06       67.9501       0.779       0.779      511   \n",
      "    Iter      log prob        ||dx||      ||grad||       alpha      alpha0  # evals  Notes \n",
      "     308       2590.06    5.5015e-06       79.4258    7.12e-08       0.001      572  LS failed, Hessian reset \n",
      "     318       2590.06   1.20915e-07       58.1162      0.8653      0.8653      586   \n",
      "Optimization terminated normally: \n",
      "  Convergence detected: relative gradient magnitude is below tolerance\n"
     ]
    },
    {
     "name": "stderr",
     "output_type": "stream",
     "text": [
      " 42%|████▏     | 208/500 [06:46<09:01,  1.85s/it]"
     ]
    },
    {
     "name": "stdout",
     "output_type": "stream",
     "text": [
      "Initial log joint probability = -26.3869\n",
      "    Iter      log prob        ||dx||      ||grad||       alpha      alpha0  # evals  Notes \n",
      "      77        2608.4   0.000179887       120.931   1.025e-06       0.001      142  LS failed, Hessian reset \n",
      "      99       2609.61    0.00347512       136.936      0.8326      0.8326      170   \n",
      "    Iter      log prob        ||dx||      ||grad||       alpha      alpha0  # evals  Notes \n",
      "     199       2613.13   7.98811e-05       45.7896      0.1885           1      300   \n",
      "    Iter      log prob        ||dx||      ||grad||       alpha      alpha0  # evals  Notes \n",
      "     249       2613.15   5.75301e-06       43.5927   8.733e-08       0.001      409  LS failed, Hessian reset \n",
      "     262       2613.16    1.0046e-07       53.5049     0.07048           1      431   \n",
      "Optimization terminated normally: \n",
      "  Convergence detected: relative gradient magnitude is below tolerance\n"
     ]
    },
    {
     "name": "stderr",
     "output_type": "stream",
     "text": [
      " 42%|████▏     | 209/500 [06:48<08:55,  1.84s/it]"
     ]
    },
    {
     "name": "stdout",
     "output_type": "stream",
     "text": [
      "Initial log joint probability = -39.3164\n",
      "    Iter      log prob        ||dx||      ||grad||       alpha      alpha0  # evals  Notes \n",
      "      99       2537.48     0.0146102       366.322           1           1      137   \n",
      "    Iter      log prob        ||dx||      ||grad||       alpha      alpha0  # evals  Notes \n",
      "     161       2539.31   0.000558516       229.066   5.425e-06       0.001      268  LS failed, Hessian reset \n",
      "     199       2540.11    0.00013296       79.9706      0.2757      0.2757      313   \n",
      "    Iter      log prob        ||dx||      ||grad||       alpha      alpha0  # evals  Notes \n",
      "     299       2540.23   5.52998e-05       72.3361      0.4607      0.4607      446   \n",
      "    Iter      log prob        ||dx||      ||grad||       alpha      alpha0  # evals  Notes \n",
      "     303       2540.23    2.7467e-05       89.7915   3.159e-07       0.001      494  LS failed, Hessian reset \n",
      "     349       2540.23   1.85847e-07       81.1731       0.825       0.825      553   \n",
      "Optimization terminated normally: \n",
      "  Convergence detected: relative gradient magnitude is below tolerance\n"
     ]
    },
    {
     "name": "stderr",
     "output_type": "stream",
     "text": [
      " 42%|████▏     | 210/500 [06:50<08:53,  1.84s/it]"
     ]
    },
    {
     "name": "stdout",
     "output_type": "stream",
     "text": [
      "Initial log joint probability = -30.4314\n",
      "    Iter      log prob        ||dx||      ||grad||       alpha      alpha0  # evals  Notes \n",
      "      99       2788.46    0.00100938       83.2007      0.6833      0.6833      137   \n",
      "    Iter      log prob        ||dx||      ||grad||       alpha      alpha0  # evals  Notes \n",
      "     117       2788.78   0.000114673           101    8.93e-07       0.001      201  LS failed, Hessian reset \n",
      "     157       2789.35   0.000708982       142.802   1.019e-05       0.001      289  LS failed, Hessian reset \n",
      "     199       2789.44   9.55727e-07        62.049      0.3617           1      353   \n",
      "    Iter      log prob        ||dx||      ||grad||       alpha      alpha0  # evals  Notes \n",
      "     275       2789.44   2.63018e-08       52.2513     0.01561           1      452   \n",
      "Optimization terminated normally: \n",
      "  Convergence detected: relative gradient magnitude is below tolerance\n"
     ]
    },
    {
     "name": "stderr",
     "output_type": "stream",
     "text": [
      " 42%|████▏     | 211/500 [06:52<08:57,  1.86s/it]"
     ]
    },
    {
     "name": "stdout",
     "output_type": "stream",
     "text": [
      "Initial log joint probability = -18.8626\n",
      "    Iter      log prob        ||dx||      ||grad||       alpha      alpha0  # evals  Notes \n",
      "      99       3006.77    0.00027561       83.8139      0.5716      0.5716      134   \n",
      "    Iter      log prob        ||dx||      ||grad||       alpha      alpha0  # evals  Notes \n",
      "     150       3008.03   0.000247834       236.833   1.937e-06       0.001      233  LS failed, Hessian reset \n",
      "     199       3008.48   4.02979e-05       73.2692      0.3887           1      295   \n",
      "    Iter      log prob        ||dx||      ||grad||       alpha      alpha0  # evals  Notes \n",
      "     221       3008.49   5.26466e-05       68.1626   5.431e-07       0.001      368  LS failed, Hessian reset \n",
      "     251       3008.49   1.27989e-07       59.2205      0.2904           1      413   \n",
      "Optimization terminated normally: \n",
      "  Convergence detected: relative gradient magnitude is below tolerance\n"
     ]
    },
    {
     "name": "stderr",
     "output_type": "stream",
     "text": [
      " 42%|████▏     | 212/500 [06:53<08:50,  1.84s/it]"
     ]
    },
    {
     "name": "stdout",
     "output_type": "stream",
     "text": [
      "Initial log joint probability = -34.0011\n",
      "    Iter      log prob        ||dx||      ||grad||       alpha      alpha0  # evals  Notes \n",
      "      99       2879.61    0.00283987       181.156       0.878       0.878      121   \n",
      "    Iter      log prob        ||dx||      ||grad||       alpha      alpha0  # evals  Notes \n",
      "     193       2885.08   0.000197737       203.548   7.051e-07       0.001      270  LS failed, Hessian reset \n",
      "     199        2885.7    0.00563348       477.054           1           1      276   \n",
      "    Iter      log prob        ||dx||      ||grad||       alpha      alpha0  # evals  Notes \n",
      "     286       2886.28   4.63657e-05       61.7485   5.618e-07       0.001      421  LS failed, Hessian reset \n",
      "     299       2886.28   2.06752e-05       64.6164           1           1      439   \n",
      "    Iter      log prob        ||dx||      ||grad||       alpha      alpha0  # evals  Notes \n",
      "     399       2886.34   3.22944e-05       75.3714      0.3956      0.3956      584   \n",
      "    Iter      log prob        ||dx||      ||grad||       alpha      alpha0  # evals  Notes \n",
      "     412       2886.36   0.000116167       60.3857   1.517e-06       0.001      640  LS failed, Hessian reset \n",
      "     464       2886.42    3.1191e-06       68.6029     5.6e-08       0.001      757  LS failed, Hessian reset \n",
      "     475       2886.42   2.47383e-07        54.136           1           1      773   \n",
      "Optimization terminated normally: \n",
      "  Convergence detected: relative gradient magnitude is below tolerance\n"
     ]
    },
    {
     "name": "stderr",
     "output_type": "stream",
     "text": [
      " 43%|████▎     | 213/500 [06:55<09:10,  1.92s/it]"
     ]
    },
    {
     "name": "stdout",
     "output_type": "stream",
     "text": [
      "Initial log joint probability = -23.893\n",
      "    Iter      log prob        ||dx||      ||grad||       alpha      alpha0  # evals  Notes \n",
      "      99        2883.3     0.0269247       343.749      0.1904           1      129   \n",
      "    Iter      log prob        ||dx||      ||grad||       alpha      alpha0  # evals  Notes \n",
      "     173       2886.96   0.000792868       327.661   5.077e-06       0.001      265  LS failed, Hessian reset \n",
      "     199        2888.3   0.000561933       104.893           1           1      294   \n",
      "    Iter      log prob        ||dx||      ||grad||       alpha      alpha0  # evals  Notes \n",
      "     239       2888.56   0.000103887       92.8872   1.029e-06       0.001      385  LS failed, Hessian reset \n",
      "     283       2888.57   2.58284e-07       78.1596      0.3695           1      445   \n",
      "Optimization terminated normally: \n",
      "  Convergence detected: relative gradient magnitude is below tolerance\n"
     ]
    },
    {
     "name": "stderr",
     "output_type": "stream",
     "text": [
      " 43%|████▎     | 214/500 [06:57<08:52,  1.86s/it]"
     ]
    },
    {
     "name": "stdout",
     "output_type": "stream",
     "text": [
      "Initial log joint probability = -19.218\n",
      "    Iter      log prob        ||dx||      ||grad||       alpha      alpha0  # evals  Notes \n",
      "      99       2617.61   0.000640835       82.0237      0.8046      0.8046      123   \n",
      "    Iter      log prob        ||dx||      ||grad||       alpha      alpha0  # evals  Notes \n",
      "     108       2617.94   0.000209198       148.409   1.651e-06       0.001      175  LS failed, Hessian reset \n",
      "     144       2618.41   5.02553e-05       81.2716    6.45e-07       0.001      267  LS failed, Hessian reset \n",
      "     174       2618.41    6.6211e-06       80.2428   8.029e-08       0.001      352  LS failed, Hessian reset \n",
      "     197       2618.41   5.59375e-08       73.5863      0.3418           1      384   \n",
      "Optimization terminated normally: \n",
      "  Convergence detected: relative gradient magnitude is below tolerance\n"
     ]
    },
    {
     "name": "stderr",
     "output_type": "stream",
     "text": [
      " 43%|████▎     | 215/500 [06:59<08:36,  1.81s/it]"
     ]
    },
    {
     "name": "stdout",
     "output_type": "stream",
     "text": [
      "Initial log joint probability = -16.4801\n",
      "    Iter      log prob        ||dx||      ||grad||       alpha      alpha0  # evals  Notes \n",
      "      99       2857.69     0.0033242       145.164           1           1      125   \n",
      "    Iter      log prob        ||dx||      ||grad||       alpha      alpha0  # evals  Notes \n",
      "     189        2859.5    2.5987e-05       52.8425   3.841e-07       0.001      276  LS failed, Hessian reset \n",
      "     199        2859.5   1.98378e-06       48.8708       2.801      0.2801      296   \n",
      "    Iter      log prob        ||dx||      ||grad||       alpha      alpha0  # evals  Notes \n",
      "     207        2859.5   8.66321e-08       72.2737     0.09032           1      310   \n",
      "Optimization terminated normally: \n",
      "  Convergence detected: relative gradient magnitude is below tolerance\n"
     ]
    },
    {
     "name": "stderr",
     "output_type": "stream",
     "text": [
      " 43%|████▎     | 216/500 [07:01<08:34,  1.81s/it]"
     ]
    },
    {
     "name": "stdout",
     "output_type": "stream",
     "text": [
      "Initial log joint probability = -24.8865\n",
      "    Iter      log prob        ||dx||      ||grad||       alpha      alpha0  # evals  Notes \n",
      "      99       2668.83     0.0019484       100.598      0.2006           1      130   \n",
      "    Iter      log prob        ||dx||      ||grad||       alpha      alpha0  # evals  Notes \n",
      "     199       2671.07   0.000553624       87.3342      0.9513      0.9513      250   \n",
      "    Iter      log prob        ||dx||      ||grad||       alpha      alpha0  # evals  Notes \n",
      "     208       2671.78   0.000247965       178.572   9.051e-07       0.001      302  LS failed, Hessian reset \n",
      "     239       2672.23   7.83221e-05       85.7602   1.031e-06       0.001      374  LS failed, Hessian reset \n",
      "     293       2672.24   3.94705e-06       93.6091   4.609e-08       0.001      479  LS failed, Hessian reset \n",
      "     299       2672.24   5.32248e-07        88.259      0.1831           1      486   \n",
      "    Iter      log prob        ||dx||      ||grad||       alpha      alpha0  # evals  Notes \n",
      "     312       2672.24   1.93257e-07       83.3528      0.2724           1      505   \n",
      "Optimization terminated normally: \n",
      "  Convergence detected: relative gradient magnitude is below tolerance\n"
     ]
    },
    {
     "name": "stderr",
     "output_type": "stream",
     "text": [
      " 43%|████▎     | 217/500 [07:03<08:40,  1.84s/it]"
     ]
    },
    {
     "name": "stdout",
     "output_type": "stream",
     "text": [
      "Initial log joint probability = -20.9265\n",
      "    Iter      log prob        ||dx||      ||grad||       alpha      alpha0  # evals  Notes \n",
      "      99       2977.19   0.000621013       131.554      0.3397      0.3397      127   \n",
      "    Iter      log prob        ||dx||      ||grad||       alpha      alpha0  # evals  Notes \n",
      "     169       2980.56    0.00123633       165.306   4.038e-06       0.001      256  LS failed, Hessian reset \n",
      "     199       2981.43   2.00123e-05       79.3539      0.3445      0.3445      301   \n",
      "    Iter      log prob        ||dx||      ||grad||       alpha      alpha0  # evals  Notes \n",
      "     238       2981.54   0.000178824       166.591   2.146e-06       0.001      381  LS failed, Hessian reset \n",
      "     284       2981.56   4.16302e-07       75.3707      0.1891           1      447   \n",
      "Optimization terminated normally: \n",
      "  Convergence detected: relative gradient magnitude is below tolerance\n"
     ]
    },
    {
     "name": "stderr",
     "output_type": "stream",
     "text": [
      " 44%|████▎     | 218/500 [07:05<08:43,  1.85s/it]"
     ]
    },
    {
     "name": "stdout",
     "output_type": "stream",
     "text": [
      "Initial log joint probability = -20.1556\n",
      "    Iter      log prob        ||dx||      ||grad||       alpha      alpha0  # evals  Notes \n",
      "      99       2894.87   0.000436287       285.363   2.767e-06       0.001      163  LS failed, Hessian reset \n",
      "    Iter      log prob        ||dx||      ||grad||       alpha      alpha0  # evals  Notes \n",
      "     194       2899.49   0.000165608       121.572   4.992e-07       0.001      336  LS failed, Hessian reset \n",
      "     199       2899.82    0.00428666       97.4478           1           1      342   \n",
      "    Iter      log prob        ||dx||      ||grad||       alpha      alpha0  # evals  Notes \n",
      "     299       2900.09   3.31748e-05       85.7287      0.3642           1      478   \n",
      "    Iter      log prob        ||dx||      ||grad||       alpha      alpha0  # evals  Notes \n",
      "     399       2900.67   0.000723672       89.6385           1           1      603   \n",
      "    Iter      log prob        ||dx||      ||grad||       alpha      alpha0  # evals  Notes \n",
      "     401       2900.67   0.000107554       74.2685   1.499e-06       0.001      650  LS failed, Hessian reset \n",
      "     420       2900.68   1.37523e-05        42.107   2.033e-07       0.001      722  LS failed, Hessian reset \n",
      "     465       2900.68   5.92444e-06       54.8851   8.332e-08       0.001      832  LS failed, Hessian reset \n",
      "     499       2900.68    7.0579e-06       61.9467           1           1      875   \n",
      "    Iter      log prob        ||dx||      ||grad||       alpha      alpha0  # evals  Notes \n",
      "     539       2900.69   1.10302e-06       51.5389      0.4497      0.4497      922   \n",
      "Optimization terminated normally: \n",
      "  Convergence detected: relative gradient magnitude is below tolerance\n"
     ]
    },
    {
     "name": "stderr",
     "output_type": "stream",
     "text": [
      " 44%|████▍     | 219/500 [07:07<08:56,  1.91s/it]"
     ]
    },
    {
     "name": "stdout",
     "output_type": "stream",
     "text": [
      "Initial log joint probability = -37.9718\n",
      "    Iter      log prob        ||dx||      ||grad||       alpha      alpha0  # evals  Notes \n",
      "      99       2871.58    0.00519643       232.399      0.4322           1      127   \n",
      "    Iter      log prob        ||dx||      ||grad||       alpha      alpha0  # evals  Notes \n",
      "     199       2877.89    0.00456768       380.749           1           1      247   \n",
      "    Iter      log prob        ||dx||      ||grad||       alpha      alpha0  # evals  Notes \n",
      "     299       2881.34   2.71277e-06       68.6415      0.5308      0.5308      386   \n",
      "    Iter      log prob        ||dx||      ||grad||       alpha      alpha0  # evals  Notes \n",
      "     319       2881.34   9.67282e-08       61.4707      0.4416      0.4416      418   \n",
      "Optimization terminated normally: \n",
      "  Convergence detected: relative gradient magnitude is below tolerance\n"
     ]
    },
    {
     "name": "stderr",
     "output_type": "stream",
     "text": [
      " 44%|████▍     | 220/500 [07:08<08:43,  1.87s/it]"
     ]
    },
    {
     "name": "stdout",
     "output_type": "stream",
     "text": [
      "Initial log joint probability = -17.101\n",
      "    Iter      log prob        ||dx||      ||grad||       alpha      alpha0  # evals  Notes \n",
      "      99       2342.97   0.000954731       95.1587           1           1      122   \n",
      "    Iter      log prob        ||dx||      ||grad||       alpha      alpha0  # evals  Notes \n",
      "     165       2343.22   1.87786e-05       84.2576   2.402e-07       0.001      256  LS failed, Hessian reset \n",
      "     199       2343.22   1.64284e-06       83.8952           1           1      299   \n",
      "    Iter      log prob        ||dx||      ||grad||       alpha      alpha0  # evals  Notes \n",
      "     202       2343.22   4.23877e-06       80.6132   4.769e-08       0.001      344  LS failed, Hessian reset \n",
      "     215       2343.22   3.15766e-08       75.8004      0.2629      0.8443      365   \n",
      "Optimization terminated normally: \n",
      "  Convergence detected: relative gradient magnitude is below tolerance\n"
     ]
    },
    {
     "name": "stderr",
     "output_type": "stream",
     "text": [
      " 44%|████▍     | 221/500 [07:10<08:32,  1.84s/it]"
     ]
    },
    {
     "name": "stdout",
     "output_type": "stream",
     "text": [
      "Initial log joint probability = -31.4326\n",
      "    Iter      log prob        ||dx||      ||grad||       alpha      alpha0  # evals  Notes \n",
      "      99        2631.2    0.00149039       246.594      0.4551           1      128   \n",
      "    Iter      log prob        ||dx||      ||grad||       alpha      alpha0  # evals  Notes \n",
      "     175       2635.41   0.000644267       239.057   7.182e-06       0.001      262  LS failed, Hessian reset \n",
      "     199       2635.88   3.67906e-05       72.8273      0.2232      0.2232      288   \n",
      "    Iter      log prob        ||dx||      ||grad||       alpha      alpha0  # evals  Notes \n",
      "     231       2635.98   0.000211181       95.6925    2.17e-06       0.001      364  LS failed, Hessian reset \n",
      "     259       2635.99   1.71701e-07       66.2383           1           1      401   \n",
      "Optimization terminated normally: \n",
      "  Convergence detected: relative gradient magnitude is below tolerance\n"
     ]
    },
    {
     "name": "stderr",
     "output_type": "stream",
     "text": [
      " 44%|████▍     | 222/500 [07:12<08:33,  1.85s/it]"
     ]
    },
    {
     "name": "stdout",
     "output_type": "stream",
     "text": [
      "Initial log joint probability = -46.5869\n",
      "    Iter      log prob        ||dx||      ||grad||       alpha      alpha0  # evals  Notes \n",
      "      99       2543.73    0.00621476        213.04           1           1      141   \n",
      "    Iter      log prob        ||dx||      ||grad||       alpha      alpha0  # evals  Notes \n",
      "     199       2549.63     0.0118738       267.467      0.9412      0.9412      267   \n",
      "    Iter      log prob        ||dx||      ||grad||       alpha      alpha0  # evals  Notes \n",
      "     202       2550.38    0.00028322       181.183   1.348e-06       0.001      317  LS failed, Hessian reset \n",
      "     270       2551.55   0.000234588       153.064   1.267e-06       0.001      444  LS failed, Hessian reset \n",
      "     299       2551.59   1.89243e-05        88.682      0.2583           1      479   \n",
      "    Iter      log prob        ||dx||      ||grad||       alpha      alpha0  # evals  Notes \n",
      "     326        2551.6   8.55389e-08       81.2345      0.2643           1      516   \n",
      "Optimization terminated normally: \n",
      "  Convergence detected: relative gradient magnitude is below tolerance\n"
     ]
    },
    {
     "name": "stderr",
     "output_type": "stream",
     "text": [
      " 45%|████▍     | 223/500 [07:14<08:37,  1.87s/it]"
     ]
    },
    {
     "name": "stdout",
     "output_type": "stream",
     "text": [
      "Initial log joint probability = -24.0132\n",
      "    Iter      log prob        ||dx||      ||grad||       alpha      alpha0  # evals  Notes \n",
      "      99       2454.22    0.00685068        146.16      0.2611      0.2611      132   \n",
      "    Iter      log prob        ||dx||      ||grad||       alpha      alpha0  # evals  Notes \n",
      "     148       2456.08   0.000253772       143.625   1.493e-06       0.001      236  LS failed, Hessian reset \n",
      "     199        2456.8   8.40158e-06       56.4349      0.7757      0.7757      308   \n",
      "    Iter      log prob        ||dx||      ||grad||       alpha      alpha0  # evals  Notes \n",
      "     214        2456.8   1.17284e-07       51.1814      0.1385      0.4541      336   \n",
      "Optimization terminated normally: \n",
      "  Convergence detected: relative gradient magnitude is below tolerance\n"
     ]
    },
    {
     "name": "stderr",
     "output_type": "stream",
     "text": [
      " 45%|████▍     | 224/500 [07:16<08:29,  1.85s/it]"
     ]
    },
    {
     "name": "stdout",
     "output_type": "stream",
     "text": [
      "Initial log joint probability = -20.6341\n",
      "    Iter      log prob        ||dx||      ||grad||       alpha      alpha0  # evals  Notes \n",
      "      68       2217.47   0.000446536       166.786   3.595e-06       0.001      120  LS failed, Hessian reset \n",
      "      99       2217.62   8.29462e-05       89.2232      0.9726      0.9726      156   \n",
      "    Iter      log prob        ||dx||      ||grad||       alpha      alpha0  # evals  Notes \n",
      "     103       2217.63    3.9751e-05       80.5448   4.246e-07       0.001      193  LS failed, Hessian reset \n",
      "     123       2217.63   1.09341e-07       71.1052      0.2015           1      224   \n",
      "Optimization terminated normally: \n",
      "  Convergence detected: relative gradient magnitude is below tolerance\n"
     ]
    },
    {
     "name": "stderr",
     "output_type": "stream",
     "text": [
      " 45%|████▌     | 225/500 [07:17<08:20,  1.82s/it]"
     ]
    },
    {
     "name": "stdout",
     "output_type": "stream",
     "text": [
      "Initial log joint probability = -39.1028\n",
      "    Iter      log prob        ||dx||      ||grad||       alpha      alpha0  # evals  Notes \n",
      "      99       2214.69   0.000204693       66.4394      0.4504      0.4504      147   \n",
      "    Iter      log prob        ||dx||      ||grad||       alpha      alpha0  # evals  Notes \n",
      "     187       2214.71   1.03248e-08        67.966      0.0568           1      272   \n",
      "Optimization terminated normally: \n",
      "  Convergence detected: relative gradient magnitude is below tolerance\n"
     ]
    },
    {
     "name": "stderr",
     "output_type": "stream",
     "text": [
      " 45%|████▌     | 226/500 [07:19<08:05,  1.77s/it]"
     ]
    },
    {
     "name": "stdout",
     "output_type": "stream",
     "text": [
      "Initial log joint probability = -27.5324\n",
      "    Iter      log prob        ||dx||      ||grad||       alpha      alpha0  # evals  Notes \n",
      "      99       2236.68    0.00190823       175.779      0.5043      0.5043      122   \n",
      "    Iter      log prob        ||dx||      ||grad||       alpha      alpha0  # evals  Notes \n",
      "     110       2237.62    0.00301807       116.122   3.514e-05       0.001      162  LS failed, Hessian reset \n",
      "     178       2238.83   0.000891495       261.978   8.086e-06       0.001      276  LS failed, Hessian reset \n",
      "     199       2239.01   0.000148544       94.9822      0.5081      0.5081      300   \n",
      "    Iter      log prob        ||dx||      ||grad||       alpha      alpha0  # evals  Notes \n",
      "     299       2239.08   5.61059e-08       75.6542     0.03332           1      430   \n",
      "Optimization terminated normally: \n",
      "  Convergence detected: relative gradient magnitude is below tolerance\n"
     ]
    },
    {
     "name": "stderr",
     "output_type": "stream",
     "text": [
      " 45%|████▌     | 227/500 [07:21<08:20,  1.83s/it]"
     ]
    },
    {
     "name": "stdout",
     "output_type": "stream",
     "text": [
      "Initial log joint probability = -26.2867\n",
      "    Iter      log prob        ||dx||      ||grad||       alpha      alpha0  # evals  Notes \n",
      "      99       2568.46     0.0076443       117.547           1           1      140   \n",
      "    Iter      log prob        ||dx||      ||grad||       alpha      alpha0  # evals  Notes \n",
      "     114       2569.73   0.000352748       210.922   2.002e-06       0.001      198  LS failed, Hessian reset \n",
      "     185       2572.29   0.000323304       137.581   8.408e-07       0.001      341  LS failed, Hessian reset \n",
      "     199       2572.94   0.000456789        100.84      0.3239           1      361   \n",
      "    Iter      log prob        ||dx||      ||grad||       alpha      alpha0  # evals  Notes \n",
      "     299       2573.27   1.49443e-05        73.615      0.6457      0.6457      486   \n",
      "    Iter      log prob        ||dx||      ||grad||       alpha      alpha0  # evals  Notes \n",
      "     327        2573.3   5.87359e-05       84.9442    8.18e-07       0.001      559  LS failed, Hessian reset \n",
      "     387       2573.31     1.787e-07        76.848           1           1      634   \n",
      "Optimization terminated normally: \n",
      "  Convergence detected: relative gradient magnitude is below tolerance\n"
     ]
    },
    {
     "name": "stderr",
     "output_type": "stream",
     "text": [
      " 46%|████▌     | 228/500 [07:23<08:58,  1.98s/it]"
     ]
    },
    {
     "name": "stdout",
     "output_type": "stream",
     "text": [
      "Initial log joint probability = -18.0525\n",
      "    Iter      log prob        ||dx||      ||grad||       alpha      alpha0  # evals  Notes \n",
      "      99       2479.62   0.000836963       135.389      0.2182           1      134   \n",
      "    Iter      log prob        ||dx||      ||grad||       alpha      alpha0  # evals  Notes \n",
      "     132        2480.1     0.0009391       309.819    7.42e-06       0.001      227  LS failed, Hessian reset \n",
      "     199       2480.47    0.00010474       88.7114           1           1      306   \n",
      "    Iter      log prob        ||dx||      ||grad||       alpha      alpha0  # evals  Notes \n",
      "     252       2480.49   3.66749e-07       85.4864      0.1828      0.9023      371   \n",
      "Optimization terminated normally: \n",
      "  Convergence detected: relative gradient magnitude is below tolerance\n"
     ]
    },
    {
     "name": "stderr",
     "output_type": "stream",
     "text": [
      " 46%|████▌     | 229/500 [07:25<08:42,  1.93s/it]"
     ]
    },
    {
     "name": "stdout",
     "output_type": "stream",
     "text": [
      "Initial log joint probability = -26.0836\n",
      "    Iter      log prob        ||dx||      ||grad||       alpha      alpha0  # evals  Notes \n",
      "      99       2362.77   0.000340245       88.1941      0.2204      0.2204      138   \n",
      "    Iter      log prob        ||dx||      ||grad||       alpha      alpha0  # evals  Notes \n",
      "     148       2363.68    0.00259669       179.968   1.837e-05       0.001      235  LS failed, Hessian reset \n",
      "     199       2364.04   1.24379e-05       71.0669       4.647      0.4647      304   \n",
      "    Iter      log prob        ||dx||      ||grad||       alpha      alpha0  # evals  Notes \n",
      "     216       2364.05   9.41674e-05       80.6836   8.697e-07       0.001      355  LS failed, Hessian reset \n",
      "     240       2364.05   8.80714e-08       66.1992      0.1673           1      388   \n",
      "Optimization terminated normally: \n",
      "  Convergence detected: relative gradient magnitude is below tolerance\n"
     ]
    },
    {
     "name": "stderr",
     "output_type": "stream",
     "text": [
      " 46%|████▌     | 230/500 [07:27<08:33,  1.90s/it]"
     ]
    },
    {
     "name": "stdout",
     "output_type": "stream",
     "text": [
      "Initial log joint probability = -20.6889\n",
      "    Iter      log prob        ||dx||      ||grad||       alpha      alpha0  # evals  Notes \n",
      "      99       2692.43   0.000630186       101.254      0.6991      0.6991      118   \n",
      "    Iter      log prob        ||dx||      ||grad||       alpha      alpha0  # evals  Notes \n",
      "     130       2693.17   0.000183024        142.07   8.983e-07       0.001      198  LS failed, Hessian reset \n",
      "     199       2693.61   3.82339e-06        74.262           1           1      284   \n",
      "    Iter      log prob        ||dx||      ||grad||       alpha      alpha0  # evals  Notes \n",
      "     216       2693.61   9.18493e-08       68.8494      0.1342      0.4779      313   \n",
      "Optimization terminated normally: \n",
      "  Convergence detected: relative gradient magnitude is below tolerance\n"
     ]
    },
    {
     "name": "stderr",
     "output_type": "stream",
     "text": [
      " 46%|████▌     | 231/500 [07:29<08:40,  1.93s/it]"
     ]
    },
    {
     "name": "stdout",
     "output_type": "stream",
     "text": [
      "Initial log joint probability = -25.3747\n",
      "    Iter      log prob        ||dx||      ||grad||       alpha      alpha0  # evals  Notes \n",
      "      99       2823.33    0.00339279       242.592           1           1      127   \n",
      "    Iter      log prob        ||dx||      ||grad||       alpha      alpha0  # evals  Notes \n",
      "     186       2825.96   0.000297021       265.245   1.376e-06       0.001      294  LS failed, Hessian reset \n",
      "     199       2826.57   0.000933603       102.282      0.4098           1      310   \n",
      "    Iter      log prob        ||dx||      ||grad||       alpha      alpha0  # evals  Notes \n",
      "     239       2826.74   6.40406e-05       66.1533   7.376e-07       0.001      404  LS failed, Hessian reset \n",
      "     299       2826.74   6.40249e-07       81.2844           1           1      482   \n",
      "    Iter      log prob        ||dx||      ||grad||       alpha      alpha0  # evals  Notes \n",
      "     359       2826.77   1.95826e-05        62.855    2.69e-07       0.001      617  LS failed, Hessian reset \n",
      "     395       2826.78   2.15411e-07       69.8286     0.07026           1      664   \n",
      "Optimization terminated normally: \n",
      "  Convergence detected: relative gradient magnitude is below tolerance\n"
     ]
    },
    {
     "name": "stderr",
     "output_type": "stream",
     "text": [
      " 46%|████▋     | 232/500 [07:31<08:40,  1.94s/it]"
     ]
    },
    {
     "name": "stdout",
     "output_type": "stream",
     "text": [
      "Initial log joint probability = -21.7093\n",
      "    Iter      log prob        ||dx||      ||grad||       alpha      alpha0  # evals  Notes \n",
      "      99       2956.53    0.00105122       260.785           1           1      122   \n",
      "    Iter      log prob        ||dx||      ||grad||       alpha      alpha0  # evals  Notes \n",
      "     155       2958.88   0.000172418       173.285     5.1e-07       0.001      245  LS failed, Hessian reset \n",
      "     199       2960.11   0.000669147       68.3858           1           1      304   \n",
      "    Iter      log prob        ||dx||      ||grad||       alpha      alpha0  # evals  Notes \n",
      "     220       2960.18   5.57801e-05       79.3927   1.007e-06       0.001      368  LS failed, Hessian reset \n",
      "     299       2960.25   4.15434e-05       58.4133      0.4161           1      486   \n",
      "    Iter      log prob        ||dx||      ||grad||       alpha      alpha0  # evals  Notes \n",
      "     301       2960.25   2.19856e-05       85.8093   3.341e-07       0.001      532  LS failed, Hessian reset \n",
      "     324       2960.25   6.84439e-08       52.7853     0.04922           1      570   \n",
      "Optimization terminated normally: \n",
      "  Convergence detected: relative gradient magnitude is below tolerance\n"
     ]
    },
    {
     "name": "stderr",
     "output_type": "stream",
     "text": [
      " 47%|████▋     | 233/500 [07:33<08:41,  1.95s/it]"
     ]
    },
    {
     "name": "stdout",
     "output_type": "stream",
     "text": [
      "Initial log joint probability = -27.463\n",
      "    Iter      log prob        ||dx||      ||grad||       alpha      alpha0  # evals  Notes \n",
      "      99       2854.64    0.00137892       79.1394           1           1      124   \n",
      "    Iter      log prob        ||dx||      ||grad||       alpha      alpha0  # evals  Notes \n",
      "     199       2858.23   0.000148796       82.3781      0.5687      0.5687      250   \n",
      "    Iter      log prob        ||dx||      ||grad||       alpha      alpha0  # evals  Notes \n",
      "     217       2859.15   0.000182572       182.028   1.043e-06       0.001      333  LS failed, Hessian reset \n",
      "     262        2860.2   0.000331094       113.184   4.251e-06       0.001      426  LS failed, Hessian reset \n",
      "     299       2860.23   5.25372e-06       70.2085      0.9972     0.09972      479   \n",
      "    Iter      log prob        ||dx||      ||grad||       alpha      alpha0  # evals  Notes \n",
      "     319       2860.23    4.8296e-06       75.5972   6.127e-08       0.001      547  LS failed, Hessian reset \n",
      "     331       2860.23   9.76064e-08       57.4416      0.1954      0.6992      565   \n",
      "Optimization terminated normally: \n",
      "  Convergence detected: relative gradient magnitude is below tolerance\n"
     ]
    },
    {
     "name": "stderr",
     "output_type": "stream",
     "text": [
      " 47%|████▋     | 234/500 [07:35<08:30,  1.92s/it]"
     ]
    },
    {
     "name": "stdout",
     "output_type": "stream",
     "text": [
      "Initial log joint probability = -20.9234\n",
      "    Iter      log prob        ||dx||      ||grad||       alpha      alpha0  # evals  Notes \n",
      "      99       2599.09     0.0122201       276.011           1           1      123   \n",
      "    Iter      log prob        ||dx||      ||grad||       alpha      alpha0  # evals  Notes \n",
      "     101       2599.25   0.000195062       123.026   1.002e-06       0.001      162  LS failed, Hessian reset \n",
      "     163       2600.68    0.00145694       292.107   1.331e-05       0.001      281  LS failed, Hessian reset \n",
      "     199       2601.01    4.3451e-05       93.5885           1           1      330   \n",
      "    Iter      log prob        ||dx||      ||grad||       alpha      alpha0  # evals  Notes \n",
      "     226       2601.03   0.000100403       63.7677   1.235e-06       0.001      411  LS failed, Hessian reset \n",
      "     292       2601.03   1.84167e-07       62.5104      0.2172      0.7281      494   \n",
      "Optimization terminated normally: \n",
      "  Convergence detected: relative gradient magnitude is below tolerance\n"
     ]
    },
    {
     "name": "stderr",
     "output_type": "stream",
     "text": [
      " 47%|████▋     | 235/500 [07:37<08:26,  1.91s/it]"
     ]
    },
    {
     "name": "stdout",
     "output_type": "stream",
     "text": [
      "Initial log joint probability = -14.9529\n",
      "    Iter      log prob        ||dx||      ||grad||       alpha      alpha0  # evals  Notes \n",
      "      99       2604.65    0.00409162       153.645           1           1      125   \n",
      "    Iter      log prob        ||dx||      ||grad||       alpha      alpha0  # evals  Notes \n",
      "     192       2604.98   3.48157e-07         64.17           1           1      244   \n",
      "Optimization terminated normally: \n",
      "  Convergence detected: relative gradient magnitude is below tolerance\n"
     ]
    },
    {
     "name": "stderr",
     "output_type": "stream",
     "text": [
      " 47%|████▋     | 236/500 [07:39<08:15,  1.88s/it]"
     ]
    },
    {
     "name": "stdout",
     "output_type": "stream",
     "text": [
      "Initial log joint probability = -24.9463\n",
      "    Iter      log prob        ||dx||      ||grad||       alpha      alpha0  # evals  Notes \n",
      "      99       2652.95    0.00993943       174.399           1           1      119   \n",
      "    Iter      log prob        ||dx||      ||grad||       alpha      alpha0  # evals  Notes \n",
      "     106       2653.52   0.000193799       147.494    1.53e-06       0.001      168  LS failed, Hessian reset \n",
      "     134       2654.96     0.0002001         82.53   6.976e-07       0.001      242  LS failed, Hessian reset \n",
      "     190       2656.29   0.000245561       171.316   2.388e-06       0.001      372  LS failed, Hessian reset \n",
      "     199       2656.46   0.000311297       113.232      0.4489      0.4489      382   \n",
      "    Iter      log prob        ||dx||      ||grad||       alpha      alpha0  # evals  Notes \n",
      "     257          2657   8.36021e-05       88.9628   9.203e-07       0.001      492  LS failed, Hessian reset \n",
      "     292       2657.01   9.52211e-08       69.8368      0.1709           1      537   \n",
      "Optimization terminated normally: \n",
      "  Convergence detected: relative gradient magnitude is below tolerance\n"
     ]
    },
    {
     "name": "stderr",
     "output_type": "stream",
     "text": [
      " 47%|████▋     | 237/500 [07:40<08:19,  1.90s/it]"
     ]
    },
    {
     "name": "stdout",
     "output_type": "stream",
     "text": [
      "Initial log joint probability = -16.2103\n",
      "    Iter      log prob        ||dx||      ||grad||       alpha      alpha0  # evals  Notes \n",
      "      99       2919.74    0.00102083       77.9408           1           1      140   \n",
      "    Iter      log prob        ||dx||      ||grad||       alpha      alpha0  # evals  Notes \n",
      "     199       2921.43    5.0904e-05       60.9958           1           1      289   \n",
      "    Iter      log prob        ||dx||      ||grad||       alpha      alpha0  # evals  Notes \n",
      "     206       2921.44   4.12895e-05        60.132   7.646e-07       0.001      333  LS failed, Hessian reset \n",
      "     231       2921.44   2.68617e-07       58.3993      0.2944           1      368   \n",
      "Optimization terminated normally: \n",
      "  Convergence detected: relative gradient magnitude is below tolerance\n"
     ]
    },
    {
     "name": "stderr",
     "output_type": "stream",
     "text": [
      " 48%|████▊     | 238/500 [07:42<08:06,  1.86s/it]"
     ]
    },
    {
     "name": "stdout",
     "output_type": "stream",
     "text": [
      "Initial log joint probability = -32.7859\n",
      "    Iter      log prob        ||dx||      ||grad||       alpha      alpha0  # evals  Notes \n",
      "      99        2816.7   0.000800987        112.81           1           1      126   \n",
      "    Iter      log prob        ||dx||      ||grad||       alpha      alpha0  # evals  Notes \n",
      "     199       2820.85   0.000253522       95.6036      0.6615      0.6615      249   \n",
      "    Iter      log prob        ||dx||      ||grad||       alpha      alpha0  # evals  Notes \n",
      "     221        2821.9   0.000152941       148.512   1.067e-06       0.001      321  LS failed, Hessian reset \n",
      "     299       2822.97   3.24174e-05       57.5504      0.7005      0.7005      426   \n",
      "    Iter      log prob        ||dx||      ||grad||       alpha      alpha0  # evals  Notes \n",
      "     316       2822.98    3.0246e-05       66.5819   3.605e-07       0.001      490  LS failed, Hessian reset \n",
      "     345       2822.99   2.08076e-07       60.4179           1           1      530   \n",
      "Optimization terminated normally: \n",
      "  Convergence detected: relative gradient magnitude is below tolerance\n"
     ]
    },
    {
     "name": "stderr",
     "output_type": "stream",
     "text": [
      " 48%|████▊     | 239/500 [07:44<08:25,  1.94s/it]"
     ]
    },
    {
     "name": "stdout",
     "output_type": "stream",
     "text": [
      "Initial log joint probability = -25.6951\n",
      "    Iter      log prob        ||dx||      ||grad||       alpha      alpha0  # evals  Notes \n",
      "      99       2806.26    0.00107435       88.4452      0.7878      0.7878      137   \n",
      "    Iter      log prob        ||dx||      ||grad||       alpha      alpha0  # evals  Notes \n",
      "     141       2808.17   0.000166665       158.248   1.037e-06       0.001      228  LS failed, Hessian reset \n",
      "     197       2810.02   0.000523845        286.46   5.698e-06       0.001      340  LS failed, Hessian reset \n",
      "     199       2810.14    0.00251342       117.309           1           1      342   \n",
      "    Iter      log prob        ||dx||      ||grad||       alpha      alpha0  # evals  Notes \n",
      "     244       2810.45   9.81084e-05       85.2696   7.103e-07       0.001      448  LS failed, Hessian reset \n",
      "     295       2810.46   1.54019e-07       62.7934      0.3216           1      522   \n",
      "Optimization terminated normally: \n",
      "  Convergence detected: relative gradient magnitude is below tolerance\n"
     ]
    },
    {
     "name": "stderr",
     "output_type": "stream",
     "text": [
      " 48%|████▊     | 240/500 [07:46<08:25,  1.95s/it]"
     ]
    },
    {
     "name": "stdout",
     "output_type": "stream",
     "text": [
      "Initial log joint probability = -19.8872\n",
      "    Iter      log prob        ||dx||      ||grad||       alpha      alpha0  # evals  Notes \n",
      "      99       2862.39   0.000450339       110.659      0.2124      0.2124      135   \n",
      "    Iter      log prob        ||dx||      ||grad||       alpha      alpha0  # evals  Notes \n",
      "     162        2863.3   0.000139235       138.198   1.636e-06       0.001      255  LS failed, Hessian reset \n",
      "     199       2863.37   0.000581721       86.3824           1           1      302   \n",
      "    Iter      log prob        ||dx||      ||grad||       alpha      alpha0  # evals  Notes \n",
      "     263       2863.95   0.000596375       137.596   9.378e-06       0.001      457  LS failed, Hessian reset \n",
      "     299       2864.12   6.75671e-05       72.7786      0.2833           1      503   \n",
      "    Iter      log prob        ||dx||      ||grad||       alpha      alpha0  # evals  Notes \n",
      "     393       2864.14   1.32804e-06       48.7499   1.856e-08       0.001      682  LS failed, Hessian reset \n",
      "     399       2864.14   1.92642e-07       62.7356      0.1864           1      689   \n",
      "    Iter      log prob        ||dx||      ||grad||       alpha      alpha0  # evals  Notes \n",
      "     404       2864.14    1.3023e-07       51.6813     0.04548           1      697   \n",
      "Optimization terminated normally: \n",
      "  Convergence detected: relative gradient magnitude is below tolerance\n"
     ]
    },
    {
     "name": "stderr",
     "output_type": "stream",
     "text": [
      " 48%|████▊     | 241/500 [07:48<08:31,  1.97s/it]"
     ]
    },
    {
     "name": "stdout",
     "output_type": "stream",
     "text": [
      "Initial log joint probability = -27.1507\n",
      "    Iter      log prob        ||dx||      ||grad||       alpha      alpha0  # evals  Notes \n",
      "      99       2932.04   0.000605095       124.399      0.6415      0.6415      114   \n",
      "    Iter      log prob        ||dx||      ||grad||       alpha      alpha0  # evals  Notes \n",
      "     199       2937.06     0.0120126       164.453           1           1      242   \n",
      "    Iter      log prob        ||dx||      ||grad||       alpha      alpha0  # evals  Notes \n",
      "     248       2939.96   9.94548e-05       100.678   5.075e-07       0.001      374  LS failed, Hessian reset \n",
      "     299       2940.83   7.20579e-05       52.8248      0.4328      0.4328      445   \n",
      "    Iter      log prob        ||dx||      ||grad||       alpha      alpha0  # evals  Notes \n",
      "     399       2940.96   0.000210791       79.4032      0.8262      0.8262      598   \n",
      "    Iter      log prob        ||dx||      ||grad||       alpha      alpha0  # evals  Notes \n",
      "     490       2941.15   9.92954e-08       70.0943    0.008296           1      719   \n",
      "Optimization terminated normally: \n",
      "  Convergence detected: relative gradient magnitude is below tolerance\n"
     ]
    },
    {
     "name": "stderr",
     "output_type": "stream",
     "text": [
      " 48%|████▊     | 242/500 [07:50<08:33,  1.99s/it]"
     ]
    },
    {
     "name": "stdout",
     "output_type": "stream",
     "text": [
      "Initial log joint probability = -26.8322\n",
      "    Iter      log prob        ||dx||      ||grad||       alpha      alpha0  # evals  Notes \n",
      "      73       2863.82   0.000131896       126.711   1.279e-06       0.001      126  LS failed, Hessian reset \n",
      "      99       2865.19    0.00553606       334.505           1           1      159   \n",
      "    Iter      log prob        ||dx||      ||grad||       alpha      alpha0  # evals  Notes \n",
      "     166       2868.42   0.000207117       207.885   9.619e-07       0.001      286  LS failed, Hessian reset \n",
      "     199       2868.84    0.00011696       105.327           1           1      331   \n",
      "    Iter      log prob        ||dx||      ||grad||       alpha      alpha0  # evals  Notes \n",
      "     225       2868.89    2.6452e-05       55.0765   3.522e-07       0.001      404  LS failed, Hessian reset \n",
      "     299       2869.02   6.87929e-05        64.379   1.173e-06       0.001      561  LS failed, Hessian reset \n",
      "    Iter      log prob        ||dx||      ||grad||       alpha      alpha0  # evals  Notes \n",
      "     399       2869.09   0.000128054       54.4313       0.405           1      686   \n",
      "    Iter      log prob        ||dx||      ||grad||       alpha      alpha0  # evals  Notes \n",
      "     400       2869.09   1.46243e-05       62.1373   2.687e-07       0.001      721  LS failed, Hessian reset \n",
      "     425       2869.09   1.33054e-07       62.9266       0.363           1      759   \n",
      "Optimization terminated normally: \n",
      "  Convergence detected: relative gradient magnitude is below tolerance\n"
     ]
    },
    {
     "name": "stderr",
     "output_type": "stream",
     "text": [
      " 49%|████▊     | 243/500 [07:52<08:24,  1.96s/it]"
     ]
    },
    {
     "name": "stdout",
     "output_type": "stream",
     "text": [
      "Initial log joint probability = -32.5628\n",
      "    Iter      log prob        ||dx||      ||grad||       alpha      alpha0  # evals  Notes \n",
      "      99       2886.26   0.000755661       103.641           1           1      136   \n",
      "    Iter      log prob        ||dx||      ||grad||       alpha      alpha0  # evals  Notes \n",
      "     190       2889.66   0.000671217       191.214   5.214e-06       0.001      297  LS failed, Hessian reset \n",
      "     199       2890.07    0.00316704       123.469       2.533      0.2533      310   \n",
      "    Iter      log prob        ||dx||      ||grad||       alpha      alpha0  # evals  Notes \n",
      "     240       2890.58   8.35835e-05       93.0297    7.98e-07       0.001      393  LS failed, Hessian reset \n",
      "     285       2890.61   5.25843e-05       74.9547   6.986e-07       0.001      489  LS failed, Hessian reset \n",
      "     299       2890.61   1.22759e-06       61.4853      0.2819           1      509   \n",
      "    Iter      log prob        ||dx||      ||grad||       alpha      alpha0  # evals  Notes \n",
      "     317       2890.61   2.23084e-07       54.7083      0.4347           1      536   \n",
      "Optimization terminated normally: \n",
      "  Convergence detected: relative gradient magnitude is below tolerance\n"
     ]
    },
    {
     "name": "stderr",
     "output_type": "stream",
     "text": [
      " 49%|████▉     | 244/500 [07:54<08:05,  1.90s/it]"
     ]
    },
    {
     "name": "stdout",
     "output_type": "stream",
     "text": [
      "Initial log joint probability = -16.3048\n",
      "    Iter      log prob        ||dx||      ||grad||       alpha      alpha0  # evals  Notes \n",
      "      77       2779.33    0.00035231       133.129   5.563e-07       0.001      143  LS failed, Hessian reset \n",
      "      99       2780.06    0.00177348       85.8218           1           1      170   \n",
      "    Iter      log prob        ||dx||      ||grad||       alpha      alpha0  # evals  Notes \n",
      "     126       2780.71    0.00011944       105.096   7.645e-07       0.001      260  LS failed, Hessian reset \n",
      "     160        2781.4   4.68217e-05       78.3988   5.399e-07       0.001      347  LS failed, Hessian reset \n",
      "     185        2781.4   2.94899e-08       76.9926     0.09922           1      381   \n",
      "Optimization terminated normally: \n",
      "  Convergence detected: relative gradient magnitude is below tolerance\n"
     ]
    },
    {
     "name": "stderr",
     "output_type": "stream",
     "text": [
      " 49%|████▉     | 245/500 [07:56<07:55,  1.87s/it]"
     ]
    },
    {
     "name": "stdout",
     "output_type": "stream",
     "text": [
      "Initial log joint probability = -21.6069\n",
      "    Iter      log prob        ||dx||      ||grad||       alpha      alpha0  # evals  Notes \n",
      "      99       2766.77    0.00207678       93.2643      0.4347      0.4347      115   \n",
      "    Iter      log prob        ||dx||      ||grad||       alpha      alpha0  # evals  Notes \n",
      "     171       2770.45   0.000183724       159.653   1.087e-06       0.001      241  LS failed, Hessian reset \n",
      "     199       2770.97   0.000389018       126.005           1           1      278   \n",
      "    Iter      log prob        ||dx||      ||grad||       alpha      alpha0  # evals  Notes \n",
      "     222        2771.8   0.000170533       110.387   6.163e-07       0.001      354  LS failed, Hessian reset \n",
      "     276        2772.6   6.21938e-05       51.7764   6.654e-07       0.001      458  LS failed, Hessian reset \n",
      "     299        2772.6   7.39624e-07       47.3281      0.5399      0.5399      493   \n",
      "    Iter      log prob        ||dx||      ||grad||       alpha      alpha0  # evals  Notes \n",
      "     316        2772.6   3.02175e-07       57.6662       0.646       0.646      520   \n",
      "Optimization terminated normally: \n",
      "  Convergence detected: relative gradient magnitude is below tolerance\n"
     ]
    },
    {
     "name": "stderr",
     "output_type": "stream",
     "text": [
      " 49%|████▉     | 246/500 [07:58<07:46,  1.84s/it]"
     ]
    },
    {
     "name": "stdout",
     "output_type": "stream",
     "text": [
      "Initial log joint probability = -30.5983\n",
      "    Iter      log prob        ||dx||      ||grad||       alpha      alpha0  # evals  Notes \n",
      "      83       2690.56   0.000173421       134.291   1.647e-06       0.001      142  LS failed, Hessian reset \n",
      "      99       2691.39   0.000265943       154.733      0.6314      0.6314      159   \n",
      "    Iter      log prob        ||dx||      ||grad||       alpha      alpha0  # evals  Notes \n",
      "     141       2693.21    0.00027264        195.91   8.747e-07       0.001      262  LS failed, Hessian reset \n",
      "     199       2694.43    0.00124084       94.1699           1           1      336   \n",
      "    Iter      log prob        ||dx||      ||grad||       alpha      alpha0  # evals  Notes \n",
      "     208       2695.13   0.000249584        186.59   1.754e-06       0.001      389  LS failed, Hessian reset \n",
      "     277       2696.22   0.000107274       84.9695   1.453e-06       0.001      515  LS failed, Hessian reset \n",
      "     299       2696.23   1.89186e-07       67.9096      0.3715      0.3715      552   \n",
      "    Iter      log prob        ||dx||      ||grad||       alpha      alpha0  # evals  Notes \n",
      "     314       2696.23   1.68966e-07       61.4692           1           1      574   \n",
      "Optimization terminated normally: \n",
      "  Convergence detected: relative gradient magnitude is below tolerance\n"
     ]
    },
    {
     "name": "stderr",
     "output_type": "stream",
     "text": [
      " 49%|████▉     | 247/500 [07:59<07:40,  1.82s/it]"
     ]
    },
    {
     "name": "stdout",
     "output_type": "stream",
     "text": [
      "Initial log joint probability = -35.3697\n",
      "    Iter      log prob        ||dx||      ||grad||       alpha      alpha0  # evals  Notes \n",
      "      99       3000.02   0.000437927       188.966      0.1894      0.1894      126   \n",
      "    Iter      log prob        ||dx||      ||grad||       alpha      alpha0  # evals  Notes \n",
      "     199       3006.03    0.00210967       167.846      0.2125      0.9771      260   \n",
      "    Iter      log prob        ||dx||      ||grad||       alpha      alpha0  # evals  Notes \n",
      "     299       3009.46   0.000510838       116.751      0.1293           1      387   \n",
      "    Iter      log prob        ||dx||      ||grad||       alpha      alpha0  # evals  Notes \n",
      "     350       3009.54   0.000202259       170.864   2.535e-06       0.001      515  LS failed, Hessian reset \n",
      "     365       3009.55   3.84093e-05       78.0833    8.23e-07       0.001      573  LS failed, Hessian reset \n",
      "     399       3009.56    6.2844e-05       73.1862      0.5741      0.5741      621   \n",
      "    Iter      log prob        ||dx||      ||grad||       alpha      alpha0  # evals  Notes \n",
      "     415       3009.59   3.59777e-05       67.5283   7.153e-07       0.001      708  LS failed, Hessian reset \n",
      "     475       3009.62   4.27463e-08       53.6849      0.0321      0.4465      787   \n",
      "Optimization terminated normally: \n",
      "  Convergence detected: relative gradient magnitude is below tolerance\n"
     ]
    },
    {
     "name": "stderr",
     "output_type": "stream",
     "text": [
      " 50%|████▉     | 248/500 [08:01<07:45,  1.85s/it]"
     ]
    },
    {
     "name": "stdout",
     "output_type": "stream",
     "text": [
      "Initial log joint probability = -18.0585\n",
      "    Iter      log prob        ||dx||      ||grad||       alpha      alpha0  # evals  Notes \n",
      "      99       2882.61    0.00160083       92.5921      0.7082      0.7082      123   \n",
      "    Iter      log prob        ||dx||      ||grad||       alpha      alpha0  # evals  Notes \n",
      "     143       2884.23   0.000164495       125.873   5.232e-07       0.001      235  LS failed, Hessian reset \n",
      "     199       2885.05   6.39045e-06       54.2472       1.177     0.02966      316   \n",
      "    Iter      log prob        ||dx||      ||grad||       alpha      alpha0  # evals  Notes \n",
      "     216       2885.05   1.18887e-07        71.851      0.2018           1      338   \n",
      "Optimization terminated normally: \n",
      "  Convergence detected: relative gradient magnitude is below tolerance\n"
     ]
    },
    {
     "name": "stderr",
     "output_type": "stream",
     "text": [
      " 50%|████▉     | 249/500 [08:03<07:28,  1.79s/it]"
     ]
    },
    {
     "name": "stdout",
     "output_type": "stream",
     "text": [
      "Initial log joint probability = -23.2636\n",
      "    Iter      log prob        ||dx||      ||grad||       alpha      alpha0  # evals  Notes \n",
      "      99        2943.4     0.0211007       324.262           1           1      122   \n",
      "    Iter      log prob        ||dx||      ||grad||       alpha      alpha0  # evals  Notes \n",
      "     176       2946.22   0.000120388       120.409   5.147e-07       0.001      281  LS failed, Hessian reset \n",
      "     199       2946.95    0.00207368       194.279           1           1      308   \n",
      "    Iter      log prob        ||dx||      ||grad||       alpha      alpha0  # evals  Notes \n",
      "     299       2949.13   0.000109533       61.8053       1.046      0.1046      438   \n",
      "    Iter      log prob        ||dx||      ||grad||       alpha      alpha0  # evals  Notes \n",
      "     320       2949.18    0.00023553        110.32   2.683e-06       0.001      515  LS failed, Hessian reset \n",
      "     394       2949.24   1.60467e-05        70.808   2.086e-07       0.001      647  LS failed, Hessian reset \n",
      "     399       2949.24   2.15506e-06       57.2444      0.2211           1      653   \n",
      "    Iter      log prob        ||dx||      ||grad||       alpha      alpha0  # evals  Notes \n",
      "     414       2949.24   3.47304e-07       67.9883      0.3528           1      671   \n",
      "Optimization terminated normally: \n",
      "  Convergence detected: relative gradient magnitude is below tolerance\n"
     ]
    },
    {
     "name": "stderr",
     "output_type": "stream",
     "text": [
      " 50%|█████     | 250/500 [08:05<07:36,  1.83s/it]"
     ]
    },
    {
     "name": "stdout",
     "output_type": "stream",
     "text": [
      "Initial log joint probability = -16.6627\n",
      "    Iter      log prob        ||dx||      ||grad||       alpha      alpha0  # evals  Notes \n",
      "      99       2776.91    0.00895917       189.046           1           1      118   \n",
      "    Iter      log prob        ||dx||      ||grad||       alpha      alpha0  # evals  Notes \n",
      "     199       2778.33   7.70381e-05        77.474           1           1      257   \n",
      "    Iter      log prob        ||dx||      ||grad||       alpha      alpha0  # evals  Notes \n",
      "     202       2778.33   1.63475e-05       80.6842   2.176e-07       0.001      300  LS failed, Hessian reset \n",
      "     236       2778.33   2.22545e-07       63.7402           1           1      349   \n",
      "Optimization terminated normally: \n",
      "  Convergence detected: relative gradient magnitude is below tolerance\n"
     ]
    },
    {
     "name": "stderr",
     "output_type": "stream",
     "text": [
      " 50%|█████     | 251/500 [08:07<07:25,  1.79s/it]"
     ]
    },
    {
     "name": "stdout",
     "output_type": "stream",
     "text": [
      "Initial log joint probability = -20.9709\n",
      "    Iter      log prob        ||dx||      ||grad||       alpha      alpha0  # evals  Notes \n",
      "      82       2715.52   0.000130894       93.7224   7.694e-07       0.001      150  LS failed, Hessian reset \n",
      "      99       2716.14    0.00184162       116.059      0.8136      0.8136      175   \n",
      "    Iter      log prob        ||dx||      ||grad||       alpha      alpha0  # evals  Notes \n",
      "     129       2717.55   0.000308866       204.629   2.685e-06       0.001      264  LS failed, Hessian reset \n",
      "     173       2717.96    1.2798e-06       59.4349   2.272e-08       0.001      359  LS failed, Hessian reset \n",
      "     175       2717.96   2.97178e-07       42.9583           1           1      362   \n",
      "Optimization terminated normally: \n",
      "  Convergence detected: relative gradient magnitude is below tolerance\n"
     ]
    },
    {
     "name": "stderr",
     "output_type": "stream",
     "text": [
      " 50%|█████     | 252/500 [08:08<07:19,  1.77s/it]"
     ]
    },
    {
     "name": "stdout",
     "output_type": "stream",
     "text": [
      "Initial log joint probability = -26.0739\n",
      "    Iter      log prob        ||dx||      ||grad||       alpha      alpha0  # evals  Notes \n",
      "      99       2602.73   0.000911009       136.321      0.2655      0.2655      141   \n",
      "    Iter      log prob        ||dx||      ||grad||       alpha      alpha0  # evals  Notes \n",
      "     146       2603.92   0.000197118       124.627   8.905e-07       0.001      248  LS failed, Hessian reset \n",
      "     199       2604.13   2.42692e-05       74.0271      0.3444      0.8839      314   \n",
      "    Iter      log prob        ||dx||      ||grad||       alpha      alpha0  # evals  Notes \n",
      "     222       2604.13   1.84451e-07       59.5369           1           1      348   \n",
      "Optimization terminated normally: \n",
      "  Convergence detected: relative gradient magnitude is below tolerance\n"
     ]
    },
    {
     "name": "stderr",
     "output_type": "stream",
     "text": [
      " 51%|█████     | 253/500 [08:10<07:27,  1.81s/it]"
     ]
    },
    {
     "name": "stdout",
     "output_type": "stream",
     "text": [
      "Initial log joint probability = -45.5281\n",
      "    Iter      log prob        ||dx||      ||grad||       alpha      alpha0  # evals  Notes \n",
      "      99       2724.04   0.000193875       310.081      0.3564      0.3564      133   \n",
      "    Iter      log prob        ||dx||      ||grad||       alpha      alpha0  # evals  Notes \n",
      "     192       2728.88   0.000337488       159.373   6.266e-07       0.001      290  LS failed, Hessian reset \n",
      "     199       2729.72    0.00131377       133.205           1           1      299   \n",
      "    Iter      log prob        ||dx||      ||grad||       alpha      alpha0  # evals  Notes \n",
      "     230       2730.05   0.000636923       152.091   6.543e-06       0.001      365  LS failed, Hessian reset \n",
      "     299       2730.12   7.28201e-07       73.7052      0.5008      0.5008      461   \n",
      "    Iter      log prob        ||dx||      ||grad||       alpha      alpha0  # evals  Notes \n",
      "     313       2730.12   1.51365e-07       56.0585      0.5695      0.5695      478   \n",
      "Optimization terminated normally: \n",
      "  Convergence detected: relative gradient magnitude is below tolerance\n"
     ]
    },
    {
     "name": "stderr",
     "output_type": "stream",
     "text": [
      " 51%|█████     | 254/500 [08:12<07:28,  1.82s/it]"
     ]
    },
    {
     "name": "stdout",
     "output_type": "stream",
     "text": [
      "Initial log joint probability = -21.7261\n",
      "    Iter      log prob        ||dx||      ||grad||       alpha      alpha0  # evals  Notes \n",
      "      99       2602.83     0.0315394       208.606           1           1      124   \n",
      "    Iter      log prob        ||dx||      ||grad||       alpha      alpha0  # evals  Notes \n",
      "     101        2603.1   0.000323164       212.146   1.274e-06       0.001      161  LS failed, Hessian reset \n",
      "     180       2605.11   0.000825177       294.141   7.159e-06       0.001      295  LS failed, Hessian reset \n",
      "     199       2605.38   0.000220178       71.7703           1           1      322   \n",
      "    Iter      log prob        ||dx||      ||grad||       alpha      alpha0  # evals  Notes \n",
      "     225       2605.49   0.000280198       83.2419   3.139e-06       0.001      387  LS failed, Hessian reset \n",
      "     250       2605.53    8.9806e-05       73.3159    1.23e-06       0.001      450  LS failed, Hessian reset \n",
      "     280       2605.53   2.18537e-07       61.2206      0.3118           1      491   \n",
      "Optimization terminated normally: \n",
      "  Convergence detected: relative gradient magnitude is below tolerance\n"
     ]
    },
    {
     "name": "stderr",
     "output_type": "stream",
     "text": [
      " 51%|█████     | 255/500 [08:14<07:21,  1.80s/it]"
     ]
    },
    {
     "name": "stdout",
     "output_type": "stream",
     "text": [
      "Initial log joint probability = -31.1205\n",
      "    Iter      log prob        ||dx||      ||grad||       alpha      alpha0  # evals  Notes \n",
      "      99       2592.54     0.0620489        176.31           1           1      121   \n",
      "    Iter      log prob        ||dx||      ||grad||       alpha      alpha0  # evals  Notes \n",
      "     199       2598.38    0.00090113       79.8898           1           1      248   \n",
      "    Iter      log prob        ||dx||      ||grad||       alpha      alpha0  # evals  Notes \n",
      "     262       2598.63   2.70936e-08       64.0442       0.171      0.4866      347   \n",
      "Optimization terminated normally: \n",
      "  Convergence detected: relative gradient magnitude is below tolerance\n"
     ]
    },
    {
     "name": "stderr",
     "output_type": "stream",
     "text": [
      " 51%|█████     | 256/500 [08:16<07:14,  1.78s/it]"
     ]
    },
    {
     "name": "stdout",
     "output_type": "stream",
     "text": [
      "Initial log joint probability = -21.1935\n",
      "    Iter      log prob        ||dx||      ||grad||       alpha      alpha0  # evals  Notes \n",
      "      73       2377.97   0.000785981       203.149   1.037e-05       0.001      133  LS failed, Hessian reset \n",
      "      99       2378.78   0.000891855       76.8563           1           1      165   \n",
      "    Iter      log prob        ||dx||      ||grad||       alpha      alpha0  # evals  Notes \n",
      "     113       2379.28   0.000240215       84.1268   1.144e-06       0.001      218  LS failed, Hessian reset \n",
      "     159       2380.37   0.000412641       177.806   3.541e-06       0.001      314  LS failed, Hessian reset \n",
      "     199       2380.68   1.23779e-06       73.0602       2.709      0.2709      376   \n",
      "    Iter      log prob        ||dx||      ||grad||       alpha      alpha0  # evals  Notes \n",
      "     214       2380.68   1.83708e-07       66.7665     0.08148           1      397   \n",
      "Optimization terminated normally: \n",
      "  Convergence detected: relative gradient magnitude is below tolerance\n"
     ]
    },
    {
     "name": "stderr",
     "output_type": "stream",
     "text": [
      " 51%|█████▏    | 257/500 [08:17<07:09,  1.77s/it]"
     ]
    },
    {
     "name": "stdout",
     "output_type": "stream",
     "text": [
      "Initial log joint probability = -26.866\n",
      "    Iter      log prob        ||dx||      ||grad||       alpha      alpha0  # evals  Notes \n",
      "      76       2678.67   0.000515605       254.828   3.816e-06       0.001      128  LS failed, Hessian reset \n",
      "      99       2679.83    0.00250849       147.254      0.7787      0.7787      157   \n",
      "    Iter      log prob        ||dx||      ||grad||       alpha      alpha0  # evals  Notes \n",
      "     199       2682.17   5.38811e-05       62.9517           1           1      289   \n",
      "    Iter      log prob        ||dx||      ||grad||       alpha      alpha0  # evals  Notes \n",
      "     247       2682.19   6.06895e-05        72.229   9.703e-07       0.001      394  LS failed, Hessian reset \n",
      "     276        2682.2   1.44161e-07       64.7255      0.1342           1      433   \n",
      "Optimization terminated normally: \n",
      "  Convergence detected: relative gradient magnitude is below tolerance\n"
     ]
    },
    {
     "name": "stderr",
     "output_type": "stream",
     "text": [
      " 52%|█████▏    | 258/500 [08:19<07:08,  1.77s/it]"
     ]
    },
    {
     "name": "stdout",
     "output_type": "stream",
     "text": [
      "Initial log joint probability = -27.3579\n",
      "    Iter      log prob        ||dx||      ||grad||       alpha      alpha0  # evals  Notes \n",
      "      99       2610.89    0.00075853       78.8294           1           1      127   \n",
      "    Iter      log prob        ||dx||      ||grad||       alpha      alpha0  # evals  Notes \n",
      "     139       2612.81   0.000140305       96.9757   1.533e-06       0.001      208  LS failed, Hessian reset \n",
      "     184       2613.29   0.000219655       94.4051   2.004e-06       0.001      303  LS failed, Hessian reset \n",
      "     199        2613.3   7.17834e-06        52.432           1           1      324   \n",
      "    Iter      log prob        ||dx||      ||grad||       alpha      alpha0  # evals  Notes \n",
      "     214       2613.31   3.11543e-05       58.8014   4.452e-07       0.001      386  LS failed, Hessian reset \n",
      "     247       2613.31   1.34513e-07        77.614      0.7271      0.7271      432   \n",
      "Optimization terminated normally: \n",
      "  Convergence detected: relative gradient magnitude is below tolerance\n"
     ]
    }
   ],
   "source": [
    "predictions[\"prophet\"] = prophet_predictor(df=train)\n"
   ]
  },
  {
   "cell_type": "markdown",
   "id": "719e73ca",
   "metadata": {},
   "source": [
    "# Neural prophet"
   ]
  },
  {
   "cell_type": "code",
   "execution_count": null,
   "id": "6ceacc09",
   "metadata": {},
   "outputs": [],
   "source": [
    "from neuralprophet import NeuralProphet\n",
    "# https://neuralprophet.com/html/model/README.html"
   ]
  },
  {
   "cell_type": "code",
   "execution_count": null,
   "id": "1377a04b",
   "metadata": {},
   "outputs": [],
   "source": [
    "m = NeuralProphet(n_forecasts=1)\n",
    "def neural_prophet(df, date_list=date_list):\n",
    "    m_preds = []\n",
    "    for series in tqdm(df.store_item.unique()):\n",
    "        temp = df[df.store_item == series]\n",
    "        temp = strict_inputs(temp)\n",
    "        temp = temp[[\"y\", \"ds\"]]\n",
    "        temp.index.freq = \"d\"\n",
    "        m.fit(temp, freq=\"D\")\n",
    "        future = m.make_future_dataframe(temp, periods=len(date_list))\n",
    "        forecast = m.predict(future)\n",
    "        m_preds.append(forecast.yhat1)\n",
    "    return [x for sub in m_preds for x in sub] "
   ]
  },
  {
   "cell_type": "code",
   "execution_count": null,
   "id": "88859427",
   "metadata": {},
   "outputs": [],
   "source": [
    "from neuralprophet import set_random_seed \n",
    "set_random_seed(0)"
   ]
  },
  {
   "cell_type": "code",
   "execution_count": null,
   "id": "8dc86597",
   "metadata": {},
   "outputs": [],
   "source": [
    "predictions[\"neural_prophet\"] = neural_prophet(train)"
   ]
  },
  {
   "cell_type": "code",
   "execution_count": null,
   "id": "749afb3a",
   "metadata": {},
   "outputs": [],
   "source": [
    "store_sales = pd.concat([train, predictions])"
   ]
  },
  {
   "cell_type": "code",
   "execution_count": null,
   "id": "e44ac763",
   "metadata": {},
   "outputs": [],
   "source": [
    "if not testing_models:\n",
    "    from datetime import date\n",
    "    today = date.today()\n",
    "    predictions.to_csv(f\"../data/predictions/predictions-{today.month}-{today.day}.csv\", )"
   ]
  }
 ],
 "metadata": {
  "interpreter": {
   "hash": "46adb795152d5db59f955a662f1f645c8cf39f91042255151212cfaad4a46d3d"
  },
  "kernelspec": {
   "display_name": "my_env",
   "language": "python",
   "name": "python3"
  },
  "language_info": {
   "codemirror_mode": {
    "name": "ipython",
    "version": 3
   },
   "file_extension": ".py",
   "mimetype": "text/x-python",
   "name": "python",
   "nbconvert_exporter": "python",
   "pygments_lexer": "ipython3",
   "version": "3.9.7"
  }
 },
 "nbformat": 4,
 "nbformat_minor": 5
}
