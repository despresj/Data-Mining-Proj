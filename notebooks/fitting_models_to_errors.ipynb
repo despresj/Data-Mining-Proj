{
 "cells": [
  {
   "cell_type": "code",
   "execution_count": 2,
   "metadata": {},
   "outputs": [],
   "source": [
    "import pandas as pd\n",
    "import numpy as np"
   ]
  },
  {
   "cell_type": "code",
   "execution_count": 3,
   "metadata": {},
   "outputs": [],
   "source": [
    "X = pd.read_csv(\"../data/forecasts_for_ml/X.csv\")\n",
    "y = pd.read_csv(\"../data/forecasts_for_ml/y.csv\").model_w_least_error"
   ]
  },
  {
   "cell_type": "code",
   "execution_count": 4,
   "metadata": {},
   "outputs": [
    {
     "name": "stdout",
     "output_type": "stream",
     "text": [
      "252167\n"
     ]
    },
    {
     "data": {
      "text/plain": [
       "prophet             0.246864\n",
       "xgb_preds           0.223931\n",
       "ardl                0.191797\n",
       "autoreg             0.140831\n",
       "exp_smooth          0.105482\n",
       "exp_smooth_multi    0.091094\n",
       "Name: model_w_least_error, dtype: float64"
      ]
     },
     "execution_count": 4,
     "metadata": {},
     "output_type": "execute_result"
    }
   ],
   "source": [
    "print(len(y))\n",
    "y.value_counts() / len(y)"
   ]
  },
  {
   "cell_type": "code",
   "execution_count": 5,
   "metadata": {},
   "outputs": [],
   "source": [
    "from sklearn.model_selection import train_test_split\n",
    "X_train, X_test, y_train, y_test = train_test_split(X, y, test_size=0.7, random_state=1)"
   ]
  },
  {
   "cell_type": "code",
   "execution_count": 6,
   "metadata": {},
   "outputs": [],
   "source": [
    "from sklearn import tree"
   ]
  },
  {
   "cell_type": "code",
   "execution_count": 7,
   "metadata": {},
   "outputs": [],
   "source": [
    "clf = tree.DecisionTreeClassifier()\n",
    "clf.fit(X_train, y_train)\n",
    "yhat = clf.predict(X_test)\n"
   ]
  },
  {
   "cell_type": "code",
   "execution_count": 8,
   "metadata": {},
   "outputs": [
    {
     "data": {
      "text/plain": [
       "0.2115093730348918"
      ]
     },
     "execution_count": 8,
     "metadata": {},
     "output_type": "execute_result"
    }
   ],
   "source": [
    "sum(yhat == y_test) / len(yhat)\n",
    "# lol"
   ]
  },
  {
   "cell_type": "code",
   "execution_count": 9,
   "metadata": {},
   "outputs": [
    {
     "data": {
      "text/plain": [
       "array([[ 6864,  4874,  3454,  3049,  8140,  7453],\n",
       "       [ 4609,  4476,  2756,  2389,  5689,  5022],\n",
       "       [ 3277,  2724,  2462,  2046,  4352,  3762],\n",
       "       [ 2868,  2312,  1934,  1811,  3816,  3350],\n",
       "       [ 8111,  5566,  4553,  3930, 11699,  9676],\n",
       "       [ 7557,  5142,  3985,  3443,  9343, 10023]])"
      ]
     },
     "execution_count": 9,
     "metadata": {},
     "output_type": "execute_result"
    }
   ],
   "source": [
    "\n",
    "from sklearn.metrics import confusion_matrix\n",
    "confusion_matrix(y_test, yhat)\n"
   ]
  },
  {
   "cell_type": "code",
   "execution_count": 28,
   "metadata": {},
   "outputs": [
    {
     "name": "stderr",
     "output_type": "stream",
     "text": [
      "  0%|          | 0/34 [00:00<?, ?it/s]/Users/josephdespres/my_env/lib/python3.9/site-packages/sklearn/base.py:441: UserWarning: X does not have valid feature names, but KNeighborsClassifier was fitted with feature names\n",
      "  warnings.warn(\n",
      "  3%|▎         | 1/34 [02:32<1:23:46, 152.32s/it]/Users/josephdespres/my_env/lib/python3.9/site-packages/sklearn/base.py:441: UserWarning: X does not have valid feature names, but KNeighborsClassifier was fitted with feature names\n",
      "  warnings.warn(\n",
      "  6%|▌         | 2/34 [05:17<1:25:07, 159.60s/it]/Users/josephdespres/my_env/lib/python3.9/site-packages/sklearn/base.py:441: UserWarning: X does not have valid feature names, but KNeighborsClassifier was fitted with feature names\n",
      "  warnings.warn(\n",
      "  9%|▉         | 3/34 [08:13<1:26:24, 167.24s/it]/Users/josephdespres/my_env/lib/python3.9/site-packages/sklearn/base.py:441: UserWarning: X does not have valid feature names, but KNeighborsClassifier was fitted with feature names\n",
      "  warnings.warn(\n"
     ]
    }
   ],
   "source": [
    "from sklearn.neighbors import KNeighborsClassifier\n",
    "from tqdm import tqdm\n",
    "\n",
    "accuracy = []\n",
    "for k in tqdm(range(1, 35)):\n",
    "    \n",
    "\n",
    "    knn = KNeighborsClassifier(algorithm='auto', leaf_size=30, metric='minkowski',\n",
    "            metric_params=None, n_jobs=None, n_neighbors=k, p=2,\n",
    "            weights='distance')\n",
    "    knn.fit(X_train, y_train)\n",
    "    yhat = knn.predict(X_test)\n",
    "\n",
    "    acc = sum(yhat == y_test) / len(yhat)\n",
    "    accuracy.append(acc)\n",
    "\n",
    "\n",
    "\n"
   ]
  },
  {
   "cell_type": "code",
   "execution_count": null,
   "metadata": {},
   "outputs": [],
   "source": []
  }
 ],
 "metadata": {
  "interpreter": {
   "hash": "46adb795152d5db59f955a662f1f645c8cf39f91042255151212cfaad4a46d3d"
  },
  "kernelspec": {
   "display_name": "Python 3.9.7 64-bit ('my_env': venv)",
   "language": "python",
   "name": "python3"
  },
  "language_info": {
   "codemirror_mode": {
    "name": "ipython",
    "version": 3
   },
   "file_extension": ".py",
   "mimetype": "text/x-python",
   "name": "python",
   "nbconvert_exporter": "python",
   "pygments_lexer": "ipython3",
   "version": "3.9.7"
  },
  "orig_nbformat": 4
 },
 "nbformat": 4,
 "nbformat_minor": 2
}
