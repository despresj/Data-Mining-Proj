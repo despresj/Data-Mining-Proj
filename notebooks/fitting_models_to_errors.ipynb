{
 "cells": [
  {
   "cell_type": "code",
   "execution_count": 2,
   "metadata": {},
   "outputs": [],
   "source": [
    "import pandas as pd"
   ]
  },
  {
   "cell_type": "code",
   "execution_count": 3,
   "metadata": {},
   "outputs": [],
   "source": [
    "X = pd.read_csv(\"../data/forecasts_for_ml/X.csv\")\n",
    "y = pd.read_csv(\"../data/forecasts_for_ml/y.csv\")"
   ]
  },
  {
   "cell_type": "code",
   "execution_count": 5,
   "metadata": {},
   "outputs": [
    {
     "data": {
      "text/plain": [
       "Index(['Unnamed: 0', 'dayofweek', 'quarter', 'month', 'year', 'weekofyear',\n",
       "       'horizon', 'hurst', 'unitroot_pp', 'unitroot_kpss', 'stability',\n",
       "       'nperiods', 'seasonal_period', 'trend', 'spike', 'linearity',\n",
       "       'curvature', 'e_acf1', 'e_acf10', 'x_pacf5', 'diff1x_pacf5',\n",
       "       'diff2x_pacf5', 'nonlinearity', 'lumpiness', 'alpha', 'beta',\n",
       "       'flat_spots', 'entropy', 'crossing_points', 'arch_lm', 'x_acf1',\n",
       "       'x_acf10', 'diff1_acf1', 'diff1_acf10', 'diff2_acf1', 'diff2_acf10',\n",
       "       'autoreg'],\n",
       "      dtype='object')"
      ]
     },
     "execution_count": 5,
     "metadata": {},
     "output_type": "execute_result"
    }
   ],
   "source": [
    "X.columns"
   ]
  },
  {
   "cell_type": "code",
   "execution_count": null,
   "metadata": {},
   "outputs": [],
   "source": []
  }
 ],
 "metadata": {
  "interpreter": {
   "hash": "46adb795152d5db59f955a662f1f645c8cf39f91042255151212cfaad4a46d3d"
  },
  "kernelspec": {
   "display_name": "Python 3.9.7 64-bit ('my_env': venv)",
   "language": "python",
   "name": "python3"
  },
  "language_info": {
   "codemirror_mode": {
    "name": "ipython",
    "version": 3
   },
   "file_extension": ".py",
   "mimetype": "text/x-python",
   "name": "python",
   "nbconvert_exporter": "python",
   "pygments_lexer": "ipython3",
   "version": "3.9.7"
  },
  "orig_nbformat": 4
 },
 "nbformat": 4,
 "nbformat_minor": 2
}
