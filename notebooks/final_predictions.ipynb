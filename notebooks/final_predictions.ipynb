{
 "cells": [
  {
   "cell_type": "code",
   "execution_count": 1,
   "metadata": {},
   "outputs": [
    {
     "name": "stderr",
     "output_type": "stream",
     "text": [
      "100%|██████████| 5/5 [00:00<00:00, 10.31it/s]\n",
      "100%|██████████| 5/5 [00:08<00:00,  1.76s/it]\n",
      "100%|██████████| 5/5 [00:01<00:00,  2.70it/s]\n",
      "Importing plotly failed. Interactive plots will not work.\n",
      "  0%|          | 0/5 [00:00<?, ?it/s]"
     ]
    },
    {
     "name": "stdout",
     "output_type": "stream",
     "text": [
      "Initial log joint probability = -23.8441\n",
      "    Iter      log prob        ||dx||      ||grad||       alpha      alpha0  # evals  Notes \n",
      "      94       2304.99    0.00059656       212.127    4.31e-06       0.001      145  LS failed, Hessian reset \n",
      "      99       2305.17   0.000825136       89.4793      0.9746      0.9746      150   \n",
      "    Iter      log prob        ||dx||      ||grad||       alpha      alpha0  # evals  Notes \n",
      "     193        2305.9    0.00037808       161.031   2.206e-06       0.001      316  LS failed, Hessian reset \n",
      "     199       2306.19    0.00069264       73.7016      0.3052           1      323   \n",
      "    Iter      log prob        ||dx||      ||grad||       alpha      alpha0  # evals  Notes \n",
      "     243       2306.29   4.25779e-05       86.2633   5.088e-07       0.001      415  LS failed, Hessian reset \n",
      "     271       2306.29   1.51602e-07       79.5501           1           1      452   \n",
      "Optimization terminated normally: \n",
      "  Convergence detected: relative gradient magnitude is below tolerance\n"
     ]
    },
    {
     "name": "stderr",
     "output_type": "stream",
     "text": [
      " 20%|██        | 1/5 [00:02<00:11,  2.84s/it]"
     ]
    },
    {
     "name": "stdout",
     "output_type": "stream",
     "text": [
      "Initial log joint probability = -34.5062\n",
      "    Iter      log prob        ||dx||      ||grad||       alpha      alpha0  # evals  Notes \n",
      "      99       2717.63   0.000201329       78.4211      0.7713      0.7713      130   \n",
      "    Iter      log prob        ||dx||      ||grad||       alpha      alpha0  # evals  Notes \n",
      "     199       2721.23   0.000657679       64.9873      0.4638           1      262   \n",
      "    Iter      log prob        ||dx||      ||grad||       alpha      alpha0  # evals  Notes \n",
      "     266       2721.27   2.03817e-05       61.8377   4.043e-07       0.001      393  LS failed, Hessian reset \n",
      "     299       2721.27   6.35448e-06       61.8897       1.593      0.4364      432   \n",
      "    Iter      log prob        ||dx||      ||grad||       alpha      alpha0  # evals  Notes \n",
      "     365       2721.28   1.48875e-07       76.8861      0.3067           1      514   \n",
      "Optimization terminated normally: \n",
      "  Convergence detected: relative gradient magnitude is below tolerance\n"
     ]
    },
    {
     "name": "stderr",
     "output_type": "stream",
     "text": [
      " 40%|████      | 2/5 [00:04<00:06,  2.28s/it]"
     ]
    },
    {
     "name": "stdout",
     "output_type": "stream",
     "text": [
      "Initial log joint probability = -20.7053\n",
      "    Iter      log prob        ||dx||      ||grad||       alpha      alpha0  # evals  Notes \n",
      "      98       2482.26   0.000209279       112.769   1.462e-06       0.001      192  LS failed, Hessian reset \n",
      "      99       2482.31    0.00124962       83.2433          10           1      194   \n",
      "    Iter      log prob        ||dx||      ||grad||       alpha      alpha0  # evals  Notes \n",
      "     114        2482.4   9.02554e-05       51.7204   1.639e-06       0.001      247  LS failed, Hessian reset \n",
      "     136       2482.41   2.62744e-05        85.761   3.638e-07       0.001      312  LS failed, Hessian reset \n",
      "     159       2482.41   1.24874e-07       61.4959      0.8433      0.8433      349   \n",
      "Optimization terminated normally: \n",
      "  Convergence detected: relative gradient magnitude is below tolerance\n"
     ]
    },
    {
     "name": "stderr",
     "output_type": "stream",
     "text": [
      " 60%|██████    | 3/5 [00:06<00:04,  2.02s/it]"
     ]
    },
    {
     "name": "stdout",
     "output_type": "stream",
     "text": [
      "Initial log joint probability = -31.3194\n",
      "    Iter      log prob        ||dx||      ||grad||       alpha      alpha0  # evals  Notes \n",
      "      99       2183.42    0.00301576       166.397           1           1      120   \n",
      "    Iter      log prob        ||dx||      ||grad||       alpha      alpha0  # evals  Notes \n",
      "     150       2185.59   0.000842076       121.559   1.067e-05       0.001      240  LS failed, Hessian reset \n",
      "     199       2186.15   2.85771e-05       72.1154           1           1      305   \n",
      "    Iter      log prob        ||dx||      ||grad||       alpha      alpha0  # evals  Notes \n",
      "     265       2186.18   0.000178036       84.1751   2.163e-06       0.001      427  LS failed, Hessian reset \n",
      "     299       2186.21   2.64698e-06       62.9735      0.2269           1      472   \n",
      "    Iter      log prob        ||dx||      ||grad||       alpha      alpha0  # evals  Notes \n",
      "     328       2186.21    1.2895e-07       57.2724      0.5866      0.5866      510   \n",
      "Optimization terminated normally: \n",
      "  Convergence detected: relative gradient magnitude is below tolerance\n"
     ]
    },
    {
     "name": "stderr",
     "output_type": "stream",
     "text": [
      " 80%|████████  | 4/5 [00:08<00:01,  1.96s/it]"
     ]
    },
    {
     "name": "stdout",
     "output_type": "stream",
     "text": [
      "Initial log joint probability = -20.2419\n",
      "    Iter      log prob        ||dx||      ||grad||       alpha      alpha0  # evals  Notes \n",
      "      90       2185.31    0.00243635       240.077    2.03e-05       0.001      151  LS failed, Hessian reset \n",
      "      99       2185.43   0.000117324        88.201      0.5176      0.5176      162   \n",
      "    Iter      log prob        ||dx||      ||grad||       alpha      alpha0  # evals  Notes \n",
      "     129       2185.45   1.56974e-07       61.6273      0.4624      0.4624      206   \n",
      "Optimization terminated normally: \n",
      "  Convergence detected: relative gradient magnitude is below tolerance\n"
     ]
    },
    {
     "name": "stderr",
     "output_type": "stream",
     "text": [
      "100%|██████████| 5/5 [00:09<00:00,  1.99s/it]\n",
      "  0%|          | 0/5 [00:00<?, ?it/s]INFO - (NP.utils.set_auto_seasonalities) - Disabling daily seasonality. Run NeuralProphet with daily_seasonality=True to override this.\n",
      "INFO:NP.utils:Disabling daily seasonality. Run NeuralProphet with daily_seasonality=True to override this.\n",
      "INFO - (NP.config.set_auto_batch_epoch) - Auto-set batch_size to 32\n",
      "INFO:NP.config:Auto-set batch_size to 32\n",
      "INFO - (NP.config.set_auto_batch_epoch) - Auto-set epochs to 170\n",
      "INFO:NP.config:Auto-set epochs to 170\n",
      " 94%|█████████▎| 239/255 [00:01<00:00, 150.39it/s]\n",
      "INFO - (NP.utils_torch.lr_range_test) - lr-range-test results: steep: 3.11E-02, min: 1.13E+00\n",
      "INFO:NP.utils_torch:lr-range-test results: steep: 3.11E-02, min: 1.13E+00\n",
      "INFO - (NP.utils_torch.lr_range_test) - learning rate range test selected lr: 3.40E-01\n",
      "INFO:NP.utils_torch:learning rate range test selected lr: 3.40E-01\n",
      "Epoch[170/170]: 100%|██████████| 170/170 [00:10<00:00, 16.29it/s, SmoothL1Loss=0.0136, MAE=3.35, MSE=18.4, RegLoss=0]\n",
      " 20%|██        | 1/5 [00:12<00:48, 12.08s/it]WARNING - (NP.forecaster.fit) - Model has already been fitted. Re-fitting will produce different results.\n",
      "WARNING:NP.forecaster:Model has already been fitted. Re-fitting will produce different results.\n",
      "Epoch[170/170]: 100%|██████████| 170/170 [00:10<00:00, 16.31it/s, SmoothL1Loss=0.0409, MAE=5.9, MSE=55.4, RegLoss=0]\n",
      " 40%|████      | 2/5 [00:22<00:33, 11.13s/it]WARNING - (NP.forecaster.fit) - Model has already been fitted. Re-fitting will produce different results.\n",
      "WARNING:NP.forecaster:Model has already been fitted. Re-fitting will produce different results.\n",
      "Epoch[170/170]: 100%|██████████| 170/170 [00:10<00:00, 16.21it/s, SmoothL1Loss=0.0252, MAE=4.6, MSE=34, RegLoss=0]\n",
      " 60%|██████    | 3/5 [00:33<00:21, 10.85s/it]WARNING - (NP.forecaster.fit) - Model has already been fitted. Re-fitting will produce different results.\n",
      "WARNING:NP.forecaster:Model has already been fitted. Re-fitting will produce different results.\n",
      "Epoch[170/170]: 100%|██████████| 170/170 [00:10<00:00, 16.41it/s, SmoothL1Loss=0.0114, MAE=3.08, MSE=15.4, RegLoss=0]\n",
      " 80%|████████  | 4/5 [00:43<00:10, 10.67s/it]WARNING - (NP.forecaster.fit) - Model has already been fitted. Re-fitting will produce different results.\n",
      "WARNING:NP.forecaster:Model has already been fitted. Re-fitting will produce different results.\n",
      "Epoch[170/170]: 100%|██████████| 170/170 [00:10<00:00, 16.36it/s, SmoothL1Loss=0.015, MAE=3.61, MSE=20.3, RegLoss=0]\n",
      "100%|██████████| 5/5 [00:53<00:00, 10.78s/it]\n"
     ]
    }
   ],
   "source": [
    "%run forecasting.ipynb"
   ]
  },
  {
   "cell_type": "code",
   "execution_count": 2,
   "metadata": {},
   "outputs": [],
   "source": [
    "kaggle_test = pd.read_csv(\"../data/test.csv\")\n",
    "kaggle_test['store_item'] = kaggle_test.store.astype(str) + '-' + kaggle_test.item.astype(str)\n",
    "kaggle_test = kaggle_test.set_index(pd.to_datetime(kaggle_test.date))\n",
    "kaggle_test.drop(['id', 'store', 'item', 'date'], axis=1, inplace=True)"
   ]
  },
  {
   "cell_type": "code",
   "execution_count": 3,
   "metadata": {},
   "outputs": [],
   "source": [
    "testing_models = False\n",
    "forecast_horizon = 90\n",
    "\n",
    "if testing_models:\n",
    "    kaggle_test = kaggle_test[kaggle_test.store_item.isin(['1-1', '1-2', '1-3'])]\n",
    "    data = data[data.store_item.isin(['1-1', '1-2', '1-3'])]"
   ]
  },
  {
   "cell_type": "code",
   "execution_count": 4,
   "metadata": {},
   "outputs": [],
   "source": [
    "horizon_end_date = kaggle_test.index[-1]\n",
    "fcast_begin = kaggle_test.index[0]"
   ]
  },
  {
   "cell_type": "code",
   "execution_count": 5,
   "metadata": {},
   "outputs": [
    {
     "name": "stderr",
     "output_type": "stream",
     "text": [
      "100%|██████████| 500/500 [01:13<00:00,  6.83it/s]\n"
     ]
    }
   ],
   "source": [
    "kaggle_test[\"autoreg\"] = fit_autoreg(df=data, fcast=fcast_begin, horizion_end=horizon_end_date)"
   ]
  },
  {
   "cell_type": "code",
   "execution_count": 6,
   "metadata": {},
   "outputs": [
    {
     "name": "stderr",
     "output_type": "stream",
     "text": [
      "100%|██████████| 500/500 [12:24<00:00,  1.49s/it]\n"
     ]
    }
   ],
   "source": [
    "kaggle_test[\"exp_smooth\"] = exp_smooth_predictor(df=data, seas=\"add\", fcast=fcast_begin, horizion_end=horizon_end_date)"
   ]
  },
  {
   "cell_type": "code",
   "execution_count": 7,
   "metadata": {},
   "outputs": [],
   "source": [
    "kaggle_test[\"ardl\"] = ardl_predictor(data, fcast=fcast_begin, horizion_end=horizon_end_date)"
   ]
  },
  {
   "cell_type": "code",
   "execution_count": 8,
   "metadata": {},
   "outputs": [
    {
     "name": "stderr",
     "output_type": "stream",
     "text": [
      "100%|██████████| 500/500 [04:05<00:00,  2.04it/s]\n"
     ]
    }
   ],
   "source": [
    "date_list = [kaggle_test.index[-1] + timedelta(days=x+1) for x in range(forecast_horizon)]\n",
    "\n",
    "kaggle_test[\"xgb_preds\"] = xgb_predictor(data, date_list)"
   ]
  },
  {
   "cell_type": "code",
   "execution_count": null,
   "metadata": {},
   "outputs": [],
   "source": [
    "kaggle_test[\"prophet\"] = prophet_predictor(data, date_list)"
   ]
  },
  {
   "cell_type": "code",
   "execution_count": null,
   "metadata": {},
   "outputs": [],
   "source": [
    "kaggle_test[\"neural_prophet\"] = neural_prophet(data, date_list)"
   ]
  },
  {
   "cell_type": "code",
   "execution_count": 11,
   "metadata": {},
   "outputs": [],
   "source": [
    "if not testing_models:\n",
    "    from datetime import date\n",
    "    today = date.today()\n",
    "    kaggle_test.to_csv(f\"../data/predictions/predictions-final-{today.month}-{today.day}.csv\")"
   ]
  }
 ],
 "metadata": {
  "interpreter": {
   "hash": "46adb795152d5db59f955a662f1f645c8cf39f91042255151212cfaad4a46d3d"
  },
  "kernelspec": {
   "display_name": "Python 3.9.7 64-bit ('my_env': venv)",
   "language": "python",
   "name": "python3"
  },
  "language_info": {
   "codemirror_mode": {
    "name": "ipython",
    "version": 3
   },
   "file_extension": ".py",
   "mimetype": "text/x-python",
   "name": "python",
   "nbconvert_exporter": "python",
   "pygments_lexer": "ipython3",
   "version": "3.9.7"
  },
  "orig_nbformat": 4
 },
 "nbformat": 4,
 "nbformat_minor": 2
}
