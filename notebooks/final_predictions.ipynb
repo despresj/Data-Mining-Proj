{
 "cells": [
  {
   "cell_type": "code",
   "execution_count": null,
   "metadata": {},
   "outputs": [],
   "source": [
    "%run forecasting.ipynb"
   ]
  },
  {
   "cell_type": "code",
   "execution_count": 2,
   "metadata": {},
   "outputs": [],
   "source": [
    "kaggle_test = pd.read_csv(\"../data/test.csv\")\n",
    "kaggle_test['store_item'] = kaggle_test.store.astype(str) + '-' + kaggle_test.item.astype(str)\n",
    "kaggle_test = kaggle_test.set_index(pd.to_datetime(kaggle_test.date))\n",
    "kaggle_test.drop(['id', 'store', 'item', 'date'], axis=1, inplace=True)"
   ]
  },
  {
   "cell_type": "code",
   "execution_count": 3,
   "metadata": {},
   "outputs": [],
   "source": [
    "testing_models = False\n",
    "forecast_horizon = 90\n",
    "\n",
    "if testing_models:\n",
    "    kaggle_test = kaggle_test[kaggle_test.store_item.isin(['1-1', '1-2', '1-3'])]\n",
    "    data = data[data.store_item.isin(['1-1', '1-2', '1-3'])]"
   ]
  },
  {
   "cell_type": "code",
   "execution_count": 4,
   "metadata": {},
   "outputs": [],
   "source": [
    "horizon_end_date = kaggle_test.index[-1]\n",
    "fcast_begin = kaggle_test.index[0]"
   ]
  },
  {
   "cell_type": "code",
   "execution_count": 5,
   "metadata": {},
   "outputs": [
    {
     "name": "stderr",
     "output_type": "stream",
     "text": [
      "100%|██████████| 500/500 [01:13<00:00,  6.83it/s]\n"
     ]
    }
   ],
   "source": [
    "kaggle_test[\"autoreg\"] = fit_autoreg(df=data, fcast=fcast_begin, horizion_end=horizon_end_date)"
   ]
  },
  {
   "cell_type": "code",
   "execution_count": 6,
   "metadata": {},
   "outputs": [
    {
     "name": "stderr",
     "output_type": "stream",
     "text": [
      "100%|██████████| 500/500 [12:24<00:00,  1.49s/it]\n"
     ]
    }
   ],
   "source": [
    "kaggle_test[\"exp_smooth\"] = exp_smooth_predictor(df=data, seas=\"add\", fcast=fcast_begin, horizion_end=horizon_end_date)"
   ]
  },
  {
   "cell_type": "code",
   "execution_count": 7,
   "metadata": {},
   "outputs": [],
   "source": [
    "kaggle_test[\"ardl\"] = ardl_predictor(data, fcast=fcast_begin, horizion_end=horizon_end_date)"
   ]
  },
  {
   "cell_type": "code",
   "execution_count": 8,
   "metadata": {},
   "outputs": [
    {
     "name": "stderr",
     "output_type": "stream",
     "text": [
      "100%|██████████| 500/500 [04:05<00:00,  2.04it/s]\n"
     ]
    }
   ],
   "source": [
    "date_list = [kaggle_test.index[-1] + timedelta(days=x+1) for x in range(forecast_horizon)]\n",
    "\n",
    "kaggle_test[\"xgb_preds\"] = xgb_predictor(data, date_list)"
   ]
  },
  {
   "cell_type": "code",
   "execution_count": null,
   "metadata": {},
   "outputs": [],
   "source": [
    "kaggle_test[\"prophet\"] = prophet_predictor(data, date_list)"
   ]
  },
  {
   "cell_type": "code",
   "execution_count": null,
   "metadata": {},
   "outputs": [],
   "source": [
    "kaggle_test[\"neural_prophet\"] = neural_prophet(data, date_list)"
   ]
  },
  {
   "cell_type": "code",
   "execution_count": 11,
   "metadata": {},
   "outputs": [],
   "source": [
    "if not testing_models:\n",
    "    from datetime import date\n",
    "    today = date.today()\n",
    "    kaggle_test.to_csv(f\"../data/predictions/predictions-final-{today.month}-{today.day}.csv\")"
   ]
  }
 ],
 "metadata": {
  "interpreter": {
   "hash": "46adb795152d5db59f955a662f1f645c8cf39f91042255151212cfaad4a46d3d"
  },
  "kernelspec": {
   "display_name": "Python 3.9.7 64-bit ('my_env': venv)",
   "language": "python",
   "name": "python3"
  },
  "language_info": {
   "codemirror_mode": {
    "name": "ipython",
    "version": 3
   },
   "file_extension": ".py",
   "mimetype": "text/x-python",
   "name": "python",
   "nbconvert_exporter": "python",
   "pygments_lexer": "ipython3",
   "version": "3.9.9"
  },
  "orig_nbformat": 4
 },
 "nbformat": 4,
 "nbformat_minor": 2
}
