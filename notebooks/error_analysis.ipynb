{
 "cells": [
  {
   "cell_type": "code",
   "execution_count": 31,
   "metadata": {},
   "outputs": [],
   "source": [
    "import pandas as pd"
   ]
  },
  {
   "cell_type": "code",
   "execution_count": 32,
   "metadata": {},
   "outputs": [],
   "source": [
    "%run setup.ipynb"
   ]
  },
  {
   "cell_type": "code",
   "execution_count": 148,
   "metadata": {},
   "outputs": [],
   "source": [
    "predictions = pd.read_csv(f\"../data/predictions/predictions-{11}-{6}.csv\")\n",
    "\n",
    "predictions.drop(predictions.columns[0], axis=1, inplace=True)\n",
    "predictions.rename(columns={list(predictions)[0]:'date'}, inplace=True)\n",
    "predictions['date'] = pd.to_datetime(predictions['date'], errors='coerce')"
   ]
  },
  {
   "cell_type": "code",
   "execution_count": 149,
   "metadata": {},
   "outputs": [],
   "source": [
    "sales = pd.DataFrame(predictions.sales)\n",
    "\n",
    "errors = predictions.drop(predictions.columns[[0, 1, 2]], axis=1)\\\n",
    "    .sub(sales.sales, axis=0)"
   ]
  },
  {
   "cell_type": "code",
   "execution_count": 150,
   "metadata": {},
   "outputs": [],
   "source": [
    "def create_features(df):\n",
    "    df['dayofweek'] = df['date'].dt.dayofweek\n",
    "    df['quarter'] = df['date'].dt.quarter\n",
    "    df['month'] = df['date'].dt.month\n",
    "    df['year'] = df['date'].dt.year\n",
    "    df['dayofyear'] = df['date'].dt.dayofyear\n",
    "    df['dayofmonth'] = df['date'].dt.day\n",
    "    df['weekofyear'] = df['date'].dt.isocalendar().week\n",
    "    \n",
    "    X = df[['dayofweek','quarter','month','year',\n",
    "           'dayofyear','dayofmonth','weekofyear']]\n",
    "    \n",
    "    return X"
   ]
  },
  {
   "cell_type": "code",
   "execution_count": 151,
   "metadata": {},
   "outputs": [
    {
     "data": {
      "text/html": [
       "<div>\n",
       "<style scoped>\n",
       "    .dataframe tbody tr th:only-of-type {\n",
       "        vertical-align: middle;\n",
       "    }\n",
       "\n",
       "    .dataframe tbody tr th {\n",
       "        vertical-align: top;\n",
       "    }\n",
       "\n",
       "    .dataframe thead th {\n",
       "        text-align: right;\n",
       "    }\n",
       "</style>\n",
       "<table border=\"1\" class=\"dataframe\">\n",
       "  <thead>\n",
       "    <tr style=\"text-align: right;\">\n",
       "      <th></th>\n",
       "      <th>dayofweek</th>\n",
       "      <th>quarter</th>\n",
       "      <th>month</th>\n",
       "      <th>year</th>\n",
       "      <th>dayofyear</th>\n",
       "      <th>dayofmonth</th>\n",
       "      <th>weekofyear</th>\n",
       "    </tr>\n",
       "  </thead>\n",
       "  <tbody>\n",
       "    <tr>\n",
       "      <th>0</th>\n",
       "      <td>6</td>\n",
       "      <td>3</td>\n",
       "      <td>7</td>\n",
       "      <td>2016</td>\n",
       "      <td>185</td>\n",
       "      <td>3</td>\n",
       "      <td>26</td>\n",
       "    </tr>\n",
       "    <tr>\n",
       "      <th>1</th>\n",
       "      <td>0</td>\n",
       "      <td>3</td>\n",
       "      <td>7</td>\n",
       "      <td>2016</td>\n",
       "      <td>186</td>\n",
       "      <td>4</td>\n",
       "      <td>27</td>\n",
       "    </tr>\n",
       "    <tr>\n",
       "      <th>2</th>\n",
       "      <td>1</td>\n",
       "      <td>3</td>\n",
       "      <td>7</td>\n",
       "      <td>2016</td>\n",
       "      <td>187</td>\n",
       "      <td>5</td>\n",
       "      <td>27</td>\n",
       "    </tr>\n",
       "    <tr>\n",
       "      <th>3</th>\n",
       "      <td>2</td>\n",
       "      <td>3</td>\n",
       "      <td>7</td>\n",
       "      <td>2016</td>\n",
       "      <td>188</td>\n",
       "      <td>6</td>\n",
       "      <td>27</td>\n",
       "    </tr>\n",
       "    <tr>\n",
       "      <th>4</th>\n",
       "      <td>3</td>\n",
       "      <td>3</td>\n",
       "      <td>7</td>\n",
       "      <td>2016</td>\n",
       "      <td>189</td>\n",
       "      <td>7</td>\n",
       "      <td>27</td>\n",
       "    </tr>\n",
       "    <tr>\n",
       "      <th>...</th>\n",
       "      <td>...</td>\n",
       "      <td>...</td>\n",
       "      <td>...</td>\n",
       "      <td>...</td>\n",
       "      <td>...</td>\n",
       "      <td>...</td>\n",
       "      <td>...</td>\n",
       "    </tr>\n",
       "    <tr>\n",
       "      <th>272401</th>\n",
       "      <td>2</td>\n",
       "      <td>4</td>\n",
       "      <td>12</td>\n",
       "      <td>2017</td>\n",
       "      <td>361</td>\n",
       "      <td>27</td>\n",
       "      <td>52</td>\n",
       "    </tr>\n",
       "    <tr>\n",
       "      <th>272402</th>\n",
       "      <td>3</td>\n",
       "      <td>4</td>\n",
       "      <td>12</td>\n",
       "      <td>2017</td>\n",
       "      <td>362</td>\n",
       "      <td>28</td>\n",
       "      <td>52</td>\n",
       "    </tr>\n",
       "    <tr>\n",
       "      <th>272403</th>\n",
       "      <td>4</td>\n",
       "      <td>4</td>\n",
       "      <td>12</td>\n",
       "      <td>2017</td>\n",
       "      <td>363</td>\n",
       "      <td>29</td>\n",
       "      <td>52</td>\n",
       "    </tr>\n",
       "    <tr>\n",
       "      <th>272404</th>\n",
       "      <td>5</td>\n",
       "      <td>4</td>\n",
       "      <td>12</td>\n",
       "      <td>2017</td>\n",
       "      <td>364</td>\n",
       "      <td>30</td>\n",
       "      <td>52</td>\n",
       "    </tr>\n",
       "    <tr>\n",
       "      <th>272405</th>\n",
       "      <td>6</td>\n",
       "      <td>4</td>\n",
       "      <td>12</td>\n",
       "      <td>2017</td>\n",
       "      <td>365</td>\n",
       "      <td>31</td>\n",
       "      <td>52</td>\n",
       "    </tr>\n",
       "  </tbody>\n",
       "</table>\n",
       "<p>272406 rows × 7 columns</p>\n",
       "</div>"
      ],
      "text/plain": [
       "        dayofweek  quarter  month  year  dayofyear  dayofmonth  weekofyear\n",
       "0               6        3      7  2016        185           3          26\n",
       "1               0        3      7  2016        186           4          27\n",
       "2               1        3      7  2016        187           5          27\n",
       "3               2        3      7  2016        188           6          27\n",
       "4               3        3      7  2016        189           7          27\n",
       "...           ...      ...    ...   ...        ...         ...         ...\n",
       "272401          2        4     12  2017        361          27          52\n",
       "272402          3        4     12  2017        362          28          52\n",
       "272403          4        4     12  2017        363          29          52\n",
       "272404          5        4     12  2017        364          30          52\n",
       "272405          6        4     12  2017        365          31          52\n",
       "\n",
       "[272406 rows x 7 columns]"
      ]
     },
     "execution_count": 151,
     "metadata": {},
     "output_type": "execute_result"
    }
   ],
   "source": [
    "create_features(predictions)"
   ]
  },
  {
   "cell_type": "code",
   "execution_count": null,
   "metadata": {},
   "outputs": [],
   "source": []
  },
  {
   "cell_type": "code",
   "execution_count": 56,
   "metadata": {},
   "outputs": [],
   "source": [
    "import matplotlib.pyplot as plt\n"
   ]
  },
  {
   "cell_type": "code",
   "execution_count": 102,
   "metadata": {},
   "outputs": [
    {
     "data": {
      "text/plain": [
       "(-50.0, 50.0)"
      ]
     },
     "execution_count": 102,
     "metadata": {},
     "output_type": "execute_result"
    },
    {
     "data": {
      "image/png": "[encoded data removed]",
      "text/plain": [
       "<Figure size 1080x1080 with 6 Axes>"
      ]
     },
     "metadata": {
      "needs_background": "light"
     },
     "output_type": "display_data"
    }
   ],
   "source": [
    "plt.rcParams.update({'figure.figsize':(9,9), 'figure.dpi':120})\n",
    "\n",
    "errors.diff().hist(bins=150, facecolor='blue', alpha=0.95, )"
   ]
  },
  {
   "cell_type": "code",
   "execution_count": 114,
   "metadata": {},
   "outputs": [
    {
     "data": {
      "image/png": "[encoded data removed]",
      "text/plain": [
       "<Figure size 1080x1080 with 1 Axes>"
      ]
     },
     "metadata": {
      "needs_background": "light"
     },
     "output_type": "display_data"
    }
   ],
   "source": [
    "def fcast_errors(col=\"prophet\"):\n",
    "    plt.hist(errors[col], 150, facecolor='blue', alpha=0.95)\n",
    "    plt.axvline(x=0, c=\"red\")\n",
    "    plt.title(f\"forecasting errors for {col}\")\n",
    "    plt.xlim((-50, 50))\n",
    "    plt.show()\n",
    "fcast_errors(\"xgb_preds\")"
   ]
  },
  {
   "cell_type": "code",
   "execution_count": 90,
   "metadata": {},
   "outputs": [
    {
     "data": {
      "text/plain": [
       "prophet              8.671700\n",
       "xgb_preds            9.815760\n",
       "ardl                10.518724\n",
       "exp_smooth          14.120232\n",
       "autoreg             14.125726\n",
       "exp_smooth_multi    14.486537\n",
       "dtype: float64"
      ]
     },
     "execution_count": 90,
     "metadata": {},
     "output_type": "execute_result"
    }
   ],
   "source": [
    "errors.std()\\\n",
    "    .sort_values()"
   ]
  },
  {
   "cell_type": "code",
   "execution_count": 115,
   "metadata": {},
   "outputs": [
    {
     "data": {
      "text/html": [
       "<div>\n",
       "<style scoped>\n",
       "    .dataframe tbody tr th:only-of-type {\n",
       "        vertical-align: middle;\n",
       "    }\n",
       "\n",
       "    .dataframe tbody tr th {\n",
       "        vertical-align: top;\n",
       "    }\n",
       "\n",
       "    .dataframe thead th {\n",
       "        text-align: right;\n",
       "    }\n",
       "</style>\n",
       "<table border=\"1\" class=\"dataframe\">\n",
       "  <thead>\n",
       "    <tr style=\"text-align: right;\">\n",
       "      <th></th>\n",
       "      <th>Unnamed: 0</th>\n",
       "      <th>Unnamed: 0.1</th>\n",
       "      <th>store_item</th>\n",
       "      <th>sales</th>\n",
       "      <th>autoreg</th>\n",
       "      <th>exp_smooth</th>\n",
       "      <th>exp_smooth_multi</th>\n",
       "      <th>ardl</th>\n",
       "      <th>prophet</th>\n",
       "      <th>xgb_preds</th>\n",
       "    </tr>\n",
       "  </thead>\n",
       "  <tbody>\n",
       "    <tr>\n",
       "      <th>0</th>\n",
       "      <td>0</td>\n",
       "      <td>2016-07-03</td>\n",
       "      <td>1-1</td>\n",
       "      <td>35</td>\n",
       "      <td>33.564926</td>\n",
       "      <td>34.968360</td>\n",
       "      <td>37.358205</td>\n",
       "      <td>28.270421</td>\n",
       "      <td>31.430007</td>\n",
       "      <td>42.183426</td>\n",
       "    </tr>\n",
       "    <tr>\n",
       "      <th>1</th>\n",
       "      <td>1</td>\n",
       "      <td>2016-07-04</td>\n",
       "      <td>1-1</td>\n",
       "      <td>18</td>\n",
       "      <td>25.371284</td>\n",
       "      <td>27.868874</td>\n",
       "      <td>29.091349</td>\n",
       "      <td>21.079731</td>\n",
       "      <td>23.552477</td>\n",
       "      <td>20.786821</td>\n",
       "    </tr>\n",
       "    <tr>\n",
       "      <th>2</th>\n",
       "      <td>2</td>\n",
       "      <td>2016-07-05</td>\n",
       "      <td>1-1</td>\n",
       "      <td>31</td>\n",
       "      <td>27.200800</td>\n",
       "      <td>26.861003</td>\n",
       "      <td>27.695462</td>\n",
       "      <td>21.245674</td>\n",
       "      <td>26.190409</td>\n",
       "      <td>23.284859</td>\n",
       "    </tr>\n",
       "    <tr>\n",
       "      <th>3</th>\n",
       "      <td>3</td>\n",
       "      <td>2016-07-06</td>\n",
       "      <td>1-1</td>\n",
       "      <td>22</td>\n",
       "      <td>28.000816</td>\n",
       "      <td>28.344893</td>\n",
       "      <td>29.004482</td>\n",
       "      <td>27.543148</td>\n",
       "      <td>26.846605</td>\n",
       "      <td>26.260480</td>\n",
       "    </tr>\n",
       "    <tr>\n",
       "      <th>4</th>\n",
       "      <td>4</td>\n",
       "      <td>2016-07-07</td>\n",
       "      <td>1-1</td>\n",
       "      <td>33</td>\n",
       "      <td>26.200584</td>\n",
       "      <td>25.971329</td>\n",
       "      <td>26.564866</td>\n",
       "      <td>29.099083</td>\n",
       "      <td>27.095248</td>\n",
       "      <td>26.110456</td>\n",
       "    </tr>\n",
       "    <tr>\n",
       "      <th>...</th>\n",
       "      <td>...</td>\n",
       "      <td>...</td>\n",
       "      <td>...</td>\n",
       "      <td>...</td>\n",
       "      <td>...</td>\n",
       "      <td>...</td>\n",
       "      <td>...</td>\n",
       "      <td>...</td>\n",
       "      <td>...</td>\n",
       "      <td>...</td>\n",
       "    </tr>\n",
       "    <tr>\n",
       "      <th>272401</th>\n",
       "      <td>272401</td>\n",
       "      <td>2017-12-27</td>\n",
       "      <td>10-50</td>\n",
       "      <td>63</td>\n",
       "      <td>54.036777</td>\n",
       "      <td>70.629780</td>\n",
       "      <td>65.336560</td>\n",
       "      <td>52.203080</td>\n",
       "      <td>60.990158</td>\n",
       "      <td>59.709023</td>\n",
       "    </tr>\n",
       "    <tr>\n",
       "      <th>272402</th>\n",
       "      <td>272402</td>\n",
       "      <td>2017-12-28</td>\n",
       "      <td>10-50</td>\n",
       "      <td>59</td>\n",
       "      <td>48.369474</td>\n",
       "      <td>64.050097</td>\n",
       "      <td>56.627964</td>\n",
       "      <td>60.144470</td>\n",
       "      <td>64.923885</td>\n",
       "      <td>66.095240</td>\n",
       "    </tr>\n",
       "    <tr>\n",
       "      <th>272403</th>\n",
       "      <td>272403</td>\n",
       "      <td>2017-12-29</td>\n",
       "      <td>10-50</td>\n",
       "      <td>74</td>\n",
       "      <td>41.368979</td>\n",
       "      <td>56.527002</td>\n",
       "      <td>50.323118</td>\n",
       "      <td>60.437527</td>\n",
       "      <td>69.576875</td>\n",
       "      <td>70.068820</td>\n",
       "    </tr>\n",
       "    <tr>\n",
       "      <th>272404</th>\n",
       "      <td>272404</td>\n",
       "      <td>2017-12-30</td>\n",
       "      <td>10-50</td>\n",
       "      <td>62</td>\n",
       "      <td>43.701682</td>\n",
       "      <td>59.522268</td>\n",
       "      <td>52.400913</td>\n",
       "      <td>69.928363</td>\n",
       "      <td>74.064814</td>\n",
       "      <td>69.177450</td>\n",
       "    </tr>\n",
       "    <tr>\n",
       "      <th>272405</th>\n",
       "      <td>272405</td>\n",
       "      <td>2017-12-31</td>\n",
       "      <td>10-50</td>\n",
       "      <td>82</td>\n",
       "      <td>47.367446</td>\n",
       "      <td>62.063147</td>\n",
       "      <td>55.837194</td>\n",
       "      <td>62.137849</td>\n",
       "      <td>77.970620</td>\n",
       "      <td>64.028550</td>\n",
       "    </tr>\n",
       "  </tbody>\n",
       "</table>\n",
       "<p>272406 rows × 10 columns</p>\n",
       "</div>"
      ],
      "text/plain": [
       "        Unnamed: 0 Unnamed: 0.1 store_item  sales    autoreg  exp_smooth  \\\n",
       "0                0   2016-07-03        1-1     35  33.564926   34.968360   \n",
       "1                1   2016-07-04        1-1     18  25.371284   27.868874   \n",
       "2                2   2016-07-05        1-1     31  27.200800   26.861003   \n",
       "3                3   2016-07-06        1-1     22  28.000816   28.344893   \n",
       "4                4   2016-07-07        1-1     33  26.200584   25.971329   \n",
       "...            ...          ...        ...    ...        ...         ...   \n",
       "272401      272401   2017-12-27      10-50     63  54.036777   70.629780   \n",
       "272402      272402   2017-12-28      10-50     59  48.369474   64.050097   \n",
       "272403      272403   2017-12-29      10-50     74  41.368979   56.527002   \n",
       "272404      272404   2017-12-30      10-50     62  43.701682   59.522268   \n",
       "272405      272405   2017-12-31      10-50     82  47.367446   62.063147   \n",
       "\n",
       "        exp_smooth_multi       ardl    prophet  xgb_preds  \n",
       "0              37.358205  28.270421  31.430007  42.183426  \n",
       "1              29.091349  21.079731  23.552477  20.786821  \n",
       "2              27.695462  21.245674  26.190409  23.284859  \n",
       "3              29.004482  27.543148  26.846605  26.260480  \n",
       "4              26.564866  29.099083  27.095248  26.110456  \n",
       "...                  ...        ...        ...        ...  \n",
       "272401         65.336560  52.203080  60.990158  59.709023  \n",
       "272402         56.627964  60.144470  64.923885  66.095240  \n",
       "272403         50.323118  60.437527  69.576875  70.068820  \n",
       "272404         52.400913  69.928363  74.064814  69.177450  \n",
       "272405         55.837194  62.137849  77.970620  64.028550  \n",
       "\n",
       "[272406 rows x 10 columns]"
      ]
     },
     "execution_count": 115,
     "metadata": {},
     "output_type": "execute_result"
    }
   ],
   "source": [
    "predictions.drop(predictions.)"
   ]
  },
  {
   "cell_type": "code",
   "execution_count": null,
   "metadata": {},
   "outputs": [],
   "source": [
    "a"
   ]
  },
  {
   "cell_type": "code",
   "execution_count": 15,
   "metadata": {},
   "outputs": [],
   "source": [
    "store_sales = pd.concat([train, predictions])"
   ]
  },
  {
   "cell_type": "code",
   "execution_count": 25,
   "metadata": {},
   "outputs": [
    {
     "name": "stdout",
     "output_type": "stream",
     "text": [
      "autoreg 265.51425363913745\n",
      "exp_smooth 201.47745513910357\n",
      "exp_smooth_multi 210.55209317543023\n",
      "ardl 123.13930015554452\n",
      "prophet 75.47416465386237\n",
      "xgb_preds 96.35763653069395\n"
     ]
    }
   ],
   "source": [
    "for column in predictions.columns[4:]:\n",
    "    col = (predictions[column] - predictions.sales)\n",
    "    col_mean = np.mean(col)\n",
    "    print(column, col_mean)\n",
    "    "
   ]
  },
  {
   "cell_type": "code",
   "execution_count": null,
   "metadata": {},
   "outputs": [],
   "source": []
  }
 ],
 "metadata": {
  "interpreter": {
   "hash": "46adb795152d5db59f955a662f1f645c8cf39f91042255151212cfaad4a46d3d"
  },
  "kernelspec": {
   "display_name": "Python 3.9.7 64-bit ('my_env': venv)",
   "language": "python",
   "name": "python3"
  },
  "language_info": {
   "codemirror_mode": {
    "name": "ipython",
    "version": 3
   },
   "file_extension": ".py",
   "mimetype": "text/x-python",
   "name": "python",
   "nbconvert_exporter": "python",
   "pygments_lexer": "ipython3",
   "version": "3.9.7"
  },
  "orig_nbformat": 4
 },
 "nbformat": 4,
 "nbformat_minor": 2
}
