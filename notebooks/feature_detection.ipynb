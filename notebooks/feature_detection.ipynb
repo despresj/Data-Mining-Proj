{
 "cells": [
  {
   "cell_type": "markdown",
   "metadata": {},
   "source": [
    "# time series feature detection"
   ]
  },
  {
   "cell_type": "code",
   "execution_count": 5,
   "metadata": {},
   "outputs": [],
   "source": [
    "%run setup.ipynb"
   ]
  },
  {
   "cell_type": "code",
   "execution_count": 6,
   "metadata": {},
   "outputs": [],
   "source": [
    "from tsfeatures import tsfeatures\n",
    "# this function is kinda wierd it requires a df with specific names\n",
    "n = 0\n",
    "feature_list = []\n",
    "for item in train.store_item.unique():\n",
    "    \n",
    "    tester = train[train.store_item == item]\n",
    "    tester.reset_index(inplace=True)\n",
    "\n",
    "    tester[\"unique_id\"] = item\n",
    "    tester.drop(\"store_item\", axis=1, inplace=True)\n",
    "    tester.rename(columns={\"sales\":\"y\", \"date\":\"ds\"}, inplace=True)\n",
    "\n",
    "    features = tsfeatures(tester, freq=1)\n",
    "    feature_list.append(features)\n",
    "    # n += 1\n",
    "    if n > 5:\n",
    "        break\n",
    "\n",
    "\n",
    "arr = np.array(feature_list)\n",
    "feats = arr.reshape(len(feature_list), 38)\n",
    "ts_features = pd.DataFrame(feats, columns=feature_list[0].columns)"
   ]
  },
  {
   "cell_type": "code",
   "execution_count": 7,
   "metadata": {},
   "outputs": [],
   "source": [
    "ts_features.to_csv(f\"../data/tsfeatures/tsfeatures.csv\")"
   ]
  },
  {
   "cell_type": "code",
   "execution_count": null,
   "metadata": {},
   "outputs": [],
   "source": []
  }
 ],
 "metadata": {
  "interpreter": {
   "hash": "46adb795152d5db59f955a662f1f645c8cf39f91042255151212cfaad4a46d3d"
  },
  "kernelspec": {
   "display_name": "Python 3.9.7 64-bit ('my_env': venv)",
   "language": "python",
   "name": "python3"
  },
  "language_info": {
   "codemirror_mode": {
    "name": "ipython",
    "version": 3
   },
   "file_extension": ".py",
   "mimetype": "text/x-python",
   "name": "python",
   "nbconvert_exporter": "python",
   "pygments_lexer": "ipython3",
   "version": "3.9.7"
  },
  "orig_nbformat": 4
 },
 "nbformat": 4,
 "nbformat_minor": 2
}
