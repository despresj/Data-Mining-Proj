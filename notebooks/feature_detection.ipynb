{
 "cells": [
  {
   "cell_type": "markdown",
   "metadata": {},
   "source": [
    "# time series feature detection"
   ]
  },
  {
   "cell_type": "code",
   "execution_count": 1,
   "metadata": {},
   "outputs": [],
   "source": [
    "%run setup.ipynb"
   ]
  },
  {
   "cell_type": "code",
   "execution_count": 2,
   "metadata": {},
   "outputs": [],
   "source": [
    "kaggle_test = data.copy()"
   ]
  },
  {
   "cell_type": "code",
   "execution_count": 3,
   "metadata": {},
   "outputs": [],
   "source": [
    "from tsfeatures import tsfeatures\n",
    "# this function is requires a df with y and ds columns\n",
    "from tqdm import tqdm\n",
    "\n",
    "def get_ts_feats(df):\n",
    "    \n",
    "    feature_list = []\n",
    "    for item in tqdm(df.store_item.unique()):\n",
    "        \n",
    "        temp = df[df.store_item == item]\n",
    "        temp.reset_index(inplace=True)\n",
    "\n",
    "        temp[\"unique_id\"] = item\n",
    "        temp.drop(\"store_item\", axis=1, inplace=True)\n",
    "        temp.rename(columns={\"sales\":\"y\", \"date\":\"ds\"}, inplace=True)\n",
    "\n",
    "        features = tsfeatures(temp, freq=1)\n",
    "        feature_list.append(features)\n",
    "\n",
    "    arr = np.array(feature_list)\n",
    "    feats = arr.reshape(len(feature_list), 38)\n",
    "    return pd.DataFrame(feats, columns=feature_list[0].columns)"
   ]
  },
  {
   "cell_type": "code",
   "execution_count": 4,
   "metadata": {},
   "outputs": [
    {
     "name": "stderr",
     "output_type": "stream",
     "text": [
      "100%|██████████| 500/500 [44:15<00:00,  5.31s/it]\n"
     ]
    }
   ],
   "source": [
    "ts_features = get_ts_feats(train)\n",
    "ts_features.to_csv(\"../data/tsfeatures/tsfeatures.csv\", index=False)"
   ]
  },
  {
   "cell_type": "code",
   "execution_count": 5,
   "metadata": {},
   "outputs": [
    {
     "name": "stderr",
     "output_type": "stream",
     "text": [
      "100%|██████████| 500/500 [45:57<00:00,  5.52s/it]\n"
     ]
    }
   ],
   "source": [
    "ts_features = get_ts_feats(kaggle_test)\n",
    "ts_features.to_csv(\"../data/tsfeatures/tsfeatures_final.csv\", index=False)"
   ]
  },
  {
   "cell_type": "code",
   "execution_count": null,
   "metadata": {},
   "outputs": [],
   "source": []
  }
 ],
 "metadata": {
  "interpreter": {
   "hash": "46adb795152d5db59f955a662f1f645c8cf39f91042255151212cfaad4a46d3d"
  },
  "kernelspec": {
   "display_name": "Python 3.9.7 64-bit ('my_env': venv)",
   "language": "python",
   "name": "python3"
  },
  "language_info": {
   "codemirror_mode": {
    "name": "ipython",
    "version": 3
   },
   "file_extension": ".py",
   "mimetype": "text/x-python",
   "name": "python",
   "nbconvert_exporter": "python",
   "pygments_lexer": "ipython3",
   "version": "3.9.9"
  },
  "orig_nbformat": 4
 },
 "nbformat": 4,
 "nbformat_minor": 2
}
