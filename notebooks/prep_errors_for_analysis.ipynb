{
 "cells": [
  {
   "cell_type": "code",
   "execution_count": 45,
   "metadata": {},
   "outputs": [],
   "source": [
    "import pandas as pd"
   ]
  },
  {
   "cell_type": "code",
   "execution_count": 46,
   "metadata": {},
   "outputs": [],
   "source": [
    "predictions = pd.read_csv(f\"../data/predictions/predictions-{11}-{19}.csv\")\n",
    "final_predictions = pd.read_csv(f\"../data/predictions/predictions-final-{11}-{17}.csv\")"
   ]
  },
  {
   "cell_type": "code",
   "execution_count": 47,
   "metadata": {},
   "outputs": [],
   "source": [
    "features = pd.read_csv(\"../data/tsfeatures/tsfeatures.csv\")\\\n",
    "    .dropna(axis = 1, how = 'all')\n",
    "\n",
    "features = features.rename({\"unique_id\":\"store_item\"}, axis=1)"
   ]
  },
  {
   "cell_type": "code",
   "execution_count": 48,
   "metadata": {},
   "outputs": [],
   "source": [
    "final_feats = pd.read_csv(f\"../data/tsfeatures/tsfeatures_final.csv\")\\\n",
    "    .dropna(axis = 1, how = 'all')\n",
    "    \n",
    "final_feats = final_feats.rename({\"unique_id\":\"store_item\"}, axis=1)"
   ]
  },
  {
   "cell_type": "code",
   "execution_count": 49,
   "metadata": {},
   "outputs": [],
   "source": [
    "from sklearn.impute import KNNImputer\n",
    "\n",
    "def impute_hurst(df):\n",
    "    \n",
    "    imputer = KNNImputer()\n",
    "    knn_impute = df.select_dtypes(include=['float64'])\n",
    "    knn_imputed = imputer.fit_transform(knn_impute)\n",
    "    knn_imputed = pd.DataFrame(knn_imputed, columns=knn_impute.columns)\n",
    "    return knn_imputed[[\"hurst\", \"entropy\"]]\n",
    "\n",
    "features[[\"hurst\", \"entropy\"]] = impute_hurst(features)\n",
    "final_feats[[\"hurst\", \"entropy\"]] = impute_hurst(final_feats)"
   ]
  },
  {
   "cell_type": "code",
   "execution_count": 50,
   "metadata": {},
   "outputs": [],
   "source": [
    "def drop_same_val_colums(df):\n",
    "    nunique = df.nunique()\n",
    "    cols_to_drop = nunique[nunique == 1].index\n",
    "    return df.drop(cols_to_drop, axis=1)\n",
    "\n",
    "features = drop_same_val_colums(features)\n",
    "final_feats = drop_same_val_colums(final_feats)"
   ]
  },
  {
   "cell_type": "code",
   "execution_count": 51,
   "metadata": {},
   "outputs": [],
   "source": [
    "predictions = predictions.rename({'Unnamed: 0':\"date\"}, axis=1)\n",
    "predictions.date = pd.to_datetime(predictions.date)\n",
    "\n",
    "final_predictions = final_predictions.rename({'Unnamed: 0':\"date\"}, axis=1)\n",
    "final_predictions.date = pd.to_datetime(final_predictions.date)"
   ]
  },
  {
   "cell_type": "code",
   "execution_count": 52,
   "metadata": {},
   "outputs": [],
   "source": [
    "predictions.to_csv(\"../data/predictions/errors.csv\", index=False)"
   ]
  },
  {
   "cell_type": "code",
   "execution_count": 53,
   "metadata": {},
   "outputs": [
    {
     "data": {
      "text/html": [
       "<div>\n",
       "<style scoped>\n",
       "    .dataframe tbody tr th:only-of-type {\n",
       "        vertical-align: middle;\n",
       "    }\n",
       "\n",
       "    .dataframe tbody tr th {\n",
       "        vertical-align: top;\n",
       "    }\n",
       "\n",
       "    .dataframe thead th {\n",
       "        text-align: right;\n",
       "    }\n",
       "</style>\n",
       "<table border=\"1\" class=\"dataframe\">\n",
       "  <thead>\n",
       "    <tr style=\"text-align: right;\">\n",
       "      <th></th>\n",
       "      <th>date</th>\n",
       "      <th>store_item</th>\n",
       "      <th>sales</th>\n",
       "      <th>autoreg</th>\n",
       "      <th>exp_smooth</th>\n",
       "      <th>ardl</th>\n",
       "      <th>xgb_preds</th>\n",
       "      <th>prophet</th>\n",
       "      <th>neural_prophet</th>\n",
       "    </tr>\n",
       "  </thead>\n",
       "  <tbody>\n",
       "    <tr>\n",
       "      <th>0</th>\n",
       "      <td>2016-07-03</td>\n",
       "      <td>1-1</td>\n",
       "      <td>35</td>\n",
       "      <td>33.967322</td>\n",
       "      <td>34.968360</td>\n",
       "      <td>28.270421</td>\n",
       "      <td>26.026503</td>\n",
       "      <td>31.430007</td>\n",
       "      <td>32.687370</td>\n",
       "    </tr>\n",
       "    <tr>\n",
       "      <th>1</th>\n",
       "      <td>2016-07-04</td>\n",
       "      <td>1-1</td>\n",
       "      <td>18</td>\n",
       "      <td>27.360797</td>\n",
       "      <td>27.868874</td>\n",
       "      <td>21.079731</td>\n",
       "      <td>11.948491</td>\n",
       "      <td>23.552477</td>\n",
       "      <td>24.825729</td>\n",
       "    </tr>\n",
       "    <tr>\n",
       "      <th>2</th>\n",
       "      <td>2016-07-05</td>\n",
       "      <td>1-1</td>\n",
       "      <td>31</td>\n",
       "      <td>26.177283</td>\n",
       "      <td>26.861003</td>\n",
       "      <td>21.245674</td>\n",
       "      <td>9.154426</td>\n",
       "      <td>26.190409</td>\n",
       "      <td>27.409180</td>\n",
       "    </tr>\n",
       "    <tr>\n",
       "      <th>3</th>\n",
       "      <td>2016-07-06</td>\n",
       "      <td>1-1</td>\n",
       "      <td>22</td>\n",
       "      <td>27.303443</td>\n",
       "      <td>28.344893</td>\n",
       "      <td>27.543148</td>\n",
       "      <td>10.446870</td>\n",
       "      <td>26.846605</td>\n",
       "      <td>28.147953</td>\n",
       "    </tr>\n",
       "    <tr>\n",
       "      <th>4</th>\n",
       "      <td>2016-07-07</td>\n",
       "      <td>1-1</td>\n",
       "      <td>33</td>\n",
       "      <td>23.602249</td>\n",
       "      <td>25.971329</td>\n",
       "      <td>29.099083</td>\n",
       "      <td>11.971621</td>\n",
       "      <td>27.095248</td>\n",
       "      <td>28.449118</td>\n",
       "    </tr>\n",
       "    <tr>\n",
       "      <th>...</th>\n",
       "      <td>...</td>\n",
       "      <td>...</td>\n",
       "      <td>...</td>\n",
       "      <td>...</td>\n",
       "      <td>...</td>\n",
       "      <td>...</td>\n",
       "      <td>...</td>\n",
       "      <td>...</td>\n",
       "      <td>...</td>\n",
       "    </tr>\n",
       "    <tr>\n",
       "      <th>273495</th>\n",
       "      <td>2017-12-27</td>\n",
       "      <td>10-50</td>\n",
       "      <td>63</td>\n",
       "      <td>54.000000</td>\n",
       "      <td>70.629780</td>\n",
       "      <td>52.203080</td>\n",
       "      <td>53.286358</td>\n",
       "      <td>60.990158</td>\n",
       "      <td>76.731506</td>\n",
       "    </tr>\n",
       "    <tr>\n",
       "      <th>273496</th>\n",
       "      <td>2017-12-28</td>\n",
       "      <td>10-50</td>\n",
       "      <td>59</td>\n",
       "      <td>48.333333</td>\n",
       "      <td>64.050097</td>\n",
       "      <td>60.144470</td>\n",
       "      <td>61.416860</td>\n",
       "      <td>64.923885</td>\n",
       "      <td>80.565811</td>\n",
       "    </tr>\n",
       "    <tr>\n",
       "      <th>273497</th>\n",
       "      <td>2017-12-29</td>\n",
       "      <td>10-50</td>\n",
       "      <td>74</td>\n",
       "      <td>41.333333</td>\n",
       "      <td>56.527002</td>\n",
       "      <td>60.437527</td>\n",
       "      <td>62.223686</td>\n",
       "      <td>69.576875</td>\n",
       "      <td>85.233772</td>\n",
       "    </tr>\n",
       "    <tr>\n",
       "      <th>273498</th>\n",
       "      <td>2017-12-30</td>\n",
       "      <td>10-50</td>\n",
       "      <td>62</td>\n",
       "      <td>43.666667</td>\n",
       "      <td>59.522268</td>\n",
       "      <td>69.928363</td>\n",
       "      <td>67.933410</td>\n",
       "      <td>74.064814</td>\n",
       "      <td>89.705673</td>\n",
       "    </tr>\n",
       "    <tr>\n",
       "      <th>273499</th>\n",
       "      <td>2017-12-31</td>\n",
       "      <td>10-50</td>\n",
       "      <td>82</td>\n",
       "      <td>47.333333</td>\n",
       "      <td>62.063147</td>\n",
       "      <td>62.137849</td>\n",
       "      <td>67.347790</td>\n",
       "      <td>77.970620</td>\n",
       "      <td>93.636559</td>\n",
       "    </tr>\n",
       "  </tbody>\n",
       "</table>\n",
       "<p>273500 rows × 9 columns</p>\n",
       "</div>"
      ],
      "text/plain": [
       "             date store_item  sales    autoreg  exp_smooth       ardl  \\\n",
       "0      2016-07-03        1-1     35  33.967322   34.968360  28.270421   \n",
       "1      2016-07-04        1-1     18  27.360797   27.868874  21.079731   \n",
       "2      2016-07-05        1-1     31  26.177283   26.861003  21.245674   \n",
       "3      2016-07-06        1-1     22  27.303443   28.344893  27.543148   \n",
       "4      2016-07-07        1-1     33  23.602249   25.971329  29.099083   \n",
       "...           ...        ...    ...        ...         ...        ...   \n",
       "273495 2017-12-27      10-50     63  54.000000   70.629780  52.203080   \n",
       "273496 2017-12-28      10-50     59  48.333333   64.050097  60.144470   \n",
       "273497 2017-12-29      10-50     74  41.333333   56.527002  60.437527   \n",
       "273498 2017-12-30      10-50     62  43.666667   59.522268  69.928363   \n",
       "273499 2017-12-31      10-50     82  47.333333   62.063147  62.137849   \n",
       "\n",
       "        xgb_preds    prophet  neural_prophet  \n",
       "0       26.026503  31.430007       32.687370  \n",
       "1       11.948491  23.552477       24.825729  \n",
       "2        9.154426  26.190409       27.409180  \n",
       "3       10.446870  26.846605       28.147953  \n",
       "4       11.971621  27.095248       28.449118  \n",
       "...           ...        ...             ...  \n",
       "273495  53.286358  60.990158       76.731506  \n",
       "273496  61.416860  64.923885       80.565811  \n",
       "273497  62.223686  69.576875       85.233772  \n",
       "273498  67.933410  74.064814       89.705673  \n",
       "273499  67.347790  77.970620       93.636559  \n",
       "\n",
       "[273500 rows x 9 columns]"
      ]
     },
     "execution_count": 53,
     "metadata": {},
     "output_type": "execute_result"
    }
   ],
   "source": [
    "predictions"
   ]
  },
  {
   "cell_type": "code",
   "execution_count": 54,
   "metadata": {},
   "outputs": [],
   "source": [
    "error = predictions.iloc[:, 3:9] # fcast_models\n",
    "predictions.drop(predictions.iloc[:, 3:9], inplace=True, axis=1)\n",
    "errors = error.sub(predictions.sales, axis=0)"
   ]
  },
  {
   "cell_type": "code",
   "execution_count": 55,
   "metadata": {},
   "outputs": [],
   "source": [
    "from helper import create_features"
   ]
  },
  {
   "cell_type": "code",
   "execution_count": 56,
   "metadata": {},
   "outputs": [],
   "source": [
    "final_predictions = pd.concat([final_predictions, create_features(final_predictions)], axis=1)\n",
    "predictions = pd.concat([predictions, create_features(predictions)], axis=1)"
   ]
  },
  {
   "cell_type": "code",
   "execution_count": 57,
   "metadata": {},
   "outputs": [],
   "source": [
    "final_df = pd.merge(predictions, features, right_on=\"store_item\", left_on= \"store_item\")\n",
    "y = errors.abs().idxmin(axis=1)\n",
    "X = final_df.drop(final_df.columns[[0, 1, 2, 19]], inplace=False, axis=1)\n",
    "X = X.loc[:,~X.columns.duplicated()]"
   ]
  },
  {
   "cell_type": "code",
   "execution_count": 58,
   "metadata": {},
   "outputs": [],
   "source": [
    "y.to_csv(\"../data/forecasts_for_ml/y.csv\", index=False)\n",
    "X.to_csv(\"../data/forecasts_for_ml/X.csv\", index=False)"
   ]
  },
  {
   "cell_type": "code",
   "execution_count": 59,
   "metadata": {},
   "outputs": [],
   "source": [
    "final_predictions_df = pd.merge(final_predictions, final_feats, right_on=\"store_item\", left_on= \"store_item\")\n",
    "final_predictions_df = final_predictions_df[X.columns]\n",
    "final_predictions_df = final_predictions_df.loc[:,~final_predictions_df.columns.duplicated()]\n",
    "final_predictions_df.to_csv(\"../data/forecasts_for_ml/X_final.csv\", index=False)"
   ]
  }
 ],
 "metadata": {
  "interpreter": {
   "hash": "46adb795152d5db59f955a662f1f645c8cf39f91042255151212cfaad4a46d3d"
  },
  "kernelspec": {
   "display_name": "Python 3.9.7 64-bit ('my_env': venv)",
   "language": "python",
   "name": "python3"
  },
  "language_info": {
   "codemirror_mode": {
    "name": "ipython",
    "version": 3
   },
   "file_extension": ".py",
   "mimetype": "text/x-python",
   "name": "python",
   "nbconvert_exporter": "python",
   "pygments_lexer": "ipython3",
   "version": "3.9.9"
  },
  "orig_nbformat": 4
 },
 "nbformat": 4,
 "nbformat_minor": 2
}
