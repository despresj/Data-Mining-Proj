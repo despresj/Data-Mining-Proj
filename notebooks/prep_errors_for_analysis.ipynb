{
 "cells": [
  {
   "cell_type": "code",
   "execution_count": 147,
   "metadata": {},
   "outputs": [],
   "source": [
    "import pandas as pd"
   ]
  },
  {
   "cell_type": "code",
   "execution_count": 148,
   "metadata": {},
   "outputs": [],
   "source": [
    "predictions = pd.read_csv(f\"../data/predictions/predictions-{11}-{19}.csv\")\n",
    "final_predictions = pd.read_csv(f\"../data/predictions/predictions-final-{11}-{17}.csv\")"
   ]
  },
  {
   "cell_type": "code",
   "execution_count": 149,
   "metadata": {},
   "outputs": [],
   "source": [
    "features = pd.read_csv(\"../data/tsfeatures/tsfeatures.csv\")\\\n",
    "    .dropna(axis = 1, how = 'all')\n",
    "\n",
    "features = features.rename({\"unique_id\":\"store_item\"}, axis=1)"
   ]
  },
  {
   "cell_type": "code",
   "execution_count": 150,
   "metadata": {},
   "outputs": [],
   "source": [
    "final_feats = pd.read_csv(f\"../data/tsfeatures/tsfeatures_final.csv\")\\\n",
    "    .dropna(axis = 1, how = 'all')\n",
    "    \n",
    "final_feats = final_feats.rename({\"unique_id\":\"store_item\"}, axis=1)"
   ]
  },
  {
   "cell_type": "code",
   "execution_count": 151,
   "metadata": {},
   "outputs": [],
   "source": [
    "from sklearn.impute import KNNImputer\n",
    "\n",
    "def impute_hurst(df):\n",
    "    \n",
    "    imputer = KNNImputer()\n",
    "    knn_impute = df.select_dtypes(include=['float64'])\n",
    "    knn_imputed = imputer.fit_transform(knn_impute)\n",
    "    knn_imputed = pd.DataFrame(knn_imputed, columns=knn_impute.columns)\n",
    "    return knn_imputed[[\"hurst\", \"entropy\"]]\n",
    "\n",
    "features[[\"hurst\", \"entropy\"]] = impute_hurst(features)\n",
    "final_feats[[\"hurst\", \"entropy\"]] = impute_hurst(final_feats)"
   ]
  },
  {
   "cell_type": "code",
   "execution_count": 152,
   "metadata": {},
   "outputs": [],
   "source": [
    "def drop_same_val_colums(df):\n",
    "    nunique = df.nunique()\n",
    "    cols_to_drop = nunique[nunique == 1].index\n",
    "    return df.drop(cols_to_drop, axis=1)\n",
    "\n",
    "features = drop_same_val_colums(features)\n",
    "final_feats = drop_same_val_colums(final_feats)"
   ]
  },
  {
   "cell_type": "code",
   "execution_count": 153,
   "metadata": {},
   "outputs": [],
   "source": [
    "predictions = predictions.rename({'Unnamed: 0':\"date\"}, axis=1)\n",
    "predictions.date = pd.to_datetime(predictions.date)\n",
    "\n",
    "final_predictions = final_predictions.rename({'Unnamed: 0':\"date\"}, axis=1)\n",
    "final_predictions.date = pd.to_datetime(final_predictions.date)"
   ]
  },
  {
   "cell_type": "code",
   "execution_count": 155,
   "metadata": {},
   "outputs": [],
   "source": [
    "error = predictions.iloc[:, 3:9] # fcast_models\n",
    "predictions.drop(predictions.iloc[:, 3:9], inplace=True, axis=1)\n",
    "errors = error.sub(predictions.sales, axis=0)"
   ]
  },
  {
   "cell_type": "code",
   "execution_count": 156,
   "metadata": {},
   "outputs": [],
   "source": [
    "final_predictions = pd.concat([final_predictions, create_features(final_predictions)], axis=1)"
   ]
  },
  {
   "cell_type": "code",
   "execution_count": 157,
   "metadata": {},
   "outputs": [],
   "source": [
    "final_df = pd.merge(predictions, features, right_on=\"store_item\", left_on= \"store_item\")\n",
    "y = errors.abs().idxmin(axis=1)\n",
    "X = final_df.drop(final_df.columns[[0, 1, 2, 19]], inplace=False, axis=1)"
   ]
  },
  {
   "cell_type": "code",
   "execution_count": 160,
   "metadata": {},
   "outputs": [],
   "source": [
    "y.to_csv(\"../data/forecasts_for_ml/y.csv\", index=False)\n",
    "X.to_csv(\"../data/forecasts_for_ml/X.csv\", index=False)"
   ]
  },
  {
   "cell_type": "code",
   "execution_count": 161,
   "metadata": {},
   "outputs": [],
   "source": [
    "final_predictions_df = pd.merge(final_predictions, final_feats, right_on=\"store_item\", left_on= \"store_item\")\n",
    "final_predictions_df = final_predictions_df[X.columns]\n",
    "final_predictions_df.to_csv(\"../data/forecasts_for_ml/X_final.csv\", index=False)"
   ]
  }
 ],
 "metadata": {
  "interpreter": {
   "hash": "46adb795152d5db59f955a662f1f645c8cf39f91042255151212cfaad4a46d3d"
  },
  "kernelspec": {
   "display_name": "Python 3.9.7 64-bit ('my_env': venv)",
   "language": "python",
   "name": "python3"
  },
  "language_info": {
   "codemirror_mode": {
    "name": "ipython",
    "version": 3
   },
   "file_extension": ".py",
   "mimetype": "text/x-python",
   "name": "python",
   "nbconvert_exporter": "python",
   "pygments_lexer": "ipython3",
   "version": "3.9.8"
  },
  "orig_nbformat": 4
 },
 "nbformat": 4,
 "nbformat_minor": 2
}
