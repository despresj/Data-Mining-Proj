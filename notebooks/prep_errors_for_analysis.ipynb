{
 "cells": [
  {
   "cell_type": "code",
   "execution_count": 1,
   "metadata": {},
   "outputs": [],
   "source": [
    "import pandas as pd"
   ]
  },
  {
   "cell_type": "code",
   "execution_count": 2,
   "metadata": {},
   "outputs": [],
   "source": [
    "predictions = pd.read_csv(f\"../data/predictions/predictions-{11}-{14}.csv\")\n",
    "features = pd.read_csv(\"../data/tsfeatures/tsfeatures.csv\")"
   ]
  },
  {
   "cell_type": "code",
   "execution_count": 3,
   "metadata": {},
   "outputs": [],
   "source": [
    "predictions.rename(columns={list(predictions)[0]:'date'}, inplace=True)\n",
    "predictions['date'] = pd.to_datetime(predictions['date'], errors='coerce')\n",
    "\n",
    "sales = pd.DataFrame(predictions.sales)\n",
    "\n",
    "errors = predictions.drop(predictions.columns[[0, 1, 2]], axis=1)\\\n",
    "    .sub(sales.sales, axis=0)\\\n",
    "        .divide(sales.sales, axis=0) * 100"
   ]
  },
  {
   "cell_type": "code",
   "execution_count": 4,
   "metadata": {},
   "outputs": [],
   "source": [
    "from helper import create_features"
   ]
  },
  {
   "cell_type": "code",
   "execution_count": 5,
   "metadata": {},
   "outputs": [],
   "source": [
    "model_least_err = pd.DataFrame(errors.abs().idxmin(axis=1), columns=[\"model_w_least_error\"])\n",
    "\n",
    "errors_df = pd.concat([predictions[[\"store_item\", \"date\"]], model_least_err], axis=1)\n",
    "\n",
    "feats = features.drop(features.columns[[0, 3, 6, 7, 8]], axis=1)\\\n",
    "    .rename(columns={\"unique_id\":\"store_item\"})\n",
    "\n",
    "errors_and_feats = pd.merge(errors_df, feats, right_on=\"store_item\", left_on= \"store_item\")\n",
    "\n",
    "error_time = pd.concat([errors_and_feats, create_features(predictions)], axis=1)\\\n",
    "    .dropna(axis = 1, how = 'all')\\\n",
    "    .dropna()\n",
    "    \n",
    "X, y = error_time.iloc[:, 3:], error_time.iloc[:, 2]"
   ]
  },
  {
   "cell_type": "code",
   "execution_count": 6,
   "metadata": {},
   "outputs": [],
   "source": [
    "X.to_csv(\"../data/forecasts_for_ml/X.csv\", index=False)\n",
    "y.to_csv(\"../data/forecasts_for_ml/y.csv\", index=False)"
   ]
  }
 ],
 "metadata": {
  "interpreter": {
   "hash": "46adb795152d5db59f955a662f1f645c8cf39f91042255151212cfaad4a46d3d"
  },
  "kernelspec": {
   "display_name": "Python 3.9.7 64-bit ('my_env': venv)",
   "language": "python",
   "name": "python3"
  },
  "language_info": {
   "codemirror_mode": {
    "name": "ipython",
    "version": 3
   },
   "file_extension": ".py",
   "mimetype": "text/x-python",
   "name": "python",
   "nbconvert_exporter": "python",
   "pygments_lexer": "ipython3",
   "version": "3.9.7"
  },
  "orig_nbformat": 4
 },
 "nbformat": 4,
 "nbformat_minor": 2
}
