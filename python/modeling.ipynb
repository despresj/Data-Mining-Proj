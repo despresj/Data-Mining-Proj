{
 "cells": [
  {
   "cell_type": "code",
   "execution_count": 23,
   "id": "ad45d1e5",
   "metadata": {},
   "outputs": [],
   "source": [
    "import pandas as pd\n",
    "import warnings\n",
    "warnings.filterwarnings('ignore')\n",
    "from datetime import timedelta\n",
    "from statsmodels.tsa.ar_model import AutoReg"
   ]
  },
  {
   "cell_type": "code",
   "execution_count": 24,
   "id": "cbb12274",
   "metadata": {},
   "outputs": [],
   "source": [
    "data = pd.read_csv(\"../data/store_demand.csv\")\n",
    "data['date'] = pd.to_datetime(data['date'])\n",
    "data.set_index('date', inplace=True)\n",
    "data['store_item'] = data.store.astype(str) + '-' + data.item.astype(str)\n",
    "data.drop(['store', 'item'], axis=1, inplace=True)\n"
   ]
  },
  {
   "cell_type": "code",
   "execution_count": 25,
   "id": "637f4695",
   "metadata": {},
   "outputs": [],
   "source": [
    "def train_test_splitter(df, pct=0.8):\n",
    "    timespan = (df.index.max() - df.index.min()).days\n",
    "    train_date = round(timespan*pct)\n",
    "    train = df.index.min() + timedelta(days=train_date)\n",
    "    return [df[df.index <= train], df[df.index > train]]\n",
    "\n",
    "\n",
    "train, test = train_test_splitter(data, .7)\n"
   ]
  },
  {
   "cell_type": "code",
   "execution_count": 26,
   "metadata": {},
   "outputs": [],
   "source": [
    "# train = train[train.store_item.isin(['1-1', '1-2'])]\n",
    "# test = test[test.store_item.isin(['1-1', '1-2'])]\n",
    "# subset for testing\n",
    " \n"
   ]
  },
  {
   "cell_type": "code",
   "execution_count": 27,
   "metadata": {},
   "outputs": [],
   "source": [
    "preds = []\n",
    "for series in train.store_item.unique():\n",
    "    temp = train[train.store_item == series]\n",
    "    model = AutoReg(temp.sales, lags=1, old_names=False)\n",
    "    model_fit = model.fit()\n",
    "    yhat = model_fit.predict(len(temp), round((len(temp)*1/0.7) -2)) # find a less ratchet way\n",
    "    # to make the predictions match the testing set\n",
    "    preds.append(yhat)\n"
   ]
  },
  {
   "cell_type": "code",
   "execution_count": 28,
   "metadata": {},
   "outputs": [],
   "source": [
    "preds_flat = [x for sub in preds for x in sub]"
   ]
  },
  {
   "cell_type": "code",
   "execution_count": 29,
   "metadata": {},
   "outputs": [],
   "source": [
    "dates = []\n",
    "for item in preds:\n",
    "    for sub in item.index:\n",
    "        dates.append(sub)"
   ]
  },
  {
   "cell_type": "code",
   "execution_count": 30,
   "metadata": {},
   "outputs": [
    {
     "data": {
      "text/html": [
       "<div>\n",
       "<style scoped>\n",
       "    .dataframe tbody tr th:only-of-type {\n",
       "        vertical-align: middle;\n",
       "    }\n",
       "\n",
       "    .dataframe tbody tr th {\n",
       "        vertical-align: top;\n",
       "    }\n",
       "\n",
       "    .dataframe thead th {\n",
       "        text-align: right;\n",
       "    }\n",
       "</style>\n",
       "<table border=\"1\" class=\"dataframe\">\n",
       "  <thead>\n",
       "    <tr style=\"text-align: right;\">\n",
       "      <th></th>\n",
       "      <th>sales</th>\n",
       "      <th>autoreg</th>\n",
       "    </tr>\n",
       "  </thead>\n",
       "  <tbody>\n",
       "    <tr>\n",
       "      <th>2016-07-03</th>\n",
       "      <td>35</td>\n",
       "      <td>24.641378</td>\n",
       "    </tr>\n",
       "    <tr>\n",
       "      <th>2016-07-04</th>\n",
       "      <td>18</td>\n",
       "      <td>21.440238</td>\n",
       "    </tr>\n",
       "    <tr>\n",
       "      <th>2016-07-05</th>\n",
       "      <td>31</td>\n",
       "      <td>20.047682</td>\n",
       "    </tr>\n",
       "    <tr>\n",
       "      <th>2016-07-06</th>\n",
       "      <td>22</td>\n",
       "      <td>19.441893</td>\n",
       "    </tr>\n",
       "    <tr>\n",
       "      <th>2016-07-07</th>\n",
       "      <td>33</td>\n",
       "      <td>19.178364</td>\n",
       "    </tr>\n",
       "    <tr>\n",
       "      <th>...</th>\n",
       "      <td>...</td>\n",
       "      <td>...</td>\n",
       "    </tr>\n",
       "    <tr>\n",
       "      <th>2017-12-27</th>\n",
       "      <td>63</td>\n",
       "      <td>70.187529</td>\n",
       "    </tr>\n",
       "    <tr>\n",
       "      <th>2017-12-28</th>\n",
       "      <td>59</td>\n",
       "      <td>70.187529</td>\n",
       "    </tr>\n",
       "    <tr>\n",
       "      <th>2017-12-29</th>\n",
       "      <td>74</td>\n",
       "      <td>70.187529</td>\n",
       "    </tr>\n",
       "    <tr>\n",
       "      <th>2017-12-30</th>\n",
       "      <td>62</td>\n",
       "      <td>70.187529</td>\n",
       "    </tr>\n",
       "    <tr>\n",
       "      <th>2017-12-31</th>\n",
       "      <td>82</td>\n",
       "      <td>70.187529</td>\n",
       "    </tr>\n",
       "  </tbody>\n",
       "</table>\n",
       "<p>273500 rows × 2 columns</p>\n",
       "</div>"
      ],
      "text/plain": [
       "            sales    autoreg\n",
       "2016-07-03     35  24.641378\n",
       "2016-07-04     18  21.440238\n",
       "2016-07-05     31  20.047682\n",
       "2016-07-06     22  19.441893\n",
       "2016-07-07     33  19.178364\n",
       "...           ...        ...\n",
       "2017-12-27     63  70.187529\n",
       "2017-12-28     59  70.187529\n",
       "2017-12-29     74  70.187529\n",
       "2017-12-30     62  70.187529\n",
       "2017-12-31     82  70.187529\n",
       "\n",
       "[273500 rows x 2 columns]"
      ]
     },
     "execution_count": 30,
     "metadata": {},
     "output_type": "execute_result"
    }
   ],
   "source": [
    "pd.DataFrame(\n",
    "    {\n",
    "        'sales': test.sales, \n",
    "        'autoreg': preds_flat\n",
    "    }, index = dates\n",
    ")"
   ]
  },
  {
   "cell_type": "code",
   "execution_count": null,
   "metadata": {},
   "outputs": [],
   "source": []
  }
 ],
 "metadata": {
  "interpreter": {
   "hash": "31f2aee4e71d21fbe5cf8b01ff0e069b9275f58929596ceb00d14d90e3e16cd6"
  },
  "kernelspec": {
   "display_name": "Python 3.8.9 64-bit",
   "name": "python3"
  },
  "language_info": {
   "codemirror_mode": {
    "name": "ipython",
    "version": 3
   },
   "file_extension": ".py",
   "mimetype": "text/x-python",
   "name": "python",
   "nbconvert_exporter": "python",
   "pygments_lexer": "ipython3",
   "version": "3.8.9"
  }
 },
 "nbformat": 4,
 "nbformat_minor": 5
}
